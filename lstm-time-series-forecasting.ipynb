{
 "cells": [
  {
   "cell_type": "code",
   "execution_count": 1,
   "id": "05d22acb",
   "metadata": {
    "_cell_guid": "b1076dfc-b9ad-4769-8c92-a6c4dae69d19",
    "_uuid": "8f2839f25d086af736a60e9eeb907d3b93b6e0e5",
    "execution": {
     "iopub.execute_input": "2023-01-31T07:20:58.781904Z",
     "iopub.status.busy": "2023-01-31T07:20:58.781221Z",
     "iopub.status.idle": "2023-01-31T07:21:06.115571Z",
     "shell.execute_reply": "2023-01-31T07:21:06.114484Z"
    },
    "papermill": {
     "duration": 7.344941,
     "end_time": "2023-01-31T07:21:06.118617",
     "exception": false,
     "start_time": "2023-01-31T07:20:58.773676",
     "status": "completed"
    },
    "tags": []
   },
   "outputs": [],
   "source": [
    "import numpy as np\n",
    "import pandas as pd\n",
    "\n",
    "import matplotlib.pyplot as plt\n",
    "\n",
    "import tensorflow as tf\n",
    "\n",
    "from keras.models import Sequential\n",
    "from keras.preprocessing.sequence import TimeseriesGenerator\n",
    "from keras.layers import Dense\n",
    "from keras.layers import LSTM\n",
    "from keras.layers import Dropout\n",
    "from keras.layers import Bidirectional\n",
    "\n",
    "from matplotlib.pylab import rcParams\n",
    "\n",
    "import math\n",
    "\n",
    "from sklearn.preprocessing import MinMaxScaler\n",
    "from sklearn.metrics import mean_squared_error"
   ]
  },
  {
   "cell_type": "code",
   "execution_count": 2,
   "id": "4415b6a9",
   "metadata": {
    "execution": {
     "iopub.execute_input": "2023-01-31T07:21:06.130978Z",
     "iopub.status.busy": "2023-01-31T07:21:06.130113Z",
     "iopub.status.idle": "2023-01-31T07:21:06.134683Z",
     "shell.execute_reply": "2023-01-31T07:21:06.133914Z"
    },
    "papermill": {
     "duration": 0.012965,
     "end_time": "2023-01-31T07:21:06.136970",
     "exception": false,
     "start_time": "2023-01-31T07:21:06.124005",
     "status": "completed"
    },
    "tags": []
   },
   "outputs": [],
   "source": [
    "rcParams['figure.figsize']=8,6"
   ]
  },
  {
   "cell_type": "code",
   "execution_count": 3,
   "id": "5f532c6d",
   "metadata": {
    "execution": {
     "iopub.execute_input": "2023-01-31T07:21:06.148749Z",
     "iopub.status.busy": "2023-01-31T07:21:06.147481Z",
     "iopub.status.idle": "2023-01-31T07:21:06.207438Z",
     "shell.execute_reply": "2023-01-31T07:21:06.206377Z"
    },
    "papermill": {
     "duration": 0.068951,
     "end_time": "2023-01-31T07:21:06.210409",
     "exception": false,
     "start_time": "2023-01-31T07:21:06.141458",
     "status": "completed"
    },
    "tags": []
   },
   "outputs": [],
   "source": [
    "df = pd.read_csv('/kaggle/input/case-ih-time-series-data/data.csv', index_col=['date'], parse_dates=['date'])"
   ]
  },
  {
   "cell_type": "code",
   "execution_count": 4,
   "id": "aa7dc529",
   "metadata": {
    "execution": {
     "iopub.execute_input": "2023-01-31T07:21:06.221982Z",
     "iopub.status.busy": "2023-01-31T07:21:06.221540Z",
     "iopub.status.idle": "2023-01-31T07:21:06.240872Z",
     "shell.execute_reply": "2023-01-31T07:21:06.239572Z"
    },
    "papermill": {
     "duration": 0.028788,
     "end_time": "2023-01-31T07:21:06.244247",
     "exception": false,
     "start_time": "2023-01-31T07:21:06.215459",
     "status": "completed"
    },
    "tags": []
   },
   "outputs": [
    {
     "data": {
      "text/html": [
       "<div>\n",
       "<style scoped>\n",
       "    .dataframe tbody tr th:only-of-type {\n",
       "        vertical-align: middle;\n",
       "    }\n",
       "\n",
       "    .dataframe tbody tr th {\n",
       "        vertical-align: top;\n",
       "    }\n",
       "\n",
       "    .dataframe thead th {\n",
       "        text-align: right;\n",
       "    }\n",
       "</style>\n",
       "<table border=\"1\" class=\"dataframe\">\n",
       "  <thead>\n",
       "    <tr style=\"text-align: right;\">\n",
       "      <th></th>\n",
       "      <th>work</th>\n",
       "      <th>income</th>\n",
       "    </tr>\n",
       "    <tr>\n",
       "      <th>date</th>\n",
       "      <th></th>\n",
       "      <th></th>\n",
       "    </tr>\n",
       "  </thead>\n",
       "  <tbody>\n",
       "    <tr>\n",
       "      <th>2021-09-30</th>\n",
       "      <td>2</td>\n",
       "      <td>2100</td>\n",
       "    </tr>\n",
       "    <tr>\n",
       "      <th>2021-10-03</th>\n",
       "      <td>1</td>\n",
       "      <td>3600</td>\n",
       "    </tr>\n",
       "    <tr>\n",
       "      <th>2021-10-04</th>\n",
       "      <td>1</td>\n",
       "      <td>4000</td>\n",
       "    </tr>\n",
       "    <tr>\n",
       "      <th>2021-10-05</th>\n",
       "      <td>1</td>\n",
       "      <td>7900</td>\n",
       "    </tr>\n",
       "    <tr>\n",
       "      <th>2021-10-06</th>\n",
       "      <td>1</td>\n",
       "      <td>7500</td>\n",
       "    </tr>\n",
       "  </tbody>\n",
       "</table>\n",
       "</div>"
      ],
      "text/plain": [
       "            work  income\n",
       "date                    \n",
       "2021-09-30     2    2100\n",
       "2021-10-03     1    3600\n",
       "2021-10-04     1    4000\n",
       "2021-10-05     1    7900\n",
       "2021-10-06     1    7500"
      ]
     },
     "execution_count": 4,
     "metadata": {},
     "output_type": "execute_result"
    }
   ],
   "source": [
    "df.head()"
   ]
  },
  {
   "cell_type": "code",
   "execution_count": 5,
   "id": "0cc16c01",
   "metadata": {
    "execution": {
     "iopub.execute_input": "2023-01-31T07:21:06.255331Z",
     "iopub.status.busy": "2023-01-31T07:21:06.254916Z",
     "iopub.status.idle": "2023-01-31T07:21:06.261887Z",
     "shell.execute_reply": "2023-01-31T07:21:06.261097Z"
    },
    "papermill": {
     "duration": 0.015294,
     "end_time": "2023-01-31T07:21:06.264367",
     "exception": false,
     "start_time": "2023-01-31T07:21:06.249073",
     "status": "completed"
    },
    "tags": []
   },
   "outputs": [
    {
     "data": {
      "text/plain": [
       "DatetimeIndex(['2021-09-30', '2021-10-03', '2021-10-04', '2021-10-05',\n",
       "               '2021-10-06', '2021-10-07', '2021-10-08', '2021-10-09',\n",
       "               '2021-10-10', '2021-10-11',\n",
       "               ...\n",
       "               '2022-06-28', '2022-06-30', '2022-07-01', '2022-07-02',\n",
       "               '2022-07-03', '2022-07-04', '2022-07-05', '2022-07-06',\n",
       "               '2022-07-07', '2022-07-08'],\n",
       "              dtype='datetime64[ns]', name='date', length=192, freq=None)"
      ]
     },
     "execution_count": 5,
     "metadata": {},
     "output_type": "execute_result"
    }
   ],
   "source": [
    "df.index"
   ]
  },
  {
   "cell_type": "code",
   "execution_count": 6,
   "id": "65264e6d",
   "metadata": {
    "execution": {
     "iopub.execute_input": "2023-01-31T07:21:06.276228Z",
     "iopub.status.busy": "2023-01-31T07:21:06.275252Z",
     "iopub.status.idle": "2023-01-31T07:21:06.281585Z",
     "shell.execute_reply": "2023-01-31T07:21:06.280433Z"
    },
    "papermill": {
     "duration": 0.014703,
     "end_time": "2023-01-31T07:21:06.283902",
     "exception": false,
     "start_time": "2023-01-31T07:21:06.269199",
     "status": "completed"
    },
    "tags": []
   },
   "outputs": [
    {
     "data": {
      "text/plain": [
       "(192, 2)"
      ]
     },
     "execution_count": 6,
     "metadata": {},
     "output_type": "execute_result"
    }
   ],
   "source": [
    "df.shape"
   ]
  },
  {
   "cell_type": "code",
   "execution_count": 7,
   "id": "73baf332",
   "metadata": {
    "execution": {
     "iopub.execute_input": "2023-01-31T07:21:06.296702Z",
     "iopub.status.busy": "2023-01-31T07:21:06.295946Z",
     "iopub.status.idle": "2023-01-31T07:21:06.302053Z",
     "shell.execute_reply": "2023-01-31T07:21:06.300848Z"
    },
    "papermill": {
     "duration": 0.015542,
     "end_time": "2023-01-31T07:21:06.304752",
     "exception": false,
     "start_time": "2023-01-31T07:21:06.289210",
     "status": "completed"
    },
    "tags": []
   },
   "outputs": [],
   "source": [
    "df = df[['income']]"
   ]
  },
  {
   "cell_type": "code",
   "execution_count": 8,
   "id": "89ef581c",
   "metadata": {
    "execution": {
     "iopub.execute_input": "2023-01-31T07:21:06.317409Z",
     "iopub.status.busy": "2023-01-31T07:21:06.316229Z",
     "iopub.status.idle": "2023-01-31T07:21:06.322855Z",
     "shell.execute_reply": "2023-01-31T07:21:06.322027Z"
    },
    "papermill": {
     "duration": 0.015213,
     "end_time": "2023-01-31T07:21:06.325075",
     "exception": false,
     "start_time": "2023-01-31T07:21:06.309862",
     "status": "completed"
    },
    "tags": []
   },
   "outputs": [
    {
     "data": {
      "text/plain": [
       "(192, 1)"
      ]
     },
     "execution_count": 8,
     "metadata": {},
     "output_type": "execute_result"
    }
   ],
   "source": [
    "df.shape"
   ]
  },
  {
   "cell_type": "code",
   "execution_count": 9,
   "id": "d3f6eba0",
   "metadata": {
    "execution": {
     "iopub.execute_input": "2023-01-31T07:21:06.337595Z",
     "iopub.status.busy": "2023-01-31T07:21:06.336417Z",
     "iopub.status.idle": "2023-01-31T07:21:06.643787Z",
     "shell.execute_reply": "2023-01-31T07:21:06.642574Z"
    },
    "papermill": {
     "duration": 0.316489,
     "end_time": "2023-01-31T07:21:06.646598",
     "exception": false,
     "start_time": "2023-01-31T07:21:06.330109",
     "status": "completed"
    },
    "tags": []
   },
   "outputs": [
    {
     "data": {
      "image/png": "[encoded data removed]",
      "text/plain": [
       "<Figure size 1008x504 with 1 Axes>"
      ]
     },
     "metadata": {
      "needs_background": "light"
     },
     "output_type": "display_data"
    }
   ],
   "source": [
    "ax = df.plot(figsize=(14, 7))"
   ]
  },
  {
   "cell_type": "code",
   "execution_count": 10,
   "id": "5df43b70",
   "metadata": {
    "execution": {
     "iopub.execute_input": "2023-01-31T07:21:06.661389Z",
     "iopub.status.busy": "2023-01-31T07:21:06.660723Z",
     "iopub.status.idle": "2023-01-31T07:21:06.668573Z",
     "shell.execute_reply": "2023-01-31T07:21:06.667570Z"
    },
    "papermill": {
     "duration": 0.017922,
     "end_time": "2023-01-31T07:21:06.670921",
     "exception": false,
     "start_time": "2023-01-31T07:21:06.652999",
     "status": "completed"
    },
    "tags": []
   },
   "outputs": [],
   "source": [
    "scaler = MinMaxScaler(feature_range=(0, 1))\n",
    "\n",
    "df = scaler.fit_transform(df)"
   ]
  },
  {
   "cell_type": "code",
   "execution_count": 11,
   "id": "dc784184",
   "metadata": {
    "execution": {
     "iopub.execute_input": "2023-01-31T07:21:06.685471Z",
     "iopub.status.busy": "2023-01-31T07:21:06.684731Z",
     "iopub.status.idle": "2023-01-31T07:21:06.689969Z",
     "shell.execute_reply": "2023-01-31T07:21:06.688960Z"
    },
    "papermill": {
     "duration": 0.015115,
     "end_time": "2023-01-31T07:21:06.692267",
     "exception": false,
     "start_time": "2023-01-31T07:21:06.677152",
     "status": "completed"
    },
    "tags": []
   },
   "outputs": [],
   "source": [
    "train_size = int(len(df) * 0.8)\n",
    "test_size = len(df) - train_size\n",
    "\n",
    "train = df[0:train_size,:]\n",
    "test = df[train_size:len(df),:]"
   ]
  },
  {
   "cell_type": "code",
   "execution_count": 12,
   "id": "2486cac0",
   "metadata": {
    "execution": {
     "iopub.execute_input": "2023-01-31T07:21:06.707181Z",
     "iopub.status.busy": "2023-01-31T07:21:06.706013Z",
     "iopub.status.idle": "2023-01-31T07:21:06.714791Z",
     "shell.execute_reply": "2023-01-31T07:21:06.713707Z"
    },
    "papermill": {
     "duration": 0.018671,
     "end_time": "2023-01-31T07:21:06.717258",
     "exception": false,
     "start_time": "2023-01-31T07:21:06.698587",
     "status": "completed"
    },
    "tags": []
   },
   "outputs": [],
   "source": [
    "# convert an array of values into a dataset matrix - generating lags from the time series\n",
    "def create_dataset(df, look_back=1):\n",
    "    \n",
    "    dataX, dataY = [], []\n",
    "    \n",
    "    for i in range(len(df)-look_back-1):\n",
    "        a = df[i:(i+look_back), 0]\n",
    "        dataX.append(a)\n",
    "        dataY.append(df[i + look_back, 0])\n",
    "        \n",
    "    return np.array(dataX), np.array(dataY)\n",
    "  \n",
    "  # reshape into X=t and Y=t+1\n",
    "look_back = 30\n",
    "trainX, trainY = create_dataset(train, look_back)\n",
    "testX, testY = create_dataset(test, look_back)"
   ]
  },
  {
   "cell_type": "code",
   "execution_count": 13,
   "id": "324140ad",
   "metadata": {
    "execution": {
     "iopub.execute_input": "2023-01-31T07:21:06.732577Z",
     "iopub.status.busy": "2023-01-31T07:21:06.731887Z",
     "iopub.status.idle": "2023-01-31T07:21:06.746662Z",
     "shell.execute_reply": "2023-01-31T07:21:06.745000Z"
    },
    "papermill": {
     "duration": 0.025369,
     "end_time": "2023-01-31T07:21:06.749336",
     "exception": false,
     "start_time": "2023-01-31T07:21:06.723967",
     "status": "completed"
    },
    "tags": []
   },
   "outputs": [
    {
     "name": "stdout",
     "output_type": "stream",
     "text": [
      "(122, 30)\n"
     ]
    }
   ],
   "source": [
    "print(trainX.shape)"
   ]
  },
  {
   "cell_type": "code",
   "execution_count": 14,
   "id": "793c0cc0",
   "metadata": {
    "execution": {
     "iopub.execute_input": "2023-01-31T07:21:06.764470Z",
     "iopub.status.busy": "2023-01-31T07:21:06.763730Z",
     "iopub.status.idle": "2023-01-31T07:21:06.768783Z",
     "shell.execute_reply": "2023-01-31T07:21:06.767957Z"
    },
    "papermill": {
     "duration": 0.015377,
     "end_time": "2023-01-31T07:21:06.771309",
     "exception": false,
     "start_time": "2023-01-31T07:21:06.755932",
     "status": "completed"
    },
    "tags": []
   },
   "outputs": [],
   "source": [
    "trainX = np.reshape(trainX, (trainX.shape[0], trainX.shape[1], 1))\n",
    "testX = np.reshape(testX, (testX.shape[0], testX.shape[1], 1))"
   ]
  },
  {
   "cell_type": "code",
   "execution_count": 15,
   "id": "f97b3aea",
   "metadata": {
    "execution": {
     "iopub.execute_input": "2023-01-31T07:21:06.786491Z",
     "iopub.status.busy": "2023-01-31T07:21:06.785761Z",
     "iopub.status.idle": "2023-01-31T07:21:07.182487Z",
     "shell.execute_reply": "2023-01-31T07:21:07.181493Z"
    },
    "papermill": {
     "duration": 0.407385,
     "end_time": "2023-01-31T07:21:07.185115",
     "exception": false,
     "start_time": "2023-01-31T07:21:06.777730",
     "status": "completed"
    },
    "tags": []
   },
   "outputs": [
    {
     "name": "stderr",
     "output_type": "stream",
     "text": [
      "2023-01-31 07:21:06.828556: I tensorflow/core/common_runtime/process_util.cc:146] Creating new thread pool with default inter op setting: 2. Tune using inter_op_parallelism_threads for best performance.\n"
     ]
    }
   ],
   "source": [
    "model=Sequential()\n",
    "\n",
    "model.add(LSTM(50,activation='relu',return_sequences=True,input_shape=(look_back,1)))\n",
    "model.add(LSTM(50, activation='relu', return_sequences=True))\n",
    "model.add(LSTM(50, activation='sigmoid', return_sequences=False))\n",
    "\n",
    "model.add(Dense(50))\n",
    "model.add(Dropout(0.2))\n",
    "model.add(Dense(1))\n",
    "model.compile(optimizer='adam',loss='mean_squared_error')"
   ]
  },
  {
   "cell_type": "code",
   "execution_count": null,
   "id": "db5faeac",
   "metadata": {
    "papermill": {
     "duration": 0.005976,
     "end_time": "2023-01-31T07:21:07.197560",
     "exception": false,
     "start_time": "2023-01-31T07:21:07.191584",
     "status": "completed"
    },
    "tags": []
   },
   "outputs": [],
   "source": []
  }
 ],
 "metadata": {
  "kernelspec": {
   "display_name": "Python 3",
   "language": "python",
   "name": "python3"
  },
  "language_info": {
   "codemirror_mode": {
    "name": "ipython",
    "version": 3
   },
   "file_extension": ".py",
   "mimetype": "text/x-python",
   "name": "python",
   "nbconvert_exporter": "python",
   "pygments_lexer": "ipython3",
   "version": "3.7.12"
  },
  "papermill": {
   "default_parameters": {},
   "duration": 20.15434,
   "end_time": "2023-01-31T07:21:10.217851",
   "environment_variables": {},
   "exception": null,
   "input_path": "__notebook__.ipynb",
   "output_path": "__notebook__.ipynb",
   "parameters": {},
   "start_time": "2023-01-31T07:20:50.063511",
   "version": "2.3.4"
  }
 },
 "nbformat": 4,
 "nbformat_minor": 5
}
