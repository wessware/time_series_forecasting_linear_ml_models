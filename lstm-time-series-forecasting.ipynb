{
 "cells": [
  {
   "cell_type": "code",
   "execution_count": 1,
   "id": "43acf986",
   "metadata": {
    "_cell_guid": "b1076dfc-b9ad-4769-8c92-a6c4dae69d19",
    "_uuid": "8f2839f25d086af736a60e9eeb907d3b93b6e0e5",
    "execution": {
     "iopub.execute_input": "2023-01-31T07:37:59.237040Z",
     "iopub.status.busy": "2023-01-31T07:37:59.236458Z",
     "iopub.status.idle": "2023-01-31T07:38:06.710305Z",
     "shell.execute_reply": "2023-01-31T07:38:06.709315Z"
    },
    "papermill": {
     "duration": 7.485463,
     "end_time": "2023-01-31T07:38:06.713207",
     "exception": false,
     "start_time": "2023-01-31T07:37:59.227744",
     "status": "completed"
    },
    "tags": []
   },
   "outputs": [],
   "source": [
    "import numpy as np\n",
    "import pandas as pd\n",
    "\n",
    "import matplotlib.pyplot as plt\n",
    "\n",
    "import tensorflow as tf\n",
    "\n",
    "from keras.models import Sequential\n",
    "from keras.preprocessing.sequence import TimeseriesGenerator\n",
    "from keras.layers import Dense\n",
    "from keras.layers import LSTM\n",
    "from keras.layers import Dropout\n",
    "from keras.layers import Bidirectional\n",
    "\n",
    "from matplotlib.pylab import rcParams\n",
    "\n",
    "import math\n",
    "\n",
    "from sklearn.preprocessing import MinMaxScaler\n",
    "from sklearn.metrics import mean_squared_error"
   ]
  },
  {
   "cell_type": "code",
   "execution_count": 2,
   "id": "ac7c4d26",
   "metadata": {
    "execution": {
     "iopub.execute_input": "2023-01-31T07:38:06.725847Z",
     "iopub.status.busy": "2023-01-31T07:38:06.725181Z",
     "iopub.status.idle": "2023-01-31T07:38:06.731329Z",
     "shell.execute_reply": "2023-01-31T07:38:06.730196Z"
    },
    "papermill": {
     "duration": 0.01523,
     "end_time": "2023-01-31T07:38:06.733805",
     "exception": false,
     "start_time": "2023-01-31T07:38:06.718575",
     "status": "completed"
    },
    "tags": []
   },
   "outputs": [],
   "source": [
    "rcParams['figure.figsize']=8,6"
   ]
  },
  {
   "cell_type": "code",
   "execution_count": 3,
   "id": "250be01a",
   "metadata": {
    "execution": {
     "iopub.execute_input": "2023-01-31T07:38:06.746604Z",
     "iopub.status.busy": "2023-01-31T07:38:06.745724Z",
     "iopub.status.idle": "2023-01-31T07:38:06.800411Z",
     "shell.execute_reply": "2023-01-31T07:38:06.799285Z"
    },
    "papermill": {
     "duration": 0.064141,
     "end_time": "2023-01-31T07:38:06.803291",
     "exception": false,
     "start_time": "2023-01-31T07:38:06.739150",
     "status": "completed"
    },
    "tags": []
   },
   "outputs": [],
   "source": [
    "df = pd.read_csv('/kaggle/input/case-ih-time-series-data/data.csv', index_col=['date'], parse_dates=['date'])"
   ]
  },
  {
   "cell_type": "code",
   "execution_count": 4,
   "id": "69b915b4",
   "metadata": {
    "execution": {
     "iopub.execute_input": "2023-01-31T07:38:06.815736Z",
     "iopub.status.busy": "2023-01-31T07:38:06.815335Z",
     "iopub.status.idle": "2023-01-31T07:38:06.833292Z",
     "shell.execute_reply": "2023-01-31T07:38:06.832025Z"
    },
    "papermill": {
     "duration": 0.027886,
     "end_time": "2023-01-31T07:38:06.836471",
     "exception": false,
     "start_time": "2023-01-31T07:38:06.808585",
     "status": "completed"
    },
    "tags": []
   },
   "outputs": [
    {
     "data": {
      "text/html": [
       "<div>\n",
       "<style scoped>\n",
       "    .dataframe tbody tr th:only-of-type {\n",
       "        vertical-align: middle;\n",
       "    }\n",
       "\n",
       "    .dataframe tbody tr th {\n",
       "        vertical-align: top;\n",
       "    }\n",
       "\n",
       "    .dataframe thead th {\n",
       "        text-align: right;\n",
       "    }\n",
       "</style>\n",
       "<table border=\"1\" class=\"dataframe\">\n",
       "  <thead>\n",
       "    <tr style=\"text-align: right;\">\n",
       "      <th></th>\n",
       "      <th>work</th>\n",
       "      <th>income</th>\n",
       "    </tr>\n",
       "    <tr>\n",
       "      <th>date</th>\n",
       "      <th></th>\n",
       "      <th></th>\n",
       "    </tr>\n",
       "  </thead>\n",
       "  <tbody>\n",
       "    <tr>\n",
       "      <th>2021-09-30</th>\n",
       "      <td>2</td>\n",
       "      <td>2100</td>\n",
       "    </tr>\n",
       "    <tr>\n",
       "      <th>2021-10-03</th>\n",
       "      <td>1</td>\n",
       "      <td>3600</td>\n",
       "    </tr>\n",
       "    <tr>\n",
       "      <th>2021-10-04</th>\n",
       "      <td>1</td>\n",
       "      <td>4000</td>\n",
       "    </tr>\n",
       "    <tr>\n",
       "      <th>2021-10-05</th>\n",
       "      <td>1</td>\n",
       "      <td>7900</td>\n",
       "    </tr>\n",
       "    <tr>\n",
       "      <th>2021-10-06</th>\n",
       "      <td>1</td>\n",
       "      <td>7500</td>\n",
       "    </tr>\n",
       "  </tbody>\n",
       "</table>\n",
       "</div>"
      ],
      "text/plain": [
       "            work  income\n",
       "date                    \n",
       "2021-09-30     2    2100\n",
       "2021-10-03     1    3600\n",
       "2021-10-04     1    4000\n",
       "2021-10-05     1    7900\n",
       "2021-10-06     1    7500"
      ]
     },
     "execution_count": 4,
     "metadata": {},
     "output_type": "execute_result"
    }
   ],
   "source": [
    "df.head()"
   ]
  },
  {
   "cell_type": "code",
   "execution_count": 5,
   "id": "7d48ec81",
   "metadata": {
    "execution": {
     "iopub.execute_input": "2023-01-31T07:38:06.849412Z",
     "iopub.status.busy": "2023-01-31T07:38:06.849029Z",
     "iopub.status.idle": "2023-01-31T07:38:06.857114Z",
     "shell.execute_reply": "2023-01-31T07:38:06.855835Z"
    },
    "papermill": {
     "duration": 0.017358,
     "end_time": "2023-01-31T07:38:06.859489",
     "exception": false,
     "start_time": "2023-01-31T07:38:06.842131",
     "status": "completed"
    },
    "tags": []
   },
   "outputs": [
    {
     "data": {
      "text/plain": [
       "DatetimeIndex(['2021-09-30', '2021-10-03', '2021-10-04', '2021-10-05',\n",
       "               '2021-10-06', '2021-10-07', '2021-10-08', '2021-10-09',\n",
       "               '2021-10-10', '2021-10-11',\n",
       "               ...\n",
       "               '2022-06-28', '2022-06-30', '2022-07-01', '2022-07-02',\n",
       "               '2022-07-03', '2022-07-04', '2022-07-05', '2022-07-06',\n",
       "               '2022-07-07', '2022-07-08'],\n",
       "              dtype='datetime64[ns]', name='date', length=192, freq=None)"
      ]
     },
     "execution_count": 5,
     "metadata": {},
     "output_type": "execute_result"
    }
   ],
   "source": [
    "df.index"
   ]
  },
  {
   "cell_type": "code",
   "execution_count": 6,
   "id": "b3653d06",
   "metadata": {
    "execution": {
     "iopub.execute_input": "2023-01-31T07:38:06.872427Z",
     "iopub.status.busy": "2023-01-31T07:38:06.872000Z",
     "iopub.status.idle": "2023-01-31T07:38:06.879112Z",
     "shell.execute_reply": "2023-01-31T07:38:06.877873Z"
    },
    "papermill": {
     "duration": 0.016467,
     "end_time": "2023-01-31T07:38:06.881500",
     "exception": false,
     "start_time": "2023-01-31T07:38:06.865033",
     "status": "completed"
    },
    "tags": []
   },
   "outputs": [
    {
     "data": {
      "text/plain": [
       "(192, 2)"
      ]
     },
     "execution_count": 6,
     "metadata": {},
     "output_type": "execute_result"
    }
   ],
   "source": [
    "df.shape"
   ]
  },
  {
   "cell_type": "code",
   "execution_count": 7,
   "id": "4245a534",
   "metadata": {
    "execution": {
     "iopub.execute_input": "2023-01-31T07:38:06.894692Z",
     "iopub.status.busy": "2023-01-31T07:38:06.894301Z",
     "iopub.status.idle": "2023-01-31T07:38:06.900499Z",
     "shell.execute_reply": "2023-01-31T07:38:06.899129Z"
    },
    "papermill": {
     "duration": 0.016027,
     "end_time": "2023-01-31T07:38:06.903185",
     "exception": false,
     "start_time": "2023-01-31T07:38:06.887158",
     "status": "completed"
    },
    "tags": []
   },
   "outputs": [],
   "source": [
    "df = df[['income']]"
   ]
  },
  {
   "cell_type": "code",
   "execution_count": 8,
   "id": "8cbbf629",
   "metadata": {
    "execution": {
     "iopub.execute_input": "2023-01-31T07:38:06.916476Z",
     "iopub.status.busy": "2023-01-31T07:38:06.916088Z",
     "iopub.status.idle": "2023-01-31T07:38:06.923207Z",
     "shell.execute_reply": "2023-01-31T07:38:06.921870Z"
    },
    "papermill": {
     "duration": 0.016864,
     "end_time": "2023-01-31T07:38:06.925773",
     "exception": false,
     "start_time": "2023-01-31T07:38:06.908909",
     "status": "completed"
    },
    "tags": []
   },
   "outputs": [
    {
     "data": {
      "text/plain": [
       "(192, 1)"
      ]
     },
     "execution_count": 8,
     "metadata": {},
     "output_type": "execute_result"
    }
   ],
   "source": [
    "df.shape"
   ]
  },
  {
   "cell_type": "code",
   "execution_count": 9,
   "id": "4ba416b2",
   "metadata": {
    "execution": {
     "iopub.execute_input": "2023-01-31T07:38:06.939421Z",
     "iopub.status.busy": "2023-01-31T07:38:06.939030Z",
     "iopub.status.idle": "2023-01-31T07:38:07.250389Z",
     "shell.execute_reply": "2023-01-31T07:38:07.249058Z"
    },
    "papermill": {
     "duration": 0.322261,
     "end_time": "2023-01-31T07:38:07.253967",
     "exception": false,
     "start_time": "2023-01-31T07:38:06.931706",
     "status": "completed"
    },
    "tags": []
   },
   "outputs": [
    {
     "data": {
      "image/png": "[encoded data removed]",
      "text/plain": [
       "<Figure size 1008x504 with 1 Axes>"
      ]
     },
     "metadata": {
      "needs_background": "light"
     },
     "output_type": "display_data"
    }
   ],
   "source": [
    "ax = df.plot(figsize=(14, 7))"
   ]
  },
  {
   "cell_type": "code",
   "execution_count": 10,
   "id": "36b19916",
   "metadata": {
    "execution": {
     "iopub.execute_input": "2023-01-31T07:38:07.270203Z",
     "iopub.status.busy": "2023-01-31T07:38:07.269806Z",
     "iopub.status.idle": "2023-01-31T07:38:07.277951Z",
     "shell.execute_reply": "2023-01-31T07:38:07.276921Z"
    },
    "papermill": {
     "duration": 0.019273,
     "end_time": "2023-01-31T07:38:07.280293",
     "exception": false,
     "start_time": "2023-01-31T07:38:07.261020",
     "status": "completed"
    },
    "tags": []
   },
   "outputs": [],
   "source": [
    "scaler = MinMaxScaler(feature_range=(0, 1))\n",
    "\n",
    "df = scaler.fit_transform(df)"
   ]
  },
  {
   "cell_type": "code",
   "execution_count": 11,
   "id": "fdb7745f",
   "metadata": {
    "execution": {
     "iopub.execute_input": "2023-01-31T07:38:07.296899Z",
     "iopub.status.busy": "2023-01-31T07:38:07.296034Z",
     "iopub.status.idle": "2023-01-31T07:38:07.301680Z",
     "shell.execute_reply": "2023-01-31T07:38:07.300852Z"
    },
    "papermill": {
     "duration": 0.016432,
     "end_time": "2023-01-31T07:38:07.303885",
     "exception": false,
     "start_time": "2023-01-31T07:38:07.287453",
     "status": "completed"
    },
    "tags": []
   },
   "outputs": [],
   "source": [
    "train_size = int(len(df) * 0.8)\n",
    "test_size = len(df) - train_size\n",
    "\n",
    "train = df[0:train_size,:]\n",
    "test = df[train_size:len(df),:]"
   ]
  },
  {
   "cell_type": "code",
   "execution_count": 12,
   "id": "2f864809",
   "metadata": {
    "execution": {
     "iopub.execute_input": "2023-01-31T07:38:07.321346Z",
     "iopub.status.busy": "2023-01-31T07:38:07.320301Z",
     "iopub.status.idle": "2023-01-31T07:38:07.329314Z",
     "shell.execute_reply": "2023-01-31T07:38:07.327903Z"
    },
    "papermill": {
     "duration": 0.020895,
     "end_time": "2023-01-31T07:38:07.332161",
     "exception": false,
     "start_time": "2023-01-31T07:38:07.311266",
     "status": "completed"
    },
    "tags": []
   },
   "outputs": [],
   "source": [
    "# convert an array of values into a dataset matrix - generating lags from the time series\n",
    "def create_dataset(df, look_back=1):\n",
    "    \n",
    "    dataX, dataY = [], []\n",
    "    \n",
    "    for i in range(len(df)-look_back-1):\n",
    "        a = df[i:(i+look_back), 0]\n",
    "        dataX.append(a)\n",
    "        dataY.append(df[i + look_back, 0])\n",
    "        \n",
    "    return np.array(dataX), np.array(dataY)\n",
    "  \n",
    "  # reshape into X=t and Y=t+1\n",
    "look_back = 30\n",
    "trainX, trainY = create_dataset(train, look_back)\n",
    "testX, testY = create_dataset(test, look_back)"
   ]
  },
  {
   "cell_type": "code",
   "execution_count": 13,
   "id": "21961b53",
   "metadata": {
    "execution": {
     "iopub.execute_input": "2023-01-31T07:38:07.348286Z",
     "iopub.status.busy": "2023-01-31T07:38:07.347630Z",
     "iopub.status.idle": "2023-01-31T07:38:07.361698Z",
     "shell.execute_reply": "2023-01-31T07:38:07.360090Z"
    },
    "papermill": {
     "duration": 0.025564,
     "end_time": "2023-01-31T07:38:07.364767",
     "exception": false,
     "start_time": "2023-01-31T07:38:07.339203",
     "status": "completed"
    },
    "tags": []
   },
   "outputs": [
    {
     "name": "stdout",
     "output_type": "stream",
     "text": [
      "(122, 30)\n"
     ]
    }
   ],
   "source": [
    "print(trainX.shape)"
   ]
  },
  {
   "cell_type": "code",
   "execution_count": 14,
   "id": "94745172",
   "metadata": {
    "execution": {
     "iopub.execute_input": "2023-01-31T07:38:07.380825Z",
     "iopub.status.busy": "2023-01-31T07:38:07.380421Z",
     "iopub.status.idle": "2023-01-31T07:38:07.385590Z",
     "shell.execute_reply": "2023-01-31T07:38:07.384648Z"
    },
    "papermill": {
     "duration": 0.015908,
     "end_time": "2023-01-31T07:38:07.387814",
     "exception": false,
     "start_time": "2023-01-31T07:38:07.371906",
     "status": "completed"
    },
    "tags": []
   },
   "outputs": [],
   "source": [
    "trainX = np.reshape(trainX, (trainX.shape[0], trainX.shape[1], 1))\n",
    "testX = np.reshape(testX, (testX.shape[0], testX.shape[1], 1))"
   ]
  },
  {
   "cell_type": "code",
   "execution_count": 15,
   "id": "b75be948",
   "metadata": {
    "execution": {
     "iopub.execute_input": "2023-01-31T07:38:07.405019Z",
     "iopub.status.busy": "2023-01-31T07:38:07.404289Z",
     "iopub.status.idle": "2023-01-31T07:38:07.821633Z",
     "shell.execute_reply": "2023-01-31T07:38:07.820175Z"
    },
    "papermill": {
     "duration": 0.429126,
     "end_time": "2023-01-31T07:38:07.824702",
     "exception": false,
     "start_time": "2023-01-31T07:38:07.395576",
     "status": "completed"
    },
    "tags": []
   },
   "outputs": [
    {
     "name": "stderr",
     "output_type": "stream",
     "text": [
      "2023-01-31 07:38:07.447513: I tensorflow/core/common_runtime/process_util.cc:146] Creating new thread pool with default inter op setting: 2. Tune using inter_op_parallelism_threads for best performance.\n"
     ]
    }
   ],
   "source": [
    "model=Sequential()\n",
    "\n",
    "model.add(LSTM(50,activation='relu',return_sequences=True,input_shape=(look_back,1)))\n",
    "model.add(LSTM(50, activation='relu', return_sequences=True))\n",
    "model.add(LSTM(50, activation='sigmoid', return_sequences=False))\n",
    "\n",
    "model.add(Dense(50))\n",
    "model.add(Dropout(0.2))\n",
    "model.add(Dense(1))\n",
    "model.compile(optimizer='adam',loss='mean_squared_error')"
   ]
  },
  {
   "cell_type": "code",
   "execution_count": 16,
   "id": "4429fc6b",
   "metadata": {
    "execution": {
     "iopub.execute_input": "2023-01-31T07:38:07.840941Z",
     "iopub.status.busy": "2023-01-31T07:38:07.840497Z",
     "iopub.status.idle": "2023-01-31T07:45:31.555176Z",
     "shell.execute_reply": "2023-01-31T07:45:31.553556Z"
    },
    "papermill": {
     "duration": 443.726071,
     "end_time": "2023-01-31T07:45:31.557931",
     "exception": false,
     "start_time": "2023-01-31T07:38:07.831860",
     "status": "completed"
    },
    "tags": []
   },
   "outputs": [
    {
     "name": "stderr",
     "output_type": "stream",
     "text": [
      "2023-01-31 07:38:07.905581: I tensorflow/compiler/mlir/mlir_graph_optimization_pass.cc:185] None of the MLIR Optimization Passes are enabled (registered 2)\n"
     ]
    },
    {
     "name": "stdout",
     "output_type": "stream",
     "text": [
      "Epoch 1/200\n",
      "122/122 [==============================] - 6s 20ms/step - loss: 0.0992\n",
      "Epoch 2/200\n",
      "122/122 [==============================] - 2s 19ms/step - loss: 0.0559\n",
      "Epoch 3/200\n",
      "122/122 [==============================] - 2s 18ms/step - loss: 0.0560\n",
      "Epoch 4/200\n",
      "122/122 [==============================] - 2s 18ms/step - loss: 0.0516\n",
      "Epoch 5/200\n",
      "122/122 [==============================] - 2s 18ms/step - loss: 0.0456\n",
      "Epoch 6/200\n",
      "122/122 [==============================] - 2s 18ms/step - loss: 0.0410\n",
      "Epoch 7/200\n",
      "122/122 [==============================] - 2s 18ms/step - loss: 0.0389\n",
      "Epoch 8/200\n",
      "122/122 [==============================] - 2s 18ms/step - loss: 0.0416\n",
      "Epoch 9/200\n",
      "122/122 [==============================] - 2s 18ms/step - loss: 0.0426\n",
      "Epoch 10/200\n",
      "122/122 [==============================] - 2s 18ms/step - loss: 0.0388\n",
      "Epoch 11/200\n",
      "122/122 [==============================] - 2s 19ms/step - loss: 0.0405\n",
      "Epoch 12/200\n",
      "122/122 [==============================] - 2s 18ms/step - loss: 0.0424\n",
      "Epoch 13/200\n",
      "122/122 [==============================] - 2s 18ms/step - loss: 0.0377\n",
      "Epoch 14/200\n",
      "122/122 [==============================] - 2s 18ms/step - loss: 0.0357\n",
      "Epoch 15/200\n",
      "122/122 [==============================] - 2s 19ms/step - loss: 0.0368\n",
      "Epoch 16/200\n",
      "122/122 [==============================] - 2s 19ms/step - loss: 0.0376\n",
      "Epoch 17/200\n",
      "122/122 [==============================] - 2s 18ms/step - loss: 0.0379\n",
      "Epoch 18/200\n",
      "122/122 [==============================] - 2s 18ms/step - loss: 0.0348\n",
      "Epoch 19/200\n",
      "122/122 [==============================] - 2s 18ms/step - loss: 0.0351\n",
      "Epoch 20/200\n",
      "122/122 [==============================] - 2s 18ms/step - loss: 0.0343\n",
      "Epoch 21/200\n",
      "122/122 [==============================] - 2s 18ms/step - loss: 0.0360\n",
      "Epoch 22/200\n",
      "122/122 [==============================] - 2s 18ms/step - loss: 0.0359\n",
      "Epoch 23/200\n",
      "122/122 [==============================] - 2s 18ms/step - loss: 0.0345\n",
      "Epoch 24/200\n",
      "122/122 [==============================] - 2s 18ms/step - loss: 0.0340\n",
      "Epoch 25/200\n",
      "122/122 [==============================] - 2s 18ms/step - loss: 0.0356\n",
      "Epoch 26/200\n",
      "122/122 [==============================] - 2s 18ms/step - loss: 0.0347\n",
      "Epoch 27/200\n",
      "122/122 [==============================] - 2s 18ms/step - loss: 0.0356\n",
      "Epoch 28/200\n",
      "122/122 [==============================] - 2s 18ms/step - loss: 0.0332\n",
      "Epoch 29/200\n",
      "122/122 [==============================] - 2s 18ms/step - loss: 0.0328\n",
      "Epoch 30/200\n",
      "122/122 [==============================] - 2s 20ms/step - loss: 0.0365\n",
      "Epoch 31/200\n",
      "122/122 [==============================] - 2s 18ms/step - loss: 0.0337\n",
      "Epoch 32/200\n",
      "122/122 [==============================] - 2s 18ms/step - loss: 0.0356\n",
      "Epoch 33/200\n",
      "122/122 [==============================] - 2s 18ms/step - loss: 0.0355\n",
      "Epoch 34/200\n",
      "122/122 [==============================] - 2s 18ms/step - loss: 0.0348\n",
      "Epoch 35/200\n",
      "122/122 [==============================] - 2s 17ms/step - loss: 0.0344\n",
      "Epoch 36/200\n",
      "122/122 [==============================] - 2s 18ms/step - loss: 0.0331\n",
      "Epoch 37/200\n",
      "122/122 [==============================] - 2s 18ms/step - loss: 0.0325\n",
      "Epoch 38/200\n",
      "122/122 [==============================] - 2s 17ms/step - loss: 0.0334\n",
      "Epoch 39/200\n",
      "122/122 [==============================] - 2s 18ms/step - loss: 0.0333\n",
      "Epoch 40/200\n",
      "122/122 [==============================] - 2s 18ms/step - loss: 0.0341\n",
      "Epoch 41/200\n",
      "122/122 [==============================] - 2s 18ms/step - loss: 0.0363\n",
      "Epoch 42/200\n",
      "122/122 [==============================] - 2s 18ms/step - loss: 0.0345\n",
      "Epoch 43/200\n",
      "122/122 [==============================] - 2s 18ms/step - loss: 0.0330\n",
      "Epoch 44/200\n",
      "122/122 [==============================] - 2s 20ms/step - loss: 0.0338\n",
      "Epoch 45/200\n",
      "122/122 [==============================] - 2s 18ms/step - loss: 0.0334\n",
      "Epoch 46/200\n",
      "122/122 [==============================] - 2s 18ms/step - loss: 0.0337\n",
      "Epoch 47/200\n",
      "122/122 [==============================] - 2s 18ms/step - loss: 0.0338\n",
      "Epoch 48/200\n",
      "122/122 [==============================] - 2s 18ms/step - loss: 0.0342\n",
      "Epoch 49/200\n",
      "122/122 [==============================] - 2s 18ms/step - loss: 0.0337\n",
      "Epoch 50/200\n",
      "122/122 [==============================] - 2s 18ms/step - loss: 0.0338\n",
      "Epoch 51/200\n",
      "122/122 [==============================] - 2s 18ms/step - loss: 0.0333\n",
      "Epoch 52/200\n",
      "122/122 [==============================] - 2s 18ms/step - loss: 0.0341\n",
      "Epoch 53/200\n",
      "122/122 [==============================] - 2s 18ms/step - loss: 0.0342\n",
      "Epoch 54/200\n",
      "122/122 [==============================] - 2s 18ms/step - loss: 0.0346\n",
      "Epoch 55/200\n",
      "122/122 [==============================] - 2s 18ms/step - loss: 0.0372\n",
      "Epoch 56/200\n",
      "122/122 [==============================] - 2s 18ms/step - loss: 0.0358\n",
      "Epoch 57/200\n",
      "122/122 [==============================] - 2s 18ms/step - loss: 0.0355\n",
      "Epoch 58/200\n",
      "122/122 [==============================] - 2s 20ms/step - loss: 0.0333\n",
      "Epoch 59/200\n",
      "122/122 [==============================] - 2s 18ms/step - loss: 0.0339\n",
      "Epoch 60/200\n",
      "122/122 [==============================] - 2s 18ms/step - loss: 0.0358\n",
      "Epoch 61/200\n",
      "122/122 [==============================] - 2s 18ms/step - loss: 0.0339\n",
      "Epoch 62/200\n",
      "122/122 [==============================] - 2s 18ms/step - loss: 0.0348\n",
      "Epoch 63/200\n",
      "122/122 [==============================] - 2s 17ms/step - loss: 0.0341\n",
      "Epoch 64/200\n",
      "122/122 [==============================] - 2s 17ms/step - loss: 0.0347\n",
      "Epoch 65/200\n",
      "122/122 [==============================] - 2s 18ms/step - loss: 0.0347\n",
      "Epoch 66/200\n",
      "122/122 [==============================] - 2s 18ms/step - loss: 0.0340\n",
      "Epoch 67/200\n",
      "122/122 [==============================] - 2s 18ms/step - loss: 0.0337\n",
      "Epoch 68/200\n",
      "122/122 [==============================] - 2s 18ms/step - loss: 0.0344\n",
      "Epoch 69/200\n",
      "122/122 [==============================] - 2s 18ms/step - loss: 0.0350\n",
      "Epoch 70/200\n",
      "122/122 [==============================] - 2s 18ms/step - loss: 0.0341\n",
      "Epoch 71/200\n",
      "122/122 [==============================] - 2s 19ms/step - loss: 0.0342\n",
      "Epoch 72/200\n",
      "122/122 [==============================] - 2s 19ms/step - loss: 0.0338\n",
      "Epoch 73/200\n",
      "122/122 [==============================] - 2s 19ms/step - loss: 0.0347\n",
      "Epoch 74/200\n",
      "122/122 [==============================] - 2s 18ms/step - loss: 0.0354\n",
      "Epoch 75/200\n",
      "122/122 [==============================] - 2s 18ms/step - loss: 0.0343\n",
      "Epoch 76/200\n",
      "122/122 [==============================] - 2s 18ms/step - loss: 0.0344\n",
      "Epoch 77/200\n",
      "122/122 [==============================] - 2s 18ms/step - loss: 0.0342\n",
      "Epoch 78/200\n",
      "122/122 [==============================] - 2s 17ms/step - loss: 0.0342\n",
      "Epoch 79/200\n",
      "122/122 [==============================] - 2s 17ms/step - loss: 0.0357\n",
      "Epoch 80/200\n",
      "122/122 [==============================] - 2s 18ms/step - loss: 0.0341\n",
      "Epoch 81/200\n",
      "122/122 [==============================] - 2s 19ms/step - loss: 0.0343\n",
      "Epoch 82/200\n",
      "122/122 [==============================] - 2s 18ms/step - loss: 0.0361\n",
      "Epoch 83/200\n",
      "122/122 [==============================] - 2s 18ms/step - loss: 0.0357\n",
      "Epoch 84/200\n",
      "122/122 [==============================] - 2s 18ms/step - loss: 0.0339\n",
      "Epoch 85/200\n",
      "122/122 [==============================] - 2s 18ms/step - loss: 0.0342\n",
      "Epoch 86/200\n",
      "122/122 [==============================] - 2s 18ms/step - loss: 0.0348\n",
      "Epoch 87/200\n",
      "122/122 [==============================] - 2s 20ms/step - loss: 0.0357\n",
      "Epoch 88/200\n",
      "122/122 [==============================] - 2s 17ms/step - loss: 0.0342\n",
      "Epoch 89/200\n",
      "122/122 [==============================] - 2s 18ms/step - loss: 0.0348\n",
      "Epoch 90/200\n",
      "122/122 [==============================] - 2s 18ms/step - loss: 0.0339\n",
      "Epoch 91/200\n",
      "122/122 [==============================] - 2s 19ms/step - loss: 0.0350\n",
      "Epoch 92/200\n",
      "122/122 [==============================] - 2s 18ms/step - loss: 0.0342\n",
      "Epoch 93/200\n",
      "122/122 [==============================] - 2s 17ms/step - loss: 0.0341\n",
      "Epoch 94/200\n",
      "122/122 [==============================] - 2s 18ms/step - loss: 0.0340\n",
      "Epoch 95/200\n",
      "122/122 [==============================] - 2s 18ms/step - loss: 0.0350\n",
      "Epoch 96/200\n",
      "122/122 [==============================] - 2s 18ms/step - loss: 0.0344\n",
      "Epoch 97/200\n",
      "122/122 [==============================] - 2s 18ms/step - loss: 0.0351\n",
      "Epoch 98/200\n",
      "122/122 [==============================] - 2s 18ms/step - loss: 0.0346\n",
      "Epoch 99/200\n",
      "122/122 [==============================] - 2s 18ms/step - loss: 0.0345\n",
      "Epoch 100/200\n",
      "122/122 [==============================] - 2s 18ms/step - loss: 0.0344\n",
      "Epoch 101/200\n",
      "122/122 [==============================] - 2s 20ms/step - loss: 0.0346\n",
      "Epoch 102/200\n",
      "122/122 [==============================] - 2s 17ms/step - loss: 0.0341\n",
      "Epoch 103/200\n",
      "122/122 [==============================] - 2s 18ms/step - loss: 0.0345\n",
      "Epoch 104/200\n",
      "122/122 [==============================] - 2s 18ms/step - loss: 0.0347\n",
      "Epoch 105/200\n",
      "122/122 [==============================] - 2s 18ms/step - loss: 0.0339\n",
      "Epoch 106/200\n",
      "122/122 [==============================] - 2s 19ms/step - loss: 0.0342\n",
      "Epoch 107/200\n",
      "122/122 [==============================] - 2s 18ms/step - loss: 0.0344\n",
      "Epoch 108/200\n",
      "122/122 [==============================] - 2s 18ms/step - loss: 0.0341\n",
      "Epoch 109/200\n",
      "122/122 [==============================] - 2s 19ms/step - loss: 0.0344\n",
      "Epoch 110/200\n",
      "122/122 [==============================] - 2s 18ms/step - loss: 0.0344\n",
      "Epoch 111/200\n",
      "122/122 [==============================] - 2s 18ms/step - loss: 0.0342\n",
      "Epoch 112/200\n",
      "122/122 [==============================] - 2s 18ms/step - loss: 0.0344\n",
      "Epoch 113/200\n",
      "122/122 [==============================] - 2s 18ms/step - loss: 0.0341\n",
      "Epoch 114/200\n",
      "122/122 [==============================] - 2s 18ms/step - loss: 0.0342\n",
      "Epoch 115/200\n",
      "122/122 [==============================] - 2s 20ms/step - loss: 0.0338\n",
      "Epoch 116/200\n",
      "122/122 [==============================] - 2s 19ms/step - loss: 0.0337\n",
      "Epoch 117/200\n",
      "122/122 [==============================] - 2s 18ms/step - loss: 0.0339\n",
      "Epoch 118/200\n",
      "122/122 [==============================] - 2s 18ms/step - loss: 0.0339\n",
      "Epoch 119/200\n",
      "122/122 [==============================] - 2s 18ms/step - loss: 0.0339\n",
      "Epoch 120/200\n",
      "122/122 [==============================] - 2s 18ms/step - loss: 0.0342\n",
      "Epoch 121/200\n",
      "122/122 [==============================] - 2s 18ms/step - loss: 0.0338\n",
      "Epoch 122/200\n",
      "122/122 [==============================] - 2s 18ms/step - loss: 0.0343\n",
      "Epoch 123/200\n",
      "122/122 [==============================] - 2s 18ms/step - loss: 0.0337\n",
      "Epoch 124/200\n",
      "122/122 [==============================] - 2s 18ms/step - loss: 0.0335\n",
      "Epoch 125/200\n",
      "122/122 [==============================] - 2s 18ms/step - loss: 0.0339\n",
      "Epoch 126/200\n",
      "122/122 [==============================] - 2s 18ms/step - loss: 0.0339\n",
      "Epoch 127/200\n",
      "122/122 [==============================] - 2s 17ms/step - loss: 0.0340\n",
      "Epoch 128/200\n",
      "122/122 [==============================] - 2s 17ms/step - loss: 0.0339\n",
      "Epoch 129/200\n",
      "122/122 [==============================] - 2s 18ms/step - loss: 0.0337\n",
      "Epoch 130/200\n",
      "122/122 [==============================] - 2s 20ms/step - loss: 0.0340\n",
      "Epoch 131/200\n",
      "122/122 [==============================] - 2s 18ms/step - loss: 0.0338\n",
      "Epoch 132/200\n",
      "122/122 [==============================] - 2s 18ms/step - loss: 0.0337\n",
      "Epoch 133/200\n",
      "122/122 [==============================] - 2s 17ms/step - loss: 0.0339\n",
      "Epoch 134/200\n",
      "122/122 [==============================] - 2s 18ms/step - loss: 0.0338\n",
      "Epoch 135/200\n",
      "122/122 [==============================] - 2s 17ms/step - loss: 0.0340\n",
      "Epoch 136/200\n",
      "122/122 [==============================] - 2s 18ms/step - loss: 0.0338\n",
      "Epoch 137/200\n",
      "122/122 [==============================] - 2s 18ms/step - loss: 0.0340\n",
      "Epoch 138/200\n",
      "122/122 [==============================] - 2s 17ms/step - loss: 0.0339\n",
      "Epoch 139/200\n",
      "122/122 [==============================] - 2s 17ms/step - loss: 0.0337\n",
      "Epoch 140/200\n",
      "122/122 [==============================] - 2s 17ms/step - loss: 0.0338\n",
      "Epoch 141/200\n",
      "122/122 [==============================] - 2s 18ms/step - loss: 0.0337\n",
      "Epoch 142/200\n",
      "122/122 [==============================] - 2s 17ms/step - loss: 0.0338\n",
      "Epoch 143/200\n",
      "122/122 [==============================] - 2s 18ms/step - loss: 0.0339\n",
      "Epoch 144/200\n",
      "122/122 [==============================] - 2s 19ms/step - loss: 0.0339\n",
      "Epoch 145/200\n",
      "122/122 [==============================] - 2s 18ms/step - loss: 0.0338\n",
      "Epoch 146/200\n",
      "122/122 [==============================] - 2s 18ms/step - loss: 0.0337\n",
      "Epoch 147/200\n",
      "122/122 [==============================] - 2s 18ms/step - loss: 0.0338\n",
      "Epoch 148/200\n",
      "122/122 [==============================] - 2s 18ms/step - loss: 0.0338\n",
      "Epoch 149/200\n",
      "122/122 [==============================] - 2s 18ms/step - loss: 0.0337\n",
      "Epoch 150/200\n",
      "122/122 [==============================] - 2s 19ms/step - loss: 0.0337\n",
      "Epoch 151/200\n",
      "122/122 [==============================] - 2s 18ms/step - loss: 0.0337\n",
      "Epoch 152/200\n",
      "122/122 [==============================] - 2s 17ms/step - loss: 0.0337\n",
      "Epoch 153/200\n",
      "122/122 [==============================] - 2s 18ms/step - loss: 0.0338\n",
      "Epoch 154/200\n",
      "122/122 [==============================] - 2s 18ms/step - loss: 0.0337\n",
      "Epoch 155/200\n",
      "122/122 [==============================] - 2s 17ms/step - loss: 0.0338\n",
      "Epoch 156/200\n",
      "122/122 [==============================] - 2s 18ms/step - loss: 0.0337\n",
      "Epoch 157/200\n",
      "122/122 [==============================] - 2s 18ms/step - loss: 0.0337\n",
      "Epoch 158/200\n",
      "122/122 [==============================] - 2s 18ms/step - loss: 0.0337\n",
      "Epoch 159/200\n",
      "122/122 [==============================] - 2s 19ms/step - loss: 0.0337\n",
      "Epoch 160/200\n",
      "122/122 [==============================] - 2s 18ms/step - loss: 0.0337\n",
      "Epoch 161/200\n",
      "122/122 [==============================] - 2s 18ms/step - loss: 0.0337\n",
      "Epoch 162/200\n",
      "122/122 [==============================] - 2s 17ms/step - loss: 0.0337\n",
      "Epoch 163/200\n",
      "122/122 [==============================] - 2s 18ms/step - loss: 0.0337\n",
      "Epoch 164/200\n",
      "122/122 [==============================] - 2s 18ms/step - loss: 0.0337\n",
      "Epoch 165/200\n",
      "122/122 [==============================] - 2s 18ms/step - loss: 0.0337\n",
      "Epoch 166/200\n",
      "122/122 [==============================] - 2s 17ms/step - loss: 0.0337\n",
      "Epoch 167/200\n",
      "122/122 [==============================] - 2s 17ms/step - loss: 0.0337\n",
      "Epoch 168/200\n",
      "122/122 [==============================] - 2s 18ms/step - loss: 0.0337\n",
      "Epoch 169/200\n",
      "122/122 [==============================] - 2s 17ms/step - loss: 0.0337\n",
      "Epoch 170/200\n",
      "122/122 [==============================] - 2s 18ms/step - loss: 0.0337\n",
      "Epoch 171/200\n",
      "122/122 [==============================] - 2s 18ms/step - loss: 0.0336\n",
      "Epoch 172/200\n",
      "122/122 [==============================] - 2s 18ms/step - loss: 0.0336\n",
      "Epoch 173/200\n",
      "122/122 [==============================] - 2s 20ms/step - loss: 0.0337\n",
      "Epoch 174/200\n",
      "122/122 [==============================] - 2s 19ms/step - loss: 0.0337\n",
      "Epoch 175/200\n",
      "122/122 [==============================] - 2s 18ms/step - loss: 0.0337\n",
      "Epoch 176/200\n",
      "122/122 [==============================] - 2s 18ms/step - loss: 0.0337\n",
      "Epoch 177/200\n",
      "122/122 [==============================] - 2s 18ms/step - loss: 0.0338\n",
      "Epoch 178/200\n",
      "122/122 [==============================] - 2s 19ms/step - loss: 0.0337\n",
      "Epoch 179/200\n",
      "122/122 [==============================] - 2s 19ms/step - loss: 0.0337\n",
      "Epoch 180/200\n",
      "122/122 [==============================] - 2s 18ms/step - loss: 0.0337\n",
      "Epoch 181/200\n",
      "122/122 [==============================] - 2s 18ms/step - loss: 0.0337\n",
      "Epoch 182/200\n",
      "122/122 [==============================] - 2s 18ms/step - loss: 0.0338\n",
      "Epoch 183/200\n",
      "122/122 [==============================] - 2s 18ms/step - loss: 0.0338\n",
      "Epoch 184/200\n",
      "122/122 [==============================] - 2s 18ms/step - loss: 0.0337\n",
      "Epoch 185/200\n",
      "122/122 [==============================] - 2s 18ms/step - loss: 0.0338\n",
      "Epoch 186/200\n",
      "122/122 [==============================] - 2s 18ms/step - loss: 0.0337\n",
      "Epoch 187/200\n",
      "122/122 [==============================] - 2s 20ms/step - loss: 0.0337\n",
      "Epoch 188/200\n",
      "122/122 [==============================] - 2s 17ms/step - loss: 0.0337\n",
      "Epoch 189/200\n",
      "122/122 [==============================] - 2s 18ms/step - loss: 0.0337\n",
      "Epoch 190/200\n",
      "122/122 [==============================] - 2s 18ms/step - loss: 0.0337\n",
      "Epoch 191/200\n",
      "122/122 [==============================] - 2s 18ms/step - loss: 0.0337\n",
      "Epoch 192/200\n",
      "122/122 [==============================] - 2s 18ms/step - loss: 0.0337\n",
      "Epoch 193/200\n",
      "122/122 [==============================] - 2s 17ms/step - loss: 0.0337\n",
      "Epoch 194/200\n",
      "122/122 [==============================] - 2s 18ms/step - loss: 0.0338\n",
      "Epoch 195/200\n",
      "122/122 [==============================] - 2s 18ms/step - loss: 0.0337\n",
      "Epoch 196/200\n",
      "122/122 [==============================] - 2s 19ms/step - loss: 0.0337\n",
      "Epoch 197/200\n",
      "122/122 [==============================] - 2s 18ms/step - loss: 0.0337\n",
      "Epoch 198/200\n",
      "122/122 [==============================] - 2s 18ms/step - loss: 0.0338\n",
      "Epoch 199/200\n",
      "122/122 [==============================] - 2s 18ms/step - loss: 0.0337\n",
      "Epoch 200/200\n",
      "122/122 [==============================] - 2s 18ms/step - loss: 0.0337\n"
     ]
    }
   ],
   "source": [
    "Xdata_train=[]\n",
    "Ydata_train=[]\n",
    "\n",
    "Xdata_train, Ydata_train = create_dataset(train, look_back)\n",
    "Xdata_train = np.reshape(Xdata_train, (Xdata_train.shape[0], Xdata_train.shape[1], 1))\n",
    "\n",
    "#training for all data\n",
    "history = model.fit(Xdata_train,Ydata_train,batch_size=1,epochs=200,shuffle=False)"
   ]
  },
  {
   "cell_type": "code",
   "execution_count": 17,
   "id": "65ff0bbd",
   "metadata": {
    "execution": {
     "iopub.execute_input": "2023-01-31T07:45:32.640142Z",
     "iopub.status.busy": "2023-01-31T07:45:32.639466Z",
     "iopub.status.idle": "2023-01-31T07:45:33.492763Z",
     "shell.execute_reply": "2023-01-31T07:45:33.491827Z"
    },
    "papermill": {
     "duration": 1.367316,
     "end_time": "2023-01-31T07:45:33.495484",
     "exception": false,
     "start_time": "2023-01-31T07:45:32.128168",
     "status": "completed"
    },
    "tags": []
   },
   "outputs": [
    {
     "name": "stdout",
     "output_type": "stream",
     "text": [
      "Train Score: 3414.34 RMSE\n",
      "Test Score: 3939.83 RMSE\n"
     ]
    }
   ],
   "source": [
    "trainPredict = model.predict(trainX)\n",
    "testPredict = model.predict(testX)\n",
    "\n",
    "# invert predictions\n",
    "trainPredict = scaler.inverse_transform(trainPredict)\n",
    "trainY = scaler.inverse_transform([trainY])\n",
    "testPredict = scaler.inverse_transform(testPredict)\n",
    "testY = scaler.inverse_transform([testY])\n",
    "\n",
    "# calculate root mean squared error\n",
    "trainScore = math.sqrt(mean_squared_error(trainY[0], trainPredict[:,0]))\n",
    "print('Train Score: %.2f RMSE' % (trainScore))\n",
    "testScore = math.sqrt(mean_squared_error(testY[0], testPredict[:,0]))\n",
    "print('Test Score: %.2f RMSE' % (testScore))"
   ]
  },
  {
   "cell_type": "code",
   "execution_count": 18,
   "id": "1fbe251e",
   "metadata": {
    "execution": {
     "iopub.execute_input": "2023-01-31T07:45:34.639549Z",
     "iopub.status.busy": "2023-01-31T07:45:34.638702Z",
     "iopub.status.idle": "2023-01-31T07:45:34.867145Z",
     "shell.execute_reply": "2023-01-31T07:45:34.865885Z"
    },
    "papermill": {
     "duration": 0.757365,
     "end_time": "2023-01-31T07:45:34.869953",
     "exception": false,
     "start_time": "2023-01-31T07:45:34.112588",
     "status": "completed"
    },
    "tags": []
   },
   "outputs": [
    {
     "data": {
      "image/png": "[encoded data removed]",
      "text/plain": [
       "<Figure size 1152x576 with 1 Axes>"
      ]
     },
     "metadata": {
      "needs_background": "light"
     },
     "output_type": "display_data"
    }
   ],
   "source": [
    "# shift train predictions for plotting\n",
    "trainPredictPlot = np.empty_like(df)\n",
    "trainPredictPlot[:, :] = np.nan\n",
    "trainPredictPlot[look_back:len(trainPredict)+look_back, :] = trainPredict\n",
    "\n",
    "# shift test predictions for plotting\n",
    "testPredictPlot = np.empty_like(df)\n",
    "testPredictPlot[:, :] = np.nan\n",
    "testPredictPlot[len(trainPredict)+(look_back*2)+1:len(df)-1, :] = testPredict\n",
    "\n",
    "# plot baseline and predictions\n",
    "plt.figure(figsize=(16,8))\n",
    "\n",
    "plt.plot(scaler.inverse_transform(df))\n",
    "plt.plot(trainPredictPlot)\n",
    "plt.plot(testPredictPlot)\n",
    "\n",
    "plt.legend(['Train','Train Predict','Test Predict'],loc='best')\n",
    "\n",
    "plt.show()"
   ]
  },
  {
   "cell_type": "code",
   "execution_count": null,
   "id": "915bab97",
   "metadata": {
    "papermill": {
     "duration": 0.574516,
     "end_time": "2023-01-31T07:45:35.956284",
     "exception": false,
     "start_time": "2023-01-31T07:45:35.381768",
     "status": "completed"
    },
    "tags": []
   },
   "outputs": [],
   "source": []
  }
 ],
 "metadata": {
  "kernelspec": {
   "display_name": "Python 3",
   "language": "python",
   "name": "python3"
  },
  "language_info": {
   "codemirror_mode": {
    "name": "ipython",
    "version": 3
   },
   "file_extension": ".py",
   "mimetype": "text/x-python",
   "name": "python",
   "nbconvert_exporter": "python",
   "pygments_lexer": "ipython3",
   "version": "3.7.12"
  },
  "papermill": {
   "default_parameters": {},
   "duration": 469.588666,
   "end_time": "2023-01-31T07:45:39.921843",
   "environment_variables": {},
   "exception": null,
   "input_path": "__notebook__.ipynb",
   "output_path": "__notebook__.ipynb",
   "parameters": {},
   "start_time": "2023-01-31T07:37:50.333177",
   "version": "2.3.4"
  }
 },
 "nbformat": 4,
 "nbformat_minor": 5
}
