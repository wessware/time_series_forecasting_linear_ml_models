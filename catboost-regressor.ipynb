{
 "cells": [
  {
   "cell_type": "code",
   "execution_count": 1,
   "id": "41e90c5c",
   "metadata": {
    "_cell_guid": "b1076dfc-b9ad-4769-8c92-a6c4dae69d19",
    "_uuid": "8f2839f25d086af736a60e9eeb907d3b93b6e0e5",
    "execution": {
     "iopub.execute_input": "2023-02-06T14:40:20.018405Z",
     "iopub.status.busy": "2023-02-06T14:40:20.017920Z",
     "iopub.status.idle": "2023-02-06T14:40:21.469686Z",
     "shell.execute_reply": "2023-02-06T14:40:21.468370Z"
    },
    "papermill": {
     "duration": 1.463332,
     "end_time": "2023-02-06T14:40:21.472833",
     "exception": false,
     "start_time": "2023-02-06T14:40:20.009501",
     "status": "completed"
    },
    "tags": []
   },
   "outputs": [],
   "source": [
    "import pandas as pd\n",
    "\n",
    "import catboost as cb\n",
    "\n",
    "import matplotlib.pyplot as plt\n",
    "\n",
    "from sklearn.model_selection import cross_val_score\n",
    "from sklearn.metrics import mean_squared_error, mean_absolute_percentage_error\n",
    "from sklearn.model_selection import TimeSeriesSplit \n",
    "from sklearn.preprocessing import StandardScaler"
   ]
  },
  {
   "cell_type": "code",
   "execution_count": 2,
   "id": "f757328c",
   "metadata": {
    "execution": {
     "iopub.execute_input": "2023-02-06T14:40:21.484588Z",
     "iopub.status.busy": "2023-02-06T14:40:21.484084Z",
     "iopub.status.idle": "2023-02-06T14:40:21.502673Z",
     "shell.execute_reply": "2023-02-06T14:40:21.501327Z"
    },
    "papermill": {
     "duration": 0.027797,
     "end_time": "2023-02-06T14:40:21.505787",
     "exception": false,
     "start_time": "2023-02-06T14:40:21.477990",
     "status": "completed"
    },
    "tags": []
   },
   "outputs": [],
   "source": [
    "df = pd.read_csv('/kaggle/input/case-ih-time-series-data/data.csv')"
   ]
  },
  {
   "cell_type": "code",
   "execution_count": 3,
   "id": "988dd2ef",
   "metadata": {
    "execution": {
     "iopub.execute_input": "2023-02-06T14:40:21.517923Z",
     "iopub.status.busy": "2023-02-06T14:40:21.517427Z",
     "iopub.status.idle": "2023-02-06T14:40:21.538237Z",
     "shell.execute_reply": "2023-02-06T14:40:21.537046Z"
    },
    "papermill": {
     "duration": 0.029939,
     "end_time": "2023-02-06T14:40:21.540956",
     "exception": false,
     "start_time": "2023-02-06T14:40:21.511017",
     "status": "completed"
    },
    "tags": []
   },
   "outputs": [
    {
     "data": {
      "text/html": [
       "<div>\n",
       "<style scoped>\n",
       "    .dataframe tbody tr th:only-of-type {\n",
       "        vertical-align: middle;\n",
       "    }\n",
       "\n",
       "    .dataframe tbody tr th {\n",
       "        vertical-align: top;\n",
       "    }\n",
       "\n",
       "    .dataframe thead th {\n",
       "        text-align: right;\n",
       "    }\n",
       "</style>\n",
       "<table border=\"1\" class=\"dataframe\">\n",
       "  <thead>\n",
       "    <tr style=\"text-align: right;\">\n",
       "      <th></th>\n",
       "      <th>date</th>\n",
       "      <th>work</th>\n",
       "      <th>income</th>\n",
       "    </tr>\n",
       "  </thead>\n",
       "  <tbody>\n",
       "    <tr>\n",
       "      <th>0</th>\n",
       "      <td>Thursday, September 30, 2021</td>\n",
       "      <td>2</td>\n",
       "      <td>2100</td>\n",
       "    </tr>\n",
       "    <tr>\n",
       "      <th>1</th>\n",
       "      <td>Sunday, October 03, 2021</td>\n",
       "      <td>1</td>\n",
       "      <td>3600</td>\n",
       "    </tr>\n",
       "    <tr>\n",
       "      <th>2</th>\n",
       "      <td>Monday, October 04, 2021</td>\n",
       "      <td>1</td>\n",
       "      <td>4000</td>\n",
       "    </tr>\n",
       "    <tr>\n",
       "      <th>3</th>\n",
       "      <td>Tuesday, October 05, 2021</td>\n",
       "      <td>1</td>\n",
       "      <td>7900</td>\n",
       "    </tr>\n",
       "    <tr>\n",
       "      <th>4</th>\n",
       "      <td>Wednesday, October 06, 2021</td>\n",
       "      <td>1</td>\n",
       "      <td>7500</td>\n",
       "    </tr>\n",
       "  </tbody>\n",
       "</table>\n",
       "</div>"
      ],
      "text/plain": [
       "                           date  work  income\n",
       "0  Thursday, September 30, 2021     2    2100\n",
       "1      Sunday, October 03, 2021     1    3600\n",
       "2      Monday, October 04, 2021     1    4000\n",
       "3     Tuesday, October 05, 2021     1    7900\n",
       "4   Wednesday, October 06, 2021     1    7500"
      ]
     },
     "execution_count": 3,
     "metadata": {},
     "output_type": "execute_result"
    }
   ],
   "source": [
    "df.head()"
   ]
  },
  {
   "cell_type": "code",
   "execution_count": 4,
   "id": "ad1c831e",
   "metadata": {
    "execution": {
     "iopub.execute_input": "2023-02-06T14:40:21.553167Z",
     "iopub.status.busy": "2023-02-06T14:40:21.552682Z",
     "iopub.status.idle": "2023-02-06T14:40:21.594817Z",
     "shell.execute_reply": "2023-02-06T14:40:21.593582Z"
    },
    "papermill": {
     "duration": 0.051602,
     "end_time": "2023-02-06T14:40:21.597599",
     "exception": false,
     "start_time": "2023-02-06T14:40:21.545997",
     "status": "completed"
    },
    "tags": []
   },
   "outputs": [],
   "source": [
    "df['date'] = pd.to_datetime(df['date'])"
   ]
  },
  {
   "cell_type": "code",
   "execution_count": 5,
   "id": "8788dcdd",
   "metadata": {
    "execution": {
     "iopub.execute_input": "2023-02-06T14:40:21.610910Z",
     "iopub.status.busy": "2023-02-06T14:40:21.609802Z",
     "iopub.status.idle": "2023-02-06T14:40:21.616099Z",
     "shell.execute_reply": "2023-02-06T14:40:21.614981Z"
    },
    "papermill": {
     "duration": 0.015745,
     "end_time": "2023-02-06T14:40:21.618745",
     "exception": false,
     "start_time": "2023-02-06T14:40:21.603000",
     "status": "completed"
    },
    "tags": []
   },
   "outputs": [],
   "source": [
    "data = pd.DataFrame(df.income.copy())"
   ]
  },
  {
   "cell_type": "code",
   "execution_count": 6,
   "id": "4e223f61",
   "metadata": {
    "execution": {
     "iopub.execute_input": "2023-02-06T14:40:21.631047Z",
     "iopub.status.busy": "2023-02-06T14:40:21.630614Z",
     "iopub.status.idle": "2023-02-06T14:40:21.635091Z",
     "shell.execute_reply": "2023-02-06T14:40:21.634191Z"
    },
    "papermill": {
     "duration": 0.013195,
     "end_time": "2023-02-06T14:40:21.637207",
     "exception": false,
     "start_time": "2023-02-06T14:40:21.624012",
     "status": "completed"
    },
    "tags": []
   },
   "outputs": [],
   "source": [
    "data.columns = [\"y\"]"
   ]
  },
  {
   "cell_type": "code",
   "execution_count": 7,
   "id": "4028d7d6",
   "metadata": {
    "execution": {
     "iopub.execute_input": "2023-02-06T14:40:21.649327Z",
     "iopub.status.busy": "2023-02-06T14:40:21.648587Z",
     "iopub.status.idle": "2023-02-06T14:40:21.657440Z",
     "shell.execute_reply": "2023-02-06T14:40:21.656136Z"
    },
    "papermill": {
     "duration": 0.017531,
     "end_time": "2023-02-06T14:40:21.659769",
     "exception": false,
     "start_time": "2023-02-06T14:40:21.642238",
     "status": "completed"
    },
    "tags": []
   },
   "outputs": [
    {
     "data": {
      "text/html": [
       "<div>\n",
       "<style scoped>\n",
       "    .dataframe tbody tr th:only-of-type {\n",
       "        vertical-align: middle;\n",
       "    }\n",
       "\n",
       "    .dataframe tbody tr th {\n",
       "        vertical-align: top;\n",
       "    }\n",
       "\n",
       "    .dataframe thead th {\n",
       "        text-align: right;\n",
       "    }\n",
       "</style>\n",
       "<table border=\"1\" class=\"dataframe\">\n",
       "  <thead>\n",
       "    <tr style=\"text-align: right;\">\n",
       "      <th></th>\n",
       "      <th>y</th>\n",
       "    </tr>\n",
       "  </thead>\n",
       "  <tbody>\n",
       "    <tr>\n",
       "      <th>0</th>\n",
       "      <td>2100</td>\n",
       "    </tr>\n",
       "    <tr>\n",
       "      <th>1</th>\n",
       "      <td>3600</td>\n",
       "    </tr>\n",
       "    <tr>\n",
       "      <th>2</th>\n",
       "      <td>4000</td>\n",
       "    </tr>\n",
       "    <tr>\n",
       "      <th>3</th>\n",
       "      <td>7900</td>\n",
       "    </tr>\n",
       "    <tr>\n",
       "      <th>4</th>\n",
       "      <td>7500</td>\n",
       "    </tr>\n",
       "  </tbody>\n",
       "</table>\n",
       "</div>"
      ],
      "text/plain": [
       "      y\n",
       "0  2100\n",
       "1  3600\n",
       "2  4000\n",
       "3  7900\n",
       "4  7500"
      ]
     },
     "execution_count": 7,
     "metadata": {},
     "output_type": "execute_result"
    }
   ],
   "source": [
    "data.head()"
   ]
  },
  {
   "cell_type": "code",
   "execution_count": 8,
   "id": "071416ba",
   "metadata": {
    "execution": {
     "iopub.execute_input": "2023-02-06T14:40:21.672182Z",
     "iopub.status.busy": "2023-02-06T14:40:21.671720Z",
     "iopub.status.idle": "2023-02-06T14:40:21.692550Z",
     "shell.execute_reply": "2023-02-06T14:40:21.691104Z"
    },
    "papermill": {
     "duration": 0.029918,
     "end_time": "2023-02-06T14:40:21.694941",
     "exception": false,
     "start_time": "2023-02-06T14:40:21.665023",
     "status": "completed"
    },
    "tags": []
   },
   "outputs": [],
   "source": [
    "for i in range(6, 25):\n",
    "    data[\"lag_{}\".format(i)] = data.y.shift(i)"
   ]
  },
  {
   "cell_type": "code",
   "execution_count": 9,
   "id": "eddb6ee9",
   "metadata": {
    "execution": {
     "iopub.execute_input": "2023-02-06T14:40:21.708243Z",
     "iopub.status.busy": "2023-02-06T14:40:21.707784Z",
     "iopub.status.idle": "2023-02-06T14:40:21.731571Z",
     "shell.execute_reply": "2023-02-06T14:40:21.730569Z"
    },
    "papermill": {
     "duration": 0.033401,
     "end_time": "2023-02-06T14:40:21.734049",
     "exception": false,
     "start_time": "2023-02-06T14:40:21.700648",
     "status": "completed"
    },
    "tags": []
   },
   "outputs": [
    {
     "data": {
      "text/html": [
       "<div>\n",
       "<style scoped>\n",
       "    .dataframe tbody tr th:only-of-type {\n",
       "        vertical-align: middle;\n",
       "    }\n",
       "\n",
       "    .dataframe tbody tr th {\n",
       "        vertical-align: top;\n",
       "    }\n",
       "\n",
       "    .dataframe thead th {\n",
       "        text-align: right;\n",
       "    }\n",
       "</style>\n",
       "<table border=\"1\" class=\"dataframe\">\n",
       "  <thead>\n",
       "    <tr style=\"text-align: right;\">\n",
       "      <th></th>\n",
       "      <th>y</th>\n",
       "      <th>lag_6</th>\n",
       "      <th>lag_7</th>\n",
       "      <th>lag_8</th>\n",
       "      <th>lag_9</th>\n",
       "      <th>lag_10</th>\n",
       "      <th>lag_11</th>\n",
       "      <th>lag_12</th>\n",
       "      <th>lag_13</th>\n",
       "      <th>lag_14</th>\n",
       "      <th>lag_15</th>\n",
       "      <th>lag_16</th>\n",
       "      <th>lag_17</th>\n",
       "      <th>lag_18</th>\n",
       "      <th>lag_19</th>\n",
       "      <th>lag_20</th>\n",
       "      <th>lag_21</th>\n",
       "      <th>lag_22</th>\n",
       "      <th>lag_23</th>\n",
       "      <th>lag_24</th>\n",
       "    </tr>\n",
       "  </thead>\n",
       "  <tbody>\n",
       "    <tr>\n",
       "      <th>0</th>\n",
       "      <td>2100</td>\n",
       "      <td>NaN</td>\n",
       "      <td>NaN</td>\n",
       "      <td>NaN</td>\n",
       "      <td>NaN</td>\n",
       "      <td>NaN</td>\n",
       "      <td>NaN</td>\n",
       "      <td>NaN</td>\n",
       "      <td>NaN</td>\n",
       "      <td>NaN</td>\n",
       "      <td>NaN</td>\n",
       "      <td>NaN</td>\n",
       "      <td>NaN</td>\n",
       "      <td>NaN</td>\n",
       "      <td>NaN</td>\n",
       "      <td>NaN</td>\n",
       "      <td>NaN</td>\n",
       "      <td>NaN</td>\n",
       "      <td>NaN</td>\n",
       "      <td>NaN</td>\n",
       "    </tr>\n",
       "    <tr>\n",
       "      <th>1</th>\n",
       "      <td>3600</td>\n",
       "      <td>NaN</td>\n",
       "      <td>NaN</td>\n",
       "      <td>NaN</td>\n",
       "      <td>NaN</td>\n",
       "      <td>NaN</td>\n",
       "      <td>NaN</td>\n",
       "      <td>NaN</td>\n",
       "      <td>NaN</td>\n",
       "      <td>NaN</td>\n",
       "      <td>NaN</td>\n",
       "      <td>NaN</td>\n",
       "      <td>NaN</td>\n",
       "      <td>NaN</td>\n",
       "      <td>NaN</td>\n",
       "      <td>NaN</td>\n",
       "      <td>NaN</td>\n",
       "      <td>NaN</td>\n",
       "      <td>NaN</td>\n",
       "      <td>NaN</td>\n",
       "    </tr>\n",
       "    <tr>\n",
       "      <th>2</th>\n",
       "      <td>4000</td>\n",
       "      <td>NaN</td>\n",
       "      <td>NaN</td>\n",
       "      <td>NaN</td>\n",
       "      <td>NaN</td>\n",
       "      <td>NaN</td>\n",
       "      <td>NaN</td>\n",
       "      <td>NaN</td>\n",
       "      <td>NaN</td>\n",
       "      <td>NaN</td>\n",
       "      <td>NaN</td>\n",
       "      <td>NaN</td>\n",
       "      <td>NaN</td>\n",
       "      <td>NaN</td>\n",
       "      <td>NaN</td>\n",
       "      <td>NaN</td>\n",
       "      <td>NaN</td>\n",
       "      <td>NaN</td>\n",
       "      <td>NaN</td>\n",
       "      <td>NaN</td>\n",
       "    </tr>\n",
       "    <tr>\n",
       "      <th>3</th>\n",
       "      <td>7900</td>\n",
       "      <td>NaN</td>\n",
       "      <td>NaN</td>\n",
       "      <td>NaN</td>\n",
       "      <td>NaN</td>\n",
       "      <td>NaN</td>\n",
       "      <td>NaN</td>\n",
       "      <td>NaN</td>\n",
       "      <td>NaN</td>\n",
       "      <td>NaN</td>\n",
       "      <td>NaN</td>\n",
       "      <td>NaN</td>\n",
       "      <td>NaN</td>\n",
       "      <td>NaN</td>\n",
       "      <td>NaN</td>\n",
       "      <td>NaN</td>\n",
       "      <td>NaN</td>\n",
       "      <td>NaN</td>\n",
       "      <td>NaN</td>\n",
       "      <td>NaN</td>\n",
       "    </tr>\n",
       "    <tr>\n",
       "      <th>4</th>\n",
       "      <td>7500</td>\n",
       "      <td>NaN</td>\n",
       "      <td>NaN</td>\n",
       "      <td>NaN</td>\n",
       "      <td>NaN</td>\n",
       "      <td>NaN</td>\n",
       "      <td>NaN</td>\n",
       "      <td>NaN</td>\n",
       "      <td>NaN</td>\n",
       "      <td>NaN</td>\n",
       "      <td>NaN</td>\n",
       "      <td>NaN</td>\n",
       "      <td>NaN</td>\n",
       "      <td>NaN</td>\n",
       "      <td>NaN</td>\n",
       "      <td>NaN</td>\n",
       "      <td>NaN</td>\n",
       "      <td>NaN</td>\n",
       "      <td>NaN</td>\n",
       "      <td>NaN</td>\n",
       "    </tr>\n",
       "  </tbody>\n",
       "</table>\n",
       "</div>"
      ],
      "text/plain": [
       "      y  lag_6  lag_7  lag_8  lag_9  lag_10  lag_11  lag_12  lag_13  lag_14  \\\n",
       "0  2100    NaN    NaN    NaN    NaN     NaN     NaN     NaN     NaN     NaN   \n",
       "1  3600    NaN    NaN    NaN    NaN     NaN     NaN     NaN     NaN     NaN   \n",
       "2  4000    NaN    NaN    NaN    NaN     NaN     NaN     NaN     NaN     NaN   \n",
       "3  7900    NaN    NaN    NaN    NaN     NaN     NaN     NaN     NaN     NaN   \n",
       "4  7500    NaN    NaN    NaN    NaN     NaN     NaN     NaN     NaN     NaN   \n",
       "\n",
       "   lag_15  lag_16  lag_17  lag_18  lag_19  lag_20  lag_21  lag_22  lag_23  \\\n",
       "0     NaN     NaN     NaN     NaN     NaN     NaN     NaN     NaN     NaN   \n",
       "1     NaN     NaN     NaN     NaN     NaN     NaN     NaN     NaN     NaN   \n",
       "2     NaN     NaN     NaN     NaN     NaN     NaN     NaN     NaN     NaN   \n",
       "3     NaN     NaN     NaN     NaN     NaN     NaN     NaN     NaN     NaN   \n",
       "4     NaN     NaN     NaN     NaN     NaN     NaN     NaN     NaN     NaN   \n",
       "\n",
       "   lag_24  \n",
       "0     NaN  \n",
       "1     NaN  \n",
       "2     NaN  \n",
       "3     NaN  \n",
       "4     NaN  "
      ]
     },
     "execution_count": 9,
     "metadata": {},
     "output_type": "execute_result"
    }
   ],
   "source": [
    "data.head()"
   ]
  },
  {
   "cell_type": "code",
   "execution_count": 10,
   "id": "59903cdb",
   "metadata": {
    "execution": {
     "iopub.execute_input": "2023-02-06T14:40:21.747884Z",
     "iopub.status.busy": "2023-02-06T14:40:21.746890Z",
     "iopub.status.idle": "2023-02-06T14:40:21.765237Z",
     "shell.execute_reply": "2023-02-06T14:40:21.764023Z"
    },
    "papermill": {
     "duration": 0.028447,
     "end_time": "2023-02-06T14:40:21.768201",
     "exception": false,
     "start_time": "2023-02-06T14:40:21.739754",
     "status": "completed"
    },
    "tags": []
   },
   "outputs": [],
   "source": [
    "x = data.dropna().drop(['y'], axis=1)\n",
    "\n",
    "y = data.dropna().y"
   ]
  },
  {
   "cell_type": "code",
   "execution_count": 11,
   "id": "bbb8aa9f",
   "metadata": {
    "execution": {
     "iopub.execute_input": "2023-02-06T14:40:21.781535Z",
     "iopub.status.busy": "2023-02-06T14:40:21.780716Z",
     "iopub.status.idle": "2023-02-06T14:40:21.810217Z",
     "shell.execute_reply": "2023-02-06T14:40:21.809027Z"
    },
    "papermill": {
     "duration": 0.039012,
     "end_time": "2023-02-06T14:40:21.812849",
     "exception": false,
     "start_time": "2023-02-06T14:40:21.773837",
     "status": "completed"
    },
    "tags": []
   },
   "outputs": [
    {
     "data": {
      "text/html": [
       "<div>\n",
       "<style scoped>\n",
       "    .dataframe tbody tr th:only-of-type {\n",
       "        vertical-align: middle;\n",
       "    }\n",
       "\n",
       "    .dataframe tbody tr th {\n",
       "        vertical-align: top;\n",
       "    }\n",
       "\n",
       "    .dataframe thead th {\n",
       "        text-align: right;\n",
       "    }\n",
       "</style>\n",
       "<table border=\"1\" class=\"dataframe\">\n",
       "  <thead>\n",
       "    <tr style=\"text-align: right;\">\n",
       "      <th></th>\n",
       "      <th>lag_6</th>\n",
       "      <th>lag_7</th>\n",
       "      <th>lag_8</th>\n",
       "      <th>lag_9</th>\n",
       "      <th>lag_10</th>\n",
       "      <th>lag_11</th>\n",
       "      <th>lag_12</th>\n",
       "      <th>lag_13</th>\n",
       "      <th>lag_14</th>\n",
       "      <th>lag_15</th>\n",
       "      <th>lag_16</th>\n",
       "      <th>lag_17</th>\n",
       "      <th>lag_18</th>\n",
       "      <th>lag_19</th>\n",
       "      <th>lag_20</th>\n",
       "      <th>lag_21</th>\n",
       "      <th>lag_22</th>\n",
       "      <th>lag_23</th>\n",
       "      <th>lag_24</th>\n",
       "    </tr>\n",
       "  </thead>\n",
       "  <tbody>\n",
       "    <tr>\n",
       "      <th>24</th>\n",
       "      <td>5600.0</td>\n",
       "      <td>6000.0</td>\n",
       "      <td>12500.0</td>\n",
       "      <td>9000.0</td>\n",
       "      <td>5600.0</td>\n",
       "      <td>10000.0</td>\n",
       "      <td>4200.0</td>\n",
       "      <td>5500.0</td>\n",
       "      <td>2600.0</td>\n",
       "      <td>8000.0</td>\n",
       "      <td>6800.0</td>\n",
       "      <td>5800.0</td>\n",
       "      <td>6700.0</td>\n",
       "      <td>10600.0</td>\n",
       "      <td>7500.0</td>\n",
       "      <td>7900.0</td>\n",
       "      <td>4000.0</td>\n",
       "      <td>3600.0</td>\n",
       "      <td>2100.0</td>\n",
       "    </tr>\n",
       "    <tr>\n",
       "      <th>25</th>\n",
       "      <td>2100.0</td>\n",
       "      <td>5600.0</td>\n",
       "      <td>6000.0</td>\n",
       "      <td>12500.0</td>\n",
       "      <td>9000.0</td>\n",
       "      <td>5600.0</td>\n",
       "      <td>10000.0</td>\n",
       "      <td>4200.0</td>\n",
       "      <td>5500.0</td>\n",
       "      <td>2600.0</td>\n",
       "      <td>8000.0</td>\n",
       "      <td>6800.0</td>\n",
       "      <td>5800.0</td>\n",
       "      <td>6700.0</td>\n",
       "      <td>10600.0</td>\n",
       "      <td>7500.0</td>\n",
       "      <td>7900.0</td>\n",
       "      <td>4000.0</td>\n",
       "      <td>3600.0</td>\n",
       "    </tr>\n",
       "    <tr>\n",
       "      <th>26</th>\n",
       "      <td>6400.0</td>\n",
       "      <td>2100.0</td>\n",
       "      <td>5600.0</td>\n",
       "      <td>6000.0</td>\n",
       "      <td>12500.0</td>\n",
       "      <td>9000.0</td>\n",
       "      <td>5600.0</td>\n",
       "      <td>10000.0</td>\n",
       "      <td>4200.0</td>\n",
       "      <td>5500.0</td>\n",
       "      <td>2600.0</td>\n",
       "      <td>8000.0</td>\n",
       "      <td>6800.0</td>\n",
       "      <td>5800.0</td>\n",
       "      <td>6700.0</td>\n",
       "      <td>10600.0</td>\n",
       "      <td>7500.0</td>\n",
       "      <td>7900.0</td>\n",
       "      <td>4000.0</td>\n",
       "    </tr>\n",
       "    <tr>\n",
       "      <th>27</th>\n",
       "      <td>2400.0</td>\n",
       "      <td>6400.0</td>\n",
       "      <td>2100.0</td>\n",
       "      <td>5600.0</td>\n",
       "      <td>6000.0</td>\n",
       "      <td>12500.0</td>\n",
       "      <td>9000.0</td>\n",
       "      <td>5600.0</td>\n",
       "      <td>10000.0</td>\n",
       "      <td>4200.0</td>\n",
       "      <td>5500.0</td>\n",
       "      <td>2600.0</td>\n",
       "      <td>8000.0</td>\n",
       "      <td>6800.0</td>\n",
       "      <td>5800.0</td>\n",
       "      <td>6700.0</td>\n",
       "      <td>10600.0</td>\n",
       "      <td>7500.0</td>\n",
       "      <td>7900.0</td>\n",
       "    </tr>\n",
       "    <tr>\n",
       "      <th>28</th>\n",
       "      <td>2000.0</td>\n",
       "      <td>2400.0</td>\n",
       "      <td>6400.0</td>\n",
       "      <td>2100.0</td>\n",
       "      <td>5600.0</td>\n",
       "      <td>6000.0</td>\n",
       "      <td>12500.0</td>\n",
       "      <td>9000.0</td>\n",
       "      <td>5600.0</td>\n",
       "      <td>10000.0</td>\n",
       "      <td>4200.0</td>\n",
       "      <td>5500.0</td>\n",
       "      <td>2600.0</td>\n",
       "      <td>8000.0</td>\n",
       "      <td>6800.0</td>\n",
       "      <td>5800.0</td>\n",
       "      <td>6700.0</td>\n",
       "      <td>10600.0</td>\n",
       "      <td>7500.0</td>\n",
       "    </tr>\n",
       "  </tbody>\n",
       "</table>\n",
       "</div>"
      ],
      "text/plain": [
       "     lag_6   lag_7    lag_8    lag_9   lag_10   lag_11   lag_12   lag_13  \\\n",
       "24  5600.0  6000.0  12500.0   9000.0   5600.0  10000.0   4200.0   5500.0   \n",
       "25  2100.0  5600.0   6000.0  12500.0   9000.0   5600.0  10000.0   4200.0   \n",
       "26  6400.0  2100.0   5600.0   6000.0  12500.0   9000.0   5600.0  10000.0   \n",
       "27  2400.0  6400.0   2100.0   5600.0   6000.0  12500.0   9000.0   5600.0   \n",
       "28  2000.0  2400.0   6400.0   2100.0   5600.0   6000.0  12500.0   9000.0   \n",
       "\n",
       "     lag_14   lag_15  lag_16  lag_17  lag_18   lag_19   lag_20   lag_21  \\\n",
       "24   2600.0   8000.0  6800.0  5800.0  6700.0  10600.0   7500.0   7900.0   \n",
       "25   5500.0   2600.0  8000.0  6800.0  5800.0   6700.0  10600.0   7500.0   \n",
       "26   4200.0   5500.0  2600.0  8000.0  6800.0   5800.0   6700.0  10600.0   \n",
       "27  10000.0   4200.0  5500.0  2600.0  8000.0   6800.0   5800.0   6700.0   \n",
       "28   5600.0  10000.0  4200.0  5500.0  2600.0   8000.0   6800.0   5800.0   \n",
       "\n",
       "     lag_22   lag_23  lag_24  \n",
       "24   4000.0   3600.0  2100.0  \n",
       "25   7900.0   4000.0  3600.0  \n",
       "26   7500.0   7900.0  4000.0  \n",
       "27  10600.0   7500.0  7900.0  \n",
       "28   6700.0  10600.0  7500.0  "
      ]
     },
     "execution_count": 11,
     "metadata": {},
     "output_type": "execute_result"
    }
   ],
   "source": [
    "x.head()"
   ]
  },
  {
   "cell_type": "code",
   "execution_count": 12,
   "id": "d341c974",
   "metadata": {
    "execution": {
     "iopub.execute_input": "2023-02-06T14:40:21.826475Z",
     "iopub.status.busy": "2023-02-06T14:40:21.825998Z",
     "iopub.status.idle": "2023-02-06T14:40:21.830991Z",
     "shell.execute_reply": "2023-02-06T14:40:21.830055Z"
    },
    "papermill": {
     "duration": 0.014512,
     "end_time": "2023-02-06T14:40:21.833293",
     "exception": false,
     "start_time": "2023-02-06T14:40:21.818781",
     "status": "completed"
    },
    "tags": []
   },
   "outputs": [],
   "source": [
    "tscv = TimeSeriesSplit(n_splits=5)"
   ]
  },
  {
   "cell_type": "code",
   "execution_count": 13,
   "id": "eae6e8ca",
   "metadata": {
    "execution": {
     "iopub.execute_input": "2023-02-06T14:40:21.847566Z",
     "iopub.status.busy": "2023-02-06T14:40:21.846512Z",
     "iopub.status.idle": "2023-02-06T14:40:21.853104Z",
     "shell.execute_reply": "2023-02-06T14:40:21.852158Z"
    },
    "papermill": {
     "duration": 0.01618,
     "end_time": "2023-02-06T14:40:21.855464",
     "exception": false,
     "start_time": "2023-02-06T14:40:21.839284",
     "status": "completed"
    },
    "tags": []
   },
   "outputs": [],
   "source": [
    "def timeseries_train_test_split(x, y, test_size):\n",
    "    \n",
    "    test_index = int(len(x)*(1-test_size))\n",
    "    \n",
    "    x_train = x.iloc[:test_index]\n",
    "    y_train = y.iloc[:test_index]\n",
    "    \n",
    "    x_test = x.iloc[test_index:]\n",
    "    y_test = y.iloc[test_index:]\n",
    "    \n",
    "    return x_train, x_test, y_train, y_test"
   ]
  },
  {
   "cell_type": "code",
   "execution_count": 14,
   "id": "0ea21fd9",
   "metadata": {
    "execution": {
     "iopub.execute_input": "2023-02-06T14:40:21.869348Z",
     "iopub.status.busy": "2023-02-06T14:40:21.868647Z",
     "iopub.status.idle": "2023-02-06T14:40:21.874155Z",
     "shell.execute_reply": "2023-02-06T14:40:21.873341Z"
    },
    "papermill": {
     "duration": 0.015071,
     "end_time": "2023-02-06T14:40:21.876336",
     "exception": false,
     "start_time": "2023-02-06T14:40:21.861265",
     "status": "completed"
    },
    "tags": []
   },
   "outputs": [],
   "source": [
    "x_train, x_test, y_train, y_test = timeseries_train_test_split(x, y, test_size=0.3)"
   ]
  },
  {
   "cell_type": "code",
   "execution_count": 15,
   "id": "2b1e0790",
   "metadata": {
    "execution": {
     "iopub.execute_input": "2023-02-06T14:40:21.889768Z",
     "iopub.status.busy": "2023-02-06T14:40:21.889079Z",
     "iopub.status.idle": "2023-02-06T14:40:21.896562Z",
     "shell.execute_reply": "2023-02-06T14:40:21.894947Z"
    },
    "papermill": {
     "duration": 0.016934,
     "end_time": "2023-02-06T14:40:21.898881",
     "exception": false,
     "start_time": "2023-02-06T14:40:21.881947",
     "status": "completed"
    },
    "tags": []
   },
   "outputs": [
    {
     "name": "stdout",
     "output_type": "stream",
     "text": [
      "(117, 19)\n",
      "(51, 19)\n",
      "(117,)\n",
      "(51,)\n"
     ]
    }
   ],
   "source": [
    "print(x_train.shape)\n",
    "print(x_test.shape)\n",
    "print(y_train.shape)\n",
    "print(y_test.shape)"
   ]
  },
  {
   "cell_type": "code",
   "execution_count": 16,
   "id": "c1ffef47",
   "metadata": {
    "execution": {
     "iopub.execute_input": "2023-02-06T14:40:21.912544Z",
     "iopub.status.busy": "2023-02-06T14:40:21.912082Z",
     "iopub.status.idle": "2023-02-06T14:40:21.947562Z",
     "shell.execute_reply": "2023-02-06T14:40:21.946610Z"
    },
    "papermill": {
     "duration": 0.045385,
     "end_time": "2023-02-06T14:40:21.950163",
     "exception": false,
     "start_time": "2023-02-06T14:40:21.904778",
     "status": "completed"
    },
    "tags": []
   },
   "outputs": [],
   "source": [
    "train_dataset = cb.Pool(x_train, y_train) \n",
    "test_dataset = cb.Pool(x_test, y_test)"
   ]
  },
  {
   "cell_type": "code",
   "execution_count": null,
   "id": "445223b2",
   "metadata": {
    "papermill": {
     "duration": 0.005333,
     "end_time": "2023-02-06T14:40:21.961204",
     "exception": false,
     "start_time": "2023-02-06T14:40:21.955871",
     "status": "completed"
    },
    "tags": []
   },
   "outputs": [],
   "source": []
  }
 ],
 "metadata": {
  "kernelspec": {
   "display_name": "Python 3",
   "language": "python",
   "name": "python3"
  },
  "language_info": {
   "codemirror_mode": {
    "name": "ipython",
    "version": 3
   },
   "file_extension": ".py",
   "mimetype": "text/x-python",
   "name": "python",
   "nbconvert_exporter": "python",
   "pygments_lexer": "ipython3",
   "version": "3.7.12"
  },
  "papermill": {
   "default_parameters": {},
   "duration": 11.619224,
   "end_time": "2023-02-06T14:40:22.789300",
   "environment_variables": {},
   "exception": null,
   "input_path": "__notebook__.ipynb",
   "output_path": "__notebook__.ipynb",
   "parameters": {},
   "start_time": "2023-02-06T14:40:11.170076",
   "version": "2.3.4"
  }
 },
 "nbformat": 4,
 "nbformat_minor": 5
}
