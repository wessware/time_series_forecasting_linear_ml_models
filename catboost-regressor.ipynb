{
 "cells": [
  {
   "cell_type": "code",
   "execution_count": 1,
   "id": "9b709d4d",
   "metadata": {
    "_cell_guid": "b1076dfc-b9ad-4769-8c92-a6c4dae69d19",
    "_uuid": "8f2839f25d086af736a60e9eeb907d3b93b6e0e5",
    "execution": {
     "iopub.execute_input": "2023-02-06T14:38:59.228641Z",
     "iopub.status.busy": "2023-02-06T14:38:59.227619Z",
     "iopub.status.idle": "2023-02-06T14:39:00.633591Z",
     "shell.execute_reply": "2023-02-06T14:39:00.632518Z"
    },
    "papermill": {
     "duration": 1.416592,
     "end_time": "2023-02-06T14:39:00.636657",
     "exception": false,
     "start_time": "2023-02-06T14:38:59.220065",
     "status": "completed"
    },
    "tags": []
   },
   "outputs": [],
   "source": [
    "import pandas as pd\n",
    "\n",
    "import catboost as cb\n",
    "\n",
    "import matplotlib.pyplot as plt\n",
    "\n",
    "from sklearn.model_selection import cross_val_score\n",
    "from sklearn.metrics import mean_squared_error, mean_absolute_percentage_error\n",
    "from sklearn.model_selection import TimeSeriesSplit \n",
    "from sklearn.preprocessing import StandardScaler"
   ]
  },
  {
   "cell_type": "code",
   "execution_count": 2,
   "id": "2ad1fca3",
   "metadata": {
    "execution": {
     "iopub.execute_input": "2023-02-06T14:39:00.647750Z",
     "iopub.status.busy": "2023-02-06T14:39:00.646872Z",
     "iopub.status.idle": "2023-02-06T14:39:00.664308Z",
     "shell.execute_reply": "2023-02-06T14:39:00.663426Z"
    },
    "papermill": {
     "duration": 0.025816,
     "end_time": "2023-02-06T14:39:00.667013",
     "exception": false,
     "start_time": "2023-02-06T14:39:00.641197",
     "status": "completed"
    },
    "tags": []
   },
   "outputs": [],
   "source": [
    "df = pd.read_csv('/kaggle/input/case-ih-time-series-data/data.csv')"
   ]
  },
  {
   "cell_type": "code",
   "execution_count": 3,
   "id": "10264b87",
   "metadata": {
    "execution": {
     "iopub.execute_input": "2023-02-06T14:39:00.677644Z",
     "iopub.status.busy": "2023-02-06T14:39:00.676705Z",
     "iopub.status.idle": "2023-02-06T14:39:00.696802Z",
     "shell.execute_reply": "2023-02-06T14:39:00.695494Z"
    },
    "papermill": {
     "duration": 0.028802,
     "end_time": "2023-02-06T14:39:00.700078",
     "exception": false,
     "start_time": "2023-02-06T14:39:00.671276",
     "status": "completed"
    },
    "tags": []
   },
   "outputs": [
    {
     "data": {
      "text/html": [
       "<div>\n",
       "<style scoped>\n",
       "    .dataframe tbody tr th:only-of-type {\n",
       "        vertical-align: middle;\n",
       "    }\n",
       "\n",
       "    .dataframe tbody tr th {\n",
       "        vertical-align: top;\n",
       "    }\n",
       "\n",
       "    .dataframe thead th {\n",
       "        text-align: right;\n",
       "    }\n",
       "</style>\n",
       "<table border=\"1\" class=\"dataframe\">\n",
       "  <thead>\n",
       "    <tr style=\"text-align: right;\">\n",
       "      <th></th>\n",
       "      <th>date</th>\n",
       "      <th>work</th>\n",
       "      <th>income</th>\n",
       "    </tr>\n",
       "  </thead>\n",
       "  <tbody>\n",
       "    <tr>\n",
       "      <th>0</th>\n",
       "      <td>Thursday, September 30, 2021</td>\n",
       "      <td>2</td>\n",
       "      <td>2100</td>\n",
       "    </tr>\n",
       "    <tr>\n",
       "      <th>1</th>\n",
       "      <td>Sunday, October 03, 2021</td>\n",
       "      <td>1</td>\n",
       "      <td>3600</td>\n",
       "    </tr>\n",
       "    <tr>\n",
       "      <th>2</th>\n",
       "      <td>Monday, October 04, 2021</td>\n",
       "      <td>1</td>\n",
       "      <td>4000</td>\n",
       "    </tr>\n",
       "    <tr>\n",
       "      <th>3</th>\n",
       "      <td>Tuesday, October 05, 2021</td>\n",
       "      <td>1</td>\n",
       "      <td>7900</td>\n",
       "    </tr>\n",
       "    <tr>\n",
       "      <th>4</th>\n",
       "      <td>Wednesday, October 06, 2021</td>\n",
       "      <td>1</td>\n",
       "      <td>7500</td>\n",
       "    </tr>\n",
       "  </tbody>\n",
       "</table>\n",
       "</div>"
      ],
      "text/plain": [
       "                           date  work  income\n",
       "0  Thursday, September 30, 2021     2    2100\n",
       "1      Sunday, October 03, 2021     1    3600\n",
       "2      Monday, October 04, 2021     1    4000\n",
       "3     Tuesday, October 05, 2021     1    7900\n",
       "4   Wednesday, October 06, 2021     1    7500"
      ]
     },
     "execution_count": 3,
     "metadata": {},
     "output_type": "execute_result"
    }
   ],
   "source": [
    "df.head()"
   ]
  },
  {
   "cell_type": "code",
   "execution_count": 4,
   "id": "70ec9d98",
   "metadata": {
    "execution": {
     "iopub.execute_input": "2023-02-06T14:39:00.710946Z",
     "iopub.status.busy": "2023-02-06T14:39:00.710539Z",
     "iopub.status.idle": "2023-02-06T14:39:00.749616Z",
     "shell.execute_reply": "2023-02-06T14:39:00.748477Z"
    },
    "papermill": {
     "duration": 0.047537,
     "end_time": "2023-02-06T14:39:00.752355",
     "exception": false,
     "start_time": "2023-02-06T14:39:00.704818",
     "status": "completed"
    },
    "tags": []
   },
   "outputs": [],
   "source": [
    "df['date'] = pd.to_datetime(df['date'])"
   ]
  },
  {
   "cell_type": "code",
   "execution_count": 5,
   "id": "fd7d85d2",
   "metadata": {
    "execution": {
     "iopub.execute_input": "2023-02-06T14:39:00.763002Z",
     "iopub.status.busy": "2023-02-06T14:39:00.762563Z",
     "iopub.status.idle": "2023-02-06T14:39:00.768663Z",
     "shell.execute_reply": "2023-02-06T14:39:00.767514Z"
    },
    "papermill": {
     "duration": 0.014413,
     "end_time": "2023-02-06T14:39:00.771305",
     "exception": false,
     "start_time": "2023-02-06T14:39:00.756892",
     "status": "completed"
    },
    "tags": []
   },
   "outputs": [],
   "source": [
    "data = pd.DataFrame(df.income.copy())"
   ]
  },
  {
   "cell_type": "code",
   "execution_count": 6,
   "id": "079e2661",
   "metadata": {
    "execution": {
     "iopub.execute_input": "2023-02-06T14:39:00.782527Z",
     "iopub.status.busy": "2023-02-06T14:39:00.782101Z",
     "iopub.status.idle": "2023-02-06T14:39:00.787267Z",
     "shell.execute_reply": "2023-02-06T14:39:00.786023Z"
    },
    "papermill": {
     "duration": 0.013713,
     "end_time": "2023-02-06T14:39:00.789561",
     "exception": false,
     "start_time": "2023-02-06T14:39:00.775848",
     "status": "completed"
    },
    "tags": []
   },
   "outputs": [],
   "source": [
    "data.columns = [\"y\"]"
   ]
  },
  {
   "cell_type": "code",
   "execution_count": 7,
   "id": "96f943f0",
   "metadata": {
    "execution": {
     "iopub.execute_input": "2023-02-06T14:39:00.801151Z",
     "iopub.status.busy": "2023-02-06T14:39:00.800305Z",
     "iopub.status.idle": "2023-02-06T14:39:00.810326Z",
     "shell.execute_reply": "2023-02-06T14:39:00.809178Z"
    },
    "papermill": {
     "duration": 0.018782,
     "end_time": "2023-02-06T14:39:00.813150",
     "exception": false,
     "start_time": "2023-02-06T14:39:00.794368",
     "status": "completed"
    },
    "tags": []
   },
   "outputs": [
    {
     "data": {
      "text/html": [
       "<div>\n",
       "<style scoped>\n",
       "    .dataframe tbody tr th:only-of-type {\n",
       "        vertical-align: middle;\n",
       "    }\n",
       "\n",
       "    .dataframe tbody tr th {\n",
       "        vertical-align: top;\n",
       "    }\n",
       "\n",
       "    .dataframe thead th {\n",
       "        text-align: right;\n",
       "    }\n",
       "</style>\n",
       "<table border=\"1\" class=\"dataframe\">\n",
       "  <thead>\n",
       "    <tr style=\"text-align: right;\">\n",
       "      <th></th>\n",
       "      <th>y</th>\n",
       "    </tr>\n",
       "  </thead>\n",
       "  <tbody>\n",
       "    <tr>\n",
       "      <th>0</th>\n",
       "      <td>2100</td>\n",
       "    </tr>\n",
       "    <tr>\n",
       "      <th>1</th>\n",
       "      <td>3600</td>\n",
       "    </tr>\n",
       "    <tr>\n",
       "      <th>2</th>\n",
       "      <td>4000</td>\n",
       "    </tr>\n",
       "    <tr>\n",
       "      <th>3</th>\n",
       "      <td>7900</td>\n",
       "    </tr>\n",
       "    <tr>\n",
       "      <th>4</th>\n",
       "      <td>7500</td>\n",
       "    </tr>\n",
       "  </tbody>\n",
       "</table>\n",
       "</div>"
      ],
      "text/plain": [
       "      y\n",
       "0  2100\n",
       "1  3600\n",
       "2  4000\n",
       "3  7900\n",
       "4  7500"
      ]
     },
     "execution_count": 7,
     "metadata": {},
     "output_type": "execute_result"
    }
   ],
   "source": [
    "data.head()"
   ]
  },
  {
   "cell_type": "code",
   "execution_count": 8,
   "id": "edbad3f8",
   "metadata": {
    "execution": {
     "iopub.execute_input": "2023-02-06T14:39:00.824898Z",
     "iopub.status.busy": "2023-02-06T14:39:00.824039Z",
     "iopub.status.idle": "2023-02-06T14:39:00.840689Z",
     "shell.execute_reply": "2023-02-06T14:39:00.839532Z"
    },
    "papermill": {
     "duration": 0.02568,
     "end_time": "2023-02-06T14:39:00.843498",
     "exception": false,
     "start_time": "2023-02-06T14:39:00.817818",
     "status": "completed"
    },
    "tags": []
   },
   "outputs": [],
   "source": [
    "for i in range(6, 25):\n",
    "    data[\"lag_{}\".format(i)] = data.y.shift(i)"
   ]
  },
  {
   "cell_type": "code",
   "execution_count": 9,
   "id": "7e458dc9",
   "metadata": {
    "execution": {
     "iopub.execute_input": "2023-02-06T14:39:00.855222Z",
     "iopub.status.busy": "2023-02-06T14:39:00.854413Z",
     "iopub.status.idle": "2023-02-06T14:39:00.877385Z",
     "shell.execute_reply": "2023-02-06T14:39:00.876175Z"
    },
    "papermill": {
     "duration": 0.03162,
     "end_time": "2023-02-06T14:39:00.879842",
     "exception": false,
     "start_time": "2023-02-06T14:39:00.848222",
     "status": "completed"
    },
    "tags": []
   },
   "outputs": [
    {
     "data": {
      "text/html": [
       "<div>\n",
       "<style scoped>\n",
       "    .dataframe tbody tr th:only-of-type {\n",
       "        vertical-align: middle;\n",
       "    }\n",
       "\n",
       "    .dataframe tbody tr th {\n",
       "        vertical-align: top;\n",
       "    }\n",
       "\n",
       "    .dataframe thead th {\n",
       "        text-align: right;\n",
       "    }\n",
       "</style>\n",
       "<table border=\"1\" class=\"dataframe\">\n",
       "  <thead>\n",
       "    <tr style=\"text-align: right;\">\n",
       "      <th></th>\n",
       "      <th>y</th>\n",
       "      <th>lag_6</th>\n",
       "      <th>lag_7</th>\n",
       "      <th>lag_8</th>\n",
       "      <th>lag_9</th>\n",
       "      <th>lag_10</th>\n",
       "      <th>lag_11</th>\n",
       "      <th>lag_12</th>\n",
       "      <th>lag_13</th>\n",
       "      <th>lag_14</th>\n",
       "      <th>lag_15</th>\n",
       "      <th>lag_16</th>\n",
       "      <th>lag_17</th>\n",
       "      <th>lag_18</th>\n",
       "      <th>lag_19</th>\n",
       "      <th>lag_20</th>\n",
       "      <th>lag_21</th>\n",
       "      <th>lag_22</th>\n",
       "      <th>lag_23</th>\n",
       "      <th>lag_24</th>\n",
       "    </tr>\n",
       "  </thead>\n",
       "  <tbody>\n",
       "    <tr>\n",
       "      <th>0</th>\n",
       "      <td>2100</td>\n",
       "      <td>NaN</td>\n",
       "      <td>NaN</td>\n",
       "      <td>NaN</td>\n",
       "      <td>NaN</td>\n",
       "      <td>NaN</td>\n",
       "      <td>NaN</td>\n",
       "      <td>NaN</td>\n",
       "      <td>NaN</td>\n",
       "      <td>NaN</td>\n",
       "      <td>NaN</td>\n",
       "      <td>NaN</td>\n",
       "      <td>NaN</td>\n",
       "      <td>NaN</td>\n",
       "      <td>NaN</td>\n",
       "      <td>NaN</td>\n",
       "      <td>NaN</td>\n",
       "      <td>NaN</td>\n",
       "      <td>NaN</td>\n",
       "      <td>NaN</td>\n",
       "    </tr>\n",
       "    <tr>\n",
       "      <th>1</th>\n",
       "      <td>3600</td>\n",
       "      <td>NaN</td>\n",
       "      <td>NaN</td>\n",
       "      <td>NaN</td>\n",
       "      <td>NaN</td>\n",
       "      <td>NaN</td>\n",
       "      <td>NaN</td>\n",
       "      <td>NaN</td>\n",
       "      <td>NaN</td>\n",
       "      <td>NaN</td>\n",
       "      <td>NaN</td>\n",
       "      <td>NaN</td>\n",
       "      <td>NaN</td>\n",
       "      <td>NaN</td>\n",
       "      <td>NaN</td>\n",
       "      <td>NaN</td>\n",
       "      <td>NaN</td>\n",
       "      <td>NaN</td>\n",
       "      <td>NaN</td>\n",
       "      <td>NaN</td>\n",
       "    </tr>\n",
       "    <tr>\n",
       "      <th>2</th>\n",
       "      <td>4000</td>\n",
       "      <td>NaN</td>\n",
       "      <td>NaN</td>\n",
       "      <td>NaN</td>\n",
       "      <td>NaN</td>\n",
       "      <td>NaN</td>\n",
       "      <td>NaN</td>\n",
       "      <td>NaN</td>\n",
       "      <td>NaN</td>\n",
       "      <td>NaN</td>\n",
       "      <td>NaN</td>\n",
       "      <td>NaN</td>\n",
       "      <td>NaN</td>\n",
       "      <td>NaN</td>\n",
       "      <td>NaN</td>\n",
       "      <td>NaN</td>\n",
       "      <td>NaN</td>\n",
       "      <td>NaN</td>\n",
       "      <td>NaN</td>\n",
       "      <td>NaN</td>\n",
       "    </tr>\n",
       "    <tr>\n",
       "      <th>3</th>\n",
       "      <td>7900</td>\n",
       "      <td>NaN</td>\n",
       "      <td>NaN</td>\n",
       "      <td>NaN</td>\n",
       "      <td>NaN</td>\n",
       "      <td>NaN</td>\n",
       "      <td>NaN</td>\n",
       "      <td>NaN</td>\n",
       "      <td>NaN</td>\n",
       "      <td>NaN</td>\n",
       "      <td>NaN</td>\n",
       "      <td>NaN</td>\n",
       "      <td>NaN</td>\n",
       "      <td>NaN</td>\n",
       "      <td>NaN</td>\n",
       "      <td>NaN</td>\n",
       "      <td>NaN</td>\n",
       "      <td>NaN</td>\n",
       "      <td>NaN</td>\n",
       "      <td>NaN</td>\n",
       "    </tr>\n",
       "    <tr>\n",
       "      <th>4</th>\n",
       "      <td>7500</td>\n",
       "      <td>NaN</td>\n",
       "      <td>NaN</td>\n",
       "      <td>NaN</td>\n",
       "      <td>NaN</td>\n",
       "      <td>NaN</td>\n",
       "      <td>NaN</td>\n",
       "      <td>NaN</td>\n",
       "      <td>NaN</td>\n",
       "      <td>NaN</td>\n",
       "      <td>NaN</td>\n",
       "      <td>NaN</td>\n",
       "      <td>NaN</td>\n",
       "      <td>NaN</td>\n",
       "      <td>NaN</td>\n",
       "      <td>NaN</td>\n",
       "      <td>NaN</td>\n",
       "      <td>NaN</td>\n",
       "      <td>NaN</td>\n",
       "      <td>NaN</td>\n",
       "    </tr>\n",
       "  </tbody>\n",
       "</table>\n",
       "</div>"
      ],
      "text/plain": [
       "      y  lag_6  lag_7  lag_8  lag_9  lag_10  lag_11  lag_12  lag_13  lag_14  \\\n",
       "0  2100    NaN    NaN    NaN    NaN     NaN     NaN     NaN     NaN     NaN   \n",
       "1  3600    NaN    NaN    NaN    NaN     NaN     NaN     NaN     NaN     NaN   \n",
       "2  4000    NaN    NaN    NaN    NaN     NaN     NaN     NaN     NaN     NaN   \n",
       "3  7900    NaN    NaN    NaN    NaN     NaN     NaN     NaN     NaN     NaN   \n",
       "4  7500    NaN    NaN    NaN    NaN     NaN     NaN     NaN     NaN     NaN   \n",
       "\n",
       "   lag_15  lag_16  lag_17  lag_18  lag_19  lag_20  lag_21  lag_22  lag_23  \\\n",
       "0     NaN     NaN     NaN     NaN     NaN     NaN     NaN     NaN     NaN   \n",
       "1     NaN     NaN     NaN     NaN     NaN     NaN     NaN     NaN     NaN   \n",
       "2     NaN     NaN     NaN     NaN     NaN     NaN     NaN     NaN     NaN   \n",
       "3     NaN     NaN     NaN     NaN     NaN     NaN     NaN     NaN     NaN   \n",
       "4     NaN     NaN     NaN     NaN     NaN     NaN     NaN     NaN     NaN   \n",
       "\n",
       "   lag_24  \n",
       "0     NaN  \n",
       "1     NaN  \n",
       "2     NaN  \n",
       "3     NaN  \n",
       "4     NaN  "
      ]
     },
     "execution_count": 9,
     "metadata": {},
     "output_type": "execute_result"
    }
   ],
   "source": [
    "data.head()"
   ]
  },
  {
   "cell_type": "code",
   "execution_count": 10,
   "id": "c6f501f4",
   "metadata": {
    "execution": {
     "iopub.execute_input": "2023-02-06T14:39:00.892189Z",
     "iopub.status.busy": "2023-02-06T14:39:00.891051Z",
     "iopub.status.idle": "2023-02-06T14:39:00.906524Z",
     "shell.execute_reply": "2023-02-06T14:39:00.905671Z"
    },
    "papermill": {
     "duration": 0.024486,
     "end_time": "2023-02-06T14:39:00.909212",
     "exception": false,
     "start_time": "2023-02-06T14:39:00.884726",
     "status": "completed"
    },
    "tags": []
   },
   "outputs": [],
   "source": [
    "x = data.dropna().drop(['y'], axis=1)\n",
    "\n",
    "y = data.dropna().y"
   ]
  },
  {
   "cell_type": "code",
   "execution_count": 11,
   "id": "bc9980d6",
   "metadata": {
    "execution": {
     "iopub.execute_input": "2023-02-06T14:39:00.921370Z",
     "iopub.status.busy": "2023-02-06T14:39:00.920646Z",
     "iopub.status.idle": "2023-02-06T14:39:00.949419Z",
     "shell.execute_reply": "2023-02-06T14:39:00.948027Z"
    },
    "papermill": {
     "duration": 0.037773,
     "end_time": "2023-02-06T14:39:00.952067",
     "exception": false,
     "start_time": "2023-02-06T14:39:00.914294",
     "status": "completed"
    },
    "tags": []
   },
   "outputs": [
    {
     "data": {
      "text/html": [
       "<div>\n",
       "<style scoped>\n",
       "    .dataframe tbody tr th:only-of-type {\n",
       "        vertical-align: middle;\n",
       "    }\n",
       "\n",
       "    .dataframe tbody tr th {\n",
       "        vertical-align: top;\n",
       "    }\n",
       "\n",
       "    .dataframe thead th {\n",
       "        text-align: right;\n",
       "    }\n",
       "</style>\n",
       "<table border=\"1\" class=\"dataframe\">\n",
       "  <thead>\n",
       "    <tr style=\"text-align: right;\">\n",
       "      <th></th>\n",
       "      <th>lag_6</th>\n",
       "      <th>lag_7</th>\n",
       "      <th>lag_8</th>\n",
       "      <th>lag_9</th>\n",
       "      <th>lag_10</th>\n",
       "      <th>lag_11</th>\n",
       "      <th>lag_12</th>\n",
       "      <th>lag_13</th>\n",
       "      <th>lag_14</th>\n",
       "      <th>lag_15</th>\n",
       "      <th>lag_16</th>\n",
       "      <th>lag_17</th>\n",
       "      <th>lag_18</th>\n",
       "      <th>lag_19</th>\n",
       "      <th>lag_20</th>\n",
       "      <th>lag_21</th>\n",
       "      <th>lag_22</th>\n",
       "      <th>lag_23</th>\n",
       "      <th>lag_24</th>\n",
       "    </tr>\n",
       "  </thead>\n",
       "  <tbody>\n",
       "    <tr>\n",
       "      <th>24</th>\n",
       "      <td>5600.0</td>\n",
       "      <td>6000.0</td>\n",
       "      <td>12500.0</td>\n",
       "      <td>9000.0</td>\n",
       "      <td>5600.0</td>\n",
       "      <td>10000.0</td>\n",
       "      <td>4200.0</td>\n",
       "      <td>5500.0</td>\n",
       "      <td>2600.0</td>\n",
       "      <td>8000.0</td>\n",
       "      <td>6800.0</td>\n",
       "      <td>5800.0</td>\n",
       "      <td>6700.0</td>\n",
       "      <td>10600.0</td>\n",
       "      <td>7500.0</td>\n",
       "      <td>7900.0</td>\n",
       "      <td>4000.0</td>\n",
       "      <td>3600.0</td>\n",
       "      <td>2100.0</td>\n",
       "    </tr>\n",
       "    <tr>\n",
       "      <th>25</th>\n",
       "      <td>2100.0</td>\n",
       "      <td>5600.0</td>\n",
       "      <td>6000.0</td>\n",
       "      <td>12500.0</td>\n",
       "      <td>9000.0</td>\n",
       "      <td>5600.0</td>\n",
       "      <td>10000.0</td>\n",
       "      <td>4200.0</td>\n",
       "      <td>5500.0</td>\n",
       "      <td>2600.0</td>\n",
       "      <td>8000.0</td>\n",
       "      <td>6800.0</td>\n",
       "      <td>5800.0</td>\n",
       "      <td>6700.0</td>\n",
       "      <td>10600.0</td>\n",
       "      <td>7500.0</td>\n",
       "      <td>7900.0</td>\n",
       "      <td>4000.0</td>\n",
       "      <td>3600.0</td>\n",
       "    </tr>\n",
       "    <tr>\n",
       "      <th>26</th>\n",
       "      <td>6400.0</td>\n",
       "      <td>2100.0</td>\n",
       "      <td>5600.0</td>\n",
       "      <td>6000.0</td>\n",
       "      <td>12500.0</td>\n",
       "      <td>9000.0</td>\n",
       "      <td>5600.0</td>\n",
       "      <td>10000.0</td>\n",
       "      <td>4200.0</td>\n",
       "      <td>5500.0</td>\n",
       "      <td>2600.0</td>\n",
       "      <td>8000.0</td>\n",
       "      <td>6800.0</td>\n",
       "      <td>5800.0</td>\n",
       "      <td>6700.0</td>\n",
       "      <td>10600.0</td>\n",
       "      <td>7500.0</td>\n",
       "      <td>7900.0</td>\n",
       "      <td>4000.0</td>\n",
       "    </tr>\n",
       "    <tr>\n",
       "      <th>27</th>\n",
       "      <td>2400.0</td>\n",
       "      <td>6400.0</td>\n",
       "      <td>2100.0</td>\n",
       "      <td>5600.0</td>\n",
       "      <td>6000.0</td>\n",
       "      <td>12500.0</td>\n",
       "      <td>9000.0</td>\n",
       "      <td>5600.0</td>\n",
       "      <td>10000.0</td>\n",
       "      <td>4200.0</td>\n",
       "      <td>5500.0</td>\n",
       "      <td>2600.0</td>\n",
       "      <td>8000.0</td>\n",
       "      <td>6800.0</td>\n",
       "      <td>5800.0</td>\n",
       "      <td>6700.0</td>\n",
       "      <td>10600.0</td>\n",
       "      <td>7500.0</td>\n",
       "      <td>7900.0</td>\n",
       "    </tr>\n",
       "    <tr>\n",
       "      <th>28</th>\n",
       "      <td>2000.0</td>\n",
       "      <td>2400.0</td>\n",
       "      <td>6400.0</td>\n",
       "      <td>2100.0</td>\n",
       "      <td>5600.0</td>\n",
       "      <td>6000.0</td>\n",
       "      <td>12500.0</td>\n",
       "      <td>9000.0</td>\n",
       "      <td>5600.0</td>\n",
       "      <td>10000.0</td>\n",
       "      <td>4200.0</td>\n",
       "      <td>5500.0</td>\n",
       "      <td>2600.0</td>\n",
       "      <td>8000.0</td>\n",
       "      <td>6800.0</td>\n",
       "      <td>5800.0</td>\n",
       "      <td>6700.0</td>\n",
       "      <td>10600.0</td>\n",
       "      <td>7500.0</td>\n",
       "    </tr>\n",
       "  </tbody>\n",
       "</table>\n",
       "</div>"
      ],
      "text/plain": [
       "     lag_6   lag_7    lag_8    lag_9   lag_10   lag_11   lag_12   lag_13  \\\n",
       "24  5600.0  6000.0  12500.0   9000.0   5600.0  10000.0   4200.0   5500.0   \n",
       "25  2100.0  5600.0   6000.0  12500.0   9000.0   5600.0  10000.0   4200.0   \n",
       "26  6400.0  2100.0   5600.0   6000.0  12500.0   9000.0   5600.0  10000.0   \n",
       "27  2400.0  6400.0   2100.0   5600.0   6000.0  12500.0   9000.0   5600.0   \n",
       "28  2000.0  2400.0   6400.0   2100.0   5600.0   6000.0  12500.0   9000.0   \n",
       "\n",
       "     lag_14   lag_15  lag_16  lag_17  lag_18   lag_19   lag_20   lag_21  \\\n",
       "24   2600.0   8000.0  6800.0  5800.0  6700.0  10600.0   7500.0   7900.0   \n",
       "25   5500.0   2600.0  8000.0  6800.0  5800.0   6700.0  10600.0   7500.0   \n",
       "26   4200.0   5500.0  2600.0  8000.0  6800.0   5800.0   6700.0  10600.0   \n",
       "27  10000.0   4200.0  5500.0  2600.0  8000.0   6800.0   5800.0   6700.0   \n",
       "28   5600.0  10000.0  4200.0  5500.0  2600.0   8000.0   6800.0   5800.0   \n",
       "\n",
       "     lag_22   lag_23  lag_24  \n",
       "24   4000.0   3600.0  2100.0  \n",
       "25   7900.0   4000.0  3600.0  \n",
       "26   7500.0   7900.0  4000.0  \n",
       "27  10600.0   7500.0  7900.0  \n",
       "28   6700.0  10600.0  7500.0  "
      ]
     },
     "execution_count": 11,
     "metadata": {},
     "output_type": "execute_result"
    }
   ],
   "source": [
    "x.head()"
   ]
  },
  {
   "cell_type": "code",
   "execution_count": 12,
   "id": "ab88235c",
   "metadata": {
    "execution": {
     "iopub.execute_input": "2023-02-06T14:39:00.964910Z",
     "iopub.status.busy": "2023-02-06T14:39:00.964214Z",
     "iopub.status.idle": "2023-02-06T14:39:00.969654Z",
     "shell.execute_reply": "2023-02-06T14:39:00.968567Z"
    },
    "papermill": {
     "duration": 0.014982,
     "end_time": "2023-02-06T14:39:00.972435",
     "exception": false,
     "start_time": "2023-02-06T14:39:00.957453",
     "status": "completed"
    },
    "tags": []
   },
   "outputs": [],
   "source": [
    "tscv = TimeSeriesSplit(n_splits=5)"
   ]
  },
  {
   "cell_type": "code",
   "execution_count": 13,
   "id": "69d33a13",
   "metadata": {
    "execution": {
     "iopub.execute_input": "2023-02-06T14:39:00.984653Z",
     "iopub.status.busy": "2023-02-06T14:39:00.984255Z",
     "iopub.status.idle": "2023-02-06T14:39:00.990672Z",
     "shell.execute_reply": "2023-02-06T14:39:00.989176Z"
    },
    "papermill": {
     "duration": 0.015422,
     "end_time": "2023-02-06T14:39:00.993016",
     "exception": false,
     "start_time": "2023-02-06T14:39:00.977594",
     "status": "completed"
    },
    "tags": []
   },
   "outputs": [],
   "source": [
    "def timeseries_train_test_split(x, y, test_size):\n",
    "    \n",
    "    test_index = int(len(x)*(1-test_size))\n",
    "    \n",
    "    x_train = x.iloc[:test_index]\n",
    "    y_train = y.iloc[:test_index]\n",
    "    \n",
    "    x_test = x.iloc[test_index:]\n",
    "    y_test = y.iloc[test_index:]\n",
    "    \n",
    "    return x_train, x_test, y_train, y_test"
   ]
  },
  {
   "cell_type": "code",
   "execution_count": 14,
   "id": "c8a8e345",
   "metadata": {
    "execution": {
     "iopub.execute_input": "2023-02-06T14:39:01.005737Z",
     "iopub.status.busy": "2023-02-06T14:39:01.005330Z",
     "iopub.status.idle": "2023-02-06T14:39:01.011301Z",
     "shell.execute_reply": "2023-02-06T14:39:01.009819Z"
    },
    "papermill": {
     "duration": 0.015477,
     "end_time": "2023-02-06T14:39:01.013767",
     "exception": false,
     "start_time": "2023-02-06T14:39:00.998290",
     "status": "completed"
    },
    "tags": []
   },
   "outputs": [],
   "source": [
    "x_train, x_test, y_train, y_test = timeseries_train_test_split(x, y, test_size=0.3)"
   ]
  },
  {
   "cell_type": "code",
   "execution_count": null,
   "id": "9e8e2a4f",
   "metadata": {
    "papermill": {
     "duration": 0.004805,
     "end_time": "2023-02-06T14:39:01.023762",
     "exception": false,
     "start_time": "2023-02-06T14:39:01.018957",
     "status": "completed"
    },
    "tags": []
   },
   "outputs": [],
   "source": []
  }
 ],
 "metadata": {
  "kernelspec": {
   "display_name": "Python 3",
   "language": "python",
   "name": "python3"
  },
  "language_info": {
   "codemirror_mode": {
    "name": "ipython",
    "version": 3
   },
   "file_extension": ".py",
   "mimetype": "text/x-python",
   "name": "python",
   "nbconvert_exporter": "python",
   "pygments_lexer": "ipython3",
   "version": "3.7.12"
  },
  "papermill": {
   "default_parameters": {},
   "duration": 11.414636,
   "end_time": "2023-02-06T14:39:01.852713",
   "environment_variables": {},
   "exception": null,
   "input_path": "__notebook__.ipynb",
   "output_path": "__notebook__.ipynb",
   "parameters": {},
   "start_time": "2023-02-06T14:38:50.438077",
   "version": "2.3.4"
  }
 },
 "nbformat": 4,
 "nbformat_minor": 5
}
