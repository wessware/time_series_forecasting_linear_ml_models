{
 "cells": [
  {
   "cell_type": "code",
   "execution_count": 1,
   "id": "78dc0717",
   "metadata": {
    "_cell_guid": "b1076dfc-b9ad-4769-8c92-a6c4dae69d19",
    "_uuid": "8f2839f25d086af736a60e9eeb907d3b93b6e0e5",
    "execution": {
     "iopub.execute_input": "2023-02-06T14:37:41.184644Z",
     "iopub.status.busy": "2023-02-06T14:37:41.184162Z",
     "iopub.status.idle": "2023-02-06T14:37:42.835910Z",
     "shell.execute_reply": "2023-02-06T14:37:42.834597Z"
    },
    "papermill": {
     "duration": 1.662335,
     "end_time": "2023-02-06T14:37:42.839065",
     "exception": false,
     "start_time": "2023-02-06T14:37:41.176730",
     "status": "completed"
    },
    "tags": []
   },
   "outputs": [],
   "source": [
    "import pandas as pd\n",
    "\n",
    "import catboost as cb\n",
    "\n",
    "import matplotlib.pyplot as plt\n",
    "\n",
    "from sklearn.model_selection import cross_val_score\n",
    "from sklearn.metrics import mean_squared_error, mean_absolute_percentage_error\n",
    "from sklearn.model_selection import TimeSeriesSplit \n",
    "from sklearn.preprocessing import StandardScaler"
   ]
  },
  {
   "cell_type": "code",
   "execution_count": 2,
   "id": "ff2f097d",
   "metadata": {
    "execution": {
     "iopub.execute_input": "2023-02-06T14:37:42.848555Z",
     "iopub.status.busy": "2023-02-06T14:37:42.847392Z",
     "iopub.status.idle": "2023-02-06T14:37:42.870948Z",
     "shell.execute_reply": "2023-02-06T14:37:42.869754Z"
    },
    "papermill": {
     "duration": 0.030919,
     "end_time": "2023-02-06T14:37:42.873677",
     "exception": false,
     "start_time": "2023-02-06T14:37:42.842758",
     "status": "completed"
    },
    "tags": []
   },
   "outputs": [],
   "source": [
    "df = pd.read_csv('/kaggle/input/case-ih-time-series-data/data.csv')"
   ]
  },
  {
   "cell_type": "code",
   "execution_count": 3,
   "id": "48be8682",
   "metadata": {
    "execution": {
     "iopub.execute_input": "2023-02-06T14:37:42.882468Z",
     "iopub.status.busy": "2023-02-06T14:37:42.882038Z",
     "iopub.status.idle": "2023-02-06T14:37:42.901468Z",
     "shell.execute_reply": "2023-02-06T14:37:42.900259Z"
    },
    "papermill": {
     "duration": 0.027136,
     "end_time": "2023-02-06T14:37:42.904237",
     "exception": false,
     "start_time": "2023-02-06T14:37:42.877101",
     "status": "completed"
    },
    "tags": []
   },
   "outputs": [
    {
     "data": {
      "text/html": [
       "<div>\n",
       "<style scoped>\n",
       "    .dataframe tbody tr th:only-of-type {\n",
       "        vertical-align: middle;\n",
       "    }\n",
       "\n",
       "    .dataframe tbody tr th {\n",
       "        vertical-align: top;\n",
       "    }\n",
       "\n",
       "    .dataframe thead th {\n",
       "        text-align: right;\n",
       "    }\n",
       "</style>\n",
       "<table border=\"1\" class=\"dataframe\">\n",
       "  <thead>\n",
       "    <tr style=\"text-align: right;\">\n",
       "      <th></th>\n",
       "      <th>date</th>\n",
       "      <th>work</th>\n",
       "      <th>income</th>\n",
       "    </tr>\n",
       "  </thead>\n",
       "  <tbody>\n",
       "    <tr>\n",
       "      <th>0</th>\n",
       "      <td>Thursday, September 30, 2021</td>\n",
       "      <td>2</td>\n",
       "      <td>2100</td>\n",
       "    </tr>\n",
       "    <tr>\n",
       "      <th>1</th>\n",
       "      <td>Sunday, October 03, 2021</td>\n",
       "      <td>1</td>\n",
       "      <td>3600</td>\n",
       "    </tr>\n",
       "    <tr>\n",
       "      <th>2</th>\n",
       "      <td>Monday, October 04, 2021</td>\n",
       "      <td>1</td>\n",
       "      <td>4000</td>\n",
       "    </tr>\n",
       "    <tr>\n",
       "      <th>3</th>\n",
       "      <td>Tuesday, October 05, 2021</td>\n",
       "      <td>1</td>\n",
       "      <td>7900</td>\n",
       "    </tr>\n",
       "    <tr>\n",
       "      <th>4</th>\n",
       "      <td>Wednesday, October 06, 2021</td>\n",
       "      <td>1</td>\n",
       "      <td>7500</td>\n",
       "    </tr>\n",
       "  </tbody>\n",
       "</table>\n",
       "</div>"
      ],
      "text/plain": [
       "                           date  work  income\n",
       "0  Thursday, September 30, 2021     2    2100\n",
       "1      Sunday, October 03, 2021     1    3600\n",
       "2      Monday, October 04, 2021     1    4000\n",
       "3     Tuesday, October 05, 2021     1    7900\n",
       "4   Wednesday, October 06, 2021     1    7500"
      ]
     },
     "execution_count": 3,
     "metadata": {},
     "output_type": "execute_result"
    }
   ],
   "source": [
    "df.head()"
   ]
  },
  {
   "cell_type": "code",
   "execution_count": 4,
   "id": "a6fa7002",
   "metadata": {
    "execution": {
     "iopub.execute_input": "2023-02-06T14:37:42.915246Z",
     "iopub.status.busy": "2023-02-06T14:37:42.914245Z",
     "iopub.status.idle": "2023-02-06T14:37:42.960167Z",
     "shell.execute_reply": "2023-02-06T14:37:42.958714Z"
    },
    "papermill": {
     "duration": 0.054539,
     "end_time": "2023-02-06T14:37:42.963068",
     "exception": false,
     "start_time": "2023-02-06T14:37:42.908529",
     "status": "completed"
    },
    "tags": []
   },
   "outputs": [],
   "source": [
    "df['date'] = pd.to_datetime(df['date'])"
   ]
  },
  {
   "cell_type": "code",
   "execution_count": 5,
   "id": "612890c0",
   "metadata": {
    "execution": {
     "iopub.execute_input": "2023-02-06T14:37:42.971804Z",
     "iopub.status.busy": "2023-02-06T14:37:42.971395Z",
     "iopub.status.idle": "2023-02-06T14:37:42.977803Z",
     "shell.execute_reply": "2023-02-06T14:37:42.976374Z"
    },
    "papermill": {
     "duration": 0.013484,
     "end_time": "2023-02-06T14:37:42.980143",
     "exception": false,
     "start_time": "2023-02-06T14:37:42.966659",
     "status": "completed"
    },
    "tags": []
   },
   "outputs": [],
   "source": [
    "data = pd.DataFrame(df.income.copy())"
   ]
  },
  {
   "cell_type": "code",
   "execution_count": 6,
   "id": "8a263581",
   "metadata": {
    "execution": {
     "iopub.execute_input": "2023-02-06T14:37:42.988740Z",
     "iopub.status.busy": "2023-02-06T14:37:42.988324Z",
     "iopub.status.idle": "2023-02-06T14:37:42.994227Z",
     "shell.execute_reply": "2023-02-06T14:37:42.993371Z"
    },
    "papermill": {
     "duration": 0.01295,
     "end_time": "2023-02-06T14:37:42.996588",
     "exception": false,
     "start_time": "2023-02-06T14:37:42.983638",
     "status": "completed"
    },
    "tags": []
   },
   "outputs": [],
   "source": [
    "data.columns = [\"y\"]"
   ]
  },
  {
   "cell_type": "code",
   "execution_count": 7,
   "id": "e2ee74b0",
   "metadata": {
    "execution": {
     "iopub.execute_input": "2023-02-06T14:37:43.006323Z",
     "iopub.status.busy": "2023-02-06T14:37:43.005448Z",
     "iopub.status.idle": "2023-02-06T14:37:43.015549Z",
     "shell.execute_reply": "2023-02-06T14:37:43.014280Z"
    },
    "papermill": {
     "duration": 0.017727,
     "end_time": "2023-02-06T14:37:43.018117",
     "exception": false,
     "start_time": "2023-02-06T14:37:43.000390",
     "status": "completed"
    },
    "tags": []
   },
   "outputs": [
    {
     "data": {
      "text/html": [
       "<div>\n",
       "<style scoped>\n",
       "    .dataframe tbody tr th:only-of-type {\n",
       "        vertical-align: middle;\n",
       "    }\n",
       "\n",
       "    .dataframe tbody tr th {\n",
       "        vertical-align: top;\n",
       "    }\n",
       "\n",
       "    .dataframe thead th {\n",
       "        text-align: right;\n",
       "    }\n",
       "</style>\n",
       "<table border=\"1\" class=\"dataframe\">\n",
       "  <thead>\n",
       "    <tr style=\"text-align: right;\">\n",
       "      <th></th>\n",
       "      <th>y</th>\n",
       "    </tr>\n",
       "  </thead>\n",
       "  <tbody>\n",
       "    <tr>\n",
       "      <th>0</th>\n",
       "      <td>2100</td>\n",
       "    </tr>\n",
       "    <tr>\n",
       "      <th>1</th>\n",
       "      <td>3600</td>\n",
       "    </tr>\n",
       "    <tr>\n",
       "      <th>2</th>\n",
       "      <td>4000</td>\n",
       "    </tr>\n",
       "    <tr>\n",
       "      <th>3</th>\n",
       "      <td>7900</td>\n",
       "    </tr>\n",
       "    <tr>\n",
       "      <th>4</th>\n",
       "      <td>7500</td>\n",
       "    </tr>\n",
       "  </tbody>\n",
       "</table>\n",
       "</div>"
      ],
      "text/plain": [
       "      y\n",
       "0  2100\n",
       "1  3600\n",
       "2  4000\n",
       "3  7900\n",
       "4  7500"
      ]
     },
     "execution_count": 7,
     "metadata": {},
     "output_type": "execute_result"
    }
   ],
   "source": [
    "data.head()"
   ]
  },
  {
   "cell_type": "code",
   "execution_count": 8,
   "id": "3420e535",
   "metadata": {
    "execution": {
     "iopub.execute_input": "2023-02-06T14:37:43.027881Z",
     "iopub.status.busy": "2023-02-06T14:37:43.027064Z",
     "iopub.status.idle": "2023-02-06T14:37:43.044283Z",
     "shell.execute_reply": "2023-02-06T14:37:43.042904Z"
    },
    "papermill": {
     "duration": 0.025242,
     "end_time": "2023-02-06T14:37:43.047208",
     "exception": false,
     "start_time": "2023-02-06T14:37:43.021966",
     "status": "completed"
    },
    "tags": []
   },
   "outputs": [],
   "source": [
    "for i in range(6, 25):\n",
    "    data[\"lag_{}\".format(i)] = data.y.shift(i)"
   ]
  },
  {
   "cell_type": "code",
   "execution_count": 9,
   "id": "4f6eb9f7",
   "metadata": {
    "execution": {
     "iopub.execute_input": "2023-02-06T14:37:43.056976Z",
     "iopub.status.busy": "2023-02-06T14:37:43.055943Z",
     "iopub.status.idle": "2023-02-06T14:37:43.081181Z",
     "shell.execute_reply": "2023-02-06T14:37:43.079764Z"
    },
    "papermill": {
     "duration": 0.033099,
     "end_time": "2023-02-06T14:37:43.084172",
     "exception": false,
     "start_time": "2023-02-06T14:37:43.051073",
     "status": "completed"
    },
    "tags": []
   },
   "outputs": [
    {
     "data": {
      "text/html": [
       "<div>\n",
       "<style scoped>\n",
       "    .dataframe tbody tr th:only-of-type {\n",
       "        vertical-align: middle;\n",
       "    }\n",
       "\n",
       "    .dataframe tbody tr th {\n",
       "        vertical-align: top;\n",
       "    }\n",
       "\n",
       "    .dataframe thead th {\n",
       "        text-align: right;\n",
       "    }\n",
       "</style>\n",
       "<table border=\"1\" class=\"dataframe\">\n",
       "  <thead>\n",
       "    <tr style=\"text-align: right;\">\n",
       "      <th></th>\n",
       "      <th>y</th>\n",
       "      <th>lag_6</th>\n",
       "      <th>lag_7</th>\n",
       "      <th>lag_8</th>\n",
       "      <th>lag_9</th>\n",
       "      <th>lag_10</th>\n",
       "      <th>lag_11</th>\n",
       "      <th>lag_12</th>\n",
       "      <th>lag_13</th>\n",
       "      <th>lag_14</th>\n",
       "      <th>lag_15</th>\n",
       "      <th>lag_16</th>\n",
       "      <th>lag_17</th>\n",
       "      <th>lag_18</th>\n",
       "      <th>lag_19</th>\n",
       "      <th>lag_20</th>\n",
       "      <th>lag_21</th>\n",
       "      <th>lag_22</th>\n",
       "      <th>lag_23</th>\n",
       "      <th>lag_24</th>\n",
       "    </tr>\n",
       "  </thead>\n",
       "  <tbody>\n",
       "    <tr>\n",
       "      <th>0</th>\n",
       "      <td>2100</td>\n",
       "      <td>NaN</td>\n",
       "      <td>NaN</td>\n",
       "      <td>NaN</td>\n",
       "      <td>NaN</td>\n",
       "      <td>NaN</td>\n",
       "      <td>NaN</td>\n",
       "      <td>NaN</td>\n",
       "      <td>NaN</td>\n",
       "      <td>NaN</td>\n",
       "      <td>NaN</td>\n",
       "      <td>NaN</td>\n",
       "      <td>NaN</td>\n",
       "      <td>NaN</td>\n",
       "      <td>NaN</td>\n",
       "      <td>NaN</td>\n",
       "      <td>NaN</td>\n",
       "      <td>NaN</td>\n",
       "      <td>NaN</td>\n",
       "      <td>NaN</td>\n",
       "    </tr>\n",
       "    <tr>\n",
       "      <th>1</th>\n",
       "      <td>3600</td>\n",
       "      <td>NaN</td>\n",
       "      <td>NaN</td>\n",
       "      <td>NaN</td>\n",
       "      <td>NaN</td>\n",
       "      <td>NaN</td>\n",
       "      <td>NaN</td>\n",
       "      <td>NaN</td>\n",
       "      <td>NaN</td>\n",
       "      <td>NaN</td>\n",
       "      <td>NaN</td>\n",
       "      <td>NaN</td>\n",
       "      <td>NaN</td>\n",
       "      <td>NaN</td>\n",
       "      <td>NaN</td>\n",
       "      <td>NaN</td>\n",
       "      <td>NaN</td>\n",
       "      <td>NaN</td>\n",
       "      <td>NaN</td>\n",
       "      <td>NaN</td>\n",
       "    </tr>\n",
       "    <tr>\n",
       "      <th>2</th>\n",
       "      <td>4000</td>\n",
       "      <td>NaN</td>\n",
       "      <td>NaN</td>\n",
       "      <td>NaN</td>\n",
       "      <td>NaN</td>\n",
       "      <td>NaN</td>\n",
       "      <td>NaN</td>\n",
       "      <td>NaN</td>\n",
       "      <td>NaN</td>\n",
       "      <td>NaN</td>\n",
       "      <td>NaN</td>\n",
       "      <td>NaN</td>\n",
       "      <td>NaN</td>\n",
       "      <td>NaN</td>\n",
       "      <td>NaN</td>\n",
       "      <td>NaN</td>\n",
       "      <td>NaN</td>\n",
       "      <td>NaN</td>\n",
       "      <td>NaN</td>\n",
       "      <td>NaN</td>\n",
       "    </tr>\n",
       "    <tr>\n",
       "      <th>3</th>\n",
       "      <td>7900</td>\n",
       "      <td>NaN</td>\n",
       "      <td>NaN</td>\n",
       "      <td>NaN</td>\n",
       "      <td>NaN</td>\n",
       "      <td>NaN</td>\n",
       "      <td>NaN</td>\n",
       "      <td>NaN</td>\n",
       "      <td>NaN</td>\n",
       "      <td>NaN</td>\n",
       "      <td>NaN</td>\n",
       "      <td>NaN</td>\n",
       "      <td>NaN</td>\n",
       "      <td>NaN</td>\n",
       "      <td>NaN</td>\n",
       "      <td>NaN</td>\n",
       "      <td>NaN</td>\n",
       "      <td>NaN</td>\n",
       "      <td>NaN</td>\n",
       "      <td>NaN</td>\n",
       "    </tr>\n",
       "    <tr>\n",
       "      <th>4</th>\n",
       "      <td>7500</td>\n",
       "      <td>NaN</td>\n",
       "      <td>NaN</td>\n",
       "      <td>NaN</td>\n",
       "      <td>NaN</td>\n",
       "      <td>NaN</td>\n",
       "      <td>NaN</td>\n",
       "      <td>NaN</td>\n",
       "      <td>NaN</td>\n",
       "      <td>NaN</td>\n",
       "      <td>NaN</td>\n",
       "      <td>NaN</td>\n",
       "      <td>NaN</td>\n",
       "      <td>NaN</td>\n",
       "      <td>NaN</td>\n",
       "      <td>NaN</td>\n",
       "      <td>NaN</td>\n",
       "      <td>NaN</td>\n",
       "      <td>NaN</td>\n",
       "      <td>NaN</td>\n",
       "    </tr>\n",
       "  </tbody>\n",
       "</table>\n",
       "</div>"
      ],
      "text/plain": [
       "      y  lag_6  lag_7  lag_8  lag_9  lag_10  lag_11  lag_12  lag_13  lag_14  \\\n",
       "0  2100    NaN    NaN    NaN    NaN     NaN     NaN     NaN     NaN     NaN   \n",
       "1  3600    NaN    NaN    NaN    NaN     NaN     NaN     NaN     NaN     NaN   \n",
       "2  4000    NaN    NaN    NaN    NaN     NaN     NaN     NaN     NaN     NaN   \n",
       "3  7900    NaN    NaN    NaN    NaN     NaN     NaN     NaN     NaN     NaN   \n",
       "4  7500    NaN    NaN    NaN    NaN     NaN     NaN     NaN     NaN     NaN   \n",
       "\n",
       "   lag_15  lag_16  lag_17  lag_18  lag_19  lag_20  lag_21  lag_22  lag_23  \\\n",
       "0     NaN     NaN     NaN     NaN     NaN     NaN     NaN     NaN     NaN   \n",
       "1     NaN     NaN     NaN     NaN     NaN     NaN     NaN     NaN     NaN   \n",
       "2     NaN     NaN     NaN     NaN     NaN     NaN     NaN     NaN     NaN   \n",
       "3     NaN     NaN     NaN     NaN     NaN     NaN     NaN     NaN     NaN   \n",
       "4     NaN     NaN     NaN     NaN     NaN     NaN     NaN     NaN     NaN   \n",
       "\n",
       "   lag_24  \n",
       "0     NaN  \n",
       "1     NaN  \n",
       "2     NaN  \n",
       "3     NaN  \n",
       "4     NaN  "
      ]
     },
     "execution_count": 9,
     "metadata": {},
     "output_type": "execute_result"
    }
   ],
   "source": [
    "data.head()"
   ]
  },
  {
   "cell_type": "code",
   "execution_count": null,
   "id": "30964baa",
   "metadata": {
    "papermill": {
     "duration": 0.003857,
     "end_time": "2023-02-06T14:37:43.092178",
     "exception": false,
     "start_time": "2023-02-06T14:37:43.088321",
     "status": "completed"
    },
    "tags": []
   },
   "outputs": [],
   "source": []
  }
 ],
 "metadata": {
  "kernelspec": {
   "display_name": "Python 3",
   "language": "python",
   "name": "python3"
  },
  "language_info": {
   "codemirror_mode": {
    "name": "ipython",
    "version": 3
   },
   "file_extension": ".py",
   "mimetype": "text/x-python",
   "name": "python",
   "nbconvert_exporter": "python",
   "pygments_lexer": "ipython3",
   "version": "3.7.12"
  },
  "papermill": {
   "default_parameters": {},
   "duration": 11.690451,
   "end_time": "2023-02-06T14:37:43.818228",
   "environment_variables": {},
   "exception": null,
   "input_path": "__notebook__.ipynb",
   "output_path": "__notebook__.ipynb",
   "parameters": {},
   "start_time": "2023-02-06T14:37:32.127777",
   "version": "2.3.4"
  }
 },
 "nbformat": 4,
 "nbformat_minor": 5
}
