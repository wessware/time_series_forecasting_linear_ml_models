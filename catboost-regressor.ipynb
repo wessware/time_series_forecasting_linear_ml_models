{
 "cells": [
  {
   "cell_type": "code",
   "execution_count": 1,
   "id": "50e8818d",
   "metadata": {
    "_cell_guid": "b1076dfc-b9ad-4769-8c92-a6c4dae69d19",
    "_uuid": "8f2839f25d086af736a60e9eeb907d3b93b6e0e5",
    "execution": {
     "iopub.execute_input": "2023-02-06T14:41:09.339017Z",
     "iopub.status.busy": "2023-02-06T14:41:09.338538Z",
     "iopub.status.idle": "2023-02-06T14:41:10.800650Z",
     "shell.execute_reply": "2023-02-06T14:41:10.799482Z"
    },
    "papermill": {
     "duration": 1.472924,
     "end_time": "2023-02-06T14:41:10.803564",
     "exception": false,
     "start_time": "2023-02-06T14:41:09.330640",
     "status": "completed"
    },
    "tags": []
   },
   "outputs": [],
   "source": [
    "import pandas as pd\n",
    "\n",
    "import catboost as cb\n",
    "\n",
    "import matplotlib.pyplot as plt\n",
    "\n",
    "from sklearn.model_selection import cross_val_score\n",
    "from sklearn.metrics import mean_squared_error, mean_absolute_percentage_error\n",
    "from sklearn.model_selection import TimeSeriesSplit \n",
    "from sklearn.preprocessing import StandardScaler"
   ]
  },
  {
   "cell_type": "code",
   "execution_count": 2,
   "id": "60655bc6",
   "metadata": {
    "execution": {
     "iopub.execute_input": "2023-02-06T14:41:10.815352Z",
     "iopub.status.busy": "2023-02-06T14:41:10.814966Z",
     "iopub.status.idle": "2023-02-06T14:41:10.834545Z",
     "shell.execute_reply": "2023-02-06T14:41:10.833519Z"
    },
    "papermill": {
     "duration": 0.028501,
     "end_time": "2023-02-06T14:41:10.837303",
     "exception": false,
     "start_time": "2023-02-06T14:41:10.808802",
     "status": "completed"
    },
    "tags": []
   },
   "outputs": [],
   "source": [
    "df = pd.read_csv('/kaggle/input/case-ih-time-series-data/data.csv')"
   ]
  },
  {
   "cell_type": "code",
   "execution_count": 3,
   "id": "d9bb64e6",
   "metadata": {
    "execution": {
     "iopub.execute_input": "2023-02-06T14:41:10.849434Z",
     "iopub.status.busy": "2023-02-06T14:41:10.848700Z",
     "iopub.status.idle": "2023-02-06T14:41:10.867910Z",
     "shell.execute_reply": "2023-02-06T14:41:10.866743Z"
    },
    "papermill": {
     "duration": 0.028214,
     "end_time": "2023-02-06T14:41:10.870550",
     "exception": false,
     "start_time": "2023-02-06T14:41:10.842336",
     "status": "completed"
    },
    "tags": []
   },
   "outputs": [
    {
     "data": {
      "text/html": [
       "<div>\n",
       "<style scoped>\n",
       "    .dataframe tbody tr th:only-of-type {\n",
       "        vertical-align: middle;\n",
       "    }\n",
       "\n",
       "    .dataframe tbody tr th {\n",
       "        vertical-align: top;\n",
       "    }\n",
       "\n",
       "    .dataframe thead th {\n",
       "        text-align: right;\n",
       "    }\n",
       "</style>\n",
       "<table border=\"1\" class=\"dataframe\">\n",
       "  <thead>\n",
       "    <tr style=\"text-align: right;\">\n",
       "      <th></th>\n",
       "      <th>date</th>\n",
       "      <th>work</th>\n",
       "      <th>income</th>\n",
       "    </tr>\n",
       "  </thead>\n",
       "  <tbody>\n",
       "    <tr>\n",
       "      <th>0</th>\n",
       "      <td>Thursday, September 30, 2021</td>\n",
       "      <td>2</td>\n",
       "      <td>2100</td>\n",
       "    </tr>\n",
       "    <tr>\n",
       "      <th>1</th>\n",
       "      <td>Sunday, October 03, 2021</td>\n",
       "      <td>1</td>\n",
       "      <td>3600</td>\n",
       "    </tr>\n",
       "    <tr>\n",
       "      <th>2</th>\n",
       "      <td>Monday, October 04, 2021</td>\n",
       "      <td>1</td>\n",
       "      <td>4000</td>\n",
       "    </tr>\n",
       "    <tr>\n",
       "      <th>3</th>\n",
       "      <td>Tuesday, October 05, 2021</td>\n",
       "      <td>1</td>\n",
       "      <td>7900</td>\n",
       "    </tr>\n",
       "    <tr>\n",
       "      <th>4</th>\n",
       "      <td>Wednesday, October 06, 2021</td>\n",
       "      <td>1</td>\n",
       "      <td>7500</td>\n",
       "    </tr>\n",
       "  </tbody>\n",
       "</table>\n",
       "</div>"
      ],
      "text/plain": [
       "                           date  work  income\n",
       "0  Thursday, September 30, 2021     2    2100\n",
       "1      Sunday, October 03, 2021     1    3600\n",
       "2      Monday, October 04, 2021     1    4000\n",
       "3     Tuesday, October 05, 2021     1    7900\n",
       "4   Wednesday, October 06, 2021     1    7500"
      ]
     },
     "execution_count": 3,
     "metadata": {},
     "output_type": "execute_result"
    }
   ],
   "source": [
    "df.head()"
   ]
  },
  {
   "cell_type": "code",
   "execution_count": 4,
   "id": "2c11e253",
   "metadata": {
    "execution": {
     "iopub.execute_input": "2023-02-06T14:41:10.883041Z",
     "iopub.status.busy": "2023-02-06T14:41:10.882001Z",
     "iopub.status.idle": "2023-02-06T14:41:10.920107Z",
     "shell.execute_reply": "2023-02-06T14:41:10.918947Z"
    },
    "papermill": {
     "duration": 0.047109,
     "end_time": "2023-02-06T14:41:10.922818",
     "exception": false,
     "start_time": "2023-02-06T14:41:10.875709",
     "status": "completed"
    },
    "tags": []
   },
   "outputs": [],
   "source": [
    "df['date'] = pd.to_datetime(df['date'])"
   ]
  },
  {
   "cell_type": "code",
   "execution_count": 5,
   "id": "5e2aa8de",
   "metadata": {
    "execution": {
     "iopub.execute_input": "2023-02-06T14:41:10.934799Z",
     "iopub.status.busy": "2023-02-06T14:41:10.934292Z",
     "iopub.status.idle": "2023-02-06T14:41:10.941190Z",
     "shell.execute_reply": "2023-02-06T14:41:10.940242Z"
    },
    "papermill": {
     "duration": 0.015434,
     "end_time": "2023-02-06T14:41:10.943423",
     "exception": false,
     "start_time": "2023-02-06T14:41:10.927989",
     "status": "completed"
    },
    "tags": []
   },
   "outputs": [],
   "source": [
    "data = pd.DataFrame(df.income.copy())"
   ]
  },
  {
   "cell_type": "code",
   "execution_count": 6,
   "id": "cb9f4555",
   "metadata": {
    "execution": {
     "iopub.execute_input": "2023-02-06T14:41:10.955144Z",
     "iopub.status.busy": "2023-02-06T14:41:10.954769Z",
     "iopub.status.idle": "2023-02-06T14:41:10.959801Z",
     "shell.execute_reply": "2023-02-06T14:41:10.958653Z"
    },
    "papermill": {
     "duration": 0.013613,
     "end_time": "2023-02-06T14:41:10.962084",
     "exception": false,
     "start_time": "2023-02-06T14:41:10.948471",
     "status": "completed"
    },
    "tags": []
   },
   "outputs": [],
   "source": [
    "data.columns = [\"y\"]"
   ]
  },
  {
   "cell_type": "code",
   "execution_count": 7,
   "id": "5597d1f8",
   "metadata": {
    "execution": {
     "iopub.execute_input": "2023-02-06T14:41:10.973887Z",
     "iopub.status.busy": "2023-02-06T14:41:10.973483Z",
     "iopub.status.idle": "2023-02-06T14:41:10.982772Z",
     "shell.execute_reply": "2023-02-06T14:41:10.981652Z"
    },
    "papermill": {
     "duration": 0.018106,
     "end_time": "2023-02-06T14:41:10.985269",
     "exception": false,
     "start_time": "2023-02-06T14:41:10.967163",
     "status": "completed"
    },
    "tags": []
   },
   "outputs": [
    {
     "data": {
      "text/html": [
       "<div>\n",
       "<style scoped>\n",
       "    .dataframe tbody tr th:only-of-type {\n",
       "        vertical-align: middle;\n",
       "    }\n",
       "\n",
       "    .dataframe tbody tr th {\n",
       "        vertical-align: top;\n",
       "    }\n",
       "\n",
       "    .dataframe thead th {\n",
       "        text-align: right;\n",
       "    }\n",
       "</style>\n",
       "<table border=\"1\" class=\"dataframe\">\n",
       "  <thead>\n",
       "    <tr style=\"text-align: right;\">\n",
       "      <th></th>\n",
       "      <th>y</th>\n",
       "    </tr>\n",
       "  </thead>\n",
       "  <tbody>\n",
       "    <tr>\n",
       "      <th>0</th>\n",
       "      <td>2100</td>\n",
       "    </tr>\n",
       "    <tr>\n",
       "      <th>1</th>\n",
       "      <td>3600</td>\n",
       "    </tr>\n",
       "    <tr>\n",
       "      <th>2</th>\n",
       "      <td>4000</td>\n",
       "    </tr>\n",
       "    <tr>\n",
       "      <th>3</th>\n",
       "      <td>7900</td>\n",
       "    </tr>\n",
       "    <tr>\n",
       "      <th>4</th>\n",
       "      <td>7500</td>\n",
       "    </tr>\n",
       "  </tbody>\n",
       "</table>\n",
       "</div>"
      ],
      "text/plain": [
       "      y\n",
       "0  2100\n",
       "1  3600\n",
       "2  4000\n",
       "3  7900\n",
       "4  7500"
      ]
     },
     "execution_count": 7,
     "metadata": {},
     "output_type": "execute_result"
    }
   ],
   "source": [
    "data.head()"
   ]
  },
  {
   "cell_type": "code",
   "execution_count": 8,
   "id": "bd0d4a79",
   "metadata": {
    "execution": {
     "iopub.execute_input": "2023-02-06T14:41:10.997925Z",
     "iopub.status.busy": "2023-02-06T14:41:10.997488Z",
     "iopub.status.idle": "2023-02-06T14:41:11.016738Z",
     "shell.execute_reply": "2023-02-06T14:41:11.015643Z"
    },
    "papermill": {
     "duration": 0.028495,
     "end_time": "2023-02-06T14:41:11.019194",
     "exception": false,
     "start_time": "2023-02-06T14:41:10.990699",
     "status": "completed"
    },
    "tags": []
   },
   "outputs": [],
   "source": [
    "for i in range(6, 25):\n",
    "    data[\"lag_{}\".format(i)] = data.y.shift(i)"
   ]
  },
  {
   "cell_type": "code",
   "execution_count": 9,
   "id": "51dbcea6",
   "metadata": {
    "execution": {
     "iopub.execute_input": "2023-02-06T14:41:11.031884Z",
     "iopub.status.busy": "2023-02-06T14:41:11.031448Z",
     "iopub.status.idle": "2023-02-06T14:41:11.056022Z",
     "shell.execute_reply": "2023-02-06T14:41:11.054887Z"
    },
    "papermill": {
     "duration": 0.033388,
     "end_time": "2023-02-06T14:41:11.058400",
     "exception": false,
     "start_time": "2023-02-06T14:41:11.025012",
     "status": "completed"
    },
    "tags": []
   },
   "outputs": [
    {
     "data": {
      "text/html": [
       "<div>\n",
       "<style scoped>\n",
       "    .dataframe tbody tr th:only-of-type {\n",
       "        vertical-align: middle;\n",
       "    }\n",
       "\n",
       "    .dataframe tbody tr th {\n",
       "        vertical-align: top;\n",
       "    }\n",
       "\n",
       "    .dataframe thead th {\n",
       "        text-align: right;\n",
       "    }\n",
       "</style>\n",
       "<table border=\"1\" class=\"dataframe\">\n",
       "  <thead>\n",
       "    <tr style=\"text-align: right;\">\n",
       "      <th></th>\n",
       "      <th>y</th>\n",
       "      <th>lag_6</th>\n",
       "      <th>lag_7</th>\n",
       "      <th>lag_8</th>\n",
       "      <th>lag_9</th>\n",
       "      <th>lag_10</th>\n",
       "      <th>lag_11</th>\n",
       "      <th>lag_12</th>\n",
       "      <th>lag_13</th>\n",
       "      <th>lag_14</th>\n",
       "      <th>lag_15</th>\n",
       "      <th>lag_16</th>\n",
       "      <th>lag_17</th>\n",
       "      <th>lag_18</th>\n",
       "      <th>lag_19</th>\n",
       "      <th>lag_20</th>\n",
       "      <th>lag_21</th>\n",
       "      <th>lag_22</th>\n",
       "      <th>lag_23</th>\n",
       "      <th>lag_24</th>\n",
       "    </tr>\n",
       "  </thead>\n",
       "  <tbody>\n",
       "    <tr>\n",
       "      <th>0</th>\n",
       "      <td>2100</td>\n",
       "      <td>NaN</td>\n",
       "      <td>NaN</td>\n",
       "      <td>NaN</td>\n",
       "      <td>NaN</td>\n",
       "      <td>NaN</td>\n",
       "      <td>NaN</td>\n",
       "      <td>NaN</td>\n",
       "      <td>NaN</td>\n",
       "      <td>NaN</td>\n",
       "      <td>NaN</td>\n",
       "      <td>NaN</td>\n",
       "      <td>NaN</td>\n",
       "      <td>NaN</td>\n",
       "      <td>NaN</td>\n",
       "      <td>NaN</td>\n",
       "      <td>NaN</td>\n",
       "      <td>NaN</td>\n",
       "      <td>NaN</td>\n",
       "      <td>NaN</td>\n",
       "    </tr>\n",
       "    <tr>\n",
       "      <th>1</th>\n",
       "      <td>3600</td>\n",
       "      <td>NaN</td>\n",
       "      <td>NaN</td>\n",
       "      <td>NaN</td>\n",
       "      <td>NaN</td>\n",
       "      <td>NaN</td>\n",
       "      <td>NaN</td>\n",
       "      <td>NaN</td>\n",
       "      <td>NaN</td>\n",
       "      <td>NaN</td>\n",
       "      <td>NaN</td>\n",
       "      <td>NaN</td>\n",
       "      <td>NaN</td>\n",
       "      <td>NaN</td>\n",
       "      <td>NaN</td>\n",
       "      <td>NaN</td>\n",
       "      <td>NaN</td>\n",
       "      <td>NaN</td>\n",
       "      <td>NaN</td>\n",
       "      <td>NaN</td>\n",
       "    </tr>\n",
       "    <tr>\n",
       "      <th>2</th>\n",
       "      <td>4000</td>\n",
       "      <td>NaN</td>\n",
       "      <td>NaN</td>\n",
       "      <td>NaN</td>\n",
       "      <td>NaN</td>\n",
       "      <td>NaN</td>\n",
       "      <td>NaN</td>\n",
       "      <td>NaN</td>\n",
       "      <td>NaN</td>\n",
       "      <td>NaN</td>\n",
       "      <td>NaN</td>\n",
       "      <td>NaN</td>\n",
       "      <td>NaN</td>\n",
       "      <td>NaN</td>\n",
       "      <td>NaN</td>\n",
       "      <td>NaN</td>\n",
       "      <td>NaN</td>\n",
       "      <td>NaN</td>\n",
       "      <td>NaN</td>\n",
       "      <td>NaN</td>\n",
       "    </tr>\n",
       "    <tr>\n",
       "      <th>3</th>\n",
       "      <td>7900</td>\n",
       "      <td>NaN</td>\n",
       "      <td>NaN</td>\n",
       "      <td>NaN</td>\n",
       "      <td>NaN</td>\n",
       "      <td>NaN</td>\n",
       "      <td>NaN</td>\n",
       "      <td>NaN</td>\n",
       "      <td>NaN</td>\n",
       "      <td>NaN</td>\n",
       "      <td>NaN</td>\n",
       "      <td>NaN</td>\n",
       "      <td>NaN</td>\n",
       "      <td>NaN</td>\n",
       "      <td>NaN</td>\n",
       "      <td>NaN</td>\n",
       "      <td>NaN</td>\n",
       "      <td>NaN</td>\n",
       "      <td>NaN</td>\n",
       "      <td>NaN</td>\n",
       "    </tr>\n",
       "    <tr>\n",
       "      <th>4</th>\n",
       "      <td>7500</td>\n",
       "      <td>NaN</td>\n",
       "      <td>NaN</td>\n",
       "      <td>NaN</td>\n",
       "      <td>NaN</td>\n",
       "      <td>NaN</td>\n",
       "      <td>NaN</td>\n",
       "      <td>NaN</td>\n",
       "      <td>NaN</td>\n",
       "      <td>NaN</td>\n",
       "      <td>NaN</td>\n",
       "      <td>NaN</td>\n",
       "      <td>NaN</td>\n",
       "      <td>NaN</td>\n",
       "      <td>NaN</td>\n",
       "      <td>NaN</td>\n",
       "      <td>NaN</td>\n",
       "      <td>NaN</td>\n",
       "      <td>NaN</td>\n",
       "      <td>NaN</td>\n",
       "    </tr>\n",
       "  </tbody>\n",
       "</table>\n",
       "</div>"
      ],
      "text/plain": [
       "      y  lag_6  lag_7  lag_8  lag_9  lag_10  lag_11  lag_12  lag_13  lag_14  \\\n",
       "0  2100    NaN    NaN    NaN    NaN     NaN     NaN     NaN     NaN     NaN   \n",
       "1  3600    NaN    NaN    NaN    NaN     NaN     NaN     NaN     NaN     NaN   \n",
       "2  4000    NaN    NaN    NaN    NaN     NaN     NaN     NaN     NaN     NaN   \n",
       "3  7900    NaN    NaN    NaN    NaN     NaN     NaN     NaN     NaN     NaN   \n",
       "4  7500    NaN    NaN    NaN    NaN     NaN     NaN     NaN     NaN     NaN   \n",
       "\n",
       "   lag_15  lag_16  lag_17  lag_18  lag_19  lag_20  lag_21  lag_22  lag_23  \\\n",
       "0     NaN     NaN     NaN     NaN     NaN     NaN     NaN     NaN     NaN   \n",
       "1     NaN     NaN     NaN     NaN     NaN     NaN     NaN     NaN     NaN   \n",
       "2     NaN     NaN     NaN     NaN     NaN     NaN     NaN     NaN     NaN   \n",
       "3     NaN     NaN     NaN     NaN     NaN     NaN     NaN     NaN     NaN   \n",
       "4     NaN     NaN     NaN     NaN     NaN     NaN     NaN     NaN     NaN   \n",
       "\n",
       "   lag_24  \n",
       "0     NaN  \n",
       "1     NaN  \n",
       "2     NaN  \n",
       "3     NaN  \n",
       "4     NaN  "
      ]
     },
     "execution_count": 9,
     "metadata": {},
     "output_type": "execute_result"
    }
   ],
   "source": [
    "data.head()"
   ]
  },
  {
   "cell_type": "code",
   "execution_count": 10,
   "id": "5bfdd3dd",
   "metadata": {
    "execution": {
     "iopub.execute_input": "2023-02-06T14:41:11.071507Z",
     "iopub.status.busy": "2023-02-06T14:41:11.071098Z",
     "iopub.status.idle": "2023-02-06T14:41:11.088529Z",
     "shell.execute_reply": "2023-02-06T14:41:11.087632Z"
    },
    "papermill": {
     "duration": 0.02693,
     "end_time": "2023-02-06T14:41:11.091110",
     "exception": false,
     "start_time": "2023-02-06T14:41:11.064180",
     "status": "completed"
    },
    "tags": []
   },
   "outputs": [],
   "source": [
    "x = data.dropna().drop(['y'], axis=1)\n",
    "\n",
    "y = data.dropna().y"
   ]
  },
  {
   "cell_type": "code",
   "execution_count": 11,
   "id": "f1881423",
   "metadata": {
    "execution": {
     "iopub.execute_input": "2023-02-06T14:41:11.104169Z",
     "iopub.status.busy": "2023-02-06T14:41:11.103789Z",
     "iopub.status.idle": "2023-02-06T14:41:11.132953Z",
     "shell.execute_reply": "2023-02-06T14:41:11.131643Z"
    },
    "papermill": {
     "duration": 0.038558,
     "end_time": "2023-02-06T14:41:11.135423",
     "exception": false,
     "start_time": "2023-02-06T14:41:11.096865",
     "status": "completed"
    },
    "tags": []
   },
   "outputs": [
    {
     "data": {
      "text/html": [
       "<div>\n",
       "<style scoped>\n",
       "    .dataframe tbody tr th:only-of-type {\n",
       "        vertical-align: middle;\n",
       "    }\n",
       "\n",
       "    .dataframe tbody tr th {\n",
       "        vertical-align: top;\n",
       "    }\n",
       "\n",
       "    .dataframe thead th {\n",
       "        text-align: right;\n",
       "    }\n",
       "</style>\n",
       "<table border=\"1\" class=\"dataframe\">\n",
       "  <thead>\n",
       "    <tr style=\"text-align: right;\">\n",
       "      <th></th>\n",
       "      <th>lag_6</th>\n",
       "      <th>lag_7</th>\n",
       "      <th>lag_8</th>\n",
       "      <th>lag_9</th>\n",
       "      <th>lag_10</th>\n",
       "      <th>lag_11</th>\n",
       "      <th>lag_12</th>\n",
       "      <th>lag_13</th>\n",
       "      <th>lag_14</th>\n",
       "      <th>lag_15</th>\n",
       "      <th>lag_16</th>\n",
       "      <th>lag_17</th>\n",
       "      <th>lag_18</th>\n",
       "      <th>lag_19</th>\n",
       "      <th>lag_20</th>\n",
       "      <th>lag_21</th>\n",
       "      <th>lag_22</th>\n",
       "      <th>lag_23</th>\n",
       "      <th>lag_24</th>\n",
       "    </tr>\n",
       "  </thead>\n",
       "  <tbody>\n",
       "    <tr>\n",
       "      <th>24</th>\n",
       "      <td>5600.0</td>\n",
       "      <td>6000.0</td>\n",
       "      <td>12500.0</td>\n",
       "      <td>9000.0</td>\n",
       "      <td>5600.0</td>\n",
       "      <td>10000.0</td>\n",
       "      <td>4200.0</td>\n",
       "      <td>5500.0</td>\n",
       "      <td>2600.0</td>\n",
       "      <td>8000.0</td>\n",
       "      <td>6800.0</td>\n",
       "      <td>5800.0</td>\n",
       "      <td>6700.0</td>\n",
       "      <td>10600.0</td>\n",
       "      <td>7500.0</td>\n",
       "      <td>7900.0</td>\n",
       "      <td>4000.0</td>\n",
       "      <td>3600.0</td>\n",
       "      <td>2100.0</td>\n",
       "    </tr>\n",
       "    <tr>\n",
       "      <th>25</th>\n",
       "      <td>2100.0</td>\n",
       "      <td>5600.0</td>\n",
       "      <td>6000.0</td>\n",
       "      <td>12500.0</td>\n",
       "      <td>9000.0</td>\n",
       "      <td>5600.0</td>\n",
       "      <td>10000.0</td>\n",
       "      <td>4200.0</td>\n",
       "      <td>5500.0</td>\n",
       "      <td>2600.0</td>\n",
       "      <td>8000.0</td>\n",
       "      <td>6800.0</td>\n",
       "      <td>5800.0</td>\n",
       "      <td>6700.0</td>\n",
       "      <td>10600.0</td>\n",
       "      <td>7500.0</td>\n",
       "      <td>7900.0</td>\n",
       "      <td>4000.0</td>\n",
       "      <td>3600.0</td>\n",
       "    </tr>\n",
       "    <tr>\n",
       "      <th>26</th>\n",
       "      <td>6400.0</td>\n",
       "      <td>2100.0</td>\n",
       "      <td>5600.0</td>\n",
       "      <td>6000.0</td>\n",
       "      <td>12500.0</td>\n",
       "      <td>9000.0</td>\n",
       "      <td>5600.0</td>\n",
       "      <td>10000.0</td>\n",
       "      <td>4200.0</td>\n",
       "      <td>5500.0</td>\n",
       "      <td>2600.0</td>\n",
       "      <td>8000.0</td>\n",
       "      <td>6800.0</td>\n",
       "      <td>5800.0</td>\n",
       "      <td>6700.0</td>\n",
       "      <td>10600.0</td>\n",
       "      <td>7500.0</td>\n",
       "      <td>7900.0</td>\n",
       "      <td>4000.0</td>\n",
       "    </tr>\n",
       "    <tr>\n",
       "      <th>27</th>\n",
       "      <td>2400.0</td>\n",
       "      <td>6400.0</td>\n",
       "      <td>2100.0</td>\n",
       "      <td>5600.0</td>\n",
       "      <td>6000.0</td>\n",
       "      <td>12500.0</td>\n",
       "      <td>9000.0</td>\n",
       "      <td>5600.0</td>\n",
       "      <td>10000.0</td>\n",
       "      <td>4200.0</td>\n",
       "      <td>5500.0</td>\n",
       "      <td>2600.0</td>\n",
       "      <td>8000.0</td>\n",
       "      <td>6800.0</td>\n",
       "      <td>5800.0</td>\n",
       "      <td>6700.0</td>\n",
       "      <td>10600.0</td>\n",
       "      <td>7500.0</td>\n",
       "      <td>7900.0</td>\n",
       "    </tr>\n",
       "    <tr>\n",
       "      <th>28</th>\n",
       "      <td>2000.0</td>\n",
       "      <td>2400.0</td>\n",
       "      <td>6400.0</td>\n",
       "      <td>2100.0</td>\n",
       "      <td>5600.0</td>\n",
       "      <td>6000.0</td>\n",
       "      <td>12500.0</td>\n",
       "      <td>9000.0</td>\n",
       "      <td>5600.0</td>\n",
       "      <td>10000.0</td>\n",
       "      <td>4200.0</td>\n",
       "      <td>5500.0</td>\n",
       "      <td>2600.0</td>\n",
       "      <td>8000.0</td>\n",
       "      <td>6800.0</td>\n",
       "      <td>5800.0</td>\n",
       "      <td>6700.0</td>\n",
       "      <td>10600.0</td>\n",
       "      <td>7500.0</td>\n",
       "    </tr>\n",
       "  </tbody>\n",
       "</table>\n",
       "</div>"
      ],
      "text/plain": [
       "     lag_6   lag_7    lag_8    lag_9   lag_10   lag_11   lag_12   lag_13  \\\n",
       "24  5600.0  6000.0  12500.0   9000.0   5600.0  10000.0   4200.0   5500.0   \n",
       "25  2100.0  5600.0   6000.0  12500.0   9000.0   5600.0  10000.0   4200.0   \n",
       "26  6400.0  2100.0   5600.0   6000.0  12500.0   9000.0   5600.0  10000.0   \n",
       "27  2400.0  6400.0   2100.0   5600.0   6000.0  12500.0   9000.0   5600.0   \n",
       "28  2000.0  2400.0   6400.0   2100.0   5600.0   6000.0  12500.0   9000.0   \n",
       "\n",
       "     lag_14   lag_15  lag_16  lag_17  lag_18   lag_19   lag_20   lag_21  \\\n",
       "24   2600.0   8000.0  6800.0  5800.0  6700.0  10600.0   7500.0   7900.0   \n",
       "25   5500.0   2600.0  8000.0  6800.0  5800.0   6700.0  10600.0   7500.0   \n",
       "26   4200.0   5500.0  2600.0  8000.0  6800.0   5800.0   6700.0  10600.0   \n",
       "27  10000.0   4200.0  5500.0  2600.0  8000.0   6800.0   5800.0   6700.0   \n",
       "28   5600.0  10000.0  4200.0  5500.0  2600.0   8000.0   6800.0   5800.0   \n",
       "\n",
       "     lag_22   lag_23  lag_24  \n",
       "24   4000.0   3600.0  2100.0  \n",
       "25   7900.0   4000.0  3600.0  \n",
       "26   7500.0   7900.0  4000.0  \n",
       "27  10600.0   7500.0  7900.0  \n",
       "28   6700.0  10600.0  7500.0  "
      ]
     },
     "execution_count": 11,
     "metadata": {},
     "output_type": "execute_result"
    }
   ],
   "source": [
    "x.head()"
   ]
  },
  {
   "cell_type": "code",
   "execution_count": 12,
   "id": "ba06756d",
   "metadata": {
    "execution": {
     "iopub.execute_input": "2023-02-06T14:41:11.149226Z",
     "iopub.status.busy": "2023-02-06T14:41:11.148804Z",
     "iopub.status.idle": "2023-02-06T14:41:11.153930Z",
     "shell.execute_reply": "2023-02-06T14:41:11.152760Z"
    },
    "papermill": {
     "duration": 0.014519,
     "end_time": "2023-02-06T14:41:11.156229",
     "exception": false,
     "start_time": "2023-02-06T14:41:11.141710",
     "status": "completed"
    },
    "tags": []
   },
   "outputs": [],
   "source": [
    "tscv = TimeSeriesSplit(n_splits=5)"
   ]
  },
  {
   "cell_type": "code",
   "execution_count": 13,
   "id": "a855a3cb",
   "metadata": {
    "execution": {
     "iopub.execute_input": "2023-02-06T14:41:11.169238Z",
     "iopub.status.busy": "2023-02-06T14:41:11.168870Z",
     "iopub.status.idle": "2023-02-06T14:41:11.175335Z",
     "shell.execute_reply": "2023-02-06T14:41:11.174203Z"
    },
    "papermill": {
     "duration": 0.015715,
     "end_time": "2023-02-06T14:41:11.177699",
     "exception": false,
     "start_time": "2023-02-06T14:41:11.161984",
     "status": "completed"
    },
    "tags": []
   },
   "outputs": [],
   "source": [
    "def timeseries_train_test_split(x, y, test_size):\n",
    "    \n",
    "    test_index = int(len(x)*(1-test_size))\n",
    "    \n",
    "    x_train = x.iloc[:test_index]\n",
    "    y_train = y.iloc[:test_index]\n",
    "    \n",
    "    x_test = x.iloc[test_index:]\n",
    "    y_test = y.iloc[test_index:]\n",
    "    \n",
    "    return x_train, x_test, y_train, y_test"
   ]
  },
  {
   "cell_type": "code",
   "execution_count": 14,
   "id": "1b953e12",
   "metadata": {
    "execution": {
     "iopub.execute_input": "2023-02-06T14:41:11.191006Z",
     "iopub.status.busy": "2023-02-06T14:41:11.190259Z",
     "iopub.status.idle": "2023-02-06T14:41:11.195775Z",
     "shell.execute_reply": "2023-02-06T14:41:11.194633Z"
    },
    "papermill": {
     "duration": 0.014412,
     "end_time": "2023-02-06T14:41:11.197877",
     "exception": false,
     "start_time": "2023-02-06T14:41:11.183465",
     "status": "completed"
    },
    "tags": []
   },
   "outputs": [],
   "source": [
    "x_train, x_test, y_train, y_test = timeseries_train_test_split(x, y, test_size=0.3)"
   ]
  },
  {
   "cell_type": "code",
   "execution_count": 15,
   "id": "b1fb0f41",
   "metadata": {
    "execution": {
     "iopub.execute_input": "2023-02-06T14:41:11.211021Z",
     "iopub.status.busy": "2023-02-06T14:41:11.210275Z",
     "iopub.status.idle": "2023-02-06T14:41:11.216852Z",
     "shell.execute_reply": "2023-02-06T14:41:11.215241Z"
    },
    "papermill": {
     "duration": 0.016026,
     "end_time": "2023-02-06T14:41:11.219541",
     "exception": false,
     "start_time": "2023-02-06T14:41:11.203515",
     "status": "completed"
    },
    "tags": []
   },
   "outputs": [
    {
     "name": "stdout",
     "output_type": "stream",
     "text": [
      "(117, 19)\n",
      "(51, 19)\n",
      "(117,)\n",
      "(51,)\n"
     ]
    }
   ],
   "source": [
    "print(x_train.shape)\n",
    "print(x_test.shape)\n",
    "print(y_train.shape)\n",
    "print(y_test.shape)"
   ]
  },
  {
   "cell_type": "code",
   "execution_count": 16,
   "id": "ebe55a68",
   "metadata": {
    "execution": {
     "iopub.execute_input": "2023-02-06T14:41:11.232778Z",
     "iopub.status.busy": "2023-02-06T14:41:11.232304Z",
     "iopub.status.idle": "2023-02-06T14:41:11.269629Z",
     "shell.execute_reply": "2023-02-06T14:41:11.268762Z"
    },
    "papermill": {
     "duration": 0.046753,
     "end_time": "2023-02-06T14:41:11.272191",
     "exception": false,
     "start_time": "2023-02-06T14:41:11.225438",
     "status": "completed"
    },
    "tags": []
   },
   "outputs": [],
   "source": [
    "train_dataset = cb.Pool(x_train, y_train) \n",
    "test_dataset = cb.Pool(x_test, y_test)"
   ]
  },
  {
   "cell_type": "code",
   "execution_count": 17,
   "id": "e0ae0cc3",
   "metadata": {
    "execution": {
     "iopub.execute_input": "2023-02-06T14:41:11.285625Z",
     "iopub.status.busy": "2023-02-06T14:41:11.285191Z",
     "iopub.status.idle": "2023-02-06T14:41:11.292441Z",
     "shell.execute_reply": "2023-02-06T14:41:11.291625Z"
    },
    "papermill": {
     "duration": 0.016552,
     "end_time": "2023-02-06T14:41:11.294546",
     "exception": false,
     "start_time": "2023-02-06T14:41:11.277994",
     "status": "completed"
    },
    "tags": []
   },
   "outputs": [],
   "source": [
    "cb_model = cb.CatBoostRegressor(loss_function='RMSE')"
   ]
  },
  {
   "cell_type": "code",
   "execution_count": null,
   "id": "1b38868d",
   "metadata": {
    "papermill": {
     "duration": 0.005471,
     "end_time": "2023-02-06T14:41:11.305796",
     "exception": false,
     "start_time": "2023-02-06T14:41:11.300325",
     "status": "completed"
    },
    "tags": []
   },
   "outputs": [],
   "source": []
  }
 ],
 "metadata": {
  "kernelspec": {
   "display_name": "Python 3",
   "language": "python",
   "name": "python3"
  },
  "language_info": {
   "codemirror_mode": {
    "name": "ipython",
    "version": 3
   },
   "file_extension": ".py",
   "mimetype": "text/x-python",
   "name": "python",
   "nbconvert_exporter": "python",
   "pygments_lexer": "ipython3",
   "version": "3.7.12"
  },
  "papermill": {
   "default_parameters": {},
   "duration": 11.426385,
   "end_time": "2023-02-06T14:41:12.032529",
   "environment_variables": {},
   "exception": null,
   "input_path": "__notebook__.ipynb",
   "output_path": "__notebook__.ipynb",
   "parameters": {},
   "start_time": "2023-02-06T14:41:00.606144",
   "version": "2.3.4"
  }
 },
 "nbformat": 4,
 "nbformat_minor": 5
}
