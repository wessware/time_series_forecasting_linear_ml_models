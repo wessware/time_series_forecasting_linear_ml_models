{
 "cells": [
  {
   "cell_type": "code",
   "execution_count": 1,
   "id": "0a480432",
   "metadata": {
    "_cell_guid": "b1076dfc-b9ad-4769-8c92-a6c4dae69d19",
    "_uuid": "8f2839f25d086af736a60e9eeb907d3b93b6e0e5",
    "execution": {
     "iopub.execute_input": "2023-02-06T12:24:14.401554Z",
     "iopub.status.busy": "2023-02-06T12:24:14.401029Z",
     "iopub.status.idle": "2023-02-06T12:24:22.134290Z",
     "shell.execute_reply": "2023-02-06T12:24:22.133172Z"
    },
    "papermill": {
     "duration": 7.748771,
     "end_time": "2023-02-06T12:24:22.137247",
     "exception": false,
     "start_time": "2023-02-06T12:24:14.388476",
     "status": "completed"
    },
    "tags": []
   },
   "outputs": [],
   "source": [
    "import pandas as pd\n",
    "import numpy as np\n",
    "\n",
    "import matplotlib.pyplot as plt\n",
    "\n",
    "from sklearn.preprocessing import MinMaxScaler, StandardScaler\n",
    "\n",
    "from scipy import stats\n",
    "\n",
    "import tensorflow as tf\n",
    "from tensorflow import keras\n",
    "from tensorflow.keras import Sequential, layers, callbacks\n",
    "from tensorflow.keras.layers import Dense, LSTM, Dropout, GRU, Bidirectional"
   ]
  },
  {
   "cell_type": "code",
   "execution_count": 2,
   "id": "3b65085e",
   "metadata": {
    "execution": {
     "iopub.execute_input": "2023-02-06T12:24:22.157944Z",
     "iopub.status.busy": "2023-02-06T12:24:22.157257Z",
     "iopub.status.idle": "2023-02-06T12:24:22.163042Z",
     "shell.execute_reply": "2023-02-06T12:24:22.161830Z"
    },
    "papermill": {
     "duration": 0.018784,
     "end_time": "2023-02-06T12:24:22.165464",
     "exception": false,
     "start_time": "2023-02-06T12:24:22.146680",
     "status": "completed"
    },
    "tags": []
   },
   "outputs": [],
   "source": [
    "tf.random.set_seed(74)"
   ]
  },
  {
   "cell_type": "code",
   "execution_count": 3,
   "id": "06215ba1",
   "metadata": {
    "execution": {
     "iopub.execute_input": "2023-02-06T12:24:22.186278Z",
     "iopub.status.busy": "2023-02-06T12:24:22.185653Z",
     "iopub.status.idle": "2023-02-06T12:24:22.242635Z",
     "shell.execute_reply": "2023-02-06T12:24:22.241606Z"
    },
    "papermill": {
     "duration": 0.070214,
     "end_time": "2023-02-06T12:24:22.245136",
     "exception": false,
     "start_time": "2023-02-06T12:24:22.174922",
     "status": "completed"
    },
    "tags": []
   },
   "outputs": [],
   "source": [
    "df = pd.read_csv('/kaggle/input/case-ih-time-series-data/data.csv', index_col=['date'], parse_dates=['date'])"
   ]
  },
  {
   "cell_type": "code",
   "execution_count": 4,
   "id": "7b7fd4c2",
   "metadata": {
    "execution": {
     "iopub.execute_input": "2023-02-06T12:24:22.266080Z",
     "iopub.status.busy": "2023-02-06T12:24:22.265139Z",
     "iopub.status.idle": "2023-02-06T12:24:22.287062Z",
     "shell.execute_reply": "2023-02-06T12:24:22.285636Z"
    },
    "papermill": {
     "duration": 0.035571,
     "end_time": "2023-02-06T12:24:22.290208",
     "exception": false,
     "start_time": "2023-02-06T12:24:22.254637",
     "status": "completed"
    },
    "tags": []
   },
   "outputs": [
    {
     "name": "stdout",
     "output_type": "stream",
     "text": [
      "<class 'pandas.core.frame.DataFrame'>\n",
      "DatetimeIndex: 192 entries, 2021-09-30 to 2022-07-08\n",
      "Data columns (total 2 columns):\n",
      " #   Column  Non-Null Count  Dtype\n",
      "---  ------  --------------  -----\n",
      " 0   work    192 non-null    int64\n",
      " 1   income  192 non-null    int64\n",
      "dtypes: int64(2)\n",
      "memory usage: 4.5 KB\n"
     ]
    }
   ],
   "source": [
    "df.info()"
   ]
  },
  {
   "cell_type": "code",
   "execution_count": 5,
   "id": "093ac236",
   "metadata": {
    "execution": {
     "iopub.execute_input": "2023-02-06T12:24:22.310221Z",
     "iopub.status.busy": "2023-02-06T12:24:22.309824Z",
     "iopub.status.idle": "2023-02-06T12:24:22.319938Z",
     "shell.execute_reply": "2023-02-06T12:24:22.318732Z"
    },
    "papermill": {
     "duration": 0.02261,
     "end_time": "2023-02-06T12:24:22.322097",
     "exception": false,
     "start_time": "2023-02-06T12:24:22.299487",
     "status": "completed"
    },
    "tags": []
   },
   "outputs": [
    {
     "data": {
      "text/plain": [
       "Index(['work', 'income'], dtype='object')"
      ]
     },
     "execution_count": 5,
     "metadata": {},
     "output_type": "execute_result"
    }
   ],
   "source": [
    "df.columns "
   ]
  },
  {
   "cell_type": "code",
   "execution_count": 6,
   "id": "11841988",
   "metadata": {
    "execution": {
     "iopub.execute_input": "2023-02-06T12:24:22.343114Z",
     "iopub.status.busy": "2023-02-06T12:24:22.342043Z",
     "iopub.status.idle": "2023-02-06T12:24:22.355997Z",
     "shell.execute_reply": "2023-02-06T12:24:22.354786Z"
    },
    "papermill": {
     "duration": 0.027144,
     "end_time": "2023-02-06T12:24:22.358367",
     "exception": false,
     "start_time": "2023-02-06T12:24:22.331223",
     "status": "completed"
    },
    "tags": []
   },
   "outputs": [
    {
     "data": {
      "text/html": [
       "<div>\n",
       "<style scoped>\n",
       "    .dataframe tbody tr th:only-of-type {\n",
       "        vertical-align: middle;\n",
       "    }\n",
       "\n",
       "    .dataframe tbody tr th {\n",
       "        vertical-align: top;\n",
       "    }\n",
       "\n",
       "    .dataframe thead th {\n",
       "        text-align: right;\n",
       "    }\n",
       "</style>\n",
       "<table border=\"1\" class=\"dataframe\">\n",
       "  <thead>\n",
       "    <tr style=\"text-align: right;\">\n",
       "      <th></th>\n",
       "      <th>work</th>\n",
       "      <th>income</th>\n",
       "    </tr>\n",
       "    <tr>\n",
       "      <th>date</th>\n",
       "      <th></th>\n",
       "      <th></th>\n",
       "    </tr>\n",
       "  </thead>\n",
       "  <tbody>\n",
       "    <tr>\n",
       "      <th>2021-09-30</th>\n",
       "      <td>2</td>\n",
       "      <td>2100</td>\n",
       "    </tr>\n",
       "    <tr>\n",
       "      <th>2021-10-03</th>\n",
       "      <td>1</td>\n",
       "      <td>3600</td>\n",
       "    </tr>\n",
       "    <tr>\n",
       "      <th>2021-10-04</th>\n",
       "      <td>1</td>\n",
       "      <td>4000</td>\n",
       "    </tr>\n",
       "    <tr>\n",
       "      <th>2021-10-05</th>\n",
       "      <td>1</td>\n",
       "      <td>7900</td>\n",
       "    </tr>\n",
       "    <tr>\n",
       "      <th>2021-10-06</th>\n",
       "      <td>1</td>\n",
       "      <td>7500</td>\n",
       "    </tr>\n",
       "  </tbody>\n",
       "</table>\n",
       "</div>"
      ],
      "text/plain": [
       "            work  income\n",
       "date                    \n",
       "2021-09-30     2    2100\n",
       "2021-10-03     1    3600\n",
       "2021-10-04     1    4000\n",
       "2021-10-05     1    7900\n",
       "2021-10-06     1    7500"
      ]
     },
     "execution_count": 6,
     "metadata": {},
     "output_type": "execute_result"
    }
   ],
   "source": [
    "df.head()"
   ]
  },
  {
   "cell_type": "code",
   "execution_count": 7,
   "id": "970d0dba",
   "metadata": {
    "execution": {
     "iopub.execute_input": "2023-02-06T12:24:22.379165Z",
     "iopub.status.busy": "2023-02-06T12:24:22.378372Z",
     "iopub.status.idle": "2023-02-06T12:24:22.384408Z",
     "shell.execute_reply": "2023-02-06T12:24:22.383509Z"
    },
    "papermill": {
     "duration": 0.019028,
     "end_time": "2023-02-06T12:24:22.386764",
     "exception": false,
     "start_time": "2023-02-06T12:24:22.367736",
     "status": "completed"
    },
    "tags": []
   },
   "outputs": [],
   "source": [
    "df = df.drop(columns=['work'])"
   ]
  },
  {
   "cell_type": "code",
   "execution_count": 8,
   "id": "9c4047ac",
   "metadata": {
    "execution": {
     "iopub.execute_input": "2023-02-06T12:24:22.408536Z",
     "iopub.status.busy": "2023-02-06T12:24:22.407717Z",
     "iopub.status.idle": "2023-02-06T12:24:22.414973Z",
     "shell.execute_reply": "2023-02-06T12:24:22.413959Z"
    },
    "papermill": {
     "duration": 0.02021,
     "end_time": "2023-02-06T12:24:22.417265",
     "exception": false,
     "start_time": "2023-02-06T12:24:22.397055",
     "status": "completed"
    },
    "tags": []
   },
   "outputs": [
    {
     "data": {
      "text/plain": [
       "Index(['income'], dtype='object')"
      ]
     },
     "execution_count": 8,
     "metadata": {},
     "output_type": "execute_result"
    }
   ],
   "source": [
    "df.columns "
   ]
  },
  {
   "cell_type": "code",
   "execution_count": 9,
   "id": "35314931",
   "metadata": {
    "execution": {
     "iopub.execute_input": "2023-02-06T12:24:22.438076Z",
     "iopub.status.busy": "2023-02-06T12:24:22.437296Z",
     "iopub.status.idle": "2023-02-06T12:24:22.449393Z",
     "shell.execute_reply": "2023-02-06T12:24:22.447782Z"
    },
    "papermill": {
     "duration": 0.025239,
     "end_time": "2023-02-06T12:24:22.451917",
     "exception": false,
     "start_time": "2023-02-06T12:24:22.426678",
     "status": "completed"
    },
    "tags": []
   },
   "outputs": [
    {
     "name": "stdout",
     "output_type": "stream",
     "text": [
      "<class 'pandas.core.frame.DataFrame'>\n",
      "DatetimeIndex: 192 entries, 2021-09-30 to 2022-07-08\n",
      "Data columns (total 1 columns):\n",
      " #   Column  Non-Null Count  Dtype\n",
      "---  ------  --------------  -----\n",
      " 0   income  192 non-null    int64\n",
      "dtypes: int64(1)\n",
      "memory usage: 3.0 KB\n"
     ]
    }
   ],
   "source": [
    "df.info()"
   ]
  },
  {
   "cell_type": "code",
   "execution_count": 10,
   "id": "18b71f2e",
   "metadata": {
    "execution": {
     "iopub.execute_input": "2023-02-06T12:24:22.473110Z",
     "iopub.status.busy": "2023-02-06T12:24:22.472062Z",
     "iopub.status.idle": "2023-02-06T12:24:22.478029Z",
     "shell.execute_reply": "2023-02-06T12:24:22.477075Z"
    },
    "papermill": {
     "duration": 0.01895,
     "end_time": "2023-02-06T12:24:22.480316",
     "exception": false,
     "start_time": "2023-02-06T12:24:22.461366",
     "status": "completed"
    },
    "tags": []
   },
   "outputs": [],
   "source": [
    "train_size = int(len(df)*0.75)\n",
    "\n",
    "train_data = df.iloc[:train_size]\n",
    "test_data = df.iloc[train_size:]"
   ]
  },
  {
   "cell_type": "code",
   "execution_count": 11,
   "id": "3d1b735b",
   "metadata": {
    "execution": {
     "iopub.execute_input": "2023-02-06T12:24:22.501821Z",
     "iopub.status.busy": "2023-02-06T12:24:22.500818Z",
     "iopub.status.idle": "2023-02-06T12:24:22.514270Z",
     "shell.execute_reply": "2023-02-06T12:24:22.513208Z"
    },
    "papermill": {
     "duration": 0.026945,
     "end_time": "2023-02-06T12:24:22.516944",
     "exception": false,
     "start_time": "2023-02-06T12:24:22.489999",
     "status": "completed"
    },
    "tags": []
   },
   "outputs": [],
   "source": [
    "scaler = StandardScaler()\n",
    "\n",
    "train_scaled = scaler.fit_transform(train_data)\n",
    "test_scaled = scaler.fit_transform(test_data)"
   ]
  },
  {
   "cell_type": "code",
   "execution_count": 12,
   "id": "398ea557",
   "metadata": {
    "execution": {
     "iopub.execute_input": "2023-02-06T12:24:22.538171Z",
     "iopub.status.busy": "2023-02-06T12:24:22.537371Z",
     "iopub.status.idle": "2023-02-06T12:24:22.542417Z",
     "shell.execute_reply": "2023-02-06T12:24:22.541533Z"
    },
    "papermill": {
     "duration": 0.018189,
     "end_time": "2023-02-06T12:24:22.544723",
     "exception": false,
     "start_time": "2023-02-06T12:24:22.526534",
     "status": "completed"
    },
    "tags": []
   },
   "outputs": [],
   "source": [
    "LOOK_BACK = 30"
   ]
  },
  {
   "cell_type": "code",
   "execution_count": 13,
   "id": "bc9d5a9c",
   "metadata": {
    "execution": {
     "iopub.execute_input": "2023-02-06T12:24:22.565907Z",
     "iopub.status.busy": "2023-02-06T12:24:22.565423Z",
     "iopub.status.idle": "2023-02-06T12:24:22.571570Z",
     "shell.execute_reply": "2023-02-06T12:24:22.570480Z"
    },
    "papermill": {
     "duration": 0.019675,
     "end_time": "2023-02-06T12:24:22.573898",
     "exception": false,
     "start_time": "2023-02-06T12:24:22.554223",
     "status": "completed"
    },
    "tags": []
   },
   "outputs": [],
   "source": [
    "def create_dataset (X, look_back = 1):\n",
    "    \n",
    "    Xs, ys = [], []\n",
    " \n",
    "    for i in range(len(X)-look_back):\n",
    "        v = X[i:i+look_back]\n",
    "        Xs.append(v)\n",
    "        ys.append(X[i+look_back])\n",
    " \n",
    "    return np.array(Xs), np.array(ys)"
   ]
  },
  {
   "cell_type": "code",
   "execution_count": 14,
   "id": "383c1866",
   "metadata": {
    "execution": {
     "iopub.execute_input": "2023-02-06T12:24:22.595310Z",
     "iopub.status.busy": "2023-02-06T12:24:22.594572Z",
     "iopub.status.idle": "2023-02-06T12:24:22.599595Z",
     "shell.execute_reply": "2023-02-06T12:24:22.598633Z"
    },
    "papermill": {
     "duration": 0.018814,
     "end_time": "2023-02-06T12:24:22.602476",
     "exception": false,
     "start_time": "2023-02-06T12:24:22.583662",
     "status": "completed"
    },
    "tags": []
   },
   "outputs": [],
   "source": [
    "x_train, y_train = create_dataset(train_scaled,LOOK_BACK)\n",
    "x_test, y_test = create_dataset(test_scaled,LOOK_BACK)"
   ]
  },
  {
   "cell_type": "code",
   "execution_count": 15,
   "id": "b5dd6be4",
   "metadata": {
    "execution": {
     "iopub.execute_input": "2023-02-06T12:24:22.624178Z",
     "iopub.status.busy": "2023-02-06T12:24:22.623713Z",
     "iopub.status.idle": "2023-02-06T12:24:22.630217Z",
     "shell.execute_reply": "2023-02-06T12:24:22.629004Z"
    },
    "papermill": {
     "duration": 0.020029,
     "end_time": "2023-02-06T12:24:22.632602",
     "exception": false,
     "start_time": "2023-02-06T12:24:22.612573",
     "status": "completed"
    },
    "tags": []
   },
   "outputs": [
    {
     "name": "stdout",
     "output_type": "stream",
     "text": [
      "(114, 30, 1)\n",
      "(114, 1)\n",
      "(18, 30, 1)\n",
      "(18, 1)\n"
     ]
    }
   ],
   "source": [
    "print(x_train.shape)\n",
    "print(y_train.shape)\n",
    "print(x_test.shape)\n",
    "print(y_test.shape)"
   ]
  },
  {
   "cell_type": "code",
   "execution_count": 16,
   "id": "2f643cfb",
   "metadata": {
    "execution": {
     "iopub.execute_input": "2023-02-06T12:24:22.654046Z",
     "iopub.status.busy": "2023-02-06T12:24:22.653636Z",
     "iopub.status.idle": "2023-02-06T12:24:22.660720Z",
     "shell.execute_reply": "2023-02-06T12:24:22.659451Z"
    },
    "papermill": {
     "duration": 0.020766,
     "end_time": "2023-02-06T12:24:22.663168",
     "exception": false,
     "start_time": "2023-02-06T12:24:22.642402",
     "status": "completed"
    },
    "tags": []
   },
   "outputs": [],
   "source": [
    "def create_bilstm(units):\n",
    "    \n",
    "    model = Sequential()\n",
    "    # Input layer\n",
    "    model.add(Bidirectional(\n",
    "              LSTM(units = units, return_sequences=True), \n",
    "              input_shape=(x_train.shape[1], x_train.shape[2])))\n",
    "    # Hidden layer\n",
    "    model.add(Bidirectional(LSTM(units = units)))\n",
    "    model.add(Dense(1))\n",
    "    #Compile model\n",
    "    model.compile(optimizer='adam',loss='mse')\n",
    "    \n",
    "    return model"
   ]
  },
  {
   "cell_type": "code",
   "execution_count": 17,
   "id": "78c84097",
   "metadata": {
    "execution": {
     "iopub.execute_input": "2023-02-06T12:24:22.684351Z",
     "iopub.status.busy": "2023-02-06T12:24:22.683921Z",
     "iopub.status.idle": "2023-02-06T12:24:23.830722Z",
     "shell.execute_reply": "2023-02-06T12:24:23.829734Z"
    },
    "papermill": {
     "duration": 1.160332,
     "end_time": "2023-02-06T12:24:23.833268",
     "exception": false,
     "start_time": "2023-02-06T12:24:22.672936",
     "status": "completed"
    },
    "tags": []
   },
   "outputs": [
    {
     "name": "stderr",
     "output_type": "stream",
     "text": [
      "2023-02-06 12:24:22.721975: I tensorflow/core/common_runtime/process_util.cc:146] Creating new thread pool with default inter op setting: 2. Tune using inter_op_parallelism_threads for best performance.\n"
     ]
    }
   ],
   "source": [
    "model_bilstm = create_bilstm(64)"
   ]
  },
  {
   "cell_type": "code",
   "execution_count": 18,
   "id": "c0f39dff",
   "metadata": {
    "execution": {
     "iopub.execute_input": "2023-02-06T12:24:23.855352Z",
     "iopub.status.busy": "2023-02-06T12:24:23.854894Z",
     "iopub.status.idle": "2023-02-06T12:24:23.863081Z",
     "shell.execute_reply": "2023-02-06T12:24:23.861583Z"
    },
    "papermill": {
     "duration": 0.023508,
     "end_time": "2023-02-06T12:24:23.866803",
     "exception": false,
     "start_time": "2023-02-06T12:24:23.843295",
     "status": "completed"
    },
    "tags": []
   },
   "outputs": [
    {
     "name": "stdout",
     "output_type": "stream",
     "text": [
      "Model: \"sequential\"\n",
      "_________________________________________________________________\n",
      "Layer (type)                 Output Shape              Param #   \n",
      "=================================================================\n",
      "bidirectional (Bidirectional (None, 30, 128)           33792     \n",
      "_________________________________________________________________\n",
      "bidirectional_1 (Bidirection (None, 128)               98816     \n",
      "_________________________________________________________________\n",
      "dense (Dense)                (None, 1)                 129       \n",
      "=================================================================\n",
      "Total params: 132,737\n",
      "Trainable params: 132,737\n",
      "Non-trainable params: 0\n",
      "_________________________________________________________________\n"
     ]
    }
   ],
   "source": [
    "model_bilstm.summary()"
   ]
  },
  {
   "cell_type": "code",
   "execution_count": 19,
   "id": "e9ab8940",
   "metadata": {
    "execution": {
     "iopub.execute_input": "2023-02-06T12:24:23.888974Z",
     "iopub.status.busy": "2023-02-06T12:24:23.888320Z",
     "iopub.status.idle": "2023-02-06T12:24:23.895690Z",
     "shell.execute_reply": "2023-02-06T12:24:23.894811Z"
    },
    "papermill": {
     "duration": 0.021087,
     "end_time": "2023-02-06T12:24:23.898038",
     "exception": false,
     "start_time": "2023-02-06T12:24:23.876951",
     "status": "completed"
    },
    "tags": []
   },
   "outputs": [],
   "source": [
    "def create_gru(units):\n",
    "    \n",
    "    model = Sequential()\n",
    "    \n",
    "    # Input layer\n",
    "    model.add(GRU (units = units, return_sequences = True, \n",
    "    input_shape = [x_train.shape[1], x_train.shape[2]]))\n",
    "    model.add(Dropout(0.2)) \n",
    "    \n",
    "    # Hidden layer\n",
    "    model.add(GRU(units = units)) \n",
    "    model.add(Dropout(0.2))\n",
    "    model.add(Dense(units = 1)) \n",
    "    \n",
    "    #Compile model\n",
    "    model.compile(optimizer='adam', loss='mse')\n",
    "    \n",
    "    return model\n"
   ]
  },
  {
   "cell_type": "code",
   "execution_count": 20,
   "id": "247bcad3",
   "metadata": {
    "execution": {
     "iopub.execute_input": "2023-02-06T12:24:23.919953Z",
     "iopub.status.busy": "2023-02-06T12:24:23.919291Z",
     "iopub.status.idle": "2023-02-06T12:24:24.357326Z",
     "shell.execute_reply": "2023-02-06T12:24:24.355885Z"
    },
    "papermill": {
     "duration": 0.452253,
     "end_time": "2023-02-06T12:24:24.360126",
     "exception": false,
     "start_time": "2023-02-06T12:24:23.907873",
     "status": "completed"
    },
    "tags": []
   },
   "outputs": [],
   "source": [
    "model_gru = create_gru(64)"
   ]
  },
  {
   "cell_type": "code",
   "execution_count": 21,
   "id": "0c3665e5",
   "metadata": {
    "execution": {
     "iopub.execute_input": "2023-02-06T12:24:24.381495Z",
     "iopub.status.busy": "2023-02-06T12:24:24.381053Z",
     "iopub.status.idle": "2023-02-06T12:24:24.389567Z",
     "shell.execute_reply": "2023-02-06T12:24:24.388266Z"
    },
    "papermill": {
     "duration": 0.022827,
     "end_time": "2023-02-06T12:24:24.392881",
     "exception": false,
     "start_time": "2023-02-06T12:24:24.370054",
     "status": "completed"
    },
    "tags": []
   },
   "outputs": [
    {
     "name": "stdout",
     "output_type": "stream",
     "text": [
      "Model: \"sequential_1\"\n",
      "_________________________________________________________________\n",
      "Layer (type)                 Output Shape              Param #   \n",
      "=================================================================\n",
      "gru (GRU)                    (None, 30, 64)            12864     \n",
      "_________________________________________________________________\n",
      "dropout (Dropout)            (None, 30, 64)            0         \n",
      "_________________________________________________________________\n",
      "gru_1 (GRU)                  (None, 64)                24960     \n",
      "_________________________________________________________________\n",
      "dropout_1 (Dropout)          (None, 64)                0         \n",
      "_________________________________________________________________\n",
      "dense_1 (Dense)              (None, 1)                 65        \n",
      "=================================================================\n",
      "Total params: 37,889\n",
      "Trainable params: 37,889\n",
      "Non-trainable params: 0\n",
      "_________________________________________________________________\n"
     ]
    }
   ],
   "source": [
    "model_gru.summary()"
   ]
  },
  {
   "cell_type": "code",
   "execution_count": 22,
   "id": "48d9f886",
   "metadata": {
    "execution": {
     "iopub.execute_input": "2023-02-06T12:24:24.415854Z",
     "iopub.status.busy": "2023-02-06T12:24:24.415149Z",
     "iopub.status.idle": "2023-02-06T12:24:24.421174Z",
     "shell.execute_reply": "2023-02-06T12:24:24.419934Z"
    },
    "papermill": {
     "duration": 0.020153,
     "end_time": "2023-02-06T12:24:24.423771",
     "exception": false,
     "start_time": "2023-02-06T12:24:24.403618",
     "status": "completed"
    },
    "tags": []
   },
   "outputs": [],
   "source": [
    "def fit_model(model):\n",
    "    \n",
    "    early_stop = keras.callbacks.EarlyStopping(monitor = 'val_los',patience = 10)\n",
    "    \n",
    "    history = model.fit(x_train, \n",
    "                        y_train, \n",
    "                        epochs = 200,  \n",
    "                        validation_split = 0.2,\n",
    "                        batch_size = 1, \n",
    "                        shuffle = False, \n",
    "                        callbacks = [early_stop])\n",
    "    return history"
   ]
  },
  {
   "cell_type": "code",
   "execution_count": 23,
   "id": "eda19656",
   "metadata": {
    "execution": {
     "iopub.execute_input": "2023-02-06T12:24:24.446097Z",
     "iopub.status.busy": "2023-02-06T12:24:24.445662Z",
     "iopub.status.idle": "2023-02-06T12:30:49.107020Z",
     "shell.execute_reply": "2023-02-06T12:30:49.105926Z"
    },
    "papermill": {
     "duration": 384.675336,
     "end_time": "2023-02-06T12:30:49.109494",
     "exception": false,
     "start_time": "2023-02-06T12:24:24.434158",
     "status": "completed"
    },
    "tags": []
   },
   "outputs": [
    {
     "name": "stdout",
     "output_type": "stream",
     "text": [
      "Epoch 1/200\n"
     ]
    },
    {
     "name": "stderr",
     "output_type": "stream",
     "text": [
      "2023-02-06 12:24:24.512111: I tensorflow/compiler/mlir/mlir_graph_optimization_pass.cc:185] None of the MLIR Optimization Passes are enabled (registered 2)\n"
     ]
    },
    {
     "name": "stdout",
     "output_type": "stream",
     "text": [
      "91/91 [==============================] - 9s 36ms/step - loss: 0.9418 - val_loss: 0.8305\n",
      "Epoch 2/200\n",
      "91/91 [==============================] - 2s 27ms/step - loss: 0.8978 - val_loss: 0.8877\n",
      "Epoch 3/200\n",
      "91/91 [==============================] - 2s 20ms/step - loss: 0.8762 - val_loss: 1.2097\n",
      "Epoch 4/200\n",
      "91/91 [==============================] - 2s 21ms/step - loss: 0.8605 - val_loss: 1.1655\n",
      "Epoch 5/200\n",
      "91/91 [==============================] - 2s 20ms/step - loss: 0.8529 - val_loss: 1.3061\n",
      "Epoch 6/200\n",
      "91/91 [==============================] - 2s 20ms/step - loss: 0.8291 - val_loss: 1.7897\n",
      "Epoch 7/200\n",
      "91/91 [==============================] - 2s 20ms/step - loss: 0.8011 - val_loss: 2.0060\n",
      "Epoch 8/200\n",
      "91/91 [==============================] - 2s 20ms/step - loss: 0.7911 - val_loss: 2.2957\n",
      "Epoch 9/200\n",
      "91/91 [==============================] - 2s 20ms/step - loss: 0.7740 - val_loss: 2.4405\n",
      "Epoch 10/200\n",
      "91/91 [==============================] - 2s 21ms/step - loss: 0.7568 - val_loss: 2.9531\n",
      "Epoch 11/200\n",
      "91/91 [==============================] - 2s 20ms/step - loss: 0.7475 - val_loss: 2.6537\n",
      "Epoch 12/200\n",
      "91/91 [==============================] - 2s 20ms/step - loss: 0.6728 - val_loss: 3.0642\n",
      "Epoch 13/200\n",
      "91/91 [==============================] - 2s 20ms/step - loss: 0.6013 - val_loss: 2.4365\n",
      "Epoch 14/200\n",
      "91/91 [==============================] - 2s 20ms/step - loss: 0.6001 - val_loss: 4.4125\n",
      "Epoch 15/200\n",
      "91/91 [==============================] - 2s 20ms/step - loss: 0.6354 - val_loss: 1.4950\n",
      "Epoch 16/200\n",
      "91/91 [==============================] - 2s 21ms/step - loss: 0.6093 - val_loss: 2.5466\n",
      "Epoch 17/200\n",
      "91/91 [==============================] - 2s 21ms/step - loss: 0.5601 - val_loss: 1.5185\n",
      "Epoch 18/200\n",
      "91/91 [==============================] - 2s 20ms/step - loss: 0.5047 - val_loss: 2.6124\n",
      "Epoch 19/200\n",
      "91/91 [==============================] - 2s 26ms/step - loss: 0.4686 - val_loss: 2.1926\n",
      "Epoch 20/200\n",
      "91/91 [==============================] - 2s 20ms/step - loss: 0.4695 - val_loss: 3.1131\n",
      "Epoch 21/200\n",
      "91/91 [==============================] - 2s 20ms/step - loss: 0.4425 - val_loss: 4.0814\n",
      "Epoch 22/200\n",
      "91/91 [==============================] - 2s 21ms/step - loss: 0.4690 - val_loss: 1.8391\n",
      "Epoch 23/200\n",
      "91/91 [==============================] - 2s 21ms/step - loss: 0.4275 - val_loss: 3.4308\n",
      "Epoch 24/200\n",
      "91/91 [==============================] - 2s 20ms/step - loss: 0.3690 - val_loss: 2.9909\n",
      "Epoch 25/200\n",
      "91/91 [==============================] - 2s 20ms/step - loss: 0.3762 - val_loss: 3.3511\n",
      "Epoch 26/200\n",
      "91/91 [==============================] - 2s 20ms/step - loss: 0.3885 - val_loss: 2.0280\n",
      "Epoch 27/200\n",
      "91/91 [==============================] - 2s 20ms/step - loss: 0.3776 - val_loss: 3.0261\n",
      "Epoch 28/200\n",
      "91/91 [==============================] - 2s 20ms/step - loss: 0.3685 - val_loss: 3.1137\n",
      "Epoch 29/200\n",
      "91/91 [==============================] - 2s 21ms/step - loss: 0.3895 - val_loss: 3.1220\n",
      "Epoch 30/200\n",
      "91/91 [==============================] - 2s 20ms/step - loss: 0.4480 - val_loss: 3.2623\n",
      "Epoch 31/200\n",
      "91/91 [==============================] - 2s 20ms/step - loss: 0.3603 - val_loss: 2.0771\n",
      "Epoch 32/200\n",
      "91/91 [==============================] - 2s 20ms/step - loss: 0.3004 - val_loss: 3.2283\n",
      "Epoch 33/200\n",
      "91/91 [==============================] - 2s 20ms/step - loss: 0.2168 - val_loss: 3.3664\n",
      "Epoch 34/200\n",
      "91/91 [==============================] - 2s 21ms/step - loss: 0.1757 - val_loss: 3.5626\n",
      "Epoch 35/200\n",
      "91/91 [==============================] - 2s 27ms/step - loss: 0.1780 - val_loss: 3.6609\n",
      "Epoch 36/200\n",
      "91/91 [==============================] - 2s 20ms/step - loss: 0.2976 - val_loss: 3.9939\n",
      "Epoch 37/200\n",
      "91/91 [==============================] - 2s 20ms/step - loss: 0.2644 - val_loss: 3.6563\n",
      "Epoch 38/200\n",
      "91/91 [==============================] - 2s 20ms/step - loss: 0.2608 - val_loss: 4.5814\n",
      "Epoch 39/200\n",
      "91/91 [==============================] - 2s 21ms/step - loss: 0.4068 - val_loss: 3.8710\n",
      "Epoch 40/200\n",
      "91/91 [==============================] - 2s 20ms/step - loss: 0.4511 - val_loss: 3.4565\n",
      "Epoch 41/200\n",
      "91/91 [==============================] - 2s 20ms/step - loss: 0.2592 - val_loss: 3.6664\n",
      "Epoch 42/200\n",
      "91/91 [==============================] - 2s 20ms/step - loss: 0.2210 - val_loss: 3.5882\n",
      "Epoch 43/200\n",
      "91/91 [==============================] - 2s 20ms/step - loss: 0.1783 - val_loss: 5.1240\n",
      "Epoch 44/200\n",
      "91/91 [==============================] - 2s 20ms/step - loss: 0.1678 - val_loss: 3.6685\n",
      "Epoch 45/200\n",
      "91/91 [==============================] - 2s 22ms/step - loss: 0.1343 - val_loss: 4.3602\n",
      "Epoch 46/200\n",
      "91/91 [==============================] - 2s 20ms/step - loss: 0.1200 - val_loss: 5.8901\n",
      "Epoch 47/200\n",
      "91/91 [==============================] - 2s 20ms/step - loss: 0.2017 - val_loss: 3.6413\n",
      "Epoch 48/200\n",
      "91/91 [==============================] - 2s 20ms/step - loss: 0.2289 - val_loss: 4.6441\n",
      "Epoch 49/200\n",
      "91/91 [==============================] - 2s 20ms/step - loss: 0.2595 - val_loss: 3.9532\n",
      "Epoch 50/200\n",
      "91/91 [==============================] - 2s 20ms/step - loss: 0.1493 - val_loss: 4.6745\n",
      "Epoch 51/200\n",
      "91/91 [==============================] - 2s 21ms/step - loss: 0.1064 - val_loss: 4.3775\n",
      "Epoch 52/200\n",
      "91/91 [==============================] - 2s 26ms/step - loss: 0.1242 - val_loss: 4.8696\n",
      "Epoch 53/200\n",
      "91/91 [==============================] - 2s 20ms/step - loss: 0.1270 - val_loss: 3.9590\n",
      "Epoch 54/200\n",
      "91/91 [==============================] - 2s 20ms/step - loss: 0.0980 - val_loss: 4.7360\n",
      "Epoch 55/200\n",
      "91/91 [==============================] - 2s 20ms/step - loss: 0.0924 - val_loss: 4.5452\n",
      "Epoch 56/200\n",
      "91/91 [==============================] - 2s 20ms/step - loss: 0.0989 - val_loss: 4.2207\n",
      "Epoch 57/200\n",
      "91/91 [==============================] - 2s 21ms/step - loss: 0.0898 - val_loss: 4.8004\n",
      "Epoch 58/200\n",
      "91/91 [==============================] - 2s 20ms/step - loss: 0.1417 - val_loss: 3.5764\n",
      "Epoch 59/200\n",
      "91/91 [==============================] - 2s 20ms/step - loss: 0.2440 - val_loss: 4.6916\n",
      "Epoch 60/200\n",
      "91/91 [==============================] - 2s 20ms/step - loss: 0.2732 - val_loss: 2.8806\n",
      "Epoch 61/200\n",
      "91/91 [==============================] - 2s 20ms/step - loss: 0.1549 - val_loss: 3.9791\n",
      "Epoch 62/200\n",
      "91/91 [==============================] - 2s 20ms/step - loss: 0.0913 - val_loss: 3.5497\n",
      "Epoch 63/200\n",
      "91/91 [==============================] - 2s 21ms/step - loss: 0.0895 - val_loss: 3.9190\n",
      "Epoch 64/200\n",
      "91/91 [==============================] - 2s 20ms/step - loss: 0.0658 - val_loss: 3.9325\n",
      "Epoch 65/200\n",
      "91/91 [==============================] - 2s 20ms/step - loss: 0.0574 - val_loss: 3.8916\n",
      "Epoch 66/200\n",
      "91/91 [==============================] - 2s 20ms/step - loss: 0.0452 - val_loss: 4.0427\n",
      "Epoch 67/200\n",
      "91/91 [==============================] - 2s 20ms/step - loss: 0.0380 - val_loss: 3.4875\n",
      "Epoch 68/200\n",
      "91/91 [==============================] - 2s 21ms/step - loss: 0.0430 - val_loss: 4.2518\n",
      "Epoch 69/200\n",
      "91/91 [==============================] - 2s 26ms/step - loss: 0.0365 - val_loss: 3.5520\n",
      "Epoch 70/200\n",
      "91/91 [==============================] - 2s 21ms/step - loss: 0.0358 - val_loss: 4.0612\n",
      "Epoch 71/200\n",
      "91/91 [==============================] - 2s 21ms/step - loss: 0.0521 - val_loss: 3.7651\n",
      "Epoch 72/200\n",
      "91/91 [==============================] - 2s 21ms/step - loss: 0.0927 - val_loss: 3.9939\n",
      "Epoch 73/200\n",
      "91/91 [==============================] - 2s 21ms/step - loss: 0.3138 - val_loss: 3.5209\n",
      "Epoch 74/200\n",
      "91/91 [==============================] - 2s 21ms/step - loss: 0.2324 - val_loss: 3.2886\n",
      "Epoch 75/200\n",
      "91/91 [==============================] - 2s 20ms/step - loss: 0.1090 - val_loss: 3.4177\n",
      "Epoch 76/200\n",
      "91/91 [==============================] - 2s 20ms/step - loss: 0.0846 - val_loss: 3.3698\n",
      "Epoch 77/200\n",
      "91/91 [==============================] - 2s 21ms/step - loss: 0.0836 - val_loss: 3.2611\n",
      "Epoch 78/200\n",
      "91/91 [==============================] - 2s 20ms/step - loss: 0.0267 - val_loss: 3.8315\n",
      "Epoch 79/200\n",
      "91/91 [==============================] - 2s 20ms/step - loss: 0.0222 - val_loss: 3.2392\n",
      "Epoch 80/200\n",
      "91/91 [==============================] - 2s 21ms/step - loss: 0.0233 - val_loss: 3.5754\n",
      "Epoch 81/200\n",
      "91/91 [==============================] - 2s 20ms/step - loss: 0.0239 - val_loss: 3.3138\n",
      "Epoch 82/200\n",
      "91/91 [==============================] - 2s 21ms/step - loss: 0.0267 - val_loss: 3.5576\n",
      "Epoch 83/200\n",
      "91/91 [==============================] - 2s 20ms/step - loss: 0.0213 - val_loss: 3.4601\n",
      "Epoch 84/200\n",
      "91/91 [==============================] - 2s 20ms/step - loss: 0.0163 - val_loss: 3.1962\n",
      "Epoch 85/200\n",
      "91/91 [==============================] - 2s 27ms/step - loss: 0.0160 - val_loss: 3.5582\n",
      "Epoch 86/200\n",
      "91/91 [==============================] - 2s 20ms/step - loss: 0.0248 - val_loss: 3.1083\n",
      "Epoch 87/200\n",
      "91/91 [==============================] - 2s 20ms/step - loss: 0.0272 - val_loss: 3.4283\n",
      "Epoch 88/200\n",
      "91/91 [==============================] - 2s 20ms/step - loss: 0.0245 - val_loss: 3.1455\n",
      "Epoch 89/200\n",
      "91/91 [==============================] - 2s 20ms/step - loss: 0.0192 - val_loss: 3.3862\n",
      "Epoch 90/200\n",
      "91/91 [==============================] - 2s 20ms/step - loss: 0.0176 - val_loss: 3.1100\n",
      "Epoch 91/200\n",
      "91/91 [==============================] - 2s 20ms/step - loss: 0.0248 - val_loss: 3.5165\n",
      "Epoch 92/200\n",
      "91/91 [==============================] - 2s 21ms/step - loss: 0.0300 - val_loss: 2.8047\n",
      "Epoch 93/200\n",
      "91/91 [==============================] - 2s 21ms/step - loss: 0.0362 - val_loss: 3.3489\n",
      "Epoch 94/200\n",
      "91/91 [==============================] - 2s 20ms/step - loss: 0.0268 - val_loss: 3.0176\n",
      "Epoch 95/200\n",
      "91/91 [==============================] - 2s 20ms/step - loss: 0.0374 - val_loss: 3.1196\n",
      "Epoch 96/200\n",
      "91/91 [==============================] - 2s 20ms/step - loss: 0.0761 - val_loss: 2.7512\n",
      "Epoch 97/200\n",
      "91/91 [==============================] - 2s 20ms/step - loss: 0.0849 - val_loss: 3.0144\n",
      "Epoch 98/200\n",
      "91/91 [==============================] - 2s 21ms/step - loss: 0.0649 - val_loss: 2.7372\n",
      "Epoch 99/200\n",
      "91/91 [==============================] - 2s 20ms/step - loss: 0.1232 - val_loss: 3.0187\n",
      "Epoch 100/200\n",
      "91/91 [==============================] - 2s 20ms/step - loss: 0.1414 - val_loss: 2.0862\n",
      "Epoch 101/200\n",
      "91/91 [==============================] - 2s 20ms/step - loss: 0.0861 - val_loss: 3.2239\n",
      "Epoch 102/200\n",
      "91/91 [==============================] - 2s 27ms/step - loss: 0.0732 - val_loss: 2.8169\n",
      "Epoch 103/200\n",
      "91/91 [==============================] - 2s 22ms/step - loss: 0.0976 - val_loss: 2.9652\n",
      "Epoch 104/200\n",
      "91/91 [==============================] - 2s 21ms/step - loss: 0.0868 - val_loss: 2.5036\n",
      "Epoch 105/200\n",
      "91/91 [==============================] - 2s 21ms/step - loss: 0.0446 - val_loss: 2.8065\n",
      "Epoch 106/200\n",
      "91/91 [==============================] - 2s 21ms/step - loss: 0.0421 - val_loss: 2.6824\n",
      "Epoch 107/200\n",
      "91/91 [==============================] - 2s 21ms/step - loss: 0.0295 - val_loss: 2.6013\n",
      "Epoch 108/200\n",
      "91/91 [==============================] - 2s 20ms/step - loss: 0.0233 - val_loss: 2.8263\n",
      "Epoch 109/200\n",
      "91/91 [==============================] - 2s 22ms/step - loss: 0.0401 - val_loss: 2.5104\n",
      "Epoch 110/200\n",
      "91/91 [==============================] - 2s 20ms/step - loss: 0.0149 - val_loss: 2.6424\n",
      "Epoch 111/200\n",
      "91/91 [==============================] - 2s 20ms/step - loss: 0.0095 - val_loss: 2.5157\n",
      "Epoch 112/200\n",
      "91/91 [==============================] - 2s 20ms/step - loss: 0.0059 - val_loss: 2.6852\n",
      "Epoch 113/200\n",
      "91/91 [==============================] - 2s 20ms/step - loss: 0.0030 - val_loss: 2.5699\n",
      "Epoch 114/200\n",
      "91/91 [==============================] - 2s 20ms/step - loss: 0.0031 - val_loss: 2.5965\n",
      "Epoch 115/200\n",
      "91/91 [==============================] - 2s 20ms/step - loss: 0.0033 - val_loss: 2.5998\n",
      "Epoch 116/200\n",
      "91/91 [==============================] - 2s 20ms/step - loss: 0.0028 - val_loss: 2.6320\n",
      "Epoch 117/200\n",
      "91/91 [==============================] - 2s 20ms/step - loss: 0.0032 - val_loss: 2.5428\n",
      "Epoch 118/200\n",
      "91/91 [==============================] - 2s 26ms/step - loss: 0.0048 - val_loss: 2.6700\n",
      "Epoch 119/200\n",
      "91/91 [==============================] - 2s 20ms/step - loss: 0.0069 - val_loss: 2.5677\n",
      "Epoch 120/200\n",
      "91/91 [==============================] - 2s 20ms/step - loss: 0.0119 - val_loss: 2.5197\n",
      "Epoch 121/200\n",
      "91/91 [==============================] - 2s 21ms/step - loss: 0.0178 - val_loss: 2.5908\n",
      "Epoch 122/200\n",
      "91/91 [==============================] - 2s 20ms/step - loss: 0.0273 - val_loss: 2.6355\n",
      "Epoch 123/200\n",
      "91/91 [==============================] - 2s 20ms/step - loss: 0.0370 - val_loss: 2.4344\n",
      "Epoch 124/200\n",
      "91/91 [==============================] - 2s 20ms/step - loss: 0.0338 - val_loss: 2.6169\n",
      "Epoch 125/200\n",
      "91/91 [==============================] - 2s 22ms/step - loss: 0.0502 - val_loss: 2.6299\n",
      "Epoch 126/200\n",
      "91/91 [==============================] - 2s 20ms/step - loss: 0.0493 - val_loss: 2.0025\n",
      "Epoch 127/200\n",
      "91/91 [==============================] - 2s 21ms/step - loss: 0.0385 - val_loss: 2.9017\n",
      "Epoch 128/200\n",
      "91/91 [==============================] - 2s 20ms/step - loss: 0.0740 - val_loss: 2.4104\n",
      "Epoch 129/200\n",
      "91/91 [==============================] - 2s 20ms/step - loss: 0.0858 - val_loss: 2.1935\n",
      "Epoch 130/200\n",
      "91/91 [==============================] - 2s 20ms/step - loss: 0.0570 - val_loss: 2.3325\n",
      "Epoch 131/200\n",
      "91/91 [==============================] - 2s 20ms/step - loss: 0.0686 - val_loss: 2.2783\n",
      "Epoch 132/200\n",
      "91/91 [==============================] - 2s 20ms/step - loss: 0.0345 - val_loss: 2.3630\n",
      "Epoch 133/200\n",
      "91/91 [==============================] - 2s 20ms/step - loss: 0.0539 - val_loss: 2.2896\n",
      "Epoch 134/200\n",
      "91/91 [==============================] - 2s 20ms/step - loss: 0.0401 - val_loss: 2.1735\n",
      "Epoch 135/200\n",
      "91/91 [==============================] - 2s 26ms/step - loss: 0.0189 - val_loss: 2.0226\n",
      "Epoch 136/200\n",
      "91/91 [==============================] - 2s 20ms/step - loss: 0.0092 - val_loss: 2.1798\n",
      "Epoch 137/200\n",
      "91/91 [==============================] - 2s 20ms/step - loss: 0.0083 - val_loss: 2.2640\n",
      "Epoch 138/200\n",
      "91/91 [==============================] - 2s 21ms/step - loss: 0.0109 - val_loss: 1.9803\n",
      "Epoch 139/200\n",
      "91/91 [==============================] - 2s 20ms/step - loss: 0.0153 - val_loss: 2.2340\n",
      "Epoch 140/200\n",
      "91/91 [==============================] - 2s 20ms/step - loss: 0.0112 - val_loss: 2.0817\n",
      "Epoch 141/200\n",
      "91/91 [==============================] - 2s 21ms/step - loss: 0.0104 - val_loss: 2.1909\n",
      "Epoch 142/200\n",
      "91/91 [==============================] - 2s 20ms/step - loss: 0.0106 - val_loss: 2.0479\n",
      "Epoch 143/200\n",
      "91/91 [==============================] - 2s 20ms/step - loss: 0.0126 - val_loss: 2.0930\n",
      "Epoch 144/200\n",
      "91/91 [==============================] - 2s 21ms/step - loss: 0.0098 - val_loss: 2.1488\n",
      "Epoch 145/200\n",
      "91/91 [==============================] - 2s 20ms/step - loss: 0.0089 - val_loss: 2.1815\n",
      "Epoch 146/200\n",
      "91/91 [==============================] - 2s 20ms/step - loss: 0.0083 - val_loss: 1.9417\n",
      "Epoch 147/200\n",
      "91/91 [==============================] - 2s 20ms/step - loss: 0.0128 - val_loss: 2.2415\n",
      "Epoch 148/200\n",
      "91/91 [==============================] - 2s 20ms/step - loss: 0.0198 - val_loss: 2.0282\n",
      "Epoch 149/200\n",
      "91/91 [==============================] - 2s 20ms/step - loss: 0.0188 - val_loss: 2.1568\n",
      "Epoch 150/200\n",
      "91/91 [==============================] - 2s 21ms/step - loss: 0.0270 - val_loss: 1.9940\n",
      "Epoch 151/200\n",
      "91/91 [==============================] - 2s 22ms/step - loss: 0.0446 - val_loss: 2.2170\n",
      "Epoch 152/200\n",
      "91/91 [==============================] - 2s 26ms/step - loss: 0.0910 - val_loss: 2.0507\n",
      "Epoch 153/200\n",
      "91/91 [==============================] - 2s 21ms/step - loss: 0.1464 - val_loss: 2.2180\n",
      "Epoch 154/200\n",
      "91/91 [==============================] - 2s 21ms/step - loss: 0.1324 - val_loss: 2.0785\n",
      "Epoch 155/200\n",
      "91/91 [==============================] - 2s 21ms/step - loss: 0.0679 - val_loss: 2.0198\n",
      "Epoch 156/200\n",
      "91/91 [==============================] - 2s 22ms/step - loss: 0.0330 - val_loss: 2.0404\n",
      "Epoch 157/200\n",
      "91/91 [==============================] - 2s 22ms/step - loss: 0.0109 - val_loss: 1.9813\n",
      "Epoch 158/200\n",
      "91/91 [==============================] - 2s 21ms/step - loss: 0.0044 - val_loss: 2.0088\n",
      "Epoch 159/200\n",
      "91/91 [==============================] - 2s 21ms/step - loss: 0.0018 - val_loss: 1.9563\n",
      "Epoch 160/200\n",
      "91/91 [==============================] - 2s 21ms/step - loss: 0.0015 - val_loss: 1.9971\n",
      "Epoch 161/200\n",
      "91/91 [==============================] - 2s 21ms/step - loss: 0.0014 - val_loss: 1.9888\n",
      "Epoch 162/200\n",
      "91/91 [==============================] - 2s 22ms/step - loss: 0.0013 - val_loss: 1.9750\n",
      "Epoch 163/200\n",
      "91/91 [==============================] - 2s 20ms/step - loss: 0.0011 - val_loss: 1.9601\n",
      "Epoch 164/200\n",
      "91/91 [==============================] - 2s 20ms/step - loss: 7.2313e-04 - val_loss: 1.9800\n",
      "Epoch 165/200\n",
      "91/91 [==============================] - 2s 20ms/step - loss: 5.5640e-04 - val_loss: 2.0145\n",
      "Epoch 166/200\n",
      "91/91 [==============================] - 2s 20ms/step - loss: 7.6912e-04 - val_loss: 1.9439\n",
      "Epoch 167/200\n",
      "91/91 [==============================] - 2s 21ms/step - loss: 0.0011 - val_loss: 1.9409\n",
      "Epoch 168/200\n",
      "91/91 [==============================] - 2s 26ms/step - loss: 0.0017 - val_loss: 2.0174\n",
      "Epoch 169/200\n",
      "91/91 [==============================] - 2s 20ms/step - loss: 0.0031 - val_loss: 1.9986\n",
      "Epoch 170/200\n",
      "91/91 [==============================] - 2s 20ms/step - loss: 0.0050 - val_loss: 1.8751\n",
      "Epoch 171/200\n",
      "91/91 [==============================] - 2s 20ms/step - loss: 0.0099 - val_loss: 1.9580\n",
      "Epoch 172/200\n",
      "91/91 [==============================] - 2s 20ms/step - loss: 0.0255 - val_loss: 2.1025\n",
      "Epoch 173/200\n",
      "91/91 [==============================] - 2s 22ms/step - loss: 0.0323 - val_loss: 1.6631\n",
      "Epoch 174/200\n",
      "91/91 [==============================] - 2s 20ms/step - loss: 0.0471 - val_loss: 1.8495\n",
      "Epoch 175/200\n",
      "91/91 [==============================] - 2s 21ms/step - loss: 0.0717 - val_loss: 1.6772\n",
      "Epoch 176/200\n",
      "91/91 [==============================] - 2s 21ms/step - loss: 0.0625 - val_loss: 2.2618\n",
      "Epoch 177/200\n",
      "91/91 [==============================] - 2s 21ms/step - loss: 0.0394 - val_loss: 1.7126\n",
      "Epoch 178/200\n",
      "91/91 [==============================] - 2s 20ms/step - loss: 0.0393 - val_loss: 1.8562\n",
      "Epoch 179/200\n",
      "91/91 [==============================] - 2s 21ms/step - loss: 0.0206 - val_loss: 1.7377\n",
      "Epoch 180/200\n",
      "91/91 [==============================] - 2s 20ms/step - loss: 0.0106 - val_loss: 1.9192\n",
      "Epoch 181/200\n",
      "91/91 [==============================] - 2s 20ms/step - loss: 0.0053 - val_loss: 1.8003\n",
      "Epoch 182/200\n",
      "91/91 [==============================] - 2s 20ms/step - loss: 0.0034 - val_loss: 1.7850\n",
      "Epoch 183/200\n",
      "91/91 [==============================] - 2s 20ms/step - loss: 0.0021 - val_loss: 1.8440\n",
      "Epoch 184/200\n",
      "91/91 [==============================] - 2s 27ms/step - loss: 0.0017 - val_loss: 1.8288\n",
      "Epoch 185/200\n",
      "91/91 [==============================] - 2s 21ms/step - loss: 0.0012 - val_loss: 1.7946\n",
      "Epoch 186/200\n",
      "91/91 [==============================] - 2s 20ms/step - loss: 0.0011 - val_loss: 1.8104\n",
      "Epoch 187/200\n",
      "91/91 [==============================] - 2s 20ms/step - loss: 8.6664e-04 - val_loss: 1.8284\n",
      "Epoch 188/200\n",
      "91/91 [==============================] - 2s 20ms/step - loss: 0.0013 - val_loss: 1.8019\n",
      "Epoch 189/200\n",
      "91/91 [==============================] - 2s 21ms/step - loss: 0.0023 - val_loss: 1.8435\n",
      "Epoch 190/200\n",
      "91/91 [==============================] - 2s 21ms/step - loss: 0.0022 - val_loss: 1.7911\n",
      "Epoch 191/200\n",
      "91/91 [==============================] - 2s 21ms/step - loss: 0.0028 - val_loss: 1.8195\n",
      "Epoch 192/200\n",
      "91/91 [==============================] - 2s 20ms/step - loss: 0.0037 - val_loss: 1.8272\n",
      "Epoch 193/200\n",
      "91/91 [==============================] - 2s 20ms/step - loss: 0.0052 - val_loss: 1.7912\n",
      "Epoch 194/200\n",
      "91/91 [==============================] - 2s 20ms/step - loss: 0.0096 - val_loss: 1.8438\n",
      "Epoch 195/200\n",
      "91/91 [==============================] - 2s 20ms/step - loss: 0.0159 - val_loss: 1.8022\n",
      "Epoch 196/200\n",
      "91/91 [==============================] - 2s 20ms/step - loss: 0.0181 - val_loss: 1.8948\n",
      "Epoch 197/200\n",
      "91/91 [==============================] - 2s 20ms/step - loss: 0.0259 - val_loss: 1.6180\n",
      "Epoch 198/200\n",
      "91/91 [==============================] - 2s 20ms/step - loss: 0.0465 - val_loss: 1.6320\n",
      "Epoch 199/200\n",
      "91/91 [==============================] - 2s 20ms/step - loss: 0.0509 - val_loss: 1.9465\n",
      "Epoch 200/200\n",
      "91/91 [==============================] - 2s 20ms/step - loss: 0.0247 - val_loss: 1.9444\n"
     ]
    }
   ],
   "source": [
    "history_bilstm = fit_model(model_bilstm)"
   ]
  },
  {
   "cell_type": "code",
   "execution_count": 24,
   "id": "1721b78c",
   "metadata": {
    "execution": {
     "iopub.execute_input": "2023-02-06T12:30:50.016658Z",
     "iopub.status.busy": "2023-02-06T12:30:50.016217Z",
     "iopub.status.idle": "2023-02-06T12:37:21.733587Z",
     "shell.execute_reply": "2023-02-06T12:37:21.732135Z"
    },
    "papermill": {
     "duration": 392.208618,
     "end_time": "2023-02-06T12:37:21.736302",
     "exception": false,
     "start_time": "2023-02-06T12:30:49.527684",
     "status": "completed"
    },
    "tags": []
   },
   "outputs": [
    {
     "name": "stdout",
     "output_type": "stream",
     "text": [
      "Epoch 1/200\n",
      "91/91 [==============================] - 6s 30ms/step - loss: 0.9837 - val_loss: 0.7733\n",
      "Epoch 2/200\n",
      "91/91 [==============================] - 2s 21ms/step - loss: 0.9668 - val_loss: 0.7674\n",
      "Epoch 3/200\n",
      "91/91 [==============================] - 2s 22ms/step - loss: 0.9676 - val_loss: 0.7709\n",
      "Epoch 4/200\n",
      "91/91 [==============================] - 2s 21ms/step - loss: 0.9374 - val_loss: 0.7698\n",
      "Epoch 5/200\n",
      "91/91 [==============================] - 2s 21ms/step - loss: 0.9280 - val_loss: 0.7739\n",
      "Epoch 6/200\n",
      "91/91 [==============================] - 2s 21ms/step - loss: 0.9216 - val_loss: 0.7743\n",
      "Epoch 7/200\n",
      "91/91 [==============================] - 2s 21ms/step - loss: 0.9276 - val_loss: 0.7686\n",
      "Epoch 8/200\n",
      "91/91 [==============================] - 2s 20ms/step - loss: 0.9268 - val_loss: 0.7752\n",
      "Epoch 9/200\n",
      "91/91 [==============================] - 2s 21ms/step - loss: 0.9240 - val_loss: 0.7813\n",
      "Epoch 10/200\n",
      "91/91 [==============================] - 2s 20ms/step - loss: 0.9395 - val_loss: 0.7875\n",
      "Epoch 11/200\n",
      "91/91 [==============================] - 2s 21ms/step - loss: 0.9205 - val_loss: 0.7907\n",
      "Epoch 12/200\n",
      "91/91 [==============================] - 2s 21ms/step - loss: 0.9146 - val_loss: 0.8018\n",
      "Epoch 13/200\n",
      "91/91 [==============================] - 2s 20ms/step - loss: 0.8854 - val_loss: 0.8075\n",
      "Epoch 14/200\n",
      "91/91 [==============================] - 2s 22ms/step - loss: 0.9015 - val_loss: 0.8351\n",
      "Epoch 15/200\n",
      "91/91 [==============================] - 3s 29ms/step - loss: 0.8895 - val_loss: 0.9125\n",
      "Epoch 16/200\n",
      "91/91 [==============================] - 2s 21ms/step - loss: 0.8366 - val_loss: 1.0757\n",
      "Epoch 17/200\n",
      "91/91 [==============================] - 2s 21ms/step - loss: 0.8376 - val_loss: 1.1056\n",
      "Epoch 18/200\n",
      "91/91 [==============================] - 2s 20ms/step - loss: 0.8662 - val_loss: 1.1397\n",
      "Epoch 19/200\n",
      "91/91 [==============================] - 2s 21ms/step - loss: 0.8400 - val_loss: 1.2218\n",
      "Epoch 20/200\n",
      "91/91 [==============================] - 2s 20ms/step - loss: 0.7769 - val_loss: 1.4109\n",
      "Epoch 21/200\n",
      "91/91 [==============================] - 2s 20ms/step - loss: 0.7943 - val_loss: 1.1834\n",
      "Epoch 22/200\n",
      "91/91 [==============================] - 2s 20ms/step - loss: 0.7895 - val_loss: 1.2526\n",
      "Epoch 23/200\n",
      "91/91 [==============================] - 2s 21ms/step - loss: 0.7596 - val_loss: 1.4224\n",
      "Epoch 24/200\n",
      "91/91 [==============================] - 2s 20ms/step - loss: 0.8044 - val_loss: 1.3984\n",
      "Epoch 25/200\n",
      "91/91 [==============================] - 2s 20ms/step - loss: 0.7720 - val_loss: 1.7180\n",
      "Epoch 26/200\n",
      "91/91 [==============================] - 2s 20ms/step - loss: 0.7363 - val_loss: 1.4509\n",
      "Epoch 27/200\n",
      "91/91 [==============================] - 2s 20ms/step - loss: 0.7094 - val_loss: 1.7219\n",
      "Epoch 28/200\n",
      "91/91 [==============================] - 2s 21ms/step - loss: 0.6698 - val_loss: 1.4285\n",
      "Epoch 29/200\n",
      "91/91 [==============================] - 2s 21ms/step - loss: 0.7049 - val_loss: 1.6351\n",
      "Epoch 30/200\n",
      "91/91 [==============================] - 2s 21ms/step - loss: 0.6749 - val_loss: 1.4931\n",
      "Epoch 31/200\n",
      "91/91 [==============================] - 2s 27ms/step - loss: 0.6826 - val_loss: 1.3811\n",
      "Epoch 32/200\n",
      "91/91 [==============================] - 2s 21ms/step - loss: 0.5975 - val_loss: 1.6168\n",
      "Epoch 33/200\n",
      "91/91 [==============================] - 2s 21ms/step - loss: 0.6482 - val_loss: 1.6009\n",
      "Epoch 34/200\n",
      "91/91 [==============================] - 2s 22ms/step - loss: 0.5719 - val_loss: 1.5329\n",
      "Epoch 35/200\n",
      "91/91 [==============================] - 2s 21ms/step - loss: 0.5930 - val_loss: 1.5745\n",
      "Epoch 36/200\n",
      "91/91 [==============================] - 2s 21ms/step - loss: 0.4733 - val_loss: 1.4422\n",
      "Epoch 37/200\n",
      "91/91 [==============================] - 2s 21ms/step - loss: 0.6533 - val_loss: 1.2820\n",
      "Epoch 38/200\n",
      "91/91 [==============================] - 2s 21ms/step - loss: 0.5210 - val_loss: 1.3324\n",
      "Epoch 39/200\n",
      "91/91 [==============================] - 2s 21ms/step - loss: 0.5009 - val_loss: 1.1803\n",
      "Epoch 40/200\n",
      "91/91 [==============================] - 2s 22ms/step - loss: 0.4574 - val_loss: 1.2850\n",
      "Epoch 41/200\n",
      "91/91 [==============================] - 2s 21ms/step - loss: 0.5004 - val_loss: 1.1513\n",
      "Epoch 42/200\n",
      "91/91 [==============================] - 2s 21ms/step - loss: 0.4171 - val_loss: 1.4478\n",
      "Epoch 43/200\n",
      "91/91 [==============================] - 2s 20ms/step - loss: 0.3926 - val_loss: 1.3527\n",
      "Epoch 44/200\n",
      "91/91 [==============================] - 2s 21ms/step - loss: 0.4229 - val_loss: 1.5178\n",
      "Epoch 45/200\n",
      "91/91 [==============================] - 2s 21ms/step - loss: 0.3513 - val_loss: 1.4011\n",
      "Epoch 46/200\n",
      "91/91 [==============================] - 2s 22ms/step - loss: 0.5209 - val_loss: 1.5263\n",
      "Epoch 47/200\n",
      "91/91 [==============================] - 2s 26ms/step - loss: 0.4547 - val_loss: 1.3818\n",
      "Epoch 48/200\n",
      "91/91 [==============================] - 2s 21ms/step - loss: 0.4196 - val_loss: 1.3351\n",
      "Epoch 49/200\n",
      "91/91 [==============================] - 2s 21ms/step - loss: 0.4017 - val_loss: 1.5951\n",
      "Epoch 50/200\n",
      "91/91 [==============================] - 2s 21ms/step - loss: 0.3574 - val_loss: 1.1977\n",
      "Epoch 51/200\n",
      "91/91 [==============================] - 2s 21ms/step - loss: 0.3398 - val_loss: 1.4421\n",
      "Epoch 52/200\n",
      "91/91 [==============================] - 2s 21ms/step - loss: 0.2888 - val_loss: 1.4618\n",
      "Epoch 53/200\n",
      "91/91 [==============================] - 2s 21ms/step - loss: 0.3133 - val_loss: 1.4659\n",
      "Epoch 54/200\n",
      "91/91 [==============================] - 2s 21ms/step - loss: 0.2948 - val_loss: 1.4291\n",
      "Epoch 55/200\n",
      "91/91 [==============================] - 2s 21ms/step - loss: 0.3671 - val_loss: 1.4867\n",
      "Epoch 56/200\n",
      "91/91 [==============================] - 2s 21ms/step - loss: 0.4094 - val_loss: 1.1537\n",
      "Epoch 57/200\n",
      "91/91 [==============================] - 2s 21ms/step - loss: 0.3652 - val_loss: 1.4091\n",
      "Epoch 58/200\n",
      "91/91 [==============================] - 2s 21ms/step - loss: 0.3524 - val_loss: 1.5207\n",
      "Epoch 59/200\n",
      "91/91 [==============================] - 2s 21ms/step - loss: 0.3107 - val_loss: 1.5409\n",
      "Epoch 60/200\n",
      "91/91 [==============================] - 2s 21ms/step - loss: 0.2640 - val_loss: 1.4145\n",
      "Epoch 61/200\n",
      "91/91 [==============================] - 2s 21ms/step - loss: 0.2333 - val_loss: 1.5814\n",
      "Epoch 62/200\n",
      "91/91 [==============================] - 2s 22ms/step - loss: 0.2130 - val_loss: 1.4702\n",
      "Epoch 63/200\n",
      "91/91 [==============================] - 2s 27ms/step - loss: 0.2869 - val_loss: 1.7416\n",
      "Epoch 64/200\n",
      "91/91 [==============================] - 2s 21ms/step - loss: 0.3038 - val_loss: 1.3332\n",
      "Epoch 65/200\n",
      "91/91 [==============================] - 2s 21ms/step - loss: 0.2749 - val_loss: 1.9366\n",
      "Epoch 66/200\n",
      "91/91 [==============================] - 2s 21ms/step - loss: 0.2758 - val_loss: 1.8651\n",
      "Epoch 67/200\n",
      "91/91 [==============================] - 2s 21ms/step - loss: 0.2822 - val_loss: 1.3892\n",
      "Epoch 68/200\n",
      "91/91 [==============================] - 2s 22ms/step - loss: 0.1997 - val_loss: 1.3380\n",
      "Epoch 69/200\n",
      "91/91 [==============================] - 2s 21ms/step - loss: 0.2461 - val_loss: 2.1304\n",
      "Epoch 70/200\n",
      "91/91 [==============================] - 2s 21ms/step - loss: 0.2098 - val_loss: 1.7067\n",
      "Epoch 71/200\n",
      "91/91 [==============================] - 2s 21ms/step - loss: 0.2073 - val_loss: 1.9212\n",
      "Epoch 72/200\n",
      "91/91 [==============================] - 2s 21ms/step - loss: 0.3058 - val_loss: 1.5977\n",
      "Epoch 73/200\n",
      "91/91 [==============================] - 2s 21ms/step - loss: 0.3131 - val_loss: 1.4493\n",
      "Epoch 74/200\n",
      "91/91 [==============================] - 2s 22ms/step - loss: 0.3204 - val_loss: 1.9964\n",
      "Epoch 75/200\n",
      "91/91 [==============================] - 2s 21ms/step - loss: 0.2159 - val_loss: 1.5479\n",
      "Epoch 76/200\n",
      "91/91 [==============================] - 2s 21ms/step - loss: 0.3691 - val_loss: 1.3160\n",
      "Epoch 77/200\n",
      "91/91 [==============================] - 2s 21ms/step - loss: 0.4179 - val_loss: 1.4056\n",
      "Epoch 78/200\n",
      "91/91 [==============================] - 2s 22ms/step - loss: 0.2324 - val_loss: 1.7471\n",
      "Epoch 79/200\n",
      "91/91 [==============================] - 2s 27ms/step - loss: 0.1870 - val_loss: 1.5803\n",
      "Epoch 80/200\n",
      "91/91 [==============================] - 2s 21ms/step - loss: 0.1525 - val_loss: 1.5545\n",
      "Epoch 81/200\n",
      "91/91 [==============================] - 2s 21ms/step - loss: 0.1932 - val_loss: 1.7130\n",
      "Epoch 82/200\n",
      "91/91 [==============================] - 2s 21ms/step - loss: 0.1685 - val_loss: 1.3994\n",
      "Epoch 83/200\n",
      "91/91 [==============================] - 2s 21ms/step - loss: 0.1463 - val_loss: 1.6287\n",
      "Epoch 84/200\n",
      "91/91 [==============================] - 2s 21ms/step - loss: 0.1665 - val_loss: 1.7807\n",
      "Epoch 85/200\n",
      "91/91 [==============================] - 2s 21ms/step - loss: 0.1529 - val_loss: 1.5749\n",
      "Epoch 86/200\n",
      "91/91 [==============================] - 2s 21ms/step - loss: 0.1613 - val_loss: 1.4797\n",
      "Epoch 87/200\n",
      "91/91 [==============================] - 2s 21ms/step - loss: 0.1763 - val_loss: 1.5954\n",
      "Epoch 88/200\n",
      "91/91 [==============================] - 2s 21ms/step - loss: 0.1766 - val_loss: 1.3382\n",
      "Epoch 89/200\n",
      "91/91 [==============================] - 2s 21ms/step - loss: 0.2354 - val_loss: 1.0789\n",
      "Epoch 90/200\n",
      "91/91 [==============================] - 2s 21ms/step - loss: 0.2268 - val_loss: 1.8379\n",
      "Epoch 91/200\n",
      "91/91 [==============================] - 2s 22ms/step - loss: 0.1414 - val_loss: 1.6868\n",
      "Epoch 92/200\n",
      "91/91 [==============================] - 2s 21ms/step - loss: 0.1839 - val_loss: 1.5949\n",
      "Epoch 93/200\n",
      "91/91 [==============================] - 2s 21ms/step - loss: 0.1720 - val_loss: 1.9043\n",
      "Epoch 94/200\n",
      "91/91 [==============================] - 2s 22ms/step - loss: 0.1557 - val_loss: 1.5482\n",
      "Epoch 95/200\n",
      "91/91 [==============================] - 2s 26ms/step - loss: 0.1487 - val_loss: 1.7528\n",
      "Epoch 96/200\n",
      "91/91 [==============================] - 2s 22ms/step - loss: 0.1312 - val_loss: 1.5180\n",
      "Epoch 97/200\n",
      "91/91 [==============================] - 2s 21ms/step - loss: 0.1514 - val_loss: 1.9443\n",
      "Epoch 98/200\n",
      "91/91 [==============================] - 2s 21ms/step - loss: 0.1526 - val_loss: 1.9339\n",
      "Epoch 99/200\n",
      "91/91 [==============================] - 2s 21ms/step - loss: 0.1253 - val_loss: 1.5989\n",
      "Epoch 100/200\n",
      "91/91 [==============================] - 2s 21ms/step - loss: 0.1388 - val_loss: 1.3343\n",
      "Epoch 101/200\n",
      "91/91 [==============================] - 2s 21ms/step - loss: 0.1366 - val_loss: 1.7822\n",
      "Epoch 102/200\n",
      "91/91 [==============================] - 2s 21ms/step - loss: 0.1422 - val_loss: 2.0142\n",
      "Epoch 103/200\n",
      "91/91 [==============================] - 2s 20ms/step - loss: 0.1670 - val_loss: 1.4138\n",
      "Epoch 104/200\n",
      "91/91 [==============================] - 2s 21ms/step - loss: 0.1955 - val_loss: 1.8340\n",
      "Epoch 105/200\n",
      "91/91 [==============================] - 2s 21ms/step - loss: 0.1967 - val_loss: 1.6022\n",
      "Epoch 106/200\n",
      "91/91 [==============================] - 2s 21ms/step - loss: 0.1959 - val_loss: 1.6417\n",
      "Epoch 107/200\n",
      "91/91 [==============================] - 2s 21ms/step - loss: 0.1087 - val_loss: 1.7234\n",
      "Epoch 108/200\n",
      "91/91 [==============================] - 2s 21ms/step - loss: 0.1270 - val_loss: 1.5979\n",
      "Epoch 109/200\n",
      "91/91 [==============================] - 2s 21ms/step - loss: 0.1640 - val_loss: 1.4450\n",
      "Epoch 110/200\n",
      "91/91 [==============================] - 2s 22ms/step - loss: 0.2038 - val_loss: 1.5457\n",
      "Epoch 111/200\n",
      "91/91 [==============================] - 2s 24ms/step - loss: 0.2077 - val_loss: 1.6644\n",
      "Epoch 112/200\n",
      "91/91 [==============================] - 2s 22ms/step - loss: 0.1698 - val_loss: 1.3097\n",
      "Epoch 113/200\n",
      "91/91 [==============================] - 2s 21ms/step - loss: 0.1559 - val_loss: 1.6085\n",
      "Epoch 114/200\n",
      "91/91 [==============================] - 2s 21ms/step - loss: 0.1352 - val_loss: 1.5068\n",
      "Epoch 115/200\n",
      "91/91 [==============================] - 2s 21ms/step - loss: 0.1339 - val_loss: 1.5182\n",
      "Epoch 116/200\n",
      "91/91 [==============================] - 2s 21ms/step - loss: 0.1670 - val_loss: 1.5257\n",
      "Epoch 117/200\n",
      "91/91 [==============================] - 2s 21ms/step - loss: 0.1161 - val_loss: 1.4638\n",
      "Epoch 118/200\n",
      "91/91 [==============================] - 2s 21ms/step - loss: 0.1641 - val_loss: 1.6234\n",
      "Epoch 119/200\n",
      "91/91 [==============================] - 2s 22ms/step - loss: 0.2030 - val_loss: 1.2264\n",
      "Epoch 120/200\n",
      "91/91 [==============================] - 2s 22ms/step - loss: 0.1629 - val_loss: 1.6692\n",
      "Epoch 121/200\n",
      "91/91 [==============================] - 2s 21ms/step - loss: 0.1196 - val_loss: 1.4502\n",
      "Epoch 122/200\n",
      "91/91 [==============================] - 2s 21ms/step - loss: 0.1459 - val_loss: 1.3691\n",
      "Epoch 123/200\n",
      "91/91 [==============================] - 2s 21ms/step - loss: 0.1187 - val_loss: 1.5952\n",
      "Epoch 124/200\n",
      "91/91 [==============================] - 2s 21ms/step - loss: 0.1264 - val_loss: 1.7682\n",
      "Epoch 125/200\n",
      "91/91 [==============================] - 2s 22ms/step - loss: 0.0871 - val_loss: 1.6461\n",
      "Epoch 126/200\n",
      "91/91 [==============================] - 2s 22ms/step - loss: 0.1198 - val_loss: 1.5288\n",
      "Epoch 127/200\n",
      "91/91 [==============================] - 2s 25ms/step - loss: 0.0944 - val_loss: 1.5613\n",
      "Epoch 128/200\n",
      "91/91 [==============================] - 2s 22ms/step - loss: 0.1201 - val_loss: 1.7115\n",
      "Epoch 129/200\n",
      "91/91 [==============================] - 2s 21ms/step - loss: 0.0871 - val_loss: 1.5116\n",
      "Epoch 130/200\n",
      "91/91 [==============================] - 2s 21ms/step - loss: 0.0867 - val_loss: 1.5953\n",
      "Epoch 131/200\n",
      "91/91 [==============================] - 2s 21ms/step - loss: 0.0743 - val_loss: 1.7094\n",
      "Epoch 132/200\n",
      "91/91 [==============================] - 2s 21ms/step - loss: 0.0960 - val_loss: 1.6436\n",
      "Epoch 133/200\n",
      "91/91 [==============================] - 2s 21ms/step - loss: 0.0968 - val_loss: 1.3982\n",
      "Epoch 134/200\n",
      "91/91 [==============================] - 2s 21ms/step - loss: 0.1010 - val_loss: 1.3514\n",
      "Epoch 135/200\n",
      "91/91 [==============================] - 2s 21ms/step - loss: 0.0905 - val_loss: 1.6561\n",
      "Epoch 136/200\n",
      "91/91 [==============================] - 2s 21ms/step - loss: 0.1446 - val_loss: 1.5789\n",
      "Epoch 137/200\n",
      "91/91 [==============================] - 2s 21ms/step - loss: 0.1869 - val_loss: 1.1350\n",
      "Epoch 138/200\n",
      "91/91 [==============================] - 2s 21ms/step - loss: 0.2620 - val_loss: 1.3182\n",
      "Epoch 139/200\n",
      "91/91 [==============================] - 2s 21ms/step - loss: 0.1456 - val_loss: 1.5147\n",
      "Epoch 140/200\n",
      "91/91 [==============================] - 2s 21ms/step - loss: 0.1118 - val_loss: 1.4742\n",
      "Epoch 141/200\n",
      "91/91 [==============================] - 2s 22ms/step - loss: 0.1107 - val_loss: 1.6062\n",
      "Epoch 142/200\n",
      "91/91 [==============================] - 2s 22ms/step - loss: 0.0794 - val_loss: 1.5811\n",
      "Epoch 143/200\n",
      "91/91 [==============================] - 2s 23ms/step - loss: 0.0631 - val_loss: 1.6706\n",
      "Epoch 144/200\n",
      "91/91 [==============================] - 2s 23ms/step - loss: 0.0608 - val_loss: 1.9633\n",
      "Epoch 145/200\n",
      "91/91 [==============================] - 2s 21ms/step - loss: 0.0632 - val_loss: 1.5844\n",
      "Epoch 146/200\n",
      "91/91 [==============================] - 2s 21ms/step - loss: 0.0692 - val_loss: 1.1929\n",
      "Epoch 147/200\n",
      "91/91 [==============================] - 2s 21ms/step - loss: 0.0402 - val_loss: 1.6415\n",
      "Epoch 148/200\n",
      "91/91 [==============================] - 2s 21ms/step - loss: 0.0592 - val_loss: 1.5294\n",
      "Epoch 149/200\n",
      "91/91 [==============================] - 2s 21ms/step - loss: 0.0632 - val_loss: 1.4826\n",
      "Epoch 150/200\n",
      "91/91 [==============================] - 2s 21ms/step - loss: 0.0757 - val_loss: 1.7076\n",
      "Epoch 151/200\n",
      "91/91 [==============================] - 2s 21ms/step - loss: 0.0750 - val_loss: 1.3745\n",
      "Epoch 152/200\n",
      "91/91 [==============================] - 2s 21ms/step - loss: 0.0909 - val_loss: 1.4850\n",
      "Epoch 153/200\n",
      "91/91 [==============================] - 2s 22ms/step - loss: 0.0764 - val_loss: 1.6787\n",
      "Epoch 154/200\n",
      "91/91 [==============================] - 2s 21ms/step - loss: 0.0586 - val_loss: 1.5474\n",
      "Epoch 155/200\n",
      "91/91 [==============================] - 2s 21ms/step - loss: 0.0883 - val_loss: 1.4800\n",
      "Epoch 156/200\n",
      "91/91 [==============================] - 2s 21ms/step - loss: 0.0589 - val_loss: 1.6070\n",
      "Epoch 157/200\n",
      "91/91 [==============================] - 2s 21ms/step - loss: 0.0622 - val_loss: 1.5415\n",
      "Epoch 158/200\n",
      "91/91 [==============================] - 2s 21ms/step - loss: 0.0650 - val_loss: 1.4849\n",
      "Epoch 159/200\n",
      "91/91 [==============================] - 2s 22ms/step - loss: 0.0620 - val_loss: 1.5836\n",
      "Epoch 160/200\n",
      "91/91 [==============================] - 2s 24ms/step - loss: 0.0559 - val_loss: 1.6502\n",
      "Epoch 161/200\n",
      "91/91 [==============================] - 2s 21ms/step - loss: 0.0643 - val_loss: 1.4570\n",
      "Epoch 162/200\n",
      "91/91 [==============================] - 2s 21ms/step - loss: 0.0788 - val_loss: 1.7538\n",
      "Epoch 163/200\n",
      "91/91 [==============================] - 2s 21ms/step - loss: 0.0716 - val_loss: 1.5362\n",
      "Epoch 164/200\n",
      "91/91 [==============================] - 2s 21ms/step - loss: 0.0768 - val_loss: 1.5900\n",
      "Epoch 165/200\n",
      "91/91 [==============================] - 2s 20ms/step - loss: 0.0789 - val_loss: 1.5500\n",
      "Epoch 166/200\n",
      "91/91 [==============================] - 2s 21ms/step - loss: 0.0825 - val_loss: 1.3351\n",
      "Epoch 167/200\n",
      "91/91 [==============================] - 2s 21ms/step - loss: 0.0847 - val_loss: 1.2870\n",
      "Epoch 168/200\n",
      "91/91 [==============================] - 2s 21ms/step - loss: 0.0681 - val_loss: 1.3671\n",
      "Epoch 169/200\n",
      "91/91 [==============================] - 2s 21ms/step - loss: 0.0828 - val_loss: 1.6640\n",
      "Epoch 170/200\n",
      "91/91 [==============================] - 2s 21ms/step - loss: 0.0964 - val_loss: 1.5942\n",
      "Epoch 171/200\n",
      "91/91 [==============================] - 2s 21ms/step - loss: 0.0888 - val_loss: 1.5221\n",
      "Epoch 172/200\n",
      "91/91 [==============================] - 2s 21ms/step - loss: 0.0481 - val_loss: 1.6014\n",
      "Epoch 173/200\n",
      "91/91 [==============================] - 2s 21ms/step - loss: 0.0582 - val_loss: 1.4555\n",
      "Epoch 174/200\n",
      "91/91 [==============================] - 2s 21ms/step - loss: 0.0571 - val_loss: 1.5923\n",
      "Epoch 175/200\n",
      "91/91 [==============================] - 2s 23ms/step - loss: 0.0680 - val_loss: 1.6544\n",
      "Epoch 176/200\n",
      "91/91 [==============================] - 2s 26ms/step - loss: 0.0544 - val_loss: 1.7179\n",
      "Epoch 177/200\n",
      "91/91 [==============================] - 2s 21ms/step - loss: 0.0627 - val_loss: 1.5759\n",
      "Epoch 178/200\n",
      "91/91 [==============================] - 2s 21ms/step - loss: 0.0606 - val_loss: 1.2966\n",
      "Epoch 179/200\n",
      "91/91 [==============================] - 2s 21ms/step - loss: 0.0645 - val_loss: 1.4238\n",
      "Epoch 180/200\n",
      "91/91 [==============================] - 2s 21ms/step - loss: 0.0504 - val_loss: 1.6196\n",
      "Epoch 181/200\n",
      "91/91 [==============================] - 2s 21ms/step - loss: 0.0636 - val_loss: 1.7010\n",
      "Epoch 182/200\n",
      "91/91 [==============================] - 2s 21ms/step - loss: 0.0811 - val_loss: 1.2609\n",
      "Epoch 183/200\n",
      "91/91 [==============================] - 2s 21ms/step - loss: 0.0624 - val_loss: 1.6543\n",
      "Epoch 184/200\n",
      "91/91 [==============================] - 2s 21ms/step - loss: 0.0702 - val_loss: 1.5206\n",
      "Epoch 185/200\n",
      "91/91 [==============================] - 2s 21ms/step - loss: 0.0493 - val_loss: 1.4334\n",
      "Epoch 186/200\n",
      "91/91 [==============================] - 2s 21ms/step - loss: 0.0533 - val_loss: 1.5182\n",
      "Epoch 187/200\n",
      "91/91 [==============================] - 2s 22ms/step - loss: 0.0473 - val_loss: 1.4528\n",
      "Epoch 188/200\n",
      "91/91 [==============================] - 2s 21ms/step - loss: 0.0429 - val_loss: 1.4074\n",
      "Epoch 189/200\n",
      "91/91 [==============================] - 2s 20ms/step - loss: 0.0495 - val_loss: 1.6130\n",
      "Epoch 190/200\n",
      "91/91 [==============================] - 2s 21ms/step - loss: 0.0454 - val_loss: 1.5819\n",
      "Epoch 191/200\n",
      "91/91 [==============================] - 2s 22ms/step - loss: 0.0695 - val_loss: 1.6161\n",
      "Epoch 192/200\n",
      "91/91 [==============================] - 2s 26ms/step - loss: 0.0691 - val_loss: 1.5139\n",
      "Epoch 193/200\n",
      "91/91 [==============================] - 2s 22ms/step - loss: 0.0682 - val_loss: 1.5445\n",
      "Epoch 194/200\n",
      "91/91 [==============================] - 2s 21ms/step - loss: 0.0559 - val_loss: 1.4568\n",
      "Epoch 195/200\n",
      "91/91 [==============================] - 2s 21ms/step - loss: 0.1211 - val_loss: 1.6526\n",
      "Epoch 196/200\n",
      "91/91 [==============================] - 2s 22ms/step - loss: 0.1738 - val_loss: 1.6424\n",
      "Epoch 197/200\n",
      "91/91 [==============================] - 2s 22ms/step - loss: 0.1806 - val_loss: 1.5782\n",
      "Epoch 198/200\n",
      "91/91 [==============================] - 2s 22ms/step - loss: 0.0787 - val_loss: 1.5295\n",
      "Epoch 199/200\n",
      "91/91 [==============================] - 2s 21ms/step - loss: 0.1261 - val_loss: 1.5017\n",
      "Epoch 200/200\n",
      "91/91 [==============================] - 2s 20ms/step - loss: 0.0760 - val_loss: 1.5983\n"
     ]
    }
   ],
   "source": [
    "history_gru = fit_model(model_gru)"
   ]
  },
  {
   "cell_type": "code",
   "execution_count": 25,
   "id": "3608c337",
   "metadata": {
    "execution": {
     "iopub.execute_input": "2023-02-06T12:37:23.402576Z",
     "iopub.status.busy": "2023-02-06T12:37:23.402142Z",
     "iopub.status.idle": "2023-02-06T12:37:23.408074Z",
     "shell.execute_reply": "2023-02-06T12:37:23.406875Z"
    },
    "papermill": {
     "duration": 0.865464,
     "end_time": "2023-02-06T12:37:23.410323",
     "exception": false,
     "start_time": "2023-02-06T12:37:22.544859",
     "status": "completed"
    },
    "tags": []
   },
   "outputs": [],
   "source": [
    "y_test = scaler.inverse_transform(y_test)\n",
    "y_train = scaler.inverse_transform(y_train)"
   ]
  },
  {
   "cell_type": "code",
   "execution_count": 26,
   "id": "015fbc88",
   "metadata": {
    "execution": {
     "iopub.execute_input": "2023-02-06T12:37:25.071857Z",
     "iopub.status.busy": "2023-02-06T12:37:25.071448Z",
     "iopub.status.idle": "2023-02-06T12:37:25.077988Z",
     "shell.execute_reply": "2023-02-06T12:37:25.076653Z"
    },
    "papermill": {
     "duration": 0.808669,
     "end_time": "2023-02-06T12:37:25.080239",
     "exception": false,
     "start_time": "2023-02-06T12:37:24.271570",
     "status": "completed"
    },
    "tags": []
   },
   "outputs": [],
   "source": [
    "def plot_loss (history, model_name):\n",
    "    \n",
    "    plt.figure(figsize = (10, 6))\n",
    "    \n",
    "    plt.plot(history.history['loss'])\n",
    "    plt.plot(history.history['val_loss'])\n",
    "    \n",
    "    plt.title('Model Train vs Validation Loss for ' + model_name)\n",
    "    \n",
    "    plt.ylabel('Loss')\n",
    "    plt.xlabel('epoch')\n",
    "    \n",
    "    plt.legend(['Train loss', 'Validation loss'], loc='upper right')"
   ]
  },
  {
   "cell_type": "code",
   "execution_count": 27,
   "id": "26323991",
   "metadata": {
    "execution": {
     "iopub.execute_input": "2023-02-06T12:37:26.733915Z",
     "iopub.status.busy": "2023-02-06T12:37:26.733092Z",
     "iopub.status.idle": "2023-02-06T12:37:27.004729Z",
     "shell.execute_reply": "2023-02-06T12:37:27.003344Z"
    },
    "papermill": {
     "duration": 1.132734,
     "end_time": "2023-02-06T12:37:27.007318",
     "exception": false,
     "start_time": "2023-02-06T12:37:25.874584",
     "status": "completed"
    },
    "tags": []
   },
   "outputs": [
    {
     "data": {
      "image/png": "[encoded data removed]",
      "text/plain": [
       "<Figure size 720x432 with 1 Axes>"
      ]
     },
     "metadata": {
      "needs_background": "light"
     },
     "output_type": "display_data"
    }
   ],
   "source": [
    "plot_loss(history_bilstm, 'Bidirectional LSTM')"
   ]
  },
  {
   "cell_type": "code",
   "execution_count": 28,
   "id": "9ccc1829",
   "metadata": {
    "execution": {
     "iopub.execute_input": "2023-02-06T12:37:28.694840Z",
     "iopub.status.busy": "2023-02-06T12:37:28.693365Z",
     "iopub.status.idle": "2023-02-06T12:37:28.930616Z",
     "shell.execute_reply": "2023-02-06T12:37:28.929316Z"
    },
    "papermill": {
     "duration": 1.034224,
     "end_time": "2023-02-06T12:37:28.933085",
     "exception": false,
     "start_time": "2023-02-06T12:37:27.898861",
     "status": "completed"
    },
    "tags": []
   },
   "outputs": [
    {
     "data": {
      "image/png": "[encoded data removed]",
      "text/plain": [
       "<Figure size 720x432 with 1 Axes>"
      ]
     },
     "metadata": {
      "needs_background": "light"
     },
     "output_type": "display_data"
    }
   ],
   "source": [
    "plot_loss(history_gru, 'GRU')"
   ]
  },
  {
   "cell_type": "code",
   "execution_count": 29,
   "id": "d3022bc6",
   "metadata": {
    "execution": {
     "iopub.execute_input": "2023-02-06T12:37:30.606858Z",
     "iopub.status.busy": "2023-02-06T12:37:30.606120Z",
     "iopub.status.idle": "2023-02-06T12:37:30.610886Z",
     "shell.execute_reply": "2023-02-06T12:37:30.609984Z"
    },
    "papermill": {
     "duration": 0.870733,
     "end_time": "2023-02-06T12:37:30.613060",
     "exception": false,
     "start_time": "2023-02-06T12:37:29.742327",
     "status": "completed"
    },
    "tags": []
   },
   "outputs": [],
   "source": [
    "def prediction(model):\n",
    "    \n",
    "    prediction = model.predict(x_test)\n",
    "    prediction = scaler.inverse_transform(prediction)\n",
    "    \n",
    "    return prediction"
   ]
  },
  {
   "cell_type": "code",
   "execution_count": 30,
   "id": "78f54c0f",
   "metadata": {
    "execution": {
     "iopub.execute_input": "2023-02-06T12:37:32.273821Z",
     "iopub.status.busy": "2023-02-06T12:37:32.273046Z",
     "iopub.status.idle": "2023-02-06T12:37:33.764444Z",
     "shell.execute_reply": "2023-02-06T12:37:33.763464Z"
    },
    "papermill": {
     "duration": 2.300844,
     "end_time": "2023-02-06T12:37:33.767421",
     "exception": false,
     "start_time": "2023-02-06T12:37:31.466577",
     "status": "completed"
    },
    "tags": []
   },
   "outputs": [],
   "source": [
    "prediction_bilstm = prediction(model_bilstm)"
   ]
  },
  {
   "cell_type": "code",
   "execution_count": 31,
   "id": "7a6d9bff",
   "metadata": {
    "execution": {
     "iopub.execute_input": "2023-02-06T12:37:35.438907Z",
     "iopub.status.busy": "2023-02-06T12:37:35.438497Z",
     "iopub.status.idle": "2023-02-06T12:37:36.317101Z",
     "shell.execute_reply": "2023-02-06T12:37:36.316180Z"
    },
    "papermill": {
     "duration": 1.746937,
     "end_time": "2023-02-06T12:37:36.320011",
     "exception": false,
     "start_time": "2023-02-06T12:37:34.573074",
     "status": "completed"
    },
    "tags": []
   },
   "outputs": [],
   "source": [
    "prediction_gru = prediction(model_gru)"
   ]
  },
  {
   "cell_type": "code",
   "execution_count": 32,
   "id": "18de319e",
   "metadata": {
    "execution": {
     "iopub.execute_input": "2023-02-06T12:37:38.011063Z",
     "iopub.status.busy": "2023-02-06T12:37:38.010347Z",
     "iopub.status.idle": "2023-02-06T12:37:38.017906Z",
     "shell.execute_reply": "2023-02-06T12:37:38.016666Z"
    },
    "papermill": {
     "duration": 0.814151,
     "end_time": "2023-02-06T12:37:38.020300",
     "exception": false,
     "start_time": "2023-02-06T12:37:37.206149",
     "status": "completed"
    },
    "tags": []
   },
   "outputs": [],
   "source": [
    "def plot_future(prediction, model_name, y_test):\n",
    "    \n",
    "    plt.figure(figsize=(10, 6))\n",
    "    \n",
    "    range_future = len(prediction)\n",
    "    \n",
    "    plt.plot(np.arange(range_future), np.array(y_test), label='Test   data')\n",
    "    plt.plot(np.arange(range_future), np.array(prediction), label='Prediction')\n",
    "    \n",
    "    plt.title('Test data vs prediction for '+ model_name)\n",
    "    \n",
    "    plt.legend(loc='upper left')\n",
    "    plt.xlabel('Time')\n",
    "    plt.ylabel('income')"
   ]
  },
  {
   "cell_type": "code",
   "execution_count": 33,
   "id": "b8fde97d",
   "metadata": {
    "execution": {
     "iopub.execute_input": "2023-02-06T12:37:39.687654Z",
     "iopub.status.busy": "2023-02-06T12:37:39.686842Z",
     "iopub.status.idle": "2023-02-06T12:37:40.182116Z",
     "shell.execute_reply": "2023-02-06T12:37:40.181308Z"
    },
    "papermill": {
     "duration": 1.362128,
     "end_time": "2023-02-06T12:37:40.184604",
     "exception": false,
     "start_time": "2023-02-06T12:37:38.822476",
     "status": "completed"
    },
    "tags": []
   },
   "outputs": [
    {
     "data": {
      "image/png": "[encoded data removed]",
      "text/plain": [
       "<Figure size 720x432 with 1 Axes>"
      ]
     },
     "metadata": {
      "needs_background": "light"
     },
     "output_type": "display_data"
    }
   ],
   "source": [
    "plot_future(prediction_bilstm, 'Bidirectional LSTM', y_test)"
   ]
  },
  {
   "cell_type": "code",
   "execution_count": 34,
   "id": "03c399b5",
   "metadata": {
    "execution": {
     "iopub.execute_input": "2023-02-06T12:37:41.849541Z",
     "iopub.status.busy": "2023-02-06T12:37:41.848790Z",
     "iopub.status.idle": "2023-02-06T12:37:42.070759Z",
     "shell.execute_reply": "2023-02-06T12:37:42.069870Z"
    },
    "papermill": {
     "duration": 1.01511,
     "end_time": "2023-02-06T12:37:42.072912",
     "exception": false,
     "start_time": "2023-02-06T12:37:41.057802",
     "status": "completed"
    },
    "tags": []
   },
   "outputs": [
    {
     "data": {
      "image/png": "[encoded data removed]",
      "text/plain": [
       "<Figure size 720x432 with 1 Axes>"
      ]
     },
     "metadata": {
      "needs_background": "light"
     },
     "output_type": "display_data"
    }
   ],
   "source": [
    "plot_future(prediction_gru, 'GRU', y_test)"
   ]
  },
  {
   "cell_type": "code",
   "execution_count": 35,
   "id": "27d5a126",
   "metadata": {
    "execution": {
     "iopub.execute_input": "2023-02-06T12:37:43.731788Z",
     "iopub.status.busy": "2023-02-06T12:37:43.731160Z",
     "iopub.status.idle": "2023-02-06T12:37:43.737630Z",
     "shell.execute_reply": "2023-02-06T12:37:43.736488Z"
    },
    "papermill": {
     "duration": 0.873205,
     "end_time": "2023-02-06T12:37:43.739768",
     "exception": false,
     "start_time": "2023-02-06T12:37:42.866563",
     "status": "completed"
    },
    "tags": []
   },
   "outputs": [],
   "source": [
    "def evaluate_prediction(predictions, actual, model_name):\n",
    "    \n",
    "    errors = predictions - actual\n",
    "    \n",
    "    mse = np.square(errors).mean()\n",
    "    rmse = np.sqrt(mse)\n",
    "    mae = np.abs(errors).mean()\n",
    "    \n",
    "    print(model_name + ':')\n",
    "    print('Mean Absolute Error: {:.4f}'.format(mae))\n",
    "    print('Root Mean Square Error: {:.4f}'.format(rmse))\n",
    "    print('')"
   ]
  },
  {
   "cell_type": "code",
   "execution_count": 36,
   "id": "7285e25f",
   "metadata": {
    "execution": {
     "iopub.execute_input": "2023-02-06T12:37:45.424378Z",
     "iopub.status.busy": "2023-02-06T12:37:45.423989Z",
     "iopub.status.idle": "2023-02-06T12:37:45.429507Z",
     "shell.execute_reply": "2023-02-06T12:37:45.428656Z"
    },
    "papermill": {
     "duration": 0.831491,
     "end_time": "2023-02-06T12:37:45.431725",
     "exception": false,
     "start_time": "2023-02-06T12:37:44.600234",
     "status": "completed"
    },
    "tags": []
   },
   "outputs": [
    {
     "name": "stdout",
     "output_type": "stream",
     "text": [
      "Bidirectiona LSTM:\n",
      "Mean Absolute Error: 3246.2918\n",
      "Root Mean Square Error: 3645.5331\n",
      "\n"
     ]
    }
   ],
   "source": [
    "evaluate_prediction(prediction_bilstm, y_test, 'Bidirectiona LSTM')"
   ]
  },
  {
   "cell_type": "code",
   "execution_count": 37,
   "id": "037cfa2c",
   "metadata": {
    "execution": {
     "iopub.execute_input": "2023-02-06T12:37:47.091373Z",
     "iopub.status.busy": "2023-02-06T12:37:47.090708Z",
     "iopub.status.idle": "2023-02-06T12:37:47.096129Z",
     "shell.execute_reply": "2023-02-06T12:37:47.095166Z"
    },
    "papermill": {
     "duration": 0.866891,
     "end_time": "2023-02-06T12:37:47.098522",
     "exception": false,
     "start_time": "2023-02-06T12:37:46.231631",
     "status": "completed"
    },
    "tags": []
   },
   "outputs": [
    {
     "name": "stdout",
     "output_type": "stream",
     "text": [
      "GRU:\n",
      "Mean Absolute Error: 4261.1865\n",
      "Root Mean Square Error: 4858.5181\n",
      "\n"
     ]
    }
   ],
   "source": [
    "evaluate_prediction(prediction_gru, y_test, 'GRU')"
   ]
  },
  {
   "cell_type": "code",
   "execution_count": null,
   "id": "f107d48d",
   "metadata": {
    "papermill": {
     "duration": 0.791374,
     "end_time": "2023-02-06T12:37:48.758718",
     "exception": false,
     "start_time": "2023-02-06T12:37:47.967344",
     "status": "completed"
    },
    "tags": []
   },
   "outputs": [],
   "source": []
  }
 ],
 "metadata": {
  "kernelspec": {
   "display_name": "Python 3",
   "language": "python",
   "name": "python3"
  },
  "language_info": {
   "codemirror_mode": {
    "name": "ipython",
    "version": 3
   },
   "file_extension": ".py",
   "mimetype": "text/x-python",
   "name": "python",
   "nbconvert_exporter": "python",
   "pygments_lexer": "ipython3",
   "version": "3.7.12"
  },
  "papermill": {
   "default_parameters": {},
   "duration": 827.017262,
   "end_time": "2023-02-06T12:37:52.656969",
   "environment_variables": {},
   "exception": null,
   "input_path": "__notebook__.ipynb",
   "output_path": "__notebook__.ipynb",
   "parameters": {},
   "start_time": "2023-02-06T12:24:05.639707",
   "version": "2.3.4"
  }
 },
 "nbformat": 4,
 "nbformat_minor": 5
}
