{
 "cells": [
  {
   "cell_type": "code",
   "execution_count": 1,
   "id": "c4773176",
   "metadata": {
    "_cell_guid": "b1076dfc-b9ad-4769-8c92-a6c4dae69d19",
    "_uuid": "8f2839f25d086af736a60e9eeb907d3b93b6e0e5",
    "execution": {
     "iopub.execute_input": "2023-02-06T09:49:32.913629Z",
     "iopub.status.busy": "2023-02-06T09:49:32.912705Z",
     "iopub.status.idle": "2023-02-06T09:49:39.102621Z",
     "shell.execute_reply": "2023-02-06T09:49:39.101608Z"
    },
    "papermill": {
     "duration": 6.200319,
     "end_time": "2023-02-06T09:49:39.105665",
     "exception": false,
     "start_time": "2023-02-06T09:49:32.905346",
     "status": "completed"
    },
    "tags": []
   },
   "outputs": [],
   "source": [
    "import pandas as pd\n",
    "import numpy as np\n",
    "\n",
    "import matplotlib.pyplot as plt\n",
    "\n",
    "from sklearn.preprocessing import MinMaxScaler, StandardScaler\n",
    "\n",
    "from scipy import stats\n",
    "\n",
    "import tensorflow as tf\n",
    "from tensorflow import keras\n",
    "from tensorflow.keras import Sequential, layers, callbacks\n",
    "from tensorflow.keras.layers import Dense, LSTM, Dropout, GRU, Bidirectional"
   ]
  },
  {
   "cell_type": "code",
   "execution_count": 2,
   "id": "1d804236",
   "metadata": {
    "execution": {
     "iopub.execute_input": "2023-02-06T09:49:39.116285Z",
     "iopub.status.busy": "2023-02-06T09:49:39.115683Z",
     "iopub.status.idle": "2023-02-06T09:49:39.121027Z",
     "shell.execute_reply": "2023-02-06T09:49:39.120161Z"
    },
    "papermill": {
     "duration": 0.012717,
     "end_time": "2023-02-06T09:49:39.123163",
     "exception": false,
     "start_time": "2023-02-06T09:49:39.110446",
     "status": "completed"
    },
    "tags": []
   },
   "outputs": [],
   "source": [
    "tf.random.set_seed(74)"
   ]
  },
  {
   "cell_type": "code",
   "execution_count": 3,
   "id": "18eba19c",
   "metadata": {
    "execution": {
     "iopub.execute_input": "2023-02-06T09:49:39.133053Z",
     "iopub.status.busy": "2023-02-06T09:49:39.132710Z",
     "iopub.status.idle": "2023-02-06T09:49:39.181129Z",
     "shell.execute_reply": "2023-02-06T09:49:39.179858Z"
    },
    "papermill": {
     "duration": 0.056424,
     "end_time": "2023-02-06T09:49:39.184039",
     "exception": false,
     "start_time": "2023-02-06T09:49:39.127615",
     "status": "completed"
    },
    "tags": []
   },
   "outputs": [],
   "source": [
    "df = pd.read_csv('/kaggle/input/case-ih-time-series-data/data.csv', index_col=['date'], parse_dates=['date'])"
   ]
  },
  {
   "cell_type": "code",
   "execution_count": 4,
   "id": "75b32d46",
   "metadata": {
    "execution": {
     "iopub.execute_input": "2023-02-06T09:49:39.194538Z",
     "iopub.status.busy": "2023-02-06T09:49:39.194138Z",
     "iopub.status.idle": "2023-02-06T09:49:39.214987Z",
     "shell.execute_reply": "2023-02-06T09:49:39.213892Z"
    },
    "papermill": {
     "duration": 0.028906,
     "end_time": "2023-02-06T09:49:39.217630",
     "exception": false,
     "start_time": "2023-02-06T09:49:39.188724",
     "status": "completed"
    },
    "tags": []
   },
   "outputs": [
    {
     "name": "stdout",
     "output_type": "stream",
     "text": [
      "<class 'pandas.core.frame.DataFrame'>\n",
      "DatetimeIndex: 192 entries, 2021-09-30 to 2022-07-08\n",
      "Data columns (total 2 columns):\n",
      " #   Column  Non-Null Count  Dtype\n",
      "---  ------  --------------  -----\n",
      " 0   work    192 non-null    int64\n",
      " 1   income  192 non-null    int64\n",
      "dtypes: int64(2)\n",
      "memory usage: 4.5 KB\n"
     ]
    }
   ],
   "source": [
    "df.info()"
   ]
  },
  {
   "cell_type": "code",
   "execution_count": 5,
   "id": "4497c026",
   "metadata": {
    "execution": {
     "iopub.execute_input": "2023-02-06T09:49:39.227825Z",
     "iopub.status.busy": "2023-02-06T09:49:39.227491Z",
     "iopub.status.idle": "2023-02-06T09:49:39.235969Z",
     "shell.execute_reply": "2023-02-06T09:49:39.235194Z"
    },
    "papermill": {
     "duration": 0.015778,
     "end_time": "2023-02-06T09:49:39.237762",
     "exception": false,
     "start_time": "2023-02-06T09:49:39.221984",
     "status": "completed"
    },
    "tags": []
   },
   "outputs": [
    {
     "data": {
      "text/plain": [
       "Index(['work', 'income'], dtype='object')"
      ]
     },
     "execution_count": 5,
     "metadata": {},
     "output_type": "execute_result"
    }
   ],
   "source": [
    "df.columns "
   ]
  },
  {
   "cell_type": "code",
   "execution_count": 6,
   "id": "af44e703",
   "metadata": {
    "execution": {
     "iopub.execute_input": "2023-02-06T09:49:39.247615Z",
     "iopub.status.busy": "2023-02-06T09:49:39.247109Z",
     "iopub.status.idle": "2023-02-06T09:49:39.259404Z",
     "shell.execute_reply": "2023-02-06T09:49:39.258377Z"
    },
    "papermill": {
     "duration": 0.019387,
     "end_time": "2023-02-06T09:49:39.261497",
     "exception": false,
     "start_time": "2023-02-06T09:49:39.242110",
     "status": "completed"
    },
    "tags": []
   },
   "outputs": [
    {
     "data": {
      "text/html": [
       "<div>\n",
       "<style scoped>\n",
       "    .dataframe tbody tr th:only-of-type {\n",
       "        vertical-align: middle;\n",
       "    }\n",
       "\n",
       "    .dataframe tbody tr th {\n",
       "        vertical-align: top;\n",
       "    }\n",
       "\n",
       "    .dataframe thead th {\n",
       "        text-align: right;\n",
       "    }\n",
       "</style>\n",
       "<table border=\"1\" class=\"dataframe\">\n",
       "  <thead>\n",
       "    <tr style=\"text-align: right;\">\n",
       "      <th></th>\n",
       "      <th>work</th>\n",
       "      <th>income</th>\n",
       "    </tr>\n",
       "    <tr>\n",
       "      <th>date</th>\n",
       "      <th></th>\n",
       "      <th></th>\n",
       "    </tr>\n",
       "  </thead>\n",
       "  <tbody>\n",
       "    <tr>\n",
       "      <th>2021-09-30</th>\n",
       "      <td>2</td>\n",
       "      <td>2100</td>\n",
       "    </tr>\n",
       "    <tr>\n",
       "      <th>2021-10-03</th>\n",
       "      <td>1</td>\n",
       "      <td>3600</td>\n",
       "    </tr>\n",
       "    <tr>\n",
       "      <th>2021-10-04</th>\n",
       "      <td>1</td>\n",
       "      <td>4000</td>\n",
       "    </tr>\n",
       "    <tr>\n",
       "      <th>2021-10-05</th>\n",
       "      <td>1</td>\n",
       "      <td>7900</td>\n",
       "    </tr>\n",
       "    <tr>\n",
       "      <th>2021-10-06</th>\n",
       "      <td>1</td>\n",
       "      <td>7500</td>\n",
       "    </tr>\n",
       "  </tbody>\n",
       "</table>\n",
       "</div>"
      ],
      "text/plain": [
       "            work  income\n",
       "date                    \n",
       "2021-09-30     2    2100\n",
       "2021-10-03     1    3600\n",
       "2021-10-04     1    4000\n",
       "2021-10-05     1    7900\n",
       "2021-10-06     1    7500"
      ]
     },
     "execution_count": 6,
     "metadata": {},
     "output_type": "execute_result"
    }
   ],
   "source": [
    "df.head()"
   ]
  },
  {
   "cell_type": "code",
   "execution_count": 7,
   "id": "1dacee7d",
   "metadata": {
    "execution": {
     "iopub.execute_input": "2023-02-06T09:49:39.271745Z",
     "iopub.status.busy": "2023-02-06T09:49:39.270931Z",
     "iopub.status.idle": "2023-02-06T09:49:39.276208Z",
     "shell.execute_reply": "2023-02-06T09:49:39.275229Z"
    },
    "papermill": {
     "duration": 0.012267,
     "end_time": "2023-02-06T09:49:39.278091",
     "exception": false,
     "start_time": "2023-02-06T09:49:39.265824",
     "status": "completed"
    },
    "tags": []
   },
   "outputs": [],
   "source": [
    "df = df.drop(columns=['work'])"
   ]
  },
  {
   "cell_type": "code",
   "execution_count": 8,
   "id": "50ec7518",
   "metadata": {
    "execution": {
     "iopub.execute_input": "2023-02-06T09:49:39.288466Z",
     "iopub.status.busy": "2023-02-06T09:49:39.287704Z",
     "iopub.status.idle": "2023-02-06T09:49:39.294338Z",
     "shell.execute_reply": "2023-02-06T09:49:39.293368Z"
    },
    "papermill": {
     "duration": 0.013957,
     "end_time": "2023-02-06T09:49:39.296414",
     "exception": false,
     "start_time": "2023-02-06T09:49:39.282457",
     "status": "completed"
    },
    "tags": []
   },
   "outputs": [
    {
     "data": {
      "text/plain": [
       "Index(['income'], dtype='object')"
      ]
     },
     "execution_count": 8,
     "metadata": {},
     "output_type": "execute_result"
    }
   ],
   "source": [
    "df.columns "
   ]
  },
  {
   "cell_type": "code",
   "execution_count": 9,
   "id": "8ff74a97",
   "metadata": {
    "execution": {
     "iopub.execute_input": "2023-02-06T09:49:39.306398Z",
     "iopub.status.busy": "2023-02-06T09:49:39.306097Z",
     "iopub.status.idle": "2023-02-06T09:49:39.316784Z",
     "shell.execute_reply": "2023-02-06T09:49:39.315766Z"
    },
    "papermill": {
     "duration": 0.019064,
     "end_time": "2023-02-06T09:49:39.319892",
     "exception": false,
     "start_time": "2023-02-06T09:49:39.300828",
     "status": "completed"
    },
    "tags": []
   },
   "outputs": [
    {
     "name": "stdout",
     "output_type": "stream",
     "text": [
      "<class 'pandas.core.frame.DataFrame'>\n",
      "DatetimeIndex: 192 entries, 2021-09-30 to 2022-07-08\n",
      "Data columns (total 1 columns):\n",
      " #   Column  Non-Null Count  Dtype\n",
      "---  ------  --------------  -----\n",
      " 0   income  192 non-null    int64\n",
      "dtypes: int64(1)\n",
      "memory usage: 3.0 KB\n"
     ]
    }
   ],
   "source": [
    "df.info()"
   ]
  },
  {
   "cell_type": "code",
   "execution_count": 10,
   "id": "f4ecb432",
   "metadata": {
    "execution": {
     "iopub.execute_input": "2023-02-06T09:49:39.331790Z",
     "iopub.status.busy": "2023-02-06T09:49:39.331145Z",
     "iopub.status.idle": "2023-02-06T09:49:39.336692Z",
     "shell.execute_reply": "2023-02-06T09:49:39.335686Z"
    },
    "papermill": {
     "duration": 0.013777,
     "end_time": "2023-02-06T09:49:39.338820",
     "exception": false,
     "start_time": "2023-02-06T09:49:39.325043",
     "status": "completed"
    },
    "tags": []
   },
   "outputs": [],
   "source": [
    "train_size = int(len(df)*0.8)\n",
    "\n",
    "train_data = df.iloc[:train_size]\n",
    "test_data = df.iloc[train_size:]"
   ]
  },
  {
   "cell_type": "code",
   "execution_count": 11,
   "id": "01ca4d70",
   "metadata": {
    "execution": {
     "iopub.execute_input": "2023-02-06T09:49:39.350035Z",
     "iopub.status.busy": "2023-02-06T09:49:39.349759Z",
     "iopub.status.idle": "2023-02-06T09:49:39.361803Z",
     "shell.execute_reply": "2023-02-06T09:49:39.360978Z"
    },
    "papermill": {
     "duration": 0.019573,
     "end_time": "2023-02-06T09:49:39.363611",
     "exception": false,
     "start_time": "2023-02-06T09:49:39.344038",
     "status": "completed"
    },
    "tags": []
   },
   "outputs": [],
   "source": [
    "scaler = StandardScaler()\n",
    "\n",
    "train_scaled = scaler.fit_transform(train_data)\n",
    "test_scaled = scaler.fit_transform(test_data)"
   ]
  },
  {
   "cell_type": "code",
   "execution_count": 12,
   "id": "10e3a323",
   "metadata": {
    "execution": {
     "iopub.execute_input": "2023-02-06T09:49:39.373715Z",
     "iopub.status.busy": "2023-02-06T09:49:39.373197Z",
     "iopub.status.idle": "2023-02-06T09:49:39.377457Z",
     "shell.execute_reply": "2023-02-06T09:49:39.376526Z"
    },
    "papermill": {
     "duration": 0.011398,
     "end_time": "2023-02-06T09:49:39.379534",
     "exception": false,
     "start_time": "2023-02-06T09:49:39.368136",
     "status": "completed"
    },
    "tags": []
   },
   "outputs": [],
   "source": [
    "LOOK_BACK = 30"
   ]
  },
  {
   "cell_type": "code",
   "execution_count": 13,
   "id": "eba1d15a",
   "metadata": {
    "execution": {
     "iopub.execute_input": "2023-02-06T09:49:39.389792Z",
     "iopub.status.busy": "2023-02-06T09:49:39.389526Z",
     "iopub.status.idle": "2023-02-06T09:49:39.394413Z",
     "shell.execute_reply": "2023-02-06T09:49:39.393616Z"
    },
    "papermill": {
     "duration": 0.012229,
     "end_time": "2023-02-06T09:49:39.396296",
     "exception": false,
     "start_time": "2023-02-06T09:49:39.384067",
     "status": "completed"
    },
    "tags": []
   },
   "outputs": [],
   "source": [
    "def create_dataset (X, look_back = 1):\n",
    "    \n",
    "    Xs, ys = [], []\n",
    " \n",
    "    for i in range(len(X)-look_back):\n",
    "        v = X[i:i+look_back]\n",
    "        Xs.append(v)\n",
    "        ys.append(X[i+look_back])\n",
    " \n",
    "    return np.array(Xs), np.array(ys)"
   ]
  },
  {
   "cell_type": "code",
   "execution_count": 14,
   "id": "2cdb2772",
   "metadata": {
    "execution": {
     "iopub.execute_input": "2023-02-06T09:49:39.406187Z",
     "iopub.status.busy": "2023-02-06T09:49:39.405858Z",
     "iopub.status.idle": "2023-02-06T09:49:39.410699Z",
     "shell.execute_reply": "2023-02-06T09:49:39.409832Z"
    },
    "papermill": {
     "duration": 0.012013,
     "end_time": "2023-02-06T09:49:39.412737",
     "exception": false,
     "start_time": "2023-02-06T09:49:39.400724",
     "status": "completed"
    },
    "tags": []
   },
   "outputs": [],
   "source": [
    "x_train, y_train = create_dataset(train_scaled,LOOK_BACK)\n",
    "x_test, y_test = create_dataset(test_scaled,LOOK_BACK)"
   ]
  },
  {
   "cell_type": "code",
   "execution_count": 15,
   "id": "5264e6f6",
   "metadata": {
    "execution": {
     "iopub.execute_input": "2023-02-06T09:49:39.423118Z",
     "iopub.status.busy": "2023-02-06T09:49:39.422841Z",
     "iopub.status.idle": "2023-02-06T09:49:39.428456Z",
     "shell.execute_reply": "2023-02-06T09:49:39.427345Z"
    },
    "papermill": {
     "duration": 0.013513,
     "end_time": "2023-02-06T09:49:39.430687",
     "exception": false,
     "start_time": "2023-02-06T09:49:39.417174",
     "status": "completed"
    },
    "tags": []
   },
   "outputs": [
    {
     "name": "stdout",
     "output_type": "stream",
     "text": [
      "(123, 30, 1)\n",
      "(123, 1)\n",
      "(9, 30, 1)\n",
      "(9, 1)\n"
     ]
    }
   ],
   "source": [
    "print(x_train.shape)\n",
    "print(y_train.shape)\n",
    "print(x_test.shape)\n",
    "print(y_test.shape)"
   ]
  },
  {
   "cell_type": "code",
   "execution_count": null,
   "id": "8a87428a",
   "metadata": {
    "papermill": {
     "duration": 0.004473,
     "end_time": "2023-02-06T09:49:39.439878",
     "exception": false,
     "start_time": "2023-02-06T09:49:39.435405",
     "status": "completed"
    },
    "tags": []
   },
   "outputs": [],
   "source": []
  }
 ],
 "metadata": {
  "kernelspec": {
   "display_name": "Python 3",
   "language": "python",
   "name": "python3"
  },
  "language_info": {
   "codemirror_mode": {
    "name": "ipython",
    "version": 3
   },
   "file_extension": ".py",
   "mimetype": "text/x-python",
   "name": "python",
   "nbconvert_exporter": "python",
   "pygments_lexer": "ipython3",
   "version": "3.7.12"
  },
  "papermill": {
   "default_parameters": {},
   "duration": 17.00009,
   "end_time": "2023-02-06T09:49:42.338039",
   "environment_variables": {},
   "exception": null,
   "input_path": "__notebook__.ipynb",
   "output_path": "__notebook__.ipynb",
   "parameters": {},
   "start_time": "2023-02-06T09:49:25.337949",
   "version": "2.3.4"
  }
 },
 "nbformat": 4,
 "nbformat_minor": 5
}
