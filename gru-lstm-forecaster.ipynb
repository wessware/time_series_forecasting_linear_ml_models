{
 "cells": [
  {
   "cell_type": "code",
   "execution_count": 1,
   "id": "ebe26afe",
   "metadata": {
    "_cell_guid": "b1076dfc-b9ad-4769-8c92-a6c4dae69d19",
    "_uuid": "8f2839f25d086af736a60e9eeb907d3b93b6e0e5",
    "execution": {
     "iopub.execute_input": "2023-02-06T09:43:19.675008Z",
     "iopub.status.busy": "2023-02-06T09:43:19.674304Z",
     "iopub.status.idle": "2023-02-06T09:43:27.126590Z",
     "shell.execute_reply": "2023-02-06T09:43:27.125360Z"
    },
    "papermill": {
     "duration": 7.462023,
     "end_time": "2023-02-06T09:43:27.129756",
     "exception": false,
     "start_time": "2023-02-06T09:43:19.667733",
     "status": "completed"
    },
    "tags": []
   },
   "outputs": [],
   "source": [
    "import pandas as pd\n",
    "import numpy as np\n",
    "\n",
    "import matplotlib.pyplot as plt\n",
    "\n",
    "from sklearn.preprocessing import MinMaxScaler, StandardScaler\n",
    "\n",
    "from scipy import stats\n",
    "\n",
    "import tensorflow as tf\n",
    "from tensorflow import keras\n",
    "from tensorflow.keras import Sequential, layers, callbacks\n",
    "from tensorflow.keras.layers import Dense, LSTM, Dropout, GRU, Bidirectional"
   ]
  },
  {
   "cell_type": "code",
   "execution_count": 2,
   "id": "686a825f",
   "metadata": {
    "execution": {
     "iopub.execute_input": "2023-02-06T09:43:27.139127Z",
     "iopub.status.busy": "2023-02-06T09:43:27.138459Z",
     "iopub.status.idle": "2023-02-06T09:43:27.143685Z",
     "shell.execute_reply": "2023-02-06T09:43:27.142634Z"
    },
    "papermill": {
     "duration": 0.012166,
     "end_time": "2023-02-06T09:43:27.145966",
     "exception": false,
     "start_time": "2023-02-06T09:43:27.133800",
     "status": "completed"
    },
    "tags": []
   },
   "outputs": [],
   "source": [
    "tf.random.set_seed(74)"
   ]
  },
  {
   "cell_type": "code",
   "execution_count": 3,
   "id": "7a44c5bb",
   "metadata": {
    "execution": {
     "iopub.execute_input": "2023-02-06T09:43:27.154584Z",
     "iopub.status.busy": "2023-02-06T09:43:27.154189Z",
     "iopub.status.idle": "2023-02-06T09:43:27.210663Z",
     "shell.execute_reply": "2023-02-06T09:43:27.209798Z"
    },
    "papermill": {
     "duration": 0.06366,
     "end_time": "2023-02-06T09:43:27.213233",
     "exception": false,
     "start_time": "2023-02-06T09:43:27.149573",
     "status": "completed"
    },
    "tags": []
   },
   "outputs": [],
   "source": [
    "df = pd.read_csv('/kaggle/input/case-ih-time-series-data/data.csv', index_col=['date'], parse_dates=['date'])"
   ]
  },
  {
   "cell_type": "code",
   "execution_count": 4,
   "id": "bc476e6d",
   "metadata": {
    "execution": {
     "iopub.execute_input": "2023-02-06T09:43:27.222807Z",
     "iopub.status.busy": "2023-02-06T09:43:27.222188Z",
     "iopub.status.idle": "2023-02-06T09:43:27.245852Z",
     "shell.execute_reply": "2023-02-06T09:43:27.244635Z"
    },
    "papermill": {
     "duration": 0.031394,
     "end_time": "2023-02-06T09:43:27.248533",
     "exception": false,
     "start_time": "2023-02-06T09:43:27.217139",
     "status": "completed"
    },
    "tags": []
   },
   "outputs": [
    {
     "name": "stdout",
     "output_type": "stream",
     "text": [
      "<class 'pandas.core.frame.DataFrame'>\n",
      "DatetimeIndex: 192 entries, 2021-09-30 to 2022-07-08\n",
      "Data columns (total 2 columns):\n",
      " #   Column  Non-Null Count  Dtype\n",
      "---  ------  --------------  -----\n",
      " 0   work    192 non-null    int64\n",
      " 1   income  192 non-null    int64\n",
      "dtypes: int64(2)\n",
      "memory usage: 4.5 KB\n"
     ]
    }
   ],
   "source": [
    "df.info()"
   ]
  },
  {
   "cell_type": "code",
   "execution_count": 5,
   "id": "86c1d851",
   "metadata": {
    "execution": {
     "iopub.execute_input": "2023-02-06T09:43:27.257676Z",
     "iopub.status.busy": "2023-02-06T09:43:27.256992Z",
     "iopub.status.idle": "2023-02-06T09:43:27.266433Z",
     "shell.execute_reply": "2023-02-06T09:43:27.265355Z"
    },
    "papermill": {
     "duration": 0.016793,
     "end_time": "2023-02-06T09:43:27.269052",
     "exception": false,
     "start_time": "2023-02-06T09:43:27.252259",
     "status": "completed"
    },
    "tags": []
   },
   "outputs": [
    {
     "data": {
      "text/plain": [
       "Index(['work', 'income'], dtype='object')"
      ]
     },
     "execution_count": 5,
     "metadata": {},
     "output_type": "execute_result"
    }
   ],
   "source": [
    "df.columns "
   ]
  },
  {
   "cell_type": "code",
   "execution_count": 6,
   "id": "da1419e8",
   "metadata": {
    "execution": {
     "iopub.execute_input": "2023-02-06T09:43:27.278224Z",
     "iopub.status.busy": "2023-02-06T09:43:27.277575Z",
     "iopub.status.idle": "2023-02-06T09:43:27.291284Z",
     "shell.execute_reply": "2023-02-06T09:43:27.290157Z"
    },
    "papermill": {
     "duration": 0.020928,
     "end_time": "2023-02-06T09:43:27.293728",
     "exception": false,
     "start_time": "2023-02-06T09:43:27.272800",
     "status": "completed"
    },
    "tags": []
   },
   "outputs": [
    {
     "data": {
      "text/html": [
       "<div>\n",
       "<style scoped>\n",
       "    .dataframe tbody tr th:only-of-type {\n",
       "        vertical-align: middle;\n",
       "    }\n",
       "\n",
       "    .dataframe tbody tr th {\n",
       "        vertical-align: top;\n",
       "    }\n",
       "\n",
       "    .dataframe thead th {\n",
       "        text-align: right;\n",
       "    }\n",
       "</style>\n",
       "<table border=\"1\" class=\"dataframe\">\n",
       "  <thead>\n",
       "    <tr style=\"text-align: right;\">\n",
       "      <th></th>\n",
       "      <th>work</th>\n",
       "      <th>income</th>\n",
       "    </tr>\n",
       "    <tr>\n",
       "      <th>date</th>\n",
       "      <th></th>\n",
       "      <th></th>\n",
       "    </tr>\n",
       "  </thead>\n",
       "  <tbody>\n",
       "    <tr>\n",
       "      <th>2021-09-30</th>\n",
       "      <td>2</td>\n",
       "      <td>2100</td>\n",
       "    </tr>\n",
       "    <tr>\n",
       "      <th>2021-10-03</th>\n",
       "      <td>1</td>\n",
       "      <td>3600</td>\n",
       "    </tr>\n",
       "    <tr>\n",
       "      <th>2021-10-04</th>\n",
       "      <td>1</td>\n",
       "      <td>4000</td>\n",
       "    </tr>\n",
       "    <tr>\n",
       "      <th>2021-10-05</th>\n",
       "      <td>1</td>\n",
       "      <td>7900</td>\n",
       "    </tr>\n",
       "    <tr>\n",
       "      <th>2021-10-06</th>\n",
       "      <td>1</td>\n",
       "      <td>7500</td>\n",
       "    </tr>\n",
       "  </tbody>\n",
       "</table>\n",
       "</div>"
      ],
      "text/plain": [
       "            work  income\n",
       "date                    \n",
       "2021-09-30     2    2100\n",
       "2021-10-03     1    3600\n",
       "2021-10-04     1    4000\n",
       "2021-10-05     1    7900\n",
       "2021-10-06     1    7500"
      ]
     },
     "execution_count": 6,
     "metadata": {},
     "output_type": "execute_result"
    }
   ],
   "source": [
    "df.head()"
   ]
  },
  {
   "cell_type": "code",
   "execution_count": 7,
   "id": "5e0a15a1",
   "metadata": {
    "execution": {
     "iopub.execute_input": "2023-02-06T09:43:27.303940Z",
     "iopub.status.busy": "2023-02-06T09:43:27.303202Z",
     "iopub.status.idle": "2023-02-06T09:43:27.309468Z",
     "shell.execute_reply": "2023-02-06T09:43:27.308226Z"
    },
    "papermill": {
     "duration": 0.013624,
     "end_time": "2023-02-06T09:43:27.311650",
     "exception": false,
     "start_time": "2023-02-06T09:43:27.298026",
     "status": "completed"
    },
    "tags": []
   },
   "outputs": [],
   "source": [
    "df = df.drop(columns=['work'])"
   ]
  },
  {
   "cell_type": "code",
   "execution_count": 8,
   "id": "a8d9d42e",
   "metadata": {
    "execution": {
     "iopub.execute_input": "2023-02-06T09:43:27.322123Z",
     "iopub.status.busy": "2023-02-06T09:43:27.321398Z",
     "iopub.status.idle": "2023-02-06T09:43:27.329243Z",
     "shell.execute_reply": "2023-02-06T09:43:27.328252Z"
    },
    "papermill": {
     "duration": 0.015701,
     "end_time": "2023-02-06T09:43:27.331639",
     "exception": false,
     "start_time": "2023-02-06T09:43:27.315938",
     "status": "completed"
    },
    "tags": []
   },
   "outputs": [
    {
     "data": {
      "text/plain": [
       "Index(['income'], dtype='object')"
      ]
     },
     "execution_count": 8,
     "metadata": {},
     "output_type": "execute_result"
    }
   ],
   "source": [
    "df.columns "
   ]
  },
  {
   "cell_type": "code",
   "execution_count": 9,
   "id": "90674cb1",
   "metadata": {
    "execution": {
     "iopub.execute_input": "2023-02-06T09:43:27.342205Z",
     "iopub.status.busy": "2023-02-06T09:43:27.341115Z",
     "iopub.status.idle": "2023-02-06T09:43:27.352099Z",
     "shell.execute_reply": "2023-02-06T09:43:27.351343Z"
    },
    "papermill": {
     "duration": 0.019118,
     "end_time": "2023-02-06T09:43:27.354847",
     "exception": false,
     "start_time": "2023-02-06T09:43:27.335729",
     "status": "completed"
    },
    "tags": []
   },
   "outputs": [
    {
     "name": "stdout",
     "output_type": "stream",
     "text": [
      "<class 'pandas.core.frame.DataFrame'>\n",
      "DatetimeIndex: 192 entries, 2021-09-30 to 2022-07-08\n",
      "Data columns (total 1 columns):\n",
      " #   Column  Non-Null Count  Dtype\n",
      "---  ------  --------------  -----\n",
      " 0   income  192 non-null    int64\n",
      "dtypes: int64(1)\n",
      "memory usage: 3.0 KB\n"
     ]
    }
   ],
   "source": [
    "df.info()"
   ]
  },
  {
   "cell_type": "code",
   "execution_count": 10,
   "id": "39a494dc",
   "metadata": {
    "execution": {
     "iopub.execute_input": "2023-02-06T09:43:27.365418Z",
     "iopub.status.busy": "2023-02-06T09:43:27.364734Z",
     "iopub.status.idle": "2023-02-06T09:43:27.370597Z",
     "shell.execute_reply": "2023-02-06T09:43:27.369459Z"
    },
    "papermill": {
     "duration": 0.013652,
     "end_time": "2023-02-06T09:43:27.372940",
     "exception": false,
     "start_time": "2023-02-06T09:43:27.359288",
     "status": "completed"
    },
    "tags": []
   },
   "outputs": [],
   "source": [
    "train_size = int(len(df)*0.8)\n",
    "\n",
    "train_data = df.iloc[:train_size]\n",
    "test_data = df.iloc[train_size:]"
   ]
  },
  {
   "cell_type": "code",
   "execution_count": 11,
   "id": "d1a9295a",
   "metadata": {
    "execution": {
     "iopub.execute_input": "2023-02-06T09:43:27.382787Z",
     "iopub.status.busy": "2023-02-06T09:43:27.382423Z",
     "iopub.status.idle": "2023-02-06T09:43:27.396598Z",
     "shell.execute_reply": "2023-02-06T09:43:27.395278Z"
    },
    "papermill": {
     "duration": 0.022009,
     "end_time": "2023-02-06T09:43:27.399073",
     "exception": false,
     "start_time": "2023-02-06T09:43:27.377064",
     "status": "completed"
    },
    "tags": []
   },
   "outputs": [],
   "source": [
    "scaler = StandardScaler()\n",
    "\n",
    "train_scaled = scaler.fit_transform(train_data)\n",
    "test_scaled = scaler.fit_transform(test_data)"
   ]
  },
  {
   "cell_type": "code",
   "execution_count": null,
   "id": "fca5ce63",
   "metadata": {
    "papermill": {
     "duration": 0.003864,
     "end_time": "2023-02-06T09:43:27.407368",
     "exception": false,
     "start_time": "2023-02-06T09:43:27.403504",
     "status": "completed"
    },
    "tags": []
   },
   "outputs": [],
   "source": []
  }
 ],
 "metadata": {
  "kernelspec": {
   "display_name": "Python 3",
   "language": "python",
   "name": "python3"
  },
  "language_info": {
   "codemirror_mode": {
    "name": "ipython",
    "version": 3
   },
   "file_extension": ".py",
   "mimetype": "text/x-python",
   "name": "python",
   "nbconvert_exporter": "python",
   "pygments_lexer": "ipython3",
   "version": "3.7.12"
  },
  "papermill": {
   "default_parameters": {},
   "duration": 19.125885,
   "end_time": "2023-02-06T09:43:30.421761",
   "environment_variables": {},
   "exception": null,
   "input_path": "__notebook__.ipynb",
   "output_path": "__notebook__.ipynb",
   "parameters": {},
   "start_time": "2023-02-06T09:43:11.295876",
   "version": "2.3.4"
  }
 },
 "nbformat": 4,
 "nbformat_minor": 5
}
