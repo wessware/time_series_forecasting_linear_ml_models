{
 "cells": [
  {
   "cell_type": "code",
   "execution_count": 1,
   "id": "9f51b880",
   "metadata": {
    "_cell_guid": "b1076dfc-b9ad-4769-8c92-a6c4dae69d19",
    "_uuid": "8f2839f25d086af736a60e9eeb907d3b93b6e0e5",
    "execution": {
     "iopub.execute_input": "2023-02-06T14:03:23.832274Z",
     "iopub.status.busy": "2023-02-06T14:03:23.831262Z",
     "iopub.status.idle": "2023-02-06T14:03:25.664876Z",
     "shell.execute_reply": "2023-02-06T14:03:25.663670Z"
    },
    "papermill": {
     "duration": 1.845182,
     "end_time": "2023-02-06T14:03:25.668155",
     "exception": false,
     "start_time": "2023-02-06T14:03:23.822973",
     "status": "completed"
    },
    "tags": []
   },
   "outputs": [
    {
     "data": {
      "text/html": [
       "<style type='text/css'>\n",
       ".datatable table.frame { margin-bottom: 0; }\n",
       ".datatable table.frame thead { border-bottom: none; }\n",
       ".datatable table.frame tr.coltypes td {  color: #FFFFFF;  line-height: 6px;  padding: 0 0.5em;}\n",
       ".datatable .bool    { background: #DDDD99; }\n",
       ".datatable .object  { background: #565656; }\n",
       ".datatable .int     { background: #5D9E5D; }\n",
       ".datatable .float   { background: #4040CC; }\n",
       ".datatable .str     { background: #CC4040; }\n",
       ".datatable .time    { background: #40CC40; }\n",
       ".datatable .row_index {  background: var(--jp-border-color3);  border-right: 1px solid var(--jp-border-color0);  color: var(--jp-ui-font-color3);  font-size: 9px;}\n",
       ".datatable .frame tbody td { text-align: left; }\n",
       ".datatable .frame tr.coltypes .row_index {  background: var(--jp-border-color0);}\n",
       ".datatable th:nth-child(2) { padding-left: 12px; }\n",
       ".datatable .hellipsis {  color: var(--jp-cell-editor-border-color);}\n",
       ".datatable .vellipsis {  background: var(--jp-layout-color0);  color: var(--jp-cell-editor-border-color);}\n",
       ".datatable .na {  color: var(--jp-cell-editor-border-color);  font-size: 80%;}\n",
       ".datatable .sp {  opacity: 0.25;}\n",
       ".datatable .footer { font-size: 9px; }\n",
       ".datatable .frame_dimensions {  background: var(--jp-border-color3);  border-top: 1px solid var(--jp-border-color0);  color: var(--jp-ui-font-color3);  display: inline-block;  opacity: 0.6;  padding: 1px 10px 1px 5px;}\n",
       "</style>\n"
      ],
      "text/plain": [
       "<IPython.core.display.HTML object>"
      ]
     },
     "metadata": {},
     "output_type": "display_data"
    }
   ],
   "source": [
    "import pandas as pd\n",
    "\n",
    "import lightgbm as lgb\n",
    "\n",
    "from sklearn.metrics import mean_squared_error, mean_absolute_percentage_error\n",
    "from sklearn.model_selection import TimeSeriesSplit \n",
    "from sklearn.preprocessing import StandardScaler"
   ]
  },
  {
   "cell_type": "code",
   "execution_count": 2,
   "id": "9b625618",
   "metadata": {
    "execution": {
     "iopub.execute_input": "2023-02-06T14:03:25.685282Z",
     "iopub.status.busy": "2023-02-06T14:03:25.683702Z",
     "iopub.status.idle": "2023-02-06T14:03:25.707284Z",
     "shell.execute_reply": "2023-02-06T14:03:25.706116Z"
    },
    "papermill": {
     "duration": 0.034446,
     "end_time": "2023-02-06T14:03:25.709950",
     "exception": false,
     "start_time": "2023-02-06T14:03:25.675504",
     "status": "completed"
    },
    "tags": []
   },
   "outputs": [],
   "source": [
    "df = pd.read_csv('/kaggle/input/case-ih-time-series-data/data.csv')"
   ]
  },
  {
   "cell_type": "code",
   "execution_count": 3,
   "id": "acfbd432",
   "metadata": {
    "execution": {
     "iopub.execute_input": "2023-02-06T14:03:25.722650Z",
     "iopub.status.busy": "2023-02-06T14:03:25.722220Z",
     "iopub.status.idle": "2023-02-06T14:03:25.741234Z",
     "shell.execute_reply": "2023-02-06T14:03:25.740128Z"
    },
    "papermill": {
     "duration": 0.02857,
     "end_time": "2023-02-06T14:03:25.743967",
     "exception": false,
     "start_time": "2023-02-06T14:03:25.715397",
     "status": "completed"
    },
    "tags": []
   },
   "outputs": [
    {
     "data": {
      "text/html": [
       "<div>\n",
       "<style scoped>\n",
       "    .dataframe tbody tr th:only-of-type {\n",
       "        vertical-align: middle;\n",
       "    }\n",
       "\n",
       "    .dataframe tbody tr th {\n",
       "        vertical-align: top;\n",
       "    }\n",
       "\n",
       "    .dataframe thead th {\n",
       "        text-align: right;\n",
       "    }\n",
       "</style>\n",
       "<table border=\"1\" class=\"dataframe\">\n",
       "  <thead>\n",
       "    <tr style=\"text-align: right;\">\n",
       "      <th></th>\n",
       "      <th>date</th>\n",
       "      <th>work</th>\n",
       "      <th>income</th>\n",
       "    </tr>\n",
       "  </thead>\n",
       "  <tbody>\n",
       "    <tr>\n",
       "      <th>0</th>\n",
       "      <td>Thursday, September 30, 2021</td>\n",
       "      <td>2</td>\n",
       "      <td>2100</td>\n",
       "    </tr>\n",
       "    <tr>\n",
       "      <th>1</th>\n",
       "      <td>Sunday, October 03, 2021</td>\n",
       "      <td>1</td>\n",
       "      <td>3600</td>\n",
       "    </tr>\n",
       "    <tr>\n",
       "      <th>2</th>\n",
       "      <td>Monday, October 04, 2021</td>\n",
       "      <td>1</td>\n",
       "      <td>4000</td>\n",
       "    </tr>\n",
       "    <tr>\n",
       "      <th>3</th>\n",
       "      <td>Tuesday, October 05, 2021</td>\n",
       "      <td>1</td>\n",
       "      <td>7900</td>\n",
       "    </tr>\n",
       "    <tr>\n",
       "      <th>4</th>\n",
       "      <td>Wednesday, October 06, 2021</td>\n",
       "      <td>1</td>\n",
       "      <td>7500</td>\n",
       "    </tr>\n",
       "  </tbody>\n",
       "</table>\n",
       "</div>"
      ],
      "text/plain": [
       "                           date  work  income\n",
       "0  Thursday, September 30, 2021     2    2100\n",
       "1      Sunday, October 03, 2021     1    3600\n",
       "2      Monday, October 04, 2021     1    4000\n",
       "3     Tuesday, October 05, 2021     1    7900\n",
       "4   Wednesday, October 06, 2021     1    7500"
      ]
     },
     "execution_count": 3,
     "metadata": {},
     "output_type": "execute_result"
    }
   ],
   "source": [
    "df.head(5)"
   ]
  },
  {
   "cell_type": "code",
   "execution_count": 4,
   "id": "a8681533",
   "metadata": {
    "execution": {
     "iopub.execute_input": "2023-02-06T14:03:25.756984Z",
     "iopub.status.busy": "2023-02-06T14:03:25.756557Z",
     "iopub.status.idle": "2023-02-06T14:03:25.796061Z",
     "shell.execute_reply": "2023-02-06T14:03:25.794821Z"
    },
    "papermill": {
     "duration": 0.049243,
     "end_time": "2023-02-06T14:03:25.798866",
     "exception": false,
     "start_time": "2023-02-06T14:03:25.749623",
     "status": "completed"
    },
    "tags": []
   },
   "outputs": [],
   "source": [
    "df['date'] = pd.to_datetime(df['date'])"
   ]
  },
  {
   "cell_type": "code",
   "execution_count": 5,
   "id": "6df1820d",
   "metadata": {
    "execution": {
     "iopub.execute_input": "2023-02-06T14:03:25.811723Z",
     "iopub.status.busy": "2023-02-06T14:03:25.811282Z",
     "iopub.status.idle": "2023-02-06T14:03:25.817325Z",
     "shell.execute_reply": "2023-02-06T14:03:25.816207Z"
    },
    "papermill": {
     "duration": 0.015157,
     "end_time": "2023-02-06T14:03:25.819620",
     "exception": false,
     "start_time": "2023-02-06T14:03:25.804463",
     "status": "completed"
    },
    "tags": []
   },
   "outputs": [],
   "source": [
    "data = pd.DataFrame(df.income.copy())"
   ]
  },
  {
   "cell_type": "code",
   "execution_count": 6,
   "id": "4b74a5dc",
   "metadata": {
    "execution": {
     "iopub.execute_input": "2023-02-06T14:03:25.832506Z",
     "iopub.status.busy": "2023-02-06T14:03:25.832089Z",
     "iopub.status.idle": "2023-02-06T14:03:25.837262Z",
     "shell.execute_reply": "2023-02-06T14:03:25.836160Z"
    },
    "papermill": {
     "duration": 0.014313,
     "end_time": "2023-02-06T14:03:25.839469",
     "exception": false,
     "start_time": "2023-02-06T14:03:25.825156",
     "status": "completed"
    },
    "tags": []
   },
   "outputs": [],
   "source": [
    "data.columns = [\"y\"]"
   ]
  },
  {
   "cell_type": "code",
   "execution_count": 7,
   "id": "20bd0186",
   "metadata": {
    "execution": {
     "iopub.execute_input": "2023-02-06T14:03:25.852441Z",
     "iopub.status.busy": "2023-02-06T14:03:25.852012Z",
     "iopub.status.idle": "2023-02-06T14:03:25.861753Z",
     "shell.execute_reply": "2023-02-06T14:03:25.860681Z"
    },
    "papermill": {
     "duration": 0.019081,
     "end_time": "2023-02-06T14:03:25.864053",
     "exception": false,
     "start_time": "2023-02-06T14:03:25.844972",
     "status": "completed"
    },
    "tags": []
   },
   "outputs": [
    {
     "data": {
      "text/html": [
       "<div>\n",
       "<style scoped>\n",
       "    .dataframe tbody tr th:only-of-type {\n",
       "        vertical-align: middle;\n",
       "    }\n",
       "\n",
       "    .dataframe tbody tr th {\n",
       "        vertical-align: top;\n",
       "    }\n",
       "\n",
       "    .dataframe thead th {\n",
       "        text-align: right;\n",
       "    }\n",
       "</style>\n",
       "<table border=\"1\" class=\"dataframe\">\n",
       "  <thead>\n",
       "    <tr style=\"text-align: right;\">\n",
       "      <th></th>\n",
       "      <th>y</th>\n",
       "    </tr>\n",
       "  </thead>\n",
       "  <tbody>\n",
       "    <tr>\n",
       "      <th>0</th>\n",
       "      <td>2100</td>\n",
       "    </tr>\n",
       "    <tr>\n",
       "      <th>1</th>\n",
       "      <td>3600</td>\n",
       "    </tr>\n",
       "    <tr>\n",
       "      <th>2</th>\n",
       "      <td>4000</td>\n",
       "    </tr>\n",
       "    <tr>\n",
       "      <th>3</th>\n",
       "      <td>7900</td>\n",
       "    </tr>\n",
       "    <tr>\n",
       "      <th>4</th>\n",
       "      <td>7500</td>\n",
       "    </tr>\n",
       "  </tbody>\n",
       "</table>\n",
       "</div>"
      ],
      "text/plain": [
       "      y\n",
       "0  2100\n",
       "1  3600\n",
       "2  4000\n",
       "3  7900\n",
       "4  7500"
      ]
     },
     "execution_count": 7,
     "metadata": {},
     "output_type": "execute_result"
    }
   ],
   "source": [
    "data.head()"
   ]
  },
  {
   "cell_type": "code",
   "execution_count": 8,
   "id": "83c233ab",
   "metadata": {
    "execution": {
     "iopub.execute_input": "2023-02-06T14:03:25.877436Z",
     "iopub.status.busy": "2023-02-06T14:03:25.877030Z",
     "iopub.status.idle": "2023-02-06T14:03:25.894300Z",
     "shell.execute_reply": "2023-02-06T14:03:25.893136Z"
    },
    "papermill": {
     "duration": 0.027152,
     "end_time": "2023-02-06T14:03:25.896857",
     "exception": false,
     "start_time": "2023-02-06T14:03:25.869705",
     "status": "completed"
    },
    "tags": []
   },
   "outputs": [],
   "source": [
    "for i in range(6, 25):\n",
    "    data[\"lag_{}\".format(i)] = data.y.shift(i)"
   ]
  },
  {
   "cell_type": "code",
   "execution_count": 9,
   "id": "e5b5fcb4",
   "metadata": {
    "execution": {
     "iopub.execute_input": "2023-02-06T14:03:25.909932Z",
     "iopub.status.busy": "2023-02-06T14:03:25.909504Z",
     "iopub.status.idle": "2023-02-06T14:03:25.932582Z",
     "shell.execute_reply": "2023-02-06T14:03:25.931520Z"
    },
    "papermill": {
     "duration": 0.032274,
     "end_time": "2023-02-06T14:03:25.934952",
     "exception": false,
     "start_time": "2023-02-06T14:03:25.902678",
     "status": "completed"
    },
    "tags": []
   },
   "outputs": [
    {
     "data": {
      "text/html": [
       "<div>\n",
       "<style scoped>\n",
       "    .dataframe tbody tr th:only-of-type {\n",
       "        vertical-align: middle;\n",
       "    }\n",
       "\n",
       "    .dataframe tbody tr th {\n",
       "        vertical-align: top;\n",
       "    }\n",
       "\n",
       "    .dataframe thead th {\n",
       "        text-align: right;\n",
       "    }\n",
       "</style>\n",
       "<table border=\"1\" class=\"dataframe\">\n",
       "  <thead>\n",
       "    <tr style=\"text-align: right;\">\n",
       "      <th></th>\n",
       "      <th>y</th>\n",
       "      <th>lag_6</th>\n",
       "      <th>lag_7</th>\n",
       "      <th>lag_8</th>\n",
       "      <th>lag_9</th>\n",
       "      <th>lag_10</th>\n",
       "      <th>lag_11</th>\n",
       "      <th>lag_12</th>\n",
       "      <th>lag_13</th>\n",
       "      <th>lag_14</th>\n",
       "      <th>lag_15</th>\n",
       "      <th>lag_16</th>\n",
       "      <th>lag_17</th>\n",
       "      <th>lag_18</th>\n",
       "      <th>lag_19</th>\n",
       "      <th>lag_20</th>\n",
       "      <th>lag_21</th>\n",
       "      <th>lag_22</th>\n",
       "      <th>lag_23</th>\n",
       "      <th>lag_24</th>\n",
       "    </tr>\n",
       "  </thead>\n",
       "  <tbody>\n",
       "    <tr>\n",
       "      <th>0</th>\n",
       "      <td>2100</td>\n",
       "      <td>NaN</td>\n",
       "      <td>NaN</td>\n",
       "      <td>NaN</td>\n",
       "      <td>NaN</td>\n",
       "      <td>NaN</td>\n",
       "      <td>NaN</td>\n",
       "      <td>NaN</td>\n",
       "      <td>NaN</td>\n",
       "      <td>NaN</td>\n",
       "      <td>NaN</td>\n",
       "      <td>NaN</td>\n",
       "      <td>NaN</td>\n",
       "      <td>NaN</td>\n",
       "      <td>NaN</td>\n",
       "      <td>NaN</td>\n",
       "      <td>NaN</td>\n",
       "      <td>NaN</td>\n",
       "      <td>NaN</td>\n",
       "      <td>NaN</td>\n",
       "    </tr>\n",
       "    <tr>\n",
       "      <th>1</th>\n",
       "      <td>3600</td>\n",
       "      <td>NaN</td>\n",
       "      <td>NaN</td>\n",
       "      <td>NaN</td>\n",
       "      <td>NaN</td>\n",
       "      <td>NaN</td>\n",
       "      <td>NaN</td>\n",
       "      <td>NaN</td>\n",
       "      <td>NaN</td>\n",
       "      <td>NaN</td>\n",
       "      <td>NaN</td>\n",
       "      <td>NaN</td>\n",
       "      <td>NaN</td>\n",
       "      <td>NaN</td>\n",
       "      <td>NaN</td>\n",
       "      <td>NaN</td>\n",
       "      <td>NaN</td>\n",
       "      <td>NaN</td>\n",
       "      <td>NaN</td>\n",
       "      <td>NaN</td>\n",
       "    </tr>\n",
       "    <tr>\n",
       "      <th>2</th>\n",
       "      <td>4000</td>\n",
       "      <td>NaN</td>\n",
       "      <td>NaN</td>\n",
       "      <td>NaN</td>\n",
       "      <td>NaN</td>\n",
       "      <td>NaN</td>\n",
       "      <td>NaN</td>\n",
       "      <td>NaN</td>\n",
       "      <td>NaN</td>\n",
       "      <td>NaN</td>\n",
       "      <td>NaN</td>\n",
       "      <td>NaN</td>\n",
       "      <td>NaN</td>\n",
       "      <td>NaN</td>\n",
       "      <td>NaN</td>\n",
       "      <td>NaN</td>\n",
       "      <td>NaN</td>\n",
       "      <td>NaN</td>\n",
       "      <td>NaN</td>\n",
       "      <td>NaN</td>\n",
       "    </tr>\n",
       "    <tr>\n",
       "      <th>3</th>\n",
       "      <td>7900</td>\n",
       "      <td>NaN</td>\n",
       "      <td>NaN</td>\n",
       "      <td>NaN</td>\n",
       "      <td>NaN</td>\n",
       "      <td>NaN</td>\n",
       "      <td>NaN</td>\n",
       "      <td>NaN</td>\n",
       "      <td>NaN</td>\n",
       "      <td>NaN</td>\n",
       "      <td>NaN</td>\n",
       "      <td>NaN</td>\n",
       "      <td>NaN</td>\n",
       "      <td>NaN</td>\n",
       "      <td>NaN</td>\n",
       "      <td>NaN</td>\n",
       "      <td>NaN</td>\n",
       "      <td>NaN</td>\n",
       "      <td>NaN</td>\n",
       "      <td>NaN</td>\n",
       "    </tr>\n",
       "    <tr>\n",
       "      <th>4</th>\n",
       "      <td>7500</td>\n",
       "      <td>NaN</td>\n",
       "      <td>NaN</td>\n",
       "      <td>NaN</td>\n",
       "      <td>NaN</td>\n",
       "      <td>NaN</td>\n",
       "      <td>NaN</td>\n",
       "      <td>NaN</td>\n",
       "      <td>NaN</td>\n",
       "      <td>NaN</td>\n",
       "      <td>NaN</td>\n",
       "      <td>NaN</td>\n",
       "      <td>NaN</td>\n",
       "      <td>NaN</td>\n",
       "      <td>NaN</td>\n",
       "      <td>NaN</td>\n",
       "      <td>NaN</td>\n",
       "      <td>NaN</td>\n",
       "      <td>NaN</td>\n",
       "      <td>NaN</td>\n",
       "    </tr>\n",
       "  </tbody>\n",
       "</table>\n",
       "</div>"
      ],
      "text/plain": [
       "      y  lag_6  lag_7  lag_8  lag_9  lag_10  lag_11  lag_12  lag_13  lag_14  \\\n",
       "0  2100    NaN    NaN    NaN    NaN     NaN     NaN     NaN     NaN     NaN   \n",
       "1  3600    NaN    NaN    NaN    NaN     NaN     NaN     NaN     NaN     NaN   \n",
       "2  4000    NaN    NaN    NaN    NaN     NaN     NaN     NaN     NaN     NaN   \n",
       "3  7900    NaN    NaN    NaN    NaN     NaN     NaN     NaN     NaN     NaN   \n",
       "4  7500    NaN    NaN    NaN    NaN     NaN     NaN     NaN     NaN     NaN   \n",
       "\n",
       "   lag_15  lag_16  lag_17  lag_18  lag_19  lag_20  lag_21  lag_22  lag_23  \\\n",
       "0     NaN     NaN     NaN     NaN     NaN     NaN     NaN     NaN     NaN   \n",
       "1     NaN     NaN     NaN     NaN     NaN     NaN     NaN     NaN     NaN   \n",
       "2     NaN     NaN     NaN     NaN     NaN     NaN     NaN     NaN     NaN   \n",
       "3     NaN     NaN     NaN     NaN     NaN     NaN     NaN     NaN     NaN   \n",
       "4     NaN     NaN     NaN     NaN     NaN     NaN     NaN     NaN     NaN   \n",
       "\n",
       "   lag_24  \n",
       "0     NaN  \n",
       "1     NaN  \n",
       "2     NaN  \n",
       "3     NaN  \n",
       "4     NaN  "
      ]
     },
     "execution_count": 9,
     "metadata": {},
     "output_type": "execute_result"
    }
   ],
   "source": [
    "data.head()"
   ]
  },
  {
   "cell_type": "code",
   "execution_count": 10,
   "id": "98d57ee0",
   "metadata": {
    "execution": {
     "iopub.execute_input": "2023-02-06T14:03:25.948885Z",
     "iopub.status.busy": "2023-02-06T14:03:25.948450Z",
     "iopub.status.idle": "2023-02-06T14:03:25.963280Z",
     "shell.execute_reply": "2023-02-06T14:03:25.962353Z"
    },
    "papermill": {
     "duration": 0.024634,
     "end_time": "2023-02-06T14:03:25.965701",
     "exception": false,
     "start_time": "2023-02-06T14:03:25.941067",
     "status": "completed"
    },
    "tags": []
   },
   "outputs": [],
   "source": [
    "x = data.dropna().drop(['y'], axis=1)\n",
    "\n",
    "y = data.dropna().y"
   ]
  },
  {
   "cell_type": "code",
   "execution_count": 11,
   "id": "19d26ead",
   "metadata": {
    "execution": {
     "iopub.execute_input": "2023-02-06T14:03:25.979959Z",
     "iopub.status.busy": "2023-02-06T14:03:25.979052Z",
     "iopub.status.idle": "2023-02-06T14:03:26.005992Z",
     "shell.execute_reply": "2023-02-06T14:03:26.005118Z"
    },
    "papermill": {
     "duration": 0.036439,
     "end_time": "2023-02-06T14:03:26.008113",
     "exception": false,
     "start_time": "2023-02-06T14:03:25.971674",
     "status": "completed"
    },
    "tags": []
   },
   "outputs": [
    {
     "data": {
      "text/html": [
       "<div>\n",
       "<style scoped>\n",
       "    .dataframe tbody tr th:only-of-type {\n",
       "        vertical-align: middle;\n",
       "    }\n",
       "\n",
       "    .dataframe tbody tr th {\n",
       "        vertical-align: top;\n",
       "    }\n",
       "\n",
       "    .dataframe thead th {\n",
       "        text-align: right;\n",
       "    }\n",
       "</style>\n",
       "<table border=\"1\" class=\"dataframe\">\n",
       "  <thead>\n",
       "    <tr style=\"text-align: right;\">\n",
       "      <th></th>\n",
       "      <th>lag_6</th>\n",
       "      <th>lag_7</th>\n",
       "      <th>lag_8</th>\n",
       "      <th>lag_9</th>\n",
       "      <th>lag_10</th>\n",
       "      <th>lag_11</th>\n",
       "      <th>lag_12</th>\n",
       "      <th>lag_13</th>\n",
       "      <th>lag_14</th>\n",
       "      <th>lag_15</th>\n",
       "      <th>lag_16</th>\n",
       "      <th>lag_17</th>\n",
       "      <th>lag_18</th>\n",
       "      <th>lag_19</th>\n",
       "      <th>lag_20</th>\n",
       "      <th>lag_21</th>\n",
       "      <th>lag_22</th>\n",
       "      <th>lag_23</th>\n",
       "      <th>lag_24</th>\n",
       "    </tr>\n",
       "  </thead>\n",
       "  <tbody>\n",
       "    <tr>\n",
       "      <th>24</th>\n",
       "      <td>5600.0</td>\n",
       "      <td>6000.0</td>\n",
       "      <td>12500.0</td>\n",
       "      <td>9000.0</td>\n",
       "      <td>5600.0</td>\n",
       "      <td>10000.0</td>\n",
       "      <td>4200.0</td>\n",
       "      <td>5500.0</td>\n",
       "      <td>2600.0</td>\n",
       "      <td>8000.0</td>\n",
       "      <td>6800.0</td>\n",
       "      <td>5800.0</td>\n",
       "      <td>6700.0</td>\n",
       "      <td>10600.0</td>\n",
       "      <td>7500.0</td>\n",
       "      <td>7900.0</td>\n",
       "      <td>4000.0</td>\n",
       "      <td>3600.0</td>\n",
       "      <td>2100.0</td>\n",
       "    </tr>\n",
       "    <tr>\n",
       "      <th>25</th>\n",
       "      <td>2100.0</td>\n",
       "      <td>5600.0</td>\n",
       "      <td>6000.0</td>\n",
       "      <td>12500.0</td>\n",
       "      <td>9000.0</td>\n",
       "      <td>5600.0</td>\n",
       "      <td>10000.0</td>\n",
       "      <td>4200.0</td>\n",
       "      <td>5500.0</td>\n",
       "      <td>2600.0</td>\n",
       "      <td>8000.0</td>\n",
       "      <td>6800.0</td>\n",
       "      <td>5800.0</td>\n",
       "      <td>6700.0</td>\n",
       "      <td>10600.0</td>\n",
       "      <td>7500.0</td>\n",
       "      <td>7900.0</td>\n",
       "      <td>4000.0</td>\n",
       "      <td>3600.0</td>\n",
       "    </tr>\n",
       "    <tr>\n",
       "      <th>26</th>\n",
       "      <td>6400.0</td>\n",
       "      <td>2100.0</td>\n",
       "      <td>5600.0</td>\n",
       "      <td>6000.0</td>\n",
       "      <td>12500.0</td>\n",
       "      <td>9000.0</td>\n",
       "      <td>5600.0</td>\n",
       "      <td>10000.0</td>\n",
       "      <td>4200.0</td>\n",
       "      <td>5500.0</td>\n",
       "      <td>2600.0</td>\n",
       "      <td>8000.0</td>\n",
       "      <td>6800.0</td>\n",
       "      <td>5800.0</td>\n",
       "      <td>6700.0</td>\n",
       "      <td>10600.0</td>\n",
       "      <td>7500.0</td>\n",
       "      <td>7900.0</td>\n",
       "      <td>4000.0</td>\n",
       "    </tr>\n",
       "    <tr>\n",
       "      <th>27</th>\n",
       "      <td>2400.0</td>\n",
       "      <td>6400.0</td>\n",
       "      <td>2100.0</td>\n",
       "      <td>5600.0</td>\n",
       "      <td>6000.0</td>\n",
       "      <td>12500.0</td>\n",
       "      <td>9000.0</td>\n",
       "      <td>5600.0</td>\n",
       "      <td>10000.0</td>\n",
       "      <td>4200.0</td>\n",
       "      <td>5500.0</td>\n",
       "      <td>2600.0</td>\n",
       "      <td>8000.0</td>\n",
       "      <td>6800.0</td>\n",
       "      <td>5800.0</td>\n",
       "      <td>6700.0</td>\n",
       "      <td>10600.0</td>\n",
       "      <td>7500.0</td>\n",
       "      <td>7900.0</td>\n",
       "    </tr>\n",
       "    <tr>\n",
       "      <th>28</th>\n",
       "      <td>2000.0</td>\n",
       "      <td>2400.0</td>\n",
       "      <td>6400.0</td>\n",
       "      <td>2100.0</td>\n",
       "      <td>5600.0</td>\n",
       "      <td>6000.0</td>\n",
       "      <td>12500.0</td>\n",
       "      <td>9000.0</td>\n",
       "      <td>5600.0</td>\n",
       "      <td>10000.0</td>\n",
       "      <td>4200.0</td>\n",
       "      <td>5500.0</td>\n",
       "      <td>2600.0</td>\n",
       "      <td>8000.0</td>\n",
       "      <td>6800.0</td>\n",
       "      <td>5800.0</td>\n",
       "      <td>6700.0</td>\n",
       "      <td>10600.0</td>\n",
       "      <td>7500.0</td>\n",
       "    </tr>\n",
       "  </tbody>\n",
       "</table>\n",
       "</div>"
      ],
      "text/plain": [
       "     lag_6   lag_7    lag_8    lag_9   lag_10   lag_11   lag_12   lag_13  \\\n",
       "24  5600.0  6000.0  12500.0   9000.0   5600.0  10000.0   4200.0   5500.0   \n",
       "25  2100.0  5600.0   6000.0  12500.0   9000.0   5600.0  10000.0   4200.0   \n",
       "26  6400.0  2100.0   5600.0   6000.0  12500.0   9000.0   5600.0  10000.0   \n",
       "27  2400.0  6400.0   2100.0   5600.0   6000.0  12500.0   9000.0   5600.0   \n",
       "28  2000.0  2400.0   6400.0   2100.0   5600.0   6000.0  12500.0   9000.0   \n",
       "\n",
       "     lag_14   lag_15  lag_16  lag_17  lag_18   lag_19   lag_20   lag_21  \\\n",
       "24   2600.0   8000.0  6800.0  5800.0  6700.0  10600.0   7500.0   7900.0   \n",
       "25   5500.0   2600.0  8000.0  6800.0  5800.0   6700.0  10600.0   7500.0   \n",
       "26   4200.0   5500.0  2600.0  8000.0  6800.0   5800.0   6700.0  10600.0   \n",
       "27  10000.0   4200.0  5500.0  2600.0  8000.0   6800.0   5800.0   6700.0   \n",
       "28   5600.0  10000.0  4200.0  5500.0  2600.0   8000.0   6800.0   5800.0   \n",
       "\n",
       "     lag_22   lag_23  lag_24  \n",
       "24   4000.0   3600.0  2100.0  \n",
       "25   7900.0   4000.0  3600.0  \n",
       "26   7500.0   7900.0  4000.0  \n",
       "27  10600.0   7500.0  7900.0  \n",
       "28   6700.0  10600.0  7500.0  "
      ]
     },
     "execution_count": 11,
     "metadata": {},
     "output_type": "execute_result"
    }
   ],
   "source": [
    "x.head()"
   ]
  },
  {
   "cell_type": "code",
   "execution_count": 12,
   "id": "417bbb33",
   "metadata": {
    "execution": {
     "iopub.execute_input": "2023-02-06T14:03:26.022646Z",
     "iopub.status.busy": "2023-02-06T14:03:26.022026Z",
     "iopub.status.idle": "2023-02-06T14:03:26.026387Z",
     "shell.execute_reply": "2023-02-06T14:03:26.025578Z"
    },
    "papermill": {
     "duration": 0.01419,
     "end_time": "2023-02-06T14:03:26.028530",
     "exception": false,
     "start_time": "2023-02-06T14:03:26.014340",
     "status": "completed"
    },
    "tags": []
   },
   "outputs": [],
   "source": [
    "tscv = TimeSeriesSplit(n_splits=5)"
   ]
  },
  {
   "cell_type": "code",
   "execution_count": 13,
   "id": "e66d0e37",
   "metadata": {
    "execution": {
     "iopub.execute_input": "2023-02-06T14:03:26.043118Z",
     "iopub.status.busy": "2023-02-06T14:03:26.042222Z",
     "iopub.status.idle": "2023-02-06T14:03:26.048204Z",
     "shell.execute_reply": "2023-02-06T14:03:26.047174Z"
    },
    "papermill": {
     "duration": 0.015789,
     "end_time": "2023-02-06T14:03:26.050455",
     "exception": false,
     "start_time": "2023-02-06T14:03:26.034666",
     "status": "completed"
    },
    "tags": []
   },
   "outputs": [],
   "source": [
    "def timeseries_train_test_split(x, y, test_size):\n",
    "    \n",
    "    test_index = int(len(x)*(1-test_size))\n",
    "    \n",
    "    x_train = x.iloc[:test_index]\n",
    "    y_train = y.iloc[:test_index]\n",
    "    \n",
    "    x_test = x.iloc[test_index:]\n",
    "    y_test = y.iloc[test_index:]\n",
    "    \n",
    "    return x_train, x_test, y_train, y_test"
   ]
  },
  {
   "cell_type": "code",
   "execution_count": 14,
   "id": "ce6b064d",
   "metadata": {
    "execution": {
     "iopub.execute_input": "2023-02-06T14:03:26.064722Z",
     "iopub.status.busy": "2023-02-06T14:03:26.064306Z",
     "iopub.status.idle": "2023-02-06T14:03:26.069895Z",
     "shell.execute_reply": "2023-02-06T14:03:26.068785Z"
    },
    "papermill": {
     "duration": 0.015331,
     "end_time": "2023-02-06T14:03:26.072030",
     "exception": false,
     "start_time": "2023-02-06T14:03:26.056699",
     "status": "completed"
    },
    "tags": []
   },
   "outputs": [],
   "source": [
    "x_train, x_test, y_train, y_test = timeseries_train_test_split(x, y, test_size=0.3)"
   ]
  },
  {
   "cell_type": "code",
   "execution_count": 15,
   "id": "e349ec02",
   "metadata": {
    "execution": {
     "iopub.execute_input": "2023-02-06T14:03:26.086403Z",
     "iopub.status.busy": "2023-02-06T14:03:26.085725Z",
     "iopub.status.idle": "2023-02-06T14:03:26.091547Z",
     "shell.execute_reply": "2023-02-06T14:03:26.090376Z"
    },
    "papermill": {
     "duration": 0.015761,
     "end_time": "2023-02-06T14:03:26.093943",
     "exception": false,
     "start_time": "2023-02-06T14:03:26.078182",
     "status": "completed"
    },
    "tags": []
   },
   "outputs": [
    {
     "name": "stdout",
     "output_type": "stream",
     "text": [
      "(117, 19)\n",
      "(51, 19)\n",
      "(117,)\n",
      "(51,)\n"
     ]
    }
   ],
   "source": [
    "print(x_train.shape)\n",
    "print(x_test.shape)\n",
    "print(y_train.shape)\n",
    "print(y_test.shape)"
   ]
  },
  {
   "cell_type": "code",
   "execution_count": 16,
   "id": "546c9309",
   "metadata": {
    "execution": {
     "iopub.execute_input": "2023-02-06T14:03:26.108078Z",
     "iopub.status.busy": "2023-02-06T14:03:26.107633Z",
     "iopub.status.idle": "2023-02-06T14:03:26.112931Z",
     "shell.execute_reply": "2023-02-06T14:03:26.111821Z"
    },
    "papermill": {
     "duration": 0.014894,
     "end_time": "2023-02-06T14:03:26.115067",
     "exception": false,
     "start_time": "2023-02-06T14:03:26.100173",
     "status": "completed"
    },
    "tags": []
   },
   "outputs": [],
   "source": [
    "params = {\n",
    "    'task': 'train', \n",
    "    'boosting': 'gbdt',\n",
    "    'objective': 'regression',\n",
    "    'num_leaves': 10,\n",
    "    'learnnig_rage': 0.05,\n",
    "    'metric': {'l2','l1'},\n",
    "    'verbose': -1\n",
    "}"
   ]
  },
  {
   "cell_type": "code",
   "execution_count": 17,
   "id": "3aead967",
   "metadata": {
    "execution": {
     "iopub.execute_input": "2023-02-06T14:03:26.130116Z",
     "iopub.status.busy": "2023-02-06T14:03:26.129659Z",
     "iopub.status.idle": "2023-02-06T14:03:26.134731Z",
     "shell.execute_reply": "2023-02-06T14:03:26.133774Z"
    },
    "papermill": {
     "duration": 0.014887,
     "end_time": "2023-02-06T14:03:26.137021",
     "exception": false,
     "start_time": "2023-02-06T14:03:26.122134",
     "status": "completed"
    },
    "tags": []
   },
   "outputs": [],
   "source": [
    "lgb_train = lgb.Dataset(x_train, y_train)\n",
    "lgb_eval = lgb.Dataset(x_test, y_test, reference=lgb_train)"
   ]
  },
  {
   "cell_type": "code",
   "execution_count": 18,
   "id": "e0322013",
   "metadata": {
    "execution": {
     "iopub.execute_input": "2023-02-06T14:03:26.151115Z",
     "iopub.status.busy": "2023-02-06T14:03:26.150662Z",
     "iopub.status.idle": "2023-02-06T14:03:26.227099Z",
     "shell.execute_reply": "2023-02-06T14:03:26.225160Z"
    },
    "papermill": {
     "duration": 0.087818,
     "end_time": "2023-02-06T14:03:26.230950",
     "exception": false,
     "start_time": "2023-02-06T14:03:26.143132",
     "status": "completed"
    },
    "tags": []
   },
   "outputs": [
    {
     "name": "stdout",
     "output_type": "stream",
     "text": [
      "[LightGBM] [Warning] Unknown parameter: learnnig_rage\n",
      "[1]\tvalid_0's l2: 1.19772e+07\tvalid_0's l1: 2843.22\n",
      "Training until validation scores don't improve for 60 rounds\n",
      "[2]\tvalid_0's l2: 1.19499e+07\tvalid_0's l1: 2839.01\n",
      "[3]\tvalid_0's l2: 1.23161e+07\tvalid_0's l1: 2888.15\n",
      "[4]\tvalid_0's l2: 1.22696e+07\tvalid_0's l1: 2892.47\n",
      "[5]\tvalid_0's l2: 1.23666e+07\tvalid_0's l1: 2910.66\n",
      "[6]\tvalid_0's l2: 1.24027e+07\tvalid_0's l1: 2911.49\n",
      "[7]\tvalid_0's l2: 1.2595e+07\tvalid_0's l1: 2939.8\n",
      "[8]\tvalid_0's l2: 1.2727e+07\tvalid_0's l1: 2964.08\n",
      "[9]\tvalid_0's l2: 1.28256e+07\tvalid_0's l1: 2981.69\n",
      "[10]\tvalid_0's l2: 1.29327e+07\tvalid_0's l1: 2983.51\n",
      "[11]\tvalid_0's l2: 1.31787e+07\tvalid_0's l1: 3008.96\n",
      "[12]\tvalid_0's l2: 1.33689e+07\tvalid_0's l1: 3036\n",
      "[13]\tvalid_0's l2: 1.35053e+07\tvalid_0's l1: 3059.87\n",
      "[14]\tvalid_0's l2: 1.36483e+07\tvalid_0's l1: 3085.16\n",
      "[15]\tvalid_0's l2: 1.35919e+07\tvalid_0's l1: 3077.56\n",
      "[16]\tvalid_0's l2: 1.36704e+07\tvalid_0's l1: 3080.47\n",
      "[17]\tvalid_0's l2: 1.36972e+07\tvalid_0's l1: 3077.56\n",
      "[18]\tvalid_0's l2: 1.39139e+07\tvalid_0's l1: 3100.24\n",
      "[19]\tvalid_0's l2: 1.38509e+07\tvalid_0's l1: 3094.92\n",
      "[20]\tvalid_0's l2: 1.39251e+07\tvalid_0's l1: 3099.38\n",
      "[21]\tvalid_0's l2: 1.39333e+07\tvalid_0's l1: 3096.52\n",
      "[22]\tvalid_0's l2: 1.41232e+07\tvalid_0's l1: 3115.9\n",
      "[23]\tvalid_0's l2: 1.41491e+07\tvalid_0's l1: 3115\n",
      "[24]\tvalid_0's l2: 1.41933e+07\tvalid_0's l1: 3112.61\n",
      "[25]\tvalid_0's l2: 1.41965e+07\tvalid_0's l1: 3112.11\n",
      "[26]\tvalid_0's l2: 1.43344e+07\tvalid_0's l1: 3131.83\n",
      "[27]\tvalid_0's l2: 1.43003e+07\tvalid_0's l1: 3125.66\n",
      "[28]\tvalid_0's l2: 1.44471e+07\tvalid_0's l1: 3140.7\n",
      "[29]\tvalid_0's l2: 1.44086e+07\tvalid_0's l1: 3128.29\n",
      "[30]\tvalid_0's l2: 1.43564e+07\tvalid_0's l1: 3118.85\n",
      "[31]\tvalid_0's l2: 1.45311e+07\tvalid_0's l1: 3141.59\n",
      "[32]\tvalid_0's l2: 1.4582e+07\tvalid_0's l1: 3155.65\n",
      "[33]\tvalid_0's l2: 1.48058e+07\tvalid_0's l1: 3186.7\n",
      "[34]\tvalid_0's l2: 1.50822e+07\tvalid_0's l1: 3217.31\n",
      "[35]\tvalid_0's l2: 1.50632e+07\tvalid_0's l1: 3214.55\n",
      "[36]\tvalid_0's l2: 1.50925e+07\tvalid_0's l1: 3219.58\n",
      "[37]\tvalid_0's l2: 1.51302e+07\tvalid_0's l1: 3239.1\n",
      "[38]\tvalid_0's l2: 1.53454e+07\tvalid_0's l1: 3265.51\n",
      "[39]\tvalid_0's l2: 1.55596e+07\tvalid_0's l1: 3283.96\n",
      "[40]\tvalid_0's l2: 1.55232e+07\tvalid_0's l1: 3282.81\n",
      "[41]\tvalid_0's l2: 1.55282e+07\tvalid_0's l1: 3285.05\n",
      "[42]\tvalid_0's l2: 1.57265e+07\tvalid_0's l1: 3313.66\n",
      "[43]\tvalid_0's l2: 1.57151e+07\tvalid_0's l1: 3304.78\n",
      "[44]\tvalid_0's l2: 1.58209e+07\tvalid_0's l1: 3324.13\n",
      "[45]\tvalid_0's l2: 1.57054e+07\tvalid_0's l1: 3307.75\n",
      "[46]\tvalid_0's l2: 1.57951e+07\tvalid_0's l1: 3323.16\n",
      "[47]\tvalid_0's l2: 1.59441e+07\tvalid_0's l1: 3335.5\n",
      "[48]\tvalid_0's l2: 1.59564e+07\tvalid_0's l1: 3339.19\n",
      "[49]\tvalid_0's l2: 1.61323e+07\tvalid_0's l1: 3357.5\n",
      "[50]\tvalid_0's l2: 1.61755e+07\tvalid_0's l1: 3362.97\n",
      "[51]\tvalid_0's l2: 1.61515e+07\tvalid_0's l1: 3363.86\n",
      "[52]\tvalid_0's l2: 1.61826e+07\tvalid_0's l1: 3371.42\n",
      "[53]\tvalid_0's l2: 1.63598e+07\tvalid_0's l1: 3387.22\n",
      "[54]\tvalid_0's l2: 1.63016e+07\tvalid_0's l1: 3386.46\n",
      "[55]\tvalid_0's l2: 1.62931e+07\tvalid_0's l1: 3387.53\n",
      "[56]\tvalid_0's l2: 1.63067e+07\tvalid_0's l1: 3386.64\n",
      "[57]\tvalid_0's l2: 1.62556e+07\tvalid_0's l1: 3381.26\n",
      "[58]\tvalid_0's l2: 1.64178e+07\tvalid_0's l1: 3394.59\n",
      "[59]\tvalid_0's l2: 1.65873e+07\tvalid_0's l1: 3417.23\n",
      "[60]\tvalid_0's l2: 1.66174e+07\tvalid_0's l1: 3420.24\n",
      "[61]\tvalid_0's l2: 1.6643e+07\tvalid_0's l1: 3420.63\n",
      "[62]\tvalid_0's l2: 1.68485e+07\tvalid_0's l1: 3443.87\n",
      "Early stopping, best iteration is:\n",
      "[2]\tvalid_0's l2: 1.19499e+07\tvalid_0's l1: 2839.01\n"
     ]
    },
    {
     "name": "stderr",
     "output_type": "stream",
     "text": [
      "/opt/conda/lib/python3.7/site-packages/lightgbm/engine.py:181: UserWarning: 'early_stopping_rounds' argument is deprecated and will be removed in a future release of LightGBM. Pass 'early_stopping()' callback via 'callbacks' argument instead.\n",
      "  _log_warning(\"'early_stopping_rounds' argument is deprecated and will be removed in a future release of LightGBM. \"\n"
     ]
    }
   ],
   "source": [
    "lgbm_model = lgb.train(params,\n",
    "                 train_set=lgb_train,\n",
    "                 valid_sets=lgb_eval,\n",
    "                 early_stopping_rounds=60)"
   ]
  },
  {
   "cell_type": "code",
   "execution_count": null,
   "id": "4d19bd91",
   "metadata": {
    "papermill": {
     "duration": 0.006196,
     "end_time": "2023-02-06T14:03:26.244303",
     "exception": false,
     "start_time": "2023-02-06T14:03:26.238107",
     "status": "completed"
    },
    "tags": []
   },
   "outputs": [],
   "source": []
  }
 ],
 "metadata": {
  "kernelspec": {
   "display_name": "Python 3",
   "language": "python",
   "name": "python3"
  },
  "language_info": {
   "codemirror_mode": {
    "name": "ipython",
    "version": 3
   },
   "file_extension": ".py",
   "mimetype": "text/x-python",
   "name": "python",
   "nbconvert_exporter": "python",
   "pygments_lexer": "ipython3",
   "version": "3.7.12"
  },
  "papermill": {
   "default_parameters": {},
   "duration": 11.731404,
   "end_time": "2023-02-06T14:03:27.072893",
   "environment_variables": {},
   "exception": null,
   "input_path": "__notebook__.ipynb",
   "output_path": "__notebook__.ipynb",
   "parameters": {},
   "start_time": "2023-02-06T14:03:15.341489",
   "version": "2.3.4"
  }
 },
 "nbformat": 4,
 "nbformat_minor": 5
}
