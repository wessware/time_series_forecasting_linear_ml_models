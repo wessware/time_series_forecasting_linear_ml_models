{
 "cells": [
  {
   "cell_type": "code",
   "execution_count": 1,
   "id": "1a10b08c",
   "metadata": {
    "_cell_guid": "b1076dfc-b9ad-4769-8c92-a6c4dae69d19",
    "_uuid": "8f2839f25d086af736a60e9eeb907d3b93b6e0e5",
    "execution": {
     "iopub.execute_input": "2023-02-06T13:52:03.376935Z",
     "iopub.status.busy": "2023-02-06T13:52:03.376426Z",
     "iopub.status.idle": "2023-02-06T13:52:05.658636Z",
     "shell.execute_reply": "2023-02-06T13:52:05.656255Z"
    },
    "papermill": {
     "duration": 2.292312,
     "end_time": "2023-02-06T13:52:05.662191",
     "exception": false,
     "start_time": "2023-02-06T13:52:03.369879",
     "status": "completed"
    },
    "tags": []
   },
   "outputs": [
    {
     "data": {
      "text/html": [
       "<style type='text/css'>\n",
       ".datatable table.frame { margin-bottom: 0; }\n",
       ".datatable table.frame thead { border-bottom: none; }\n",
       ".datatable table.frame tr.coltypes td {  color: #FFFFFF;  line-height: 6px;  padding: 0 0.5em;}\n",
       ".datatable .bool    { background: #DDDD99; }\n",
       ".datatable .object  { background: #565656; }\n",
       ".datatable .int     { background: #5D9E5D; }\n",
       ".datatable .float   { background: #4040CC; }\n",
       ".datatable .str     { background: #CC4040; }\n",
       ".datatable .time    { background: #40CC40; }\n",
       ".datatable .row_index {  background: var(--jp-border-color3);  border-right: 1px solid var(--jp-border-color0);  color: var(--jp-ui-font-color3);  font-size: 9px;}\n",
       ".datatable .frame tbody td { text-align: left; }\n",
       ".datatable .frame tr.coltypes .row_index {  background: var(--jp-border-color0);}\n",
       ".datatable th:nth-child(2) { padding-left: 12px; }\n",
       ".datatable .hellipsis {  color: var(--jp-cell-editor-border-color);}\n",
       ".datatable .vellipsis {  background: var(--jp-layout-color0);  color: var(--jp-cell-editor-border-color);}\n",
       ".datatable .na {  color: var(--jp-cell-editor-border-color);  font-size: 80%;}\n",
       ".datatable .sp {  opacity: 0.25;}\n",
       ".datatable .footer { font-size: 9px; }\n",
       ".datatable .frame_dimensions {  background: var(--jp-border-color3);  border-top: 1px solid var(--jp-border-color0);  color: var(--jp-ui-font-color3);  display: inline-block;  opacity: 0.6;  padding: 1px 10px 1px 5px;}\n",
       "</style>\n"
      ],
      "text/plain": [
       "<IPython.core.display.HTML object>"
      ]
     },
     "metadata": {},
     "output_type": "display_data"
    }
   ],
   "source": [
    "import pandas as pd\n",
    "import lightgbm as lgb"
   ]
  },
  {
   "cell_type": "code",
   "execution_count": 2,
   "id": "8c6e20e9",
   "metadata": {
    "execution": {
     "iopub.execute_input": "2023-02-06T13:52:05.673030Z",
     "iopub.status.busy": "2023-02-06T13:52:05.672473Z",
     "iopub.status.idle": "2023-02-06T13:52:05.701832Z",
     "shell.execute_reply": "2023-02-06T13:52:05.699430Z"
    },
    "papermill": {
     "duration": 0.038524,
     "end_time": "2023-02-06T13:52:05.704877",
     "exception": false,
     "start_time": "2023-02-06T13:52:05.666353",
     "status": "completed"
    },
    "tags": []
   },
   "outputs": [],
   "source": [
    "df = pd.read_csv('/kaggle/input/case-ih-time-series-data/data.csv')"
   ]
  },
  {
   "cell_type": "code",
   "execution_count": 3,
   "id": "fb5088d4",
   "metadata": {
    "execution": {
     "iopub.execute_input": "2023-02-06T13:52:05.713825Z",
     "iopub.status.busy": "2023-02-06T13:52:05.713390Z",
     "iopub.status.idle": "2023-02-06T13:52:05.737100Z",
     "shell.execute_reply": "2023-02-06T13:52:05.734605Z"
    },
    "papermill": {
     "duration": 0.032651,
     "end_time": "2023-02-06T13:52:05.741228",
     "exception": false,
     "start_time": "2023-02-06T13:52:05.708577",
     "status": "completed"
    },
    "tags": []
   },
   "outputs": [
    {
     "data": {
      "text/html": [
       "<div>\n",
       "<style scoped>\n",
       "    .dataframe tbody tr th:only-of-type {\n",
       "        vertical-align: middle;\n",
       "    }\n",
       "\n",
       "    .dataframe tbody tr th {\n",
       "        vertical-align: top;\n",
       "    }\n",
       "\n",
       "    .dataframe thead th {\n",
       "        text-align: right;\n",
       "    }\n",
       "</style>\n",
       "<table border=\"1\" class=\"dataframe\">\n",
       "  <thead>\n",
       "    <tr style=\"text-align: right;\">\n",
       "      <th></th>\n",
       "      <th>date</th>\n",
       "      <th>work</th>\n",
       "      <th>income</th>\n",
       "    </tr>\n",
       "  </thead>\n",
       "  <tbody>\n",
       "    <tr>\n",
       "      <th>0</th>\n",
       "      <td>Thursday, September 30, 2021</td>\n",
       "      <td>2</td>\n",
       "      <td>2100</td>\n",
       "    </tr>\n",
       "    <tr>\n",
       "      <th>1</th>\n",
       "      <td>Sunday, October 03, 2021</td>\n",
       "      <td>1</td>\n",
       "      <td>3600</td>\n",
       "    </tr>\n",
       "    <tr>\n",
       "      <th>2</th>\n",
       "      <td>Monday, October 04, 2021</td>\n",
       "      <td>1</td>\n",
       "      <td>4000</td>\n",
       "    </tr>\n",
       "    <tr>\n",
       "      <th>3</th>\n",
       "      <td>Tuesday, October 05, 2021</td>\n",
       "      <td>1</td>\n",
       "      <td>7900</td>\n",
       "    </tr>\n",
       "    <tr>\n",
       "      <th>4</th>\n",
       "      <td>Wednesday, October 06, 2021</td>\n",
       "      <td>1</td>\n",
       "      <td>7500</td>\n",
       "    </tr>\n",
       "  </tbody>\n",
       "</table>\n",
       "</div>"
      ],
      "text/plain": [
       "                           date  work  income\n",
       "0  Thursday, September 30, 2021     2    2100\n",
       "1      Sunday, October 03, 2021     1    3600\n",
       "2      Monday, October 04, 2021     1    4000\n",
       "3     Tuesday, October 05, 2021     1    7900\n",
       "4   Wednesday, October 06, 2021     1    7500"
      ]
     },
     "execution_count": 3,
     "metadata": {},
     "output_type": "execute_result"
    }
   ],
   "source": [
    "df.head(5)"
   ]
  },
  {
   "cell_type": "code",
   "execution_count": 4,
   "id": "d5222be4",
   "metadata": {
    "execution": {
     "iopub.execute_input": "2023-02-06T13:52:05.752514Z",
     "iopub.status.busy": "2023-02-06T13:52:05.751545Z",
     "iopub.status.idle": "2023-02-06T13:52:05.795514Z",
     "shell.execute_reply": "2023-02-06T13:52:05.793917Z"
    },
    "papermill": {
     "duration": 0.053155,
     "end_time": "2023-02-06T13:52:05.798534",
     "exception": false,
     "start_time": "2023-02-06T13:52:05.745379",
     "status": "completed"
    },
    "tags": []
   },
   "outputs": [],
   "source": [
    "df['date'] = pd.to_datetime(df['date'])"
   ]
  },
  {
   "cell_type": "code",
   "execution_count": 5,
   "id": "b26b8556",
   "metadata": {
    "execution": {
     "iopub.execute_input": "2023-02-06T13:52:05.810102Z",
     "iopub.status.busy": "2023-02-06T13:52:05.808375Z",
     "iopub.status.idle": "2023-02-06T13:52:05.818398Z",
     "shell.execute_reply": "2023-02-06T13:52:05.815923Z"
    },
    "papermill": {
     "duration": 0.01921,
     "end_time": "2023-02-06T13:52:05.821760",
     "exception": false,
     "start_time": "2023-02-06T13:52:05.802550",
     "status": "completed"
    },
    "tags": []
   },
   "outputs": [],
   "source": [
    "data = pd.DataFrame(df.income.copy())"
   ]
  },
  {
   "cell_type": "code",
   "execution_count": 6,
   "id": "572cd691",
   "metadata": {
    "execution": {
     "iopub.execute_input": "2023-02-06T13:52:05.831780Z",
     "iopub.status.busy": "2023-02-06T13:52:05.831333Z",
     "iopub.status.idle": "2023-02-06T13:52:05.836354Z",
     "shell.execute_reply": "2023-02-06T13:52:05.835264Z"
    },
    "papermill": {
     "duration": 0.013534,
     "end_time": "2023-02-06T13:52:05.839257",
     "exception": false,
     "start_time": "2023-02-06T13:52:05.825723",
     "status": "completed"
    },
    "tags": []
   },
   "outputs": [],
   "source": [
    "data.columns = [\"y\"]"
   ]
  },
  {
   "cell_type": "code",
   "execution_count": 7,
   "id": "d6bccd4d",
   "metadata": {
    "execution": {
     "iopub.execute_input": "2023-02-06T13:52:05.849595Z",
     "iopub.status.busy": "2023-02-06T13:52:05.848926Z",
     "iopub.status.idle": "2023-02-06T13:52:05.861379Z",
     "shell.execute_reply": "2023-02-06T13:52:05.859100Z"
    },
    "papermill": {
     "duration": 0.021097,
     "end_time": "2023-02-06T13:52:05.864465",
     "exception": false,
     "start_time": "2023-02-06T13:52:05.843368",
     "status": "completed"
    },
    "tags": []
   },
   "outputs": [
    {
     "data": {
      "text/html": [
       "<div>\n",
       "<style scoped>\n",
       "    .dataframe tbody tr th:only-of-type {\n",
       "        vertical-align: middle;\n",
       "    }\n",
       "\n",
       "    .dataframe tbody tr th {\n",
       "        vertical-align: top;\n",
       "    }\n",
       "\n",
       "    .dataframe thead th {\n",
       "        text-align: right;\n",
       "    }\n",
       "</style>\n",
       "<table border=\"1\" class=\"dataframe\">\n",
       "  <thead>\n",
       "    <tr style=\"text-align: right;\">\n",
       "      <th></th>\n",
       "      <th>y</th>\n",
       "    </tr>\n",
       "  </thead>\n",
       "  <tbody>\n",
       "    <tr>\n",
       "      <th>0</th>\n",
       "      <td>2100</td>\n",
       "    </tr>\n",
       "    <tr>\n",
       "      <th>1</th>\n",
       "      <td>3600</td>\n",
       "    </tr>\n",
       "    <tr>\n",
       "      <th>2</th>\n",
       "      <td>4000</td>\n",
       "    </tr>\n",
       "    <tr>\n",
       "      <th>3</th>\n",
       "      <td>7900</td>\n",
       "    </tr>\n",
       "    <tr>\n",
       "      <th>4</th>\n",
       "      <td>7500</td>\n",
       "    </tr>\n",
       "  </tbody>\n",
       "</table>\n",
       "</div>"
      ],
      "text/plain": [
       "      y\n",
       "0  2100\n",
       "1  3600\n",
       "2  4000\n",
       "3  7900\n",
       "4  7500"
      ]
     },
     "execution_count": 7,
     "metadata": {},
     "output_type": "execute_result"
    }
   ],
   "source": [
    "data.head()"
   ]
  },
  {
   "cell_type": "code",
   "execution_count": 8,
   "id": "48572187",
   "metadata": {
    "execution": {
     "iopub.execute_input": "2023-02-06T13:52:05.875299Z",
     "iopub.status.busy": "2023-02-06T13:52:05.874837Z",
     "iopub.status.idle": "2023-02-06T13:52:05.894078Z",
     "shell.execute_reply": "2023-02-06T13:52:05.892495Z"
    },
    "papermill": {
     "duration": 0.028247,
     "end_time": "2023-02-06T13:52:05.897057",
     "exception": false,
     "start_time": "2023-02-06T13:52:05.868810",
     "status": "completed"
    },
    "tags": []
   },
   "outputs": [],
   "source": [
    "for i in range(6, 25):\n",
    "    data[\"lag_{}\".format(i)] = data.y.shift(i)"
   ]
  },
  {
   "cell_type": "code",
   "execution_count": 9,
   "id": "0214ff6c",
   "metadata": {
    "execution": {
     "iopub.execute_input": "2023-02-06T13:52:05.907349Z",
     "iopub.status.busy": "2023-02-06T13:52:05.906821Z",
     "iopub.status.idle": "2023-02-06T13:52:05.930939Z",
     "shell.execute_reply": "2023-02-06T13:52:05.929368Z"
    },
    "papermill": {
     "duration": 0.03261,
     "end_time": "2023-02-06T13:52:05.933884",
     "exception": false,
     "start_time": "2023-02-06T13:52:05.901274",
     "status": "completed"
    },
    "tags": []
   },
   "outputs": [
    {
     "data": {
      "text/html": [
       "<div>\n",
       "<style scoped>\n",
       "    .dataframe tbody tr th:only-of-type {\n",
       "        vertical-align: middle;\n",
       "    }\n",
       "\n",
       "    .dataframe tbody tr th {\n",
       "        vertical-align: top;\n",
       "    }\n",
       "\n",
       "    .dataframe thead th {\n",
       "        text-align: right;\n",
       "    }\n",
       "</style>\n",
       "<table border=\"1\" class=\"dataframe\">\n",
       "  <thead>\n",
       "    <tr style=\"text-align: right;\">\n",
       "      <th></th>\n",
       "      <th>y</th>\n",
       "      <th>lag_6</th>\n",
       "      <th>lag_7</th>\n",
       "      <th>lag_8</th>\n",
       "      <th>lag_9</th>\n",
       "      <th>lag_10</th>\n",
       "      <th>lag_11</th>\n",
       "      <th>lag_12</th>\n",
       "      <th>lag_13</th>\n",
       "      <th>lag_14</th>\n",
       "      <th>lag_15</th>\n",
       "      <th>lag_16</th>\n",
       "      <th>lag_17</th>\n",
       "      <th>lag_18</th>\n",
       "      <th>lag_19</th>\n",
       "      <th>lag_20</th>\n",
       "      <th>lag_21</th>\n",
       "      <th>lag_22</th>\n",
       "      <th>lag_23</th>\n",
       "      <th>lag_24</th>\n",
       "    </tr>\n",
       "  </thead>\n",
       "  <tbody>\n",
       "    <tr>\n",
       "      <th>0</th>\n",
       "      <td>2100</td>\n",
       "      <td>NaN</td>\n",
       "      <td>NaN</td>\n",
       "      <td>NaN</td>\n",
       "      <td>NaN</td>\n",
       "      <td>NaN</td>\n",
       "      <td>NaN</td>\n",
       "      <td>NaN</td>\n",
       "      <td>NaN</td>\n",
       "      <td>NaN</td>\n",
       "      <td>NaN</td>\n",
       "      <td>NaN</td>\n",
       "      <td>NaN</td>\n",
       "      <td>NaN</td>\n",
       "      <td>NaN</td>\n",
       "      <td>NaN</td>\n",
       "      <td>NaN</td>\n",
       "      <td>NaN</td>\n",
       "      <td>NaN</td>\n",
       "      <td>NaN</td>\n",
       "    </tr>\n",
       "    <tr>\n",
       "      <th>1</th>\n",
       "      <td>3600</td>\n",
       "      <td>NaN</td>\n",
       "      <td>NaN</td>\n",
       "      <td>NaN</td>\n",
       "      <td>NaN</td>\n",
       "      <td>NaN</td>\n",
       "      <td>NaN</td>\n",
       "      <td>NaN</td>\n",
       "      <td>NaN</td>\n",
       "      <td>NaN</td>\n",
       "      <td>NaN</td>\n",
       "      <td>NaN</td>\n",
       "      <td>NaN</td>\n",
       "      <td>NaN</td>\n",
       "      <td>NaN</td>\n",
       "      <td>NaN</td>\n",
       "      <td>NaN</td>\n",
       "      <td>NaN</td>\n",
       "      <td>NaN</td>\n",
       "      <td>NaN</td>\n",
       "    </tr>\n",
       "    <tr>\n",
       "      <th>2</th>\n",
       "      <td>4000</td>\n",
       "      <td>NaN</td>\n",
       "      <td>NaN</td>\n",
       "      <td>NaN</td>\n",
       "      <td>NaN</td>\n",
       "      <td>NaN</td>\n",
       "      <td>NaN</td>\n",
       "      <td>NaN</td>\n",
       "      <td>NaN</td>\n",
       "      <td>NaN</td>\n",
       "      <td>NaN</td>\n",
       "      <td>NaN</td>\n",
       "      <td>NaN</td>\n",
       "      <td>NaN</td>\n",
       "      <td>NaN</td>\n",
       "      <td>NaN</td>\n",
       "      <td>NaN</td>\n",
       "      <td>NaN</td>\n",
       "      <td>NaN</td>\n",
       "      <td>NaN</td>\n",
       "    </tr>\n",
       "    <tr>\n",
       "      <th>3</th>\n",
       "      <td>7900</td>\n",
       "      <td>NaN</td>\n",
       "      <td>NaN</td>\n",
       "      <td>NaN</td>\n",
       "      <td>NaN</td>\n",
       "      <td>NaN</td>\n",
       "      <td>NaN</td>\n",
       "      <td>NaN</td>\n",
       "      <td>NaN</td>\n",
       "      <td>NaN</td>\n",
       "      <td>NaN</td>\n",
       "      <td>NaN</td>\n",
       "      <td>NaN</td>\n",
       "      <td>NaN</td>\n",
       "      <td>NaN</td>\n",
       "      <td>NaN</td>\n",
       "      <td>NaN</td>\n",
       "      <td>NaN</td>\n",
       "      <td>NaN</td>\n",
       "      <td>NaN</td>\n",
       "    </tr>\n",
       "    <tr>\n",
       "      <th>4</th>\n",
       "      <td>7500</td>\n",
       "      <td>NaN</td>\n",
       "      <td>NaN</td>\n",
       "      <td>NaN</td>\n",
       "      <td>NaN</td>\n",
       "      <td>NaN</td>\n",
       "      <td>NaN</td>\n",
       "      <td>NaN</td>\n",
       "      <td>NaN</td>\n",
       "      <td>NaN</td>\n",
       "      <td>NaN</td>\n",
       "      <td>NaN</td>\n",
       "      <td>NaN</td>\n",
       "      <td>NaN</td>\n",
       "      <td>NaN</td>\n",
       "      <td>NaN</td>\n",
       "      <td>NaN</td>\n",
       "      <td>NaN</td>\n",
       "      <td>NaN</td>\n",
       "      <td>NaN</td>\n",
       "    </tr>\n",
       "  </tbody>\n",
       "</table>\n",
       "</div>"
      ],
      "text/plain": [
       "      y  lag_6  lag_7  lag_8  lag_9  lag_10  lag_11  lag_12  lag_13  lag_14  \\\n",
       "0  2100    NaN    NaN    NaN    NaN     NaN     NaN     NaN     NaN     NaN   \n",
       "1  3600    NaN    NaN    NaN    NaN     NaN     NaN     NaN     NaN     NaN   \n",
       "2  4000    NaN    NaN    NaN    NaN     NaN     NaN     NaN     NaN     NaN   \n",
       "3  7900    NaN    NaN    NaN    NaN     NaN     NaN     NaN     NaN     NaN   \n",
       "4  7500    NaN    NaN    NaN    NaN     NaN     NaN     NaN     NaN     NaN   \n",
       "\n",
       "   lag_15  lag_16  lag_17  lag_18  lag_19  lag_20  lag_21  lag_22  lag_23  \\\n",
       "0     NaN     NaN     NaN     NaN     NaN     NaN     NaN     NaN     NaN   \n",
       "1     NaN     NaN     NaN     NaN     NaN     NaN     NaN     NaN     NaN   \n",
       "2     NaN     NaN     NaN     NaN     NaN     NaN     NaN     NaN     NaN   \n",
       "3     NaN     NaN     NaN     NaN     NaN     NaN     NaN     NaN     NaN   \n",
       "4     NaN     NaN     NaN     NaN     NaN     NaN     NaN     NaN     NaN   \n",
       "\n",
       "   lag_24  \n",
       "0     NaN  \n",
       "1     NaN  \n",
       "2     NaN  \n",
       "3     NaN  \n",
       "4     NaN  "
      ]
     },
     "execution_count": 9,
     "metadata": {},
     "output_type": "execute_result"
    }
   ],
   "source": [
    "data.head()"
   ]
  },
  {
   "cell_type": "code",
   "execution_count": 10,
   "id": "33208560",
   "metadata": {
    "execution": {
     "iopub.execute_input": "2023-02-06T13:52:05.944948Z",
     "iopub.status.busy": "2023-02-06T13:52:05.944495Z",
     "iopub.status.idle": "2023-02-06T13:52:05.963826Z",
     "shell.execute_reply": "2023-02-06T13:52:05.962009Z"
    },
    "papermill": {
     "duration": 0.028617,
     "end_time": "2023-02-06T13:52:05.967030",
     "exception": false,
     "start_time": "2023-02-06T13:52:05.938413",
     "status": "completed"
    },
    "tags": []
   },
   "outputs": [],
   "source": [
    "x = data.dropna().drop(['y'], axis=1)\n",
    "\n",
    "y = data.dropna().y"
   ]
  },
  {
   "cell_type": "code",
   "execution_count": null,
   "id": "8c8bb099",
   "metadata": {
    "papermill": {
     "duration": 0.004597,
     "end_time": "2023-02-06T13:52:05.976739",
     "exception": false,
     "start_time": "2023-02-06T13:52:05.972142",
     "status": "completed"
    },
    "tags": []
   },
   "outputs": [],
   "source": []
  }
 ],
 "metadata": {
  "kernelspec": {
   "display_name": "Python 3",
   "language": "python",
   "name": "python3"
  },
  "language_info": {
   "codemirror_mode": {
    "name": "ipython",
    "version": 3
   },
   "file_extension": ".py",
   "mimetype": "text/x-python",
   "name": "python",
   "nbconvert_exporter": "python",
   "pygments_lexer": "ipython3",
   "version": "3.7.12"
  },
  "papermill": {
   "default_parameters": {},
   "duration": 12.473937,
   "end_time": "2023-02-06T13:52:07.110562",
   "environment_variables": {},
   "exception": null,
   "input_path": "__notebook__.ipynb",
   "output_path": "__notebook__.ipynb",
   "parameters": {},
   "start_time": "2023-02-06T13:51:54.636625",
   "version": "2.3.4"
  }
 },
 "nbformat": 4,
 "nbformat_minor": 5
}
