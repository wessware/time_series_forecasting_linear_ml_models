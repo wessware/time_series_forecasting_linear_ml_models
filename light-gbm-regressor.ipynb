{
 "cells": [
  {
   "cell_type": "code",
   "execution_count": 1,
   "id": "ce3a568e",
   "metadata": {
    "_cell_guid": "b1076dfc-b9ad-4769-8c92-a6c4dae69d19",
    "_uuid": "8f2839f25d086af736a60e9eeb907d3b93b6e0e5",
    "execution": {
     "iopub.execute_input": "2023-02-06T13:58:04.257306Z",
     "iopub.status.busy": "2023-02-06T13:58:04.256432Z",
     "iopub.status.idle": "2023-02-06T13:58:06.244256Z",
     "shell.execute_reply": "2023-02-06T13:58:06.243023Z"
    },
    "papermill": {
     "duration": 1.998634,
     "end_time": "2023-02-06T13:58:06.247339",
     "exception": false,
     "start_time": "2023-02-06T13:58:04.248705",
     "status": "completed"
    },
    "tags": []
   },
   "outputs": [
    {
     "data": {
      "text/html": [
       "<style type='text/css'>\n",
       ".datatable table.frame { margin-bottom: 0; }\n",
       ".datatable table.frame thead { border-bottom: none; }\n",
       ".datatable table.frame tr.coltypes td {  color: #FFFFFF;  line-height: 6px;  padding: 0 0.5em;}\n",
       ".datatable .bool    { background: #DDDD99; }\n",
       ".datatable .object  { background: #565656; }\n",
       ".datatable .int     { background: #5D9E5D; }\n",
       ".datatable .float   { background: #4040CC; }\n",
       ".datatable .str     { background: #CC4040; }\n",
       ".datatable .time    { background: #40CC40; }\n",
       ".datatable .row_index {  background: var(--jp-border-color3);  border-right: 1px solid var(--jp-border-color0);  color: var(--jp-ui-font-color3);  font-size: 9px;}\n",
       ".datatable .frame tbody td { text-align: left; }\n",
       ".datatable .frame tr.coltypes .row_index {  background: var(--jp-border-color0);}\n",
       ".datatable th:nth-child(2) { padding-left: 12px; }\n",
       ".datatable .hellipsis {  color: var(--jp-cell-editor-border-color);}\n",
       ".datatable .vellipsis {  background: var(--jp-layout-color0);  color: var(--jp-cell-editor-border-color);}\n",
       ".datatable .na {  color: var(--jp-cell-editor-border-color);  font-size: 80%;}\n",
       ".datatable .sp {  opacity: 0.25;}\n",
       ".datatable .footer { font-size: 9px; }\n",
       ".datatable .frame_dimensions {  background: var(--jp-border-color3);  border-top: 1px solid var(--jp-border-color0);  color: var(--jp-ui-font-color3);  display: inline-block;  opacity: 0.6;  padding: 1px 10px 1px 5px;}\n",
       "</style>\n"
      ],
      "text/plain": [
       "<IPython.core.display.HTML object>"
      ]
     },
     "metadata": {},
     "output_type": "display_data"
    }
   ],
   "source": [
    "import pandas as pd\n",
    "\n",
    "import lightgbm as lgb\n",
    "\n",
    "from sklearn.metrics import mean_squared_error, mean_absolute_percentage_error\n",
    "from sklearn.model_selection import TimeSeriesSplit \n",
    "from sklearn.preprocessing import StandardScaler"
   ]
  },
  {
   "cell_type": "code",
   "execution_count": 2,
   "id": "94394d6c",
   "metadata": {
    "execution": {
     "iopub.execute_input": "2023-02-06T13:58:06.258939Z",
     "iopub.status.busy": "2023-02-06T13:58:06.258509Z",
     "iopub.status.idle": "2023-02-06T13:58:06.284124Z",
     "shell.execute_reply": "2023-02-06T13:58:06.283017Z"
    },
    "papermill": {
     "duration": 0.03432,
     "end_time": "2023-02-06T13:58:06.286720",
     "exception": false,
     "start_time": "2023-02-06T13:58:06.252400",
     "status": "completed"
    },
    "tags": []
   },
   "outputs": [],
   "source": [
    "df = pd.read_csv('/kaggle/input/case-ih-time-series-data/data.csv')"
   ]
  },
  {
   "cell_type": "code",
   "execution_count": 3,
   "id": "018626f1",
   "metadata": {
    "execution": {
     "iopub.execute_input": "2023-02-06T13:58:06.297991Z",
     "iopub.status.busy": "2023-02-06T13:58:06.297589Z",
     "iopub.status.idle": "2023-02-06T13:58:06.315251Z",
     "shell.execute_reply": "2023-02-06T13:58:06.314040Z"
    },
    "papermill": {
     "duration": 0.026219,
     "end_time": "2023-02-06T13:58:06.317606",
     "exception": false,
     "start_time": "2023-02-06T13:58:06.291387",
     "status": "completed"
    },
    "tags": []
   },
   "outputs": [
    {
     "data": {
      "text/html": [
       "<div>\n",
       "<style scoped>\n",
       "    .dataframe tbody tr th:only-of-type {\n",
       "        vertical-align: middle;\n",
       "    }\n",
       "\n",
       "    .dataframe tbody tr th {\n",
       "        vertical-align: top;\n",
       "    }\n",
       "\n",
       "    .dataframe thead th {\n",
       "        text-align: right;\n",
       "    }\n",
       "</style>\n",
       "<table border=\"1\" class=\"dataframe\">\n",
       "  <thead>\n",
       "    <tr style=\"text-align: right;\">\n",
       "      <th></th>\n",
       "      <th>date</th>\n",
       "      <th>work</th>\n",
       "      <th>income</th>\n",
       "    </tr>\n",
       "  </thead>\n",
       "  <tbody>\n",
       "    <tr>\n",
       "      <th>0</th>\n",
       "      <td>Thursday, September 30, 2021</td>\n",
       "      <td>2</td>\n",
       "      <td>2100</td>\n",
       "    </tr>\n",
       "    <tr>\n",
       "      <th>1</th>\n",
       "      <td>Sunday, October 03, 2021</td>\n",
       "      <td>1</td>\n",
       "      <td>3600</td>\n",
       "    </tr>\n",
       "    <tr>\n",
       "      <th>2</th>\n",
       "      <td>Monday, October 04, 2021</td>\n",
       "      <td>1</td>\n",
       "      <td>4000</td>\n",
       "    </tr>\n",
       "    <tr>\n",
       "      <th>3</th>\n",
       "      <td>Tuesday, October 05, 2021</td>\n",
       "      <td>1</td>\n",
       "      <td>7900</td>\n",
       "    </tr>\n",
       "    <tr>\n",
       "      <th>4</th>\n",
       "      <td>Wednesday, October 06, 2021</td>\n",
       "      <td>1</td>\n",
       "      <td>7500</td>\n",
       "    </tr>\n",
       "  </tbody>\n",
       "</table>\n",
       "</div>"
      ],
      "text/plain": [
       "                           date  work  income\n",
       "0  Thursday, September 30, 2021     2    2100\n",
       "1      Sunday, October 03, 2021     1    3600\n",
       "2      Monday, October 04, 2021     1    4000\n",
       "3     Tuesday, October 05, 2021     1    7900\n",
       "4   Wednesday, October 06, 2021     1    7500"
      ]
     },
     "execution_count": 3,
     "metadata": {},
     "output_type": "execute_result"
    }
   ],
   "source": [
    "df.head(5)"
   ]
  },
  {
   "cell_type": "code",
   "execution_count": 4,
   "id": "37097427",
   "metadata": {
    "execution": {
     "iopub.execute_input": "2023-02-06T13:58:06.328772Z",
     "iopub.status.busy": "2023-02-06T13:58:06.328341Z",
     "iopub.status.idle": "2023-02-06T13:58:06.367443Z",
     "shell.execute_reply": "2023-02-06T13:58:06.366385Z"
    },
    "papermill": {
     "duration": 0.047545,
     "end_time": "2023-02-06T13:58:06.369890",
     "exception": false,
     "start_time": "2023-02-06T13:58:06.322345",
     "status": "completed"
    },
    "tags": []
   },
   "outputs": [],
   "source": [
    "df['date'] = pd.to_datetime(df['date'])"
   ]
  },
  {
   "cell_type": "code",
   "execution_count": 5,
   "id": "63bf6cbf",
   "metadata": {
    "execution": {
     "iopub.execute_input": "2023-02-06T13:58:06.381433Z",
     "iopub.status.busy": "2023-02-06T13:58:06.381065Z",
     "iopub.status.idle": "2023-02-06T13:58:06.386285Z",
     "shell.execute_reply": "2023-02-06T13:58:06.385157Z"
    },
    "papermill": {
     "duration": 0.013622,
     "end_time": "2023-02-06T13:58:06.388406",
     "exception": false,
     "start_time": "2023-02-06T13:58:06.374784",
     "status": "completed"
    },
    "tags": []
   },
   "outputs": [],
   "source": [
    "data = pd.DataFrame(df.income.copy())"
   ]
  },
  {
   "cell_type": "code",
   "execution_count": 6,
   "id": "96ad5bd7",
   "metadata": {
    "execution": {
     "iopub.execute_input": "2023-02-06T13:58:06.399790Z",
     "iopub.status.busy": "2023-02-06T13:58:06.399191Z",
     "iopub.status.idle": "2023-02-06T13:58:06.404456Z",
     "shell.execute_reply": "2023-02-06T13:58:06.403504Z"
    },
    "papermill": {
     "duration": 0.013655,
     "end_time": "2023-02-06T13:58:06.406763",
     "exception": false,
     "start_time": "2023-02-06T13:58:06.393108",
     "status": "completed"
    },
    "tags": []
   },
   "outputs": [],
   "source": [
    "data.columns = [\"y\"]"
   ]
  },
  {
   "cell_type": "code",
   "execution_count": 7,
   "id": "deeae7bf",
   "metadata": {
    "execution": {
     "iopub.execute_input": "2023-02-06T13:58:06.418250Z",
     "iopub.status.busy": "2023-02-06T13:58:06.417529Z",
     "iopub.status.idle": "2023-02-06T13:58:06.426772Z",
     "shell.execute_reply": "2023-02-06T13:58:06.425748Z"
    },
    "papermill": {
     "duration": 0.017368,
     "end_time": "2023-02-06T13:58:06.428827",
     "exception": false,
     "start_time": "2023-02-06T13:58:06.411459",
     "status": "completed"
    },
    "tags": []
   },
   "outputs": [
    {
     "data": {
      "text/html": [
       "<div>\n",
       "<style scoped>\n",
       "    .dataframe tbody tr th:only-of-type {\n",
       "        vertical-align: middle;\n",
       "    }\n",
       "\n",
       "    .dataframe tbody tr th {\n",
       "        vertical-align: top;\n",
       "    }\n",
       "\n",
       "    .dataframe thead th {\n",
       "        text-align: right;\n",
       "    }\n",
       "</style>\n",
       "<table border=\"1\" class=\"dataframe\">\n",
       "  <thead>\n",
       "    <tr style=\"text-align: right;\">\n",
       "      <th></th>\n",
       "      <th>y</th>\n",
       "    </tr>\n",
       "  </thead>\n",
       "  <tbody>\n",
       "    <tr>\n",
       "      <th>0</th>\n",
       "      <td>2100</td>\n",
       "    </tr>\n",
       "    <tr>\n",
       "      <th>1</th>\n",
       "      <td>3600</td>\n",
       "    </tr>\n",
       "    <tr>\n",
       "      <th>2</th>\n",
       "      <td>4000</td>\n",
       "    </tr>\n",
       "    <tr>\n",
       "      <th>3</th>\n",
       "      <td>7900</td>\n",
       "    </tr>\n",
       "    <tr>\n",
       "      <th>4</th>\n",
       "      <td>7500</td>\n",
       "    </tr>\n",
       "  </tbody>\n",
       "</table>\n",
       "</div>"
      ],
      "text/plain": [
       "      y\n",
       "0  2100\n",
       "1  3600\n",
       "2  4000\n",
       "3  7900\n",
       "4  7500"
      ]
     },
     "execution_count": 7,
     "metadata": {},
     "output_type": "execute_result"
    }
   ],
   "source": [
    "data.head()"
   ]
  },
  {
   "cell_type": "code",
   "execution_count": 8,
   "id": "d13aea49",
   "metadata": {
    "execution": {
     "iopub.execute_input": "2023-02-06T13:58:06.440514Z",
     "iopub.status.busy": "2023-02-06T13:58:06.439932Z",
     "iopub.status.idle": "2023-02-06T13:58:06.456486Z",
     "shell.execute_reply": "2023-02-06T13:58:06.455529Z"
    },
    "papermill": {
     "duration": 0.025379,
     "end_time": "2023-02-06T13:58:06.459147",
     "exception": false,
     "start_time": "2023-02-06T13:58:06.433768",
     "status": "completed"
    },
    "tags": []
   },
   "outputs": [],
   "source": [
    "for i in range(6, 25):\n",
    "    data[\"lag_{}\".format(i)] = data.y.shift(i)"
   ]
  },
  {
   "cell_type": "code",
   "execution_count": 9,
   "id": "ee1fbb4a",
   "metadata": {
    "execution": {
     "iopub.execute_input": "2023-02-06T13:58:06.471103Z",
     "iopub.status.busy": "2023-02-06T13:58:06.470371Z",
     "iopub.status.idle": "2023-02-06T13:58:06.492413Z",
     "shell.execute_reply": "2023-02-06T13:58:06.491392Z"
    },
    "papermill": {
     "duration": 0.030575,
     "end_time": "2023-02-06T13:58:06.494732",
     "exception": false,
     "start_time": "2023-02-06T13:58:06.464157",
     "status": "completed"
    },
    "tags": []
   },
   "outputs": [
    {
     "data": {
      "text/html": [
       "<div>\n",
       "<style scoped>\n",
       "    .dataframe tbody tr th:only-of-type {\n",
       "        vertical-align: middle;\n",
       "    }\n",
       "\n",
       "    .dataframe tbody tr th {\n",
       "        vertical-align: top;\n",
       "    }\n",
       "\n",
       "    .dataframe thead th {\n",
       "        text-align: right;\n",
       "    }\n",
       "</style>\n",
       "<table border=\"1\" class=\"dataframe\">\n",
       "  <thead>\n",
       "    <tr style=\"text-align: right;\">\n",
       "      <th></th>\n",
       "      <th>y</th>\n",
       "      <th>lag_6</th>\n",
       "      <th>lag_7</th>\n",
       "      <th>lag_8</th>\n",
       "      <th>lag_9</th>\n",
       "      <th>lag_10</th>\n",
       "      <th>lag_11</th>\n",
       "      <th>lag_12</th>\n",
       "      <th>lag_13</th>\n",
       "      <th>lag_14</th>\n",
       "      <th>lag_15</th>\n",
       "      <th>lag_16</th>\n",
       "      <th>lag_17</th>\n",
       "      <th>lag_18</th>\n",
       "      <th>lag_19</th>\n",
       "      <th>lag_20</th>\n",
       "      <th>lag_21</th>\n",
       "      <th>lag_22</th>\n",
       "      <th>lag_23</th>\n",
       "      <th>lag_24</th>\n",
       "    </tr>\n",
       "  </thead>\n",
       "  <tbody>\n",
       "    <tr>\n",
       "      <th>0</th>\n",
       "      <td>2100</td>\n",
       "      <td>NaN</td>\n",
       "      <td>NaN</td>\n",
       "      <td>NaN</td>\n",
       "      <td>NaN</td>\n",
       "      <td>NaN</td>\n",
       "      <td>NaN</td>\n",
       "      <td>NaN</td>\n",
       "      <td>NaN</td>\n",
       "      <td>NaN</td>\n",
       "      <td>NaN</td>\n",
       "      <td>NaN</td>\n",
       "      <td>NaN</td>\n",
       "      <td>NaN</td>\n",
       "      <td>NaN</td>\n",
       "      <td>NaN</td>\n",
       "      <td>NaN</td>\n",
       "      <td>NaN</td>\n",
       "      <td>NaN</td>\n",
       "      <td>NaN</td>\n",
       "    </tr>\n",
       "    <tr>\n",
       "      <th>1</th>\n",
       "      <td>3600</td>\n",
       "      <td>NaN</td>\n",
       "      <td>NaN</td>\n",
       "      <td>NaN</td>\n",
       "      <td>NaN</td>\n",
       "      <td>NaN</td>\n",
       "      <td>NaN</td>\n",
       "      <td>NaN</td>\n",
       "      <td>NaN</td>\n",
       "      <td>NaN</td>\n",
       "      <td>NaN</td>\n",
       "      <td>NaN</td>\n",
       "      <td>NaN</td>\n",
       "      <td>NaN</td>\n",
       "      <td>NaN</td>\n",
       "      <td>NaN</td>\n",
       "      <td>NaN</td>\n",
       "      <td>NaN</td>\n",
       "      <td>NaN</td>\n",
       "      <td>NaN</td>\n",
       "    </tr>\n",
       "    <tr>\n",
       "      <th>2</th>\n",
       "      <td>4000</td>\n",
       "      <td>NaN</td>\n",
       "      <td>NaN</td>\n",
       "      <td>NaN</td>\n",
       "      <td>NaN</td>\n",
       "      <td>NaN</td>\n",
       "      <td>NaN</td>\n",
       "      <td>NaN</td>\n",
       "      <td>NaN</td>\n",
       "      <td>NaN</td>\n",
       "      <td>NaN</td>\n",
       "      <td>NaN</td>\n",
       "      <td>NaN</td>\n",
       "      <td>NaN</td>\n",
       "      <td>NaN</td>\n",
       "      <td>NaN</td>\n",
       "      <td>NaN</td>\n",
       "      <td>NaN</td>\n",
       "      <td>NaN</td>\n",
       "      <td>NaN</td>\n",
       "    </tr>\n",
       "    <tr>\n",
       "      <th>3</th>\n",
       "      <td>7900</td>\n",
       "      <td>NaN</td>\n",
       "      <td>NaN</td>\n",
       "      <td>NaN</td>\n",
       "      <td>NaN</td>\n",
       "      <td>NaN</td>\n",
       "      <td>NaN</td>\n",
       "      <td>NaN</td>\n",
       "      <td>NaN</td>\n",
       "      <td>NaN</td>\n",
       "      <td>NaN</td>\n",
       "      <td>NaN</td>\n",
       "      <td>NaN</td>\n",
       "      <td>NaN</td>\n",
       "      <td>NaN</td>\n",
       "      <td>NaN</td>\n",
       "      <td>NaN</td>\n",
       "      <td>NaN</td>\n",
       "      <td>NaN</td>\n",
       "      <td>NaN</td>\n",
       "    </tr>\n",
       "    <tr>\n",
       "      <th>4</th>\n",
       "      <td>7500</td>\n",
       "      <td>NaN</td>\n",
       "      <td>NaN</td>\n",
       "      <td>NaN</td>\n",
       "      <td>NaN</td>\n",
       "      <td>NaN</td>\n",
       "      <td>NaN</td>\n",
       "      <td>NaN</td>\n",
       "      <td>NaN</td>\n",
       "      <td>NaN</td>\n",
       "      <td>NaN</td>\n",
       "      <td>NaN</td>\n",
       "      <td>NaN</td>\n",
       "      <td>NaN</td>\n",
       "      <td>NaN</td>\n",
       "      <td>NaN</td>\n",
       "      <td>NaN</td>\n",
       "      <td>NaN</td>\n",
       "      <td>NaN</td>\n",
       "      <td>NaN</td>\n",
       "    </tr>\n",
       "  </tbody>\n",
       "</table>\n",
       "</div>"
      ],
      "text/plain": [
       "      y  lag_6  lag_7  lag_8  lag_9  lag_10  lag_11  lag_12  lag_13  lag_14  \\\n",
       "0  2100    NaN    NaN    NaN    NaN     NaN     NaN     NaN     NaN     NaN   \n",
       "1  3600    NaN    NaN    NaN    NaN     NaN     NaN     NaN     NaN     NaN   \n",
       "2  4000    NaN    NaN    NaN    NaN     NaN     NaN     NaN     NaN     NaN   \n",
       "3  7900    NaN    NaN    NaN    NaN     NaN     NaN     NaN     NaN     NaN   \n",
       "4  7500    NaN    NaN    NaN    NaN     NaN     NaN     NaN     NaN     NaN   \n",
       "\n",
       "   lag_15  lag_16  lag_17  lag_18  lag_19  lag_20  lag_21  lag_22  lag_23  \\\n",
       "0     NaN     NaN     NaN     NaN     NaN     NaN     NaN     NaN     NaN   \n",
       "1     NaN     NaN     NaN     NaN     NaN     NaN     NaN     NaN     NaN   \n",
       "2     NaN     NaN     NaN     NaN     NaN     NaN     NaN     NaN     NaN   \n",
       "3     NaN     NaN     NaN     NaN     NaN     NaN     NaN     NaN     NaN   \n",
       "4     NaN     NaN     NaN     NaN     NaN     NaN     NaN     NaN     NaN   \n",
       "\n",
       "   lag_24  \n",
       "0     NaN  \n",
       "1     NaN  \n",
       "2     NaN  \n",
       "3     NaN  \n",
       "4     NaN  "
      ]
     },
     "execution_count": 9,
     "metadata": {},
     "output_type": "execute_result"
    }
   ],
   "source": [
    "data.head()"
   ]
  },
  {
   "cell_type": "code",
   "execution_count": 10,
   "id": "159fab99",
   "metadata": {
    "execution": {
     "iopub.execute_input": "2023-02-06T13:58:06.506822Z",
     "iopub.status.busy": "2023-02-06T13:58:06.506145Z",
     "iopub.status.idle": "2023-02-06T13:58:06.522190Z",
     "shell.execute_reply": "2023-02-06T13:58:06.521203Z"
    },
    "papermill": {
     "duration": 0.024951,
     "end_time": "2023-02-06T13:58:06.524884",
     "exception": false,
     "start_time": "2023-02-06T13:58:06.499933",
     "status": "completed"
    },
    "tags": []
   },
   "outputs": [],
   "source": [
    "x = data.dropna().drop(['y'], axis=1)\n",
    "\n",
    "y = data.dropna().y"
   ]
  },
  {
   "cell_type": "code",
   "execution_count": 11,
   "id": "377de5f1",
   "metadata": {
    "execution": {
     "iopub.execute_input": "2023-02-06T13:58:06.538491Z",
     "iopub.status.busy": "2023-02-06T13:58:06.537612Z",
     "iopub.status.idle": "2023-02-06T13:58:06.566791Z",
     "shell.execute_reply": "2023-02-06T13:58:06.565506Z"
    },
    "papermill": {
     "duration": 0.038988,
     "end_time": "2023-02-06T13:58:06.569082",
     "exception": false,
     "start_time": "2023-02-06T13:58:06.530094",
     "status": "completed"
    },
    "tags": []
   },
   "outputs": [
    {
     "data": {
      "text/html": [
       "<div>\n",
       "<style scoped>\n",
       "    .dataframe tbody tr th:only-of-type {\n",
       "        vertical-align: middle;\n",
       "    }\n",
       "\n",
       "    .dataframe tbody tr th {\n",
       "        vertical-align: top;\n",
       "    }\n",
       "\n",
       "    .dataframe thead th {\n",
       "        text-align: right;\n",
       "    }\n",
       "</style>\n",
       "<table border=\"1\" class=\"dataframe\">\n",
       "  <thead>\n",
       "    <tr style=\"text-align: right;\">\n",
       "      <th></th>\n",
       "      <th>lag_6</th>\n",
       "      <th>lag_7</th>\n",
       "      <th>lag_8</th>\n",
       "      <th>lag_9</th>\n",
       "      <th>lag_10</th>\n",
       "      <th>lag_11</th>\n",
       "      <th>lag_12</th>\n",
       "      <th>lag_13</th>\n",
       "      <th>lag_14</th>\n",
       "      <th>lag_15</th>\n",
       "      <th>lag_16</th>\n",
       "      <th>lag_17</th>\n",
       "      <th>lag_18</th>\n",
       "      <th>lag_19</th>\n",
       "      <th>lag_20</th>\n",
       "      <th>lag_21</th>\n",
       "      <th>lag_22</th>\n",
       "      <th>lag_23</th>\n",
       "      <th>lag_24</th>\n",
       "    </tr>\n",
       "  </thead>\n",
       "  <tbody>\n",
       "    <tr>\n",
       "      <th>24</th>\n",
       "      <td>5600.0</td>\n",
       "      <td>6000.0</td>\n",
       "      <td>12500.0</td>\n",
       "      <td>9000.0</td>\n",
       "      <td>5600.0</td>\n",
       "      <td>10000.0</td>\n",
       "      <td>4200.0</td>\n",
       "      <td>5500.0</td>\n",
       "      <td>2600.0</td>\n",
       "      <td>8000.0</td>\n",
       "      <td>6800.0</td>\n",
       "      <td>5800.0</td>\n",
       "      <td>6700.0</td>\n",
       "      <td>10600.0</td>\n",
       "      <td>7500.0</td>\n",
       "      <td>7900.0</td>\n",
       "      <td>4000.0</td>\n",
       "      <td>3600.0</td>\n",
       "      <td>2100.0</td>\n",
       "    </tr>\n",
       "    <tr>\n",
       "      <th>25</th>\n",
       "      <td>2100.0</td>\n",
       "      <td>5600.0</td>\n",
       "      <td>6000.0</td>\n",
       "      <td>12500.0</td>\n",
       "      <td>9000.0</td>\n",
       "      <td>5600.0</td>\n",
       "      <td>10000.0</td>\n",
       "      <td>4200.0</td>\n",
       "      <td>5500.0</td>\n",
       "      <td>2600.0</td>\n",
       "      <td>8000.0</td>\n",
       "      <td>6800.0</td>\n",
       "      <td>5800.0</td>\n",
       "      <td>6700.0</td>\n",
       "      <td>10600.0</td>\n",
       "      <td>7500.0</td>\n",
       "      <td>7900.0</td>\n",
       "      <td>4000.0</td>\n",
       "      <td>3600.0</td>\n",
       "    </tr>\n",
       "    <tr>\n",
       "      <th>26</th>\n",
       "      <td>6400.0</td>\n",
       "      <td>2100.0</td>\n",
       "      <td>5600.0</td>\n",
       "      <td>6000.0</td>\n",
       "      <td>12500.0</td>\n",
       "      <td>9000.0</td>\n",
       "      <td>5600.0</td>\n",
       "      <td>10000.0</td>\n",
       "      <td>4200.0</td>\n",
       "      <td>5500.0</td>\n",
       "      <td>2600.0</td>\n",
       "      <td>8000.0</td>\n",
       "      <td>6800.0</td>\n",
       "      <td>5800.0</td>\n",
       "      <td>6700.0</td>\n",
       "      <td>10600.0</td>\n",
       "      <td>7500.0</td>\n",
       "      <td>7900.0</td>\n",
       "      <td>4000.0</td>\n",
       "    </tr>\n",
       "    <tr>\n",
       "      <th>27</th>\n",
       "      <td>2400.0</td>\n",
       "      <td>6400.0</td>\n",
       "      <td>2100.0</td>\n",
       "      <td>5600.0</td>\n",
       "      <td>6000.0</td>\n",
       "      <td>12500.0</td>\n",
       "      <td>9000.0</td>\n",
       "      <td>5600.0</td>\n",
       "      <td>10000.0</td>\n",
       "      <td>4200.0</td>\n",
       "      <td>5500.0</td>\n",
       "      <td>2600.0</td>\n",
       "      <td>8000.0</td>\n",
       "      <td>6800.0</td>\n",
       "      <td>5800.0</td>\n",
       "      <td>6700.0</td>\n",
       "      <td>10600.0</td>\n",
       "      <td>7500.0</td>\n",
       "      <td>7900.0</td>\n",
       "    </tr>\n",
       "    <tr>\n",
       "      <th>28</th>\n",
       "      <td>2000.0</td>\n",
       "      <td>2400.0</td>\n",
       "      <td>6400.0</td>\n",
       "      <td>2100.0</td>\n",
       "      <td>5600.0</td>\n",
       "      <td>6000.0</td>\n",
       "      <td>12500.0</td>\n",
       "      <td>9000.0</td>\n",
       "      <td>5600.0</td>\n",
       "      <td>10000.0</td>\n",
       "      <td>4200.0</td>\n",
       "      <td>5500.0</td>\n",
       "      <td>2600.0</td>\n",
       "      <td>8000.0</td>\n",
       "      <td>6800.0</td>\n",
       "      <td>5800.0</td>\n",
       "      <td>6700.0</td>\n",
       "      <td>10600.0</td>\n",
       "      <td>7500.0</td>\n",
       "    </tr>\n",
       "  </tbody>\n",
       "</table>\n",
       "</div>"
      ],
      "text/plain": [
       "     lag_6   lag_7    lag_8    lag_9   lag_10   lag_11   lag_12   lag_13  \\\n",
       "24  5600.0  6000.0  12500.0   9000.0   5600.0  10000.0   4200.0   5500.0   \n",
       "25  2100.0  5600.0   6000.0  12500.0   9000.0   5600.0  10000.0   4200.0   \n",
       "26  6400.0  2100.0   5600.0   6000.0  12500.0   9000.0   5600.0  10000.0   \n",
       "27  2400.0  6400.0   2100.0   5600.0   6000.0  12500.0   9000.0   5600.0   \n",
       "28  2000.0  2400.0   6400.0   2100.0   5600.0   6000.0  12500.0   9000.0   \n",
       "\n",
       "     lag_14   lag_15  lag_16  lag_17  lag_18   lag_19   lag_20   lag_21  \\\n",
       "24   2600.0   8000.0  6800.0  5800.0  6700.0  10600.0   7500.0   7900.0   \n",
       "25   5500.0   2600.0  8000.0  6800.0  5800.0   6700.0  10600.0   7500.0   \n",
       "26   4200.0   5500.0  2600.0  8000.0  6800.0   5800.0   6700.0  10600.0   \n",
       "27  10000.0   4200.0  5500.0  2600.0  8000.0   6800.0   5800.0   6700.0   \n",
       "28   5600.0  10000.0  4200.0  5500.0  2600.0   8000.0   6800.0   5800.0   \n",
       "\n",
       "     lag_22   lag_23  lag_24  \n",
       "24   4000.0   3600.0  2100.0  \n",
       "25   7900.0   4000.0  3600.0  \n",
       "26   7500.0   7900.0  4000.0  \n",
       "27  10600.0   7500.0  7900.0  \n",
       "28   6700.0  10600.0  7500.0  "
      ]
     },
     "execution_count": 11,
     "metadata": {},
     "output_type": "execute_result"
    }
   ],
   "source": [
    "x.head()"
   ]
  },
  {
   "cell_type": "code",
   "execution_count": 12,
   "id": "0adc43eb",
   "metadata": {
    "execution": {
     "iopub.execute_input": "2023-02-06T13:58:06.581706Z",
     "iopub.status.busy": "2023-02-06T13:58:06.581316Z",
     "iopub.status.idle": "2023-02-06T13:58:06.586224Z",
     "shell.execute_reply": "2023-02-06T13:58:06.585123Z"
    },
    "papermill": {
     "duration": 0.013595,
     "end_time": "2023-02-06T13:58:06.588320",
     "exception": false,
     "start_time": "2023-02-06T13:58:06.574725",
     "status": "completed"
    },
    "tags": []
   },
   "outputs": [],
   "source": [
    "tscv = TimeSeriesSplit(n_splits=5)"
   ]
  },
  {
   "cell_type": "code",
   "execution_count": 13,
   "id": "440dea8e",
   "metadata": {
    "execution": {
     "iopub.execute_input": "2023-02-06T13:58:06.607630Z",
     "iopub.status.busy": "2023-02-06T13:58:06.606529Z",
     "iopub.status.idle": "2023-02-06T13:58:06.615272Z",
     "shell.execute_reply": "2023-02-06T13:58:06.614111Z"
    },
    "papermill": {
     "duration": 0.021915,
     "end_time": "2023-02-06T13:58:06.618192",
     "exception": false,
     "start_time": "2023-02-06T13:58:06.596277",
     "status": "completed"
    },
    "tags": []
   },
   "outputs": [],
   "source": [
    "def timeseries_train_test_split(x, y, test_size):\n",
    "    \n",
    "    test_index = int(len(x)*(1-test_size))\n",
    "    \n",
    "    x_train = x.iloc[:test_index]\n",
    "    y_train = y.iloc[:test_index]\n",
    "    \n",
    "    x_test = x.iloc[test_index:]\n",
    "    y_test = y.iloc[test_index:]\n",
    "    \n",
    "    return x_train, x_test, y_train, y_test"
   ]
  },
  {
   "cell_type": "code",
   "execution_count": 14,
   "id": "89f271be",
   "metadata": {
    "execution": {
     "iopub.execute_input": "2023-02-06T13:58:06.632211Z",
     "iopub.status.busy": "2023-02-06T13:58:06.630608Z",
     "iopub.status.idle": "2023-02-06T13:58:06.637937Z",
     "shell.execute_reply": "2023-02-06T13:58:06.636901Z"
    },
    "papermill": {
     "duration": 0.016748,
     "end_time": "2023-02-06T13:58:06.640904",
     "exception": false,
     "start_time": "2023-02-06T13:58:06.624156",
     "status": "completed"
    },
    "tags": []
   },
   "outputs": [],
   "source": [
    "x_train, x_test, y_train, y_test = timeseries_train_test_split(x, y, test_size=0.3)"
   ]
  },
  {
   "cell_type": "code",
   "execution_count": 15,
   "id": "59ec6b47",
   "metadata": {
    "execution": {
     "iopub.execute_input": "2023-02-06T13:58:06.661605Z",
     "iopub.status.busy": "2023-02-06T13:58:06.661235Z",
     "iopub.status.idle": "2023-02-06T13:58:06.668621Z",
     "shell.execute_reply": "2023-02-06T13:58:06.667833Z"
    },
    "papermill": {
     "duration": 0.024153,
     "end_time": "2023-02-06T13:58:06.672220",
     "exception": false,
     "start_time": "2023-02-06T13:58:06.648067",
     "status": "completed"
    },
    "tags": []
   },
   "outputs": [
    {
     "name": "stdout",
     "output_type": "stream",
     "text": [
      "(117, 19)\n",
      "(51, 19)\n",
      "(117,)\n",
      "(51,)\n"
     ]
    }
   ],
   "source": [
    "print(x_train.shape)\n",
    "print(x_test.shape)\n",
    "print(y_train.shape)\n",
    "print(y_test.shape)"
   ]
  },
  {
   "cell_type": "code",
   "execution_count": null,
   "id": "86047242",
   "metadata": {
    "papermill": {
     "duration": 0.005246,
     "end_time": "2023-02-06T13:58:06.683452",
     "exception": false,
     "start_time": "2023-02-06T13:58:06.678206",
     "status": "completed"
    },
    "tags": []
   },
   "outputs": [],
   "source": []
  }
 ],
 "metadata": {
  "kernelspec": {
   "display_name": "Python 3",
   "language": "python",
   "name": "python3"
  },
  "language_info": {
   "codemirror_mode": {
    "name": "ipython",
    "version": 3
   },
   "file_extension": ".py",
   "mimetype": "text/x-python",
   "name": "python",
   "nbconvert_exporter": "python",
   "pygments_lexer": "ipython3",
   "version": "3.7.12"
  },
  "papermill": {
   "default_parameters": {},
   "duration": 12.080446,
   "end_time": "2023-02-06T13:58:07.617102",
   "environment_variables": {},
   "exception": null,
   "input_path": "__notebook__.ipynb",
   "output_path": "__notebook__.ipynb",
   "parameters": {},
   "start_time": "2023-02-06T13:57:55.536656",
   "version": "2.3.4"
  }
 },
 "nbformat": 4,
 "nbformat_minor": 5
}
